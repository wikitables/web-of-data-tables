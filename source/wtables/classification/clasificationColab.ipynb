{
 "cells": [
  {
   "cell_type": "code",
   "execution_count": 1,
   "metadata": {
    "colab": {},
    "colab_type": "code",
    "id": "RSNp9sRte2jq"
   },
   "outputs": [],
   "source": [
    "import pandas as pd\n",
    "import numpy as np\n",
    "from matplotlib import pyplot as plt\n",
    "import warnings\n",
    "from sklearn.metrics import precision_score\n",
    "from sklearn.metrics import recall_score\n",
    "from sklearn.metrics import f1_score\n",
    "from sklearn.neighbors import KNeighborsClassifier\n",
    "from sklearn.model_selection import StratifiedShuffleSplit\n",
    "from sklearn.metrics import classification_report\n",
    "from sklearn.tree import DecisionTreeClassifier\n",
    "from sklearn.linear_model import LogisticRegression\n",
    "from sklearn.ensemble import RandomForestClassifier\n",
    "from sklearn.svm import SVC\n",
    "from sklearn.naive_bayes import GaussianNB\n",
    "from sklearn.model_selection import RepeatedKFold\n",
    "from sklearn.linear_model import SGDClassifier\n",
    "from sklearn.model_selection import cross_val_predict\n",
    "from sklearn.metrics import precision_recall_curve\n",
    "from sklearn.model_selection import train_test_split"
   ]
  },
  {
   "cell_type": "markdown",
   "metadata": {
    "colab_type": "text",
    "id": "wM4kztrAe2ju"
   },
   "source": [
    "## PREPARING DATA"
   ]
  },
  {
   "cell_type": "code",
   "execution_count": 2,
   "metadata": {
    "colab": {
     "base_uri": "https://localhost:8080/",
     "height": 180,
     "resources": {
      "http://localhost:8080/nbextensions/google.colab/files.js": {
       "data": "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",
       "headers": [
        [
         "content-type",
         "application/javascript"
        ]
       ],
       "ok": true,
       "status": 200,
       "status_text": ""
      }
     }
    },
    "colab_type": "code",
    "id": "RhGFddIAfUul",
    "outputId": "26bc843f-a7c2-43b0-a4cf-4811beb7ee17"
   },
   "outputs": [],
   "source": [
    "#from google.colab import files\n",
    "#uploaded = files.upload()"
   ]
  },
  {
   "cell_type": "code",
   "execution_count": 3,
   "metadata": {
    "colab": {
     "base_uri": "https://localhost:8080/",
     "height": 260
    },
    "colab_type": "code",
    "id": "ERYx07ime2jv",
    "outputId": "7ca714b2-b2f9-4821-ccdb-5f1ea3f8679c"
   },
   "outputs": [
    {
     "name": "stdout",
     "output_type": "stream",
     "text": [
      "Size:  (852, 69)\n"
     ]
    },
    {
     "data": {
      "text/html": [
       "<div>\n",
       "<style scoped>\n",
       "    .dataframe tbody tr th:only-of-type {\n",
       "        vertical-align: middle;\n",
       "    }\n",
       "\n",
       "    .dataframe tbody tr th {\n",
       "        vertical-align: top;\n",
       "    }\n",
       "\n",
       "    .dataframe thead th {\n",
       "        text-align: right;\n",
       "    }\n",
       "</style>\n",
       "<table border=\"1\" class=\"dataframe\">\n",
       "  <thead>\n",
       "    <tr style=\"text-align: right;\">\n",
       "      <th></th>\n",
       "      <th>2</th>\n",
       "      <th>3</th>\n",
       "      <th>4</th>\n",
       "      <th>5</th>\n",
       "      <th>6</th>\n",
       "      <th>7</th>\n",
       "      <th>8</th>\n",
       "      <th>9</th>\n",
       "      <th>10</th>\n",
       "      <th>11</th>\n",
       "      <th>...</th>\n",
       "      <th>VALIDATION</th>\n",
       "      <th>ORIGIN</th>\n",
       "      <th>CLUSTER</th>\n",
       "      <th>TABLE</th>\n",
       "      <th>CELL</th>\n",
       "      <th>NAME_COL1</th>\n",
       "      <th>NAME_COL2</th>\n",
       "      <th>ENTITY_COL1</th>\n",
       "      <th>PREDICATE</th>\n",
       "      <th>ENTITY_COL2</th>\n",
       "    </tr>\n",
       "  </thead>\n",
       "  <tbody>\n",
       "    <tr>\n",
       "      <th>0</th>\n",
       "      <td>9</td>\n",
       "      <td>11</td>\n",
       "      <td>6</td>\n",
       "      <td>1.833333</td>\n",
       "      <td>24</td>\n",
       "      <td>-1</td>\n",
       "      <td>2</td>\n",
       "      <td>5</td>\n",
       "      <td>5</td>\n",
       "      <td>1.0</td>\n",
       "      <td>...</td>\n",
       "      <td>2</td>\n",
       "      <td>t</td>\n",
       "      <td>0</td>\n",
       "      <td>203221.9</td>\n",
       "      <td>13:-1:2</td>\n",
       "      <td>protag_article@3</td>\n",
       "      <td>candid@3</td>\n",
       "      <td>https://en.wikipedia.org/wiki/Electoral_result...</td>\n",
       "      <td>P1346 :winner@en</td>\n",
       "      <td>https://en.wikipedia.org/wiki/Voter_turnout :Q...</td>\n",
       "    </tr>\n",
       "    <tr>\n",
       "      <th>1</th>\n",
       "      <td>8</td>\n",
       "      <td>6</td>\n",
       "      <td>6</td>\n",
       "      <td>1.000000</td>\n",
       "      <td>11</td>\n",
       "      <td>-1</td>\n",
       "      <td>1</td>\n",
       "      <td>5</td>\n",
       "      <td>5</td>\n",
       "      <td>1.0</td>\n",
       "      <td>...</td>\n",
       "      <td>2</td>\n",
       "      <td>t</td>\n",
       "      <td>0</td>\n",
       "      <td>238845.8</td>\n",
       "      <td>4:-1:1</td>\n",
       "      <td>protag_article@3</td>\n",
       "      <td>2__parti@3</td>\n",
       "      <td>https://en.wikipedia.org/wiki/Gravesham_Boroug...</td>\n",
       "      <td>P488-1 :chairperson@en</td>\n",
       "      <td>https://en.wikipedia.org/wiki/Labour_Party_(UK...</td>\n",
       "    </tr>\n",
       "    <tr>\n",
       "      <th>2</th>\n",
       "      <td>8</td>\n",
       "      <td>13</td>\n",
       "      <td>6</td>\n",
       "      <td>2.166667</td>\n",
       "      <td>28</td>\n",
       "      <td>-1</td>\n",
       "      <td>2</td>\n",
       "      <td>6</td>\n",
       "      <td>6</td>\n",
       "      <td>1.0</td>\n",
       "      <td>...</td>\n",
       "      <td>2</td>\n",
       "      <td>t</td>\n",
       "      <td>0</td>\n",
       "      <td>242238.8</td>\n",
       "      <td>17:-1:2</td>\n",
       "      <td>protag_article@3</td>\n",
       "      <td>candid@3</td>\n",
       "      <td>https://en.wikipedia.org/wiki/Electoral_result...</td>\n",
       "      <td>P488 :chairperson@en</td>\n",
       "      <td>https://en.wikipedia.org/wiki/Voter_turnout :Q...</td>\n",
       "    </tr>\n",
       "  </tbody>\n",
       "</table>\n",
       "<p>3 rows × 69 columns</p>\n",
       "</div>"
      ],
      "text/plain": [
       "   2   3  4         5   6  7  8  9  10   11  \\\n",
       "0  9  11  6  1.833333  24 -1  2  5   5  1.0   \n",
       "1  8   6  6  1.000000  11 -1  1  5   5  1.0   \n",
       "2  8  13  6  2.166667  28 -1  2  6   6  1.0   \n",
       "\n",
       "                         ...                          VALIDATION  ORIGIN  \\\n",
       "0                        ...                                   2       t   \n",
       "1                        ...                                   2       t   \n",
       "2                        ...                                   2       t   \n",
       "\n",
       "   CLUSTER     TABLE     CELL         NAME_COL1   NAME_COL2  \\\n",
       "0        0  203221.9  13:-1:2  protag_article@3    candid@3   \n",
       "1        0  238845.8   4:-1:1  protag_article@3  2__parti@3   \n",
       "2        0  242238.8  17:-1:2  protag_article@3    candid@3   \n",
       "\n",
       "                                         ENTITY_COL1               PREDICATE  \\\n",
       "0  https://en.wikipedia.org/wiki/Electoral_result...        P1346 :winner@en   \n",
       "1  https://en.wikipedia.org/wiki/Gravesham_Boroug...  P488-1 :chairperson@en   \n",
       "2  https://en.wikipedia.org/wiki/Electoral_result...    P488 :chairperson@en   \n",
       "\n",
       "                                         ENTITY_COL2  \n",
       "0  https://en.wikipedia.org/wiki/Voter_turnout :Q...  \n",
       "1  https://en.wikipedia.org/wiki/Labour_Party_(UK...  \n",
       "2  https://en.wikipedia.org/wiki/Voter_turnout :Q...  \n",
       "\n",
       "[3 rows x 69 columns]"
      ]
     },
     "execution_count": 3,
     "metadata": {},
     "output_type": "execute_result"
    }
   ],
   "source": [
    "#Training set:  852 triples annotated as correct and incorrect\n",
    "\n",
    "data = pd.read_csv('annotatedTriples.csv',sep=\"\\t\", decimal=\",\", index_col=False)\n",
    "data = data[(data['VALIDATION']<3)]\n",
    "#VALIDATION = 1: CORRECT\n",
    "#VALIDATION = 2: INCORRECT\n",
    "print(\"Size: \", data.shape)\n",
    "#data1=data[data['ORIGIN']=='f']\n",
    "data.head(3)"
   ]
  },
  {
   "cell_type": "code",
   "execution_count": 4,
   "metadata": {
    "colab": {},
    "colab_type": "code",
    "id": "2mOzdlxsY7cx"
   },
   "outputs": [],
   "source": [
    "contextual = pd.read_csv('contextual_triples_new.csv',sep=\"\\t\", decimal=',',index_col=False, dtype={'TABLE':str})\n",
    "contextual=contextual[(contextual['VALIDATION']<=3)]"
   ]
  },
  {
   "cell_type": "markdown",
   "metadata": {
    "colab_type": "text",
    "id": "U9T_Hfw3j911"
   },
   "source": [
    "**Adding new feature (Number tables by cluster)**"
   ]
  },
  {
   "cell_type": "code",
   "execution_count": 5,
   "metadata": {
    "colab": {
     "base_uri": "https://localhost:8080/",
     "height": 111
    },
    "colab_type": "code",
    "id": "KqIVPiqBe2j1",
    "outputId": "4e0ddb19-52d7-4f73-8738-5a17bdad8c8b"
   },
   "outputs": [
    {
     "data": {
      "text/html": [
       "<div>\n",
       "<style scoped>\n",
       "    .dataframe tbody tr th:only-of-type {\n",
       "        vertical-align: middle;\n",
       "    }\n",
       "\n",
       "    .dataframe tbody tr th {\n",
       "        vertical-align: top;\n",
       "    }\n",
       "\n",
       "    .dataframe thead th {\n",
       "        text-align: right;\n",
       "    }\n",
       "</style>\n",
       "<table border=\"1\" class=\"dataframe\">\n",
       "  <thead>\n",
       "    <tr style=\"text-align: right;\">\n",
       "      <th></th>\n",
       "      <th>65</th>\n",
       "      <th>CLUSTER</th>\n",
       "    </tr>\n",
       "  </thead>\n",
       "  <tbody>\n",
       "    <tr>\n",
       "      <th>0</th>\n",
       "      <td>82793</td>\n",
       "      <td>0</td>\n",
       "    </tr>\n",
       "    <tr>\n",
       "      <th>1</th>\n",
       "      <td>59658</td>\n",
       "      <td>1</td>\n",
       "    </tr>\n",
       "  </tbody>\n",
       "</table>\n",
       "</div>"
      ],
      "text/plain": [
       "      65  CLUSTER\n",
       "0  82793        0\n",
       "1  59658        1"
      ]
     },
     "execution_count": 5,
     "metadata": {},
     "output_type": "execute_result"
    }
   ],
   "source": [
    "clusters = pd.read_csv('numTablesByCluster.csv',sep=\"\\s+\", index_col=False)\n",
    "clusters=clusters.rename(columns={'cluster': 'CLUSTER', '1':'65'})\n",
    "clusters.head(2)"
   ]
  },
  {
   "cell_type": "code",
   "execution_count": 6,
   "metadata": {
    "colab": {
     "base_uri": "https://localhost:8080/",
     "height": 355
    },
    "colab_type": "code",
    "id": "ZhwjNjtoe2j5",
    "outputId": "4d53dafe-cdde-4921-c6a1-b7034551278d"
   },
   "outputs": [
    {
     "data": {
      "text/html": [
       "<div>\n",
       "<style scoped>\n",
       "    .dataframe tbody tr th:only-of-type {\n",
       "        vertical-align: middle;\n",
       "    }\n",
       "\n",
       "    .dataframe tbody tr th {\n",
       "        vertical-align: top;\n",
       "    }\n",
       "\n",
       "    .dataframe thead th {\n",
       "        text-align: right;\n",
       "    }\n",
       "</style>\n",
       "<table border=\"1\" class=\"dataframe\">\n",
       "  <thead>\n",
       "    <tr style=\"text-align: right;\">\n",
       "      <th></th>\n",
       "      <th>2</th>\n",
       "      <th>3</th>\n",
       "      <th>4</th>\n",
       "      <th>5</th>\n",
       "      <th>6</th>\n",
       "      <th>7</th>\n",
       "      <th>8</th>\n",
       "      <th>9</th>\n",
       "      <th>10</th>\n",
       "      <th>11</th>\n",
       "      <th>...</th>\n",
       "      <th>ORIGIN</th>\n",
       "      <th>CLUSTER</th>\n",
       "      <th>TABLE</th>\n",
       "      <th>CELL</th>\n",
       "      <th>NAME_COL1</th>\n",
       "      <th>NAME_COL2</th>\n",
       "      <th>ENTITY_COL1</th>\n",
       "      <th>PREDICATE</th>\n",
       "      <th>ENTITY_COL2</th>\n",
       "      <th>65</th>\n",
       "    </tr>\n",
       "  </thead>\n",
       "  <tbody>\n",
       "    <tr>\n",
       "      <th>0</th>\n",
       "      <td>9</td>\n",
       "      <td>11</td>\n",
       "      <td>6</td>\n",
       "      <td>1.833333</td>\n",
       "      <td>24</td>\n",
       "      <td>-1</td>\n",
       "      <td>2</td>\n",
       "      <td>5</td>\n",
       "      <td>5</td>\n",
       "      <td>1.0</td>\n",
       "      <td>...</td>\n",
       "      <td>t</td>\n",
       "      <td>0</td>\n",
       "      <td>203221.9</td>\n",
       "      <td>13:-1:2</td>\n",
       "      <td>protag_article@3</td>\n",
       "      <td>candid@3</td>\n",
       "      <td>https://en.wikipedia.org/wiki/Electoral_result...</td>\n",
       "      <td>P1346 :winner@en</td>\n",
       "      <td>https://en.wikipedia.org/wiki/Voter_turnout :Q...</td>\n",
       "      <td>82793</td>\n",
       "    </tr>\n",
       "    <tr>\n",
       "      <th>1</th>\n",
       "      <td>8</td>\n",
       "      <td>6</td>\n",
       "      <td>6</td>\n",
       "      <td>1.000000</td>\n",
       "      <td>11</td>\n",
       "      <td>-1</td>\n",
       "      <td>1</td>\n",
       "      <td>5</td>\n",
       "      <td>5</td>\n",
       "      <td>1.0</td>\n",
       "      <td>...</td>\n",
       "      <td>t</td>\n",
       "      <td>0</td>\n",
       "      <td>238845.8</td>\n",
       "      <td>4:-1:1</td>\n",
       "      <td>protag_article@3</td>\n",
       "      <td>2__parti@3</td>\n",
       "      <td>https://en.wikipedia.org/wiki/Gravesham_Boroug...</td>\n",
       "      <td>P488-1 :chairperson@en</td>\n",
       "      <td>https://en.wikipedia.org/wiki/Labour_Party_(UK...</td>\n",
       "      <td>82793</td>\n",
       "    </tr>\n",
       "    <tr>\n",
       "      <th>2</th>\n",
       "      <td>8</td>\n",
       "      <td>13</td>\n",
       "      <td>6</td>\n",
       "      <td>2.166667</td>\n",
       "      <td>28</td>\n",
       "      <td>-1</td>\n",
       "      <td>2</td>\n",
       "      <td>6</td>\n",
       "      <td>6</td>\n",
       "      <td>1.0</td>\n",
       "      <td>...</td>\n",
       "      <td>t</td>\n",
       "      <td>0</td>\n",
       "      <td>242238.8</td>\n",
       "      <td>17:-1:2</td>\n",
       "      <td>protag_article@3</td>\n",
       "      <td>candid@3</td>\n",
       "      <td>https://en.wikipedia.org/wiki/Electoral_result...</td>\n",
       "      <td>P488 :chairperson@en</td>\n",
       "      <td>https://en.wikipedia.org/wiki/Voter_turnout :Q...</td>\n",
       "      <td>82793</td>\n",
       "    </tr>\n",
       "    <tr>\n",
       "      <th>3</th>\n",
       "      <td>15</td>\n",
       "      <td>10</td>\n",
       "      <td>6</td>\n",
       "      <td>1.666667</td>\n",
       "      <td>23</td>\n",
       "      <td>-1</td>\n",
       "      <td>2</td>\n",
       "      <td>5</td>\n",
       "      <td>5</td>\n",
       "      <td>1.0</td>\n",
       "      <td>...</td>\n",
       "      <td>t</td>\n",
       "      <td>0</td>\n",
       "      <td>252604.15</td>\n",
       "      <td>12:-1:2</td>\n",
       "      <td>protag_article@3</td>\n",
       "      <td>candid@3</td>\n",
       "      <td>https://en.wikipedia.org/wiki/Electoral_result...</td>\n",
       "      <td>P102 :member of political party@en</td>\n",
       "      <td>https://en.wikipedia.org/wiki/Two-party-prefer...</td>\n",
       "      <td>82793</td>\n",
       "    </tr>\n",
       "    <tr>\n",
       "      <th>4</th>\n",
       "      <td>31</td>\n",
       "      <td>6</td>\n",
       "      <td>6</td>\n",
       "      <td>1.000000</td>\n",
       "      <td>14</td>\n",
       "      <td>-1</td>\n",
       "      <td>2</td>\n",
       "      <td>4</td>\n",
       "      <td>4</td>\n",
       "      <td>1.0</td>\n",
       "      <td>...</td>\n",
       "      <td>t</td>\n",
       "      <td>0</td>\n",
       "      <td>277252.31</td>\n",
       "      <td>2:-1:2</td>\n",
       "      <td>protag_article@3</td>\n",
       "      <td>candid@3</td>\n",
       "      <td>https://en.wikipedia.org/wiki/Results_of_the_N...</td>\n",
       "      <td>P488-1 :chairperson@en</td>\n",
       "      <td>https://en.wikipedia.org/wiki/John_Ness :Q6250275</td>\n",
       "      <td>82793</td>\n",
       "    </tr>\n",
       "  </tbody>\n",
       "</table>\n",
       "<p>5 rows × 70 columns</p>\n",
       "</div>"
      ],
      "text/plain": [
       "    2   3  4         5   6  7  8  9  10   11  ...    ORIGIN  CLUSTER  \\\n",
       "0   9  11  6  1.833333  24 -1  2  5   5  1.0  ...         t        0   \n",
       "1   8   6  6  1.000000  11 -1  1  5   5  1.0  ...         t        0   \n",
       "2   8  13  6  2.166667  28 -1  2  6   6  1.0  ...         t        0   \n",
       "3  15  10  6  1.666667  23 -1  2  5   5  1.0  ...         t        0   \n",
       "4  31   6  6  1.000000  14 -1  2  4   4  1.0  ...         t        0   \n",
       "\n",
       "       TABLE     CELL         NAME_COL1   NAME_COL2  \\\n",
       "0   203221.9  13:-1:2  protag_article@3    candid@3   \n",
       "1   238845.8   4:-1:1  protag_article@3  2__parti@3   \n",
       "2   242238.8  17:-1:2  protag_article@3    candid@3   \n",
       "3  252604.15  12:-1:2  protag_article@3    candid@3   \n",
       "4  277252.31   2:-1:2  protag_article@3    candid@3   \n",
       "\n",
       "                                         ENTITY_COL1  \\\n",
       "0  https://en.wikipedia.org/wiki/Electoral_result...   \n",
       "1  https://en.wikipedia.org/wiki/Gravesham_Boroug...   \n",
       "2  https://en.wikipedia.org/wiki/Electoral_result...   \n",
       "3  https://en.wikipedia.org/wiki/Electoral_result...   \n",
       "4  https://en.wikipedia.org/wiki/Results_of_the_N...   \n",
       "\n",
       "                            PREDICATE  \\\n",
       "0                    P1346 :winner@en   \n",
       "1              P488-1 :chairperson@en   \n",
       "2                P488 :chairperson@en   \n",
       "3  P102 :member of political party@en   \n",
       "4              P488-1 :chairperson@en   \n",
       "\n",
       "                                         ENTITY_COL2     65  \n",
       "0  https://en.wikipedia.org/wiki/Voter_turnout :Q...  82793  \n",
       "1  https://en.wikipedia.org/wiki/Labour_Party_(UK...  82793  \n",
       "2  https://en.wikipedia.org/wiki/Voter_turnout :Q...  82793  \n",
       "3  https://en.wikipedia.org/wiki/Two-party-prefer...  82793  \n",
       "4  https://en.wikipedia.org/wiki/John_Ness :Q6250275  82793  \n",
       "\n",
       "[5 rows x 70 columns]"
      ]
     },
     "execution_count": 6,
     "metadata": {},
     "output_type": "execute_result"
    }
   ],
   "source": [
    "data=pd.merge(data, clusters, on=['CLUSTER'])\n",
    "data.head()"
   ]
  },
  {
   "cell_type": "markdown",
   "metadata": {
    "colab_type": "text",
    "id": "XySKbbk2baFe"
   },
   "source": [
    "** Adding contextual triples in a new dataset **"
   ]
  },
  {
   "cell_type": "code",
   "execution_count": 7,
   "metadata": {
    "colab": {
     "base_uri": "https://localhost:8080/",
     "height": 194
    },
    "colab_type": "code",
    "id": "UoyS9mBVbhNs",
    "outputId": "a7054f6f-df5e-4110-99a4-6e4914b9c966"
   },
   "outputs": [
    {
     "name": "stderr",
     "output_type": "stream",
     "text": [
      "/home/jhomara/.local/lib/python3.5/site-packages/pandas/core/frame.py:6211: FutureWarning: Sorting because non-concatenation axis is not aligned. A future version\n",
      "of pandas will change to not sort by default.\n",
      "\n",
      "To accept the future behavior, pass 'sort=False'.\n",
      "\n",
      "To retain the current behavior and silence the warning, pass 'sort=True'.\n",
      "\n",
      "  sort=sort)\n"
     ]
    },
    {
     "data": {
      "text/html": [
       "<div>\n",
       "<style scoped>\n",
       "    .dataframe tbody tr th:only-of-type {\n",
       "        vertical-align: middle;\n",
       "    }\n",
       "\n",
       "    .dataframe tbody tr th {\n",
       "        vertical-align: top;\n",
       "    }\n",
       "\n",
       "    .dataframe thead th {\n",
       "        text-align: right;\n",
       "    }\n",
       "</style>\n",
       "<table border=\"1\" class=\"dataframe\">\n",
       "  <thead>\n",
       "    <tr style=\"text-align: right;\">\n",
       "      <th></th>\n",
       "      <th>10</th>\n",
       "      <th>11</th>\n",
       "      <th>12</th>\n",
       "      <th>13</th>\n",
       "      <th>14</th>\n",
       "      <th>15</th>\n",
       "      <th>16</th>\n",
       "      <th>17</th>\n",
       "      <th>18</th>\n",
       "      <th>19</th>\n",
       "      <th>...</th>\n",
       "      <th>CLUSTER</th>\n",
       "      <th>ENTITY_COL1</th>\n",
       "      <th>ENTITY_COL2</th>\n",
       "      <th>NAME_COL1</th>\n",
       "      <th>NAME_COL2</th>\n",
       "      <th>ORIGIN</th>\n",
       "      <th>PREDICATE</th>\n",
       "      <th>TABLE</th>\n",
       "      <th>VALIDATION</th>\n",
       "      <th>65</th>\n",
       "    </tr>\n",
       "  </thead>\n",
       "  <tbody>\n",
       "    <tr>\n",
       "      <th>0</th>\n",
       "      <td>5</td>\n",
       "      <td>1.0</td>\n",
       "      <td>1</td>\n",
       "      <td>4</td>\n",
       "      <td>0.25</td>\n",
       "      <td>5</td>\n",
       "      <td>4</td>\n",
       "      <td>0.000505</td>\n",
       "      <td>0.000603</td>\n",
       "      <td>0.000753</td>\n",
       "      <td>...</td>\n",
       "      <td>0</td>\n",
       "      <td>https://en.wikipedia.org/wiki/Electoral_result...</td>\n",
       "      <td>https://en.wikipedia.org/wiki/Voter_turnout :Q...</td>\n",
       "      <td>protag_article@3</td>\n",
       "      <td>candid@3</td>\n",
       "      <td>t</td>\n",
       "      <td>P1346 :winner@en</td>\n",
       "      <td>203221.9</td>\n",
       "      <td>2</td>\n",
       "      <td>82793</td>\n",
       "    </tr>\n",
       "    <tr>\n",
       "      <th>1</th>\n",
       "      <td>5</td>\n",
       "      <td>1.0</td>\n",
       "      <td>1</td>\n",
       "      <td>4</td>\n",
       "      <td>0.25</td>\n",
       "      <td>5</td>\n",
       "      <td>4</td>\n",
       "      <td>0.000136</td>\n",
       "      <td>0.000122</td>\n",
       "      <td>0.000081</td>\n",
       "      <td>...</td>\n",
       "      <td>0</td>\n",
       "      <td>https://en.wikipedia.org/wiki/Gravesham_Boroug...</td>\n",
       "      <td>https://en.wikipedia.org/wiki/Labour_Party_(UK...</td>\n",
       "      <td>protag_article@3</td>\n",
       "      <td>2__parti@3</td>\n",
       "      <td>t</td>\n",
       "      <td>P488-1 :chairperson@en</td>\n",
       "      <td>238845.8</td>\n",
       "      <td>2</td>\n",
       "      <td>82793</td>\n",
       "    </tr>\n",
       "  </tbody>\n",
       "</table>\n",
       "<p>2 rows × 70 columns</p>\n",
       "</div>"
      ],
      "text/plain": [
       "   10   11  12  13    14  15  16        17        18        19  ...    \\\n",
       "0   5  1.0   1   4  0.25   5   4  0.000505  0.000603  0.000753  ...     \n",
       "1   5  1.0   1   4  0.25   5   4  0.000136  0.000122  0.000081  ...     \n",
       "\n",
       "   CLUSTER                                        ENTITY_COL1  \\\n",
       "0        0  https://en.wikipedia.org/wiki/Electoral_result...   \n",
       "1        0  https://en.wikipedia.org/wiki/Gravesham_Boroug...   \n",
       "\n",
       "                                         ENTITY_COL2         NAME_COL1  \\\n",
       "0  https://en.wikipedia.org/wiki/Voter_turnout :Q...  protag_article@3   \n",
       "1  https://en.wikipedia.org/wiki/Labour_Party_(UK...  protag_article@3   \n",
       "\n",
       "    NAME_COL2  ORIGIN               PREDICATE     TABLE  VALIDATION     65  \n",
       "0    candid@3       t        P1346 :winner@en  203221.9           2  82793  \n",
       "1  2__parti@3       t  P488-1 :chairperson@en  238845.8           2  82793  \n",
       "\n",
       "[2 rows x 70 columns]"
      ]
     },
     "execution_count": 7,
     "metadata": {},
     "output_type": "execute_result"
    }
   ],
   "source": [
    "data2=data.copy()\n",
    "data2=data2.append(contextual)\n",
    "del data2['65']\n",
    "data2=pd.merge(data2, clusters, on=['CLUSTER'])\n",
    "data2.head(2)"
   ]
  },
  {
   "cell_type": "code",
   "execution_count": 37,
   "metadata": {},
   "outputs": [
    {
     "data": {
      "text/html": [
       "<div>\n",
       "<style scoped>\n",
       "    .dataframe tbody tr th:only-of-type {\n",
       "        vertical-align: middle;\n",
       "    }\n",
       "\n",
       "    .dataframe tbody tr th {\n",
       "        vertical-align: top;\n",
       "    }\n",
       "\n",
       "    .dataframe thead th {\n",
       "        text-align: right;\n",
       "    }\n",
       "</style>\n",
       "<table border=\"1\" class=\"dataframe\">\n",
       "  <thead>\n",
       "    <tr style=\"text-align: right;\">\n",
       "      <th></th>\n",
       "      <th>55</th>\n",
       "      <th>56</th>\n",
       "      <th>57</th>\n",
       "      <th>58</th>\n",
       "      <th>59</th>\n",
       "      <th>60</th>\n",
       "      <th>61</th>\n",
       "      <th>62</th>\n",
       "      <th>63</th>\n",
       "      <th>VALIDATION</th>\n",
       "      <th>...</th>\n",
       "      <th>CLUSTER</th>\n",
       "      <th>TABLE</th>\n",
       "      <th>CELL</th>\n",
       "      <th>NAME_COL1</th>\n",
       "      <th>NAME_COL2</th>\n",
       "      <th>ENTITY_COL1</th>\n",
       "      <th>PREDICATE</th>\n",
       "      <th>ENTITY_COL2</th>\n",
       "      <th>65</th>\n",
       "      <th>64</th>\n",
       "    </tr>\n",
       "  </thead>\n",
       "  <tbody>\n",
       "    <tr>\n",
       "      <th>0</th>\n",
       "      <td>297201</td>\n",
       "      <td>80183</td>\n",
       "      <td>18</td>\n",
       "      <td>9</td>\n",
       "      <td>17</td>\n",
       "      <td>646277</td>\n",
       "      <td>0.000112</td>\n",
       "      <td>0.000026</td>\n",
       "      <td>0</td>\n",
       "      <td>2</td>\n",
       "      <td>...</td>\n",
       "      <td>0</td>\n",
       "      <td>203221.9</td>\n",
       "      <td>13:-1:2</td>\n",
       "      <td>protag_article@3</td>\n",
       "      <td>candid@3</td>\n",
       "      <td>https://en.wikipedia.org/wiki/Electoral_result...</td>\n",
       "      <td>P1346 :winner@en</td>\n",
       "      <td>https://en.wikipedia.org/wiki/Voter_turnout :Q...</td>\n",
       "      <td>82793</td>\n",
       "      <td>1</td>\n",
       "    </tr>\n",
       "    <tr>\n",
       "      <th>1</th>\n",
       "      <td>553566</td>\n",
       "      <td>77315</td>\n",
       "      <td>17</td>\n",
       "      <td>7</td>\n",
       "      <td>16</td>\n",
       "      <td>646277</td>\n",
       "      <td>0.000091</td>\n",
       "      <td>0.000025</td>\n",
       "      <td>0</td>\n",
       "      <td>2</td>\n",
       "      <td>...</td>\n",
       "      <td>0</td>\n",
       "      <td>238845.8</td>\n",
       "      <td>4:-1:1</td>\n",
       "      <td>protag_article@3</td>\n",
       "      <td>2__parti@3</td>\n",
       "      <td>https://en.wikipedia.org/wiki/Gravesham_Boroug...</td>\n",
       "      <td>P488-1 :chairperson@en</td>\n",
       "      <td>https://en.wikipedia.org/wiki/Labour_Party_(UK...</td>\n",
       "      <td>82793</td>\n",
       "      <td>0</td>\n",
       "    </tr>\n",
       "  </tbody>\n",
       "</table>\n",
       "<p>2 rows × 21 columns</p>\n",
       "</div>"
      ],
      "text/plain": [
       "       55     56  57  58  59      60        61        62  63  VALIDATION ...  \\\n",
       "0  297201  80183  18   9  17  646277  0.000112  0.000026   0           2 ...   \n",
       "1  553566  77315  17   7  16  646277  0.000091  0.000025   0           2 ...   \n",
       "\n",
       "  CLUSTER     TABLE     CELL         NAME_COL1   NAME_COL2  \\\n",
       "0       0  203221.9  13:-1:2  protag_article@3    candid@3   \n",
       "1       0  238845.8   4:-1:1  protag_article@3  2__parti@3   \n",
       "\n",
       "                                         ENTITY_COL1               PREDICATE  \\\n",
       "0  https://en.wikipedia.org/wiki/Electoral_result...        P1346 :winner@en   \n",
       "1  https://en.wikipedia.org/wiki/Gravesham_Boroug...  P488-1 :chairperson@en   \n",
       "\n",
       "                                         ENTITY_COL2     65  64  \n",
       "0  https://en.wikipedia.org/wiki/Voter_turnout :Q...  82793   1  \n",
       "1  https://en.wikipedia.org/wiki/Labour_Party_(UK...  82793   0  \n",
       "\n",
       "[2 rows x 21 columns]"
      ]
     },
     "execution_count": 37,
     "metadata": {},
     "output_type": "execute_result"
    }
   ],
   "source": [
    "data.iloc[:,50:].head(2)"
   ]
  },
  {
   "cell_type": "markdown",
   "metadata": {
    "colab_type": "text",
    "id": "fAbwZXDVe2kA"
   },
   "source": [
    "### Normalizing some features"
   ]
  },
  {
   "cell_type": "markdown",
   "metadata": {
    "colab_type": "text",
    "id": "txJOG-N9e2kB"
   },
   "source": [
    "I applied normalization over some feautures, but I didn't get to much difference"
   ]
  },
  {
   "cell_type": "code",
   "execution_count": 8,
   "metadata": {
    "colab": {},
    "colab_type": "code",
    "id": "Z8_guh2Ve2kD"
   },
   "outputs": [],
   "source": [
    "def normalize(df):\n",
    "    result = df.copy()\n",
    "    for feature_name in df.columns:\n",
    "        max_value = df[feature_name].max()\n",
    "        min_value = df[feature_name].min()\n",
    "        result[feature_name] = (df[feature_name] - min_value) / (max_value - min_value)\n",
    "    return result\n"
   ]
  },
  {
   "cell_type": "code",
   "execution_count": 9,
   "metadata": {
    "colab": {},
    "colab_type": "code",
    "id": "tnOkO7G1e2kF"
   },
   "outputs": [],
   "source": [
    "#Next features are not used, since cells with more than one link were deleted. \n",
    "#21 number entities subject cell\n",
    "#22 number entities object cell\n",
    "#23 ratio 21/22\n",
    "#38 exist relation in KB\n",
    "#43 number links subject cell\n",
    "#44 number links object cell\n",
    "\n",
    "# Features not normalized:\n",
    "#7 subject column index\n",
    "#8 object column index \n",
    "#26 & 27 formatting present in cells (values: 0,1)\n",
    "#37 relation from title article (values: 0,1)\n",
    "#39 object is in range of predicate (values: 0,1)\n",
    "#40 subject is in domain of predicate (values : 0,1)\n",
    "#63 num of cluster\n",
    "#64 Inverse predicate\n",
    "\n",
    "noImportant=['21','22','23','38','43','44']\n",
    "noNormalized=['7','8', '26', '27', '37','39','40','63','64','65','VALIDATION']\n",
    "def filterFeatures(data):\n",
    "    #Adding feature for inverse property\n",
    "    data['64']=data.PREDICATE.str.contains('-1')\n",
    "    data['64']=np.where(data['64'],0,1)\n",
    "    data.head(2)\n",
    "    r1 = [str(i) for i in np.arange(2,66) if str(i) if str(i) not in noImportant and str(i) not in noNormalized]\n",
    "    r1.append('VALIDATION')\n",
    "    x=data[r1]\n",
    "    r1 = [c for c in list(x.columns) if c not in noNormalized]\n",
    "    d1=x[r1]\n",
    "    \n",
    "    #Normalized features\n",
    "    xn=normalize(d1)\n",
    "    xf=pd.concat([xn, data[noNormalized]], axis=1)\n",
    "    fcols=[c for c in list(xf.columns) if c!='VALIDATION']\n",
    "    X=xf[fcols]\n",
    "    Y=xf['VALIDATION']\n",
    "    colnames={n:int(n) for n in list(X.columns)}\n",
    "    \n",
    "    #Numeric name features and sorting\n",
    "    X=X.rename(columns=colnames)\n",
    "    X = X.sort_index(axis=1)    \n",
    "    #Final dataFrame\n",
    "    xf=pd.concat([X, Y], axis=1)\n",
    "    print(\"Number of correct triples: \", xf[xf['VALIDATION']==1].shape)\n",
    "    print(\"Number of incorrect triples: \", xf[xf['VALIDATION']==2].shape)\n",
    "    return xf"
   ]
  },
  {
   "cell_type": "markdown",
   "metadata": {
    "colab_type": "text",
    "id": "oKbfiapacATm"
   },
   "source": [
    "**Filtering Features**"
   ]
  },
  {
   "cell_type": "code",
   "execution_count": 10,
   "metadata": {
    "colab": {
     "base_uri": "https://localhost:8080/",
     "height": 53
    },
    "colab_type": "code",
    "id": "b9dDAGjeb8ER",
    "outputId": "13711cb7-bf0e-40b8-c340-24153e1690f2"
   },
   "outputs": [
    {
     "name": "stdout",
     "output_type": "stream",
     "text": [
      "Number of correct triples:  (245, 59)\n",
      "Number of incorrect triples:  (607, 59)\n"
     ]
    }
   ],
   "source": [
    "xf=filterFeatures(data)\n",
    "X=xf.iloc[:,:-1].values\n",
    "Y=xf['VALIDATION'].values"
   ]
  },
  {
   "cell_type": "code",
   "execution_count": 11,
   "metadata": {
    "colab": {
     "base_uri": "https://localhost:8080/",
     "height": 53
    },
    "colab_type": "code",
    "id": "p6x1oSJAcKFv",
    "outputId": "69916494-e64c-4634-f343-a46eccbcab7a"
   },
   "outputs": [
    {
     "name": "stdout",
     "output_type": "stream",
     "text": [
      "Number of correct triples:  (277, 59)\n",
      "Number of incorrect triples:  (620, 59)\n"
     ]
    }
   ],
   "source": [
    "#Filtering Features dataset2:\n",
    "xf2=filterFeatures(data2)\n",
    "X2=xf2.iloc[:,:-1].values\n",
    "Y2=xf2['VALIDATION'].values"
   ]
  },
  {
   "cell_type": "markdown",
   "metadata": {
    "colab_type": "text",
    "id": "0CSBBOZMe2kJ"
   },
   "source": [
    "# Features overview"
   ]
  },
  {
   "cell_type": "markdown",
   "metadata": {
    "colab_type": "text",
    "id": "YaCu4_cicYAR"
   },
   "source": [
    "Comparison mean of all features  -  box plot"
   ]
  },
  {
   "cell_type": "code",
   "execution_count": 12,
   "metadata": {
    "colab": {
     "base_uri": "https://localhost:8080/",
     "height": 374
    },
    "colab_type": "code",
    "id": "aMjgMXzle2kK",
    "outputId": "99ffb5cc-3755-4bbd-cb54-597c10213ae0"
   },
   "outputs": [
    {
     "data": {
      "image/png": "[encoded data removed]",
      "text/plain": [
       "<Figure size 1080x432 with 1 Axes>"
      ]
     },
     "metadata": {},
     "output_type": "display_data"
    }
   ],
   "source": [
    "#CORRECT TRIPLES\n",
    "\n",
    "%matplotlib inline\n",
    "plt.rcParams[\"figure.figsize\"] = [15, 6]\n",
    "\n",
    "c=xf[xf['VALIDATION']==1].iloc[:,:-1]\n",
    "inoNormalized=[int(noNormalized[n]) for n in range(len(noNormalized)-1)]\n",
    "cols=[col for col in list(c.columns) if col not in inoNormalized]\n",
    "c=c[cols]\n",
    "mins = c.min().values\n",
    "maxes = c.max().values\n",
    "means = c.mean().values\n",
    "std = c.std().values\n",
    "\n",
    "plt.errorbar(np.arange(len(list(c.columns))), means, std, fmt='ok', lw=3)\n",
    "plt.errorbar(np.arange(len(list(c.columns))), means, [means - mins, maxes - means],\n",
    "             fmt='.k', ecolor='black', lw=1)\n",
    "\n",
    "#INCORRECT TRIPLES\n",
    "i=xf[xf['VALIDATION']==2].iloc[:,:-1]\n",
    "inoNormalized=[int(noNormalized[n]) for n in range(len(noNormalized)-1)]\n",
    "cols=[col for col in list(i.columns) if col not in inoNormalized]\n",
    "i=i[cols]\n",
    "\n",
    "mins = i.min().values\n",
    "maxes = i.max().values\n",
    "means = i.mean().values\n",
    "std = i.std().values\n",
    "\n",
    "\n",
    "plt.errorbar([i+0.3 for i in range(len(list(i.columns)))], means, std, fmt='ok',ecolor='red', lw=3)\n",
    "plt.errorbar([i+0.3 for i in range(len(list(i.columns)))], means, [means - mins, maxes - means],\n",
    "             fmt='.k', ecolor='red', lw=1)\n",
    "plt.xticks([i+0.3 for i in range(len(list(i.columns)))], [str(i) for i in list(i.columns)])\n",
    "plt.show()"
   ]
  },
  {
   "cell_type": "markdown",
   "metadata": {
    "colab_type": "raw",
    "id": "oKZPMuLee2kO"
   },
   "source": [
    "The figure shows that there is a little difference between median values of the most features and it is possible look variation  on features 32, 34, 36, 51,52, 54,55, 56, 60, 61,62 and 63:\n",
    "* 32 Ratio number rows where predicate holds / total rows\n",
    "* 34 Ratio number relations where predicate holds / total relations\n",
    "* 36 Ratio number unique relations where predicate holds / total unique relations\n",
    "* 51 Number of entities in subject column (cluster)\n",
    "* 52 Number of entities in object column (cluster)\n",
    "* 53 Number of unique entities in subject column (cluster)\n",
    "* 54 Number of unique entities in object column (cluster)\n",
    "* 55 Number of potential relations (cluster)\n",
    "* 56 Number of unique potential relations (cluster)\n",
    "* 61 Ratio number relations where predicate holds / total relations (cluster)\n",
    "* 62 Ratio number rows where predicate holds / total rows (cluster)\n",
    "\n"
   ]
  },
  {
   "cell_type": "markdown",
   "metadata": {
    "colab_type": "text",
    "id": "uHcRxROAcxcA"
   },
   "source": [
    "** Next, I explore the relation of features 32,36,61,62 with probability score of a test set.**"
   ]
  },
  {
   "cell_type": "code",
   "execution_count": 13,
   "metadata": {
    "colab": {
     "base_uri": "https://localhost:8080/",
     "height": 923
    },
    "colab_type": "code",
    "id": "P1dDemz2coH2",
    "outputId": "2286b225-1e5f-47ef-875c-e6fe878e479f"
   },
   "outputs": [
    {
     "data": {
      "text/plain": [
       "<seaborn.axisgrid.PairGrid at 0x7f252ae56898>"
      ]
     },
     "execution_count": 13,
     "metadata": {},
     "output_type": "execute_result"
    },
    {
     "data": {
      "image/png": "[encoded data removed]",
      "text/plain": [
       "<Figure size 942.375x900 with 30 Axes>"
      ]
     },
     "metadata": {},
     "output_type": "display_data"
    }
   ],
   "source": [
    "x_filteredf=xf[[20,48,47,49,50,42,30,28,41,39,29,40,27,45,46,26,32,36,61,62]]\n",
    "y_filteredf=xf[['VALIDATION']]\n",
    "#Training RF with to get probability scores\n",
    "RF=RandomForestClassifier(min_samples_split=3, max_depth=5, n_estimators=5, min_samples_leaf=3, max_features=3, bootstrap=True)\n",
    "Xf_train, Xf_test, yf_train, yf_test = train_test_split(x_filteredf.values, y_filteredf['VALIDATION'].values, test_size=0.3,random_state=0)\n",
    "RF.fit(Xf_train, yf_train)\n",
    "yf_scores=RF.predict_proba(Xf_test)\n",
    "#Building a dataframe with test values\n",
    "x_plot=pd.DataFrame(Xf_test,columns=[20,48,47,49,50,42,30,28,41,39,29,40,27,45,46,26,32,36,61,62])\n",
    "df_score=pd.DataFrame({'score':yf_scores[:,0]})\n",
    "x_plot=pd.concat([x_plot, df_score], axis=1)\n",
    "x_plot=pd.concat([x_plot, pd.DataFrame({'class':yf_test})], axis=1)\n",
    "x_plot.head()\n",
    "#Plot a matrix with features 32,36,61,62 and probability score:\n",
    "#Class 1: Correct \n",
    "#Class 2: Incorrect\n",
    "import seaborn as sns\n",
    "sns.pairplot(x_plot[[32,36,39,40,47,48,49,50,61,62, 'score','class']],vars=[32,36,61,62, 'score'], hue='class', diag_kind=\"kde\")"
   ]
  },
  {
   "cell_type": "markdown",
   "metadata": {
    "colab_type": "text",
    "id": "RRLFsqLgdHFq"
   },
   "source": [
    "The previous image shows that the while the number of rows and relations with same predicate icrease, the probability of being correct triples is greater."
   ]
  },
  {
   "cell_type": "code",
   "execution_count": 14,
   "metadata": {
    "colab": {
     "base_uri": "https://localhost:8080/",
     "height": 387
    },
    "colab_type": "code",
    "id": "iMeXEg8we2kP",
    "outputId": "f9f634e2-592c-49fb-91d0-650a1241a4d8"
   },
   "outputs": [
    {
     "data": {
      "image/png": "[encoded data removed]",
      "text/plain": [
       "<Figure size 1080x432 with 2 Axes>"
      ]
     },
     "metadata": {},
     "output_type": "display_data"
    }
   ],
   "source": [
    "\n",
    "#32 Ratio number rows where predicate holds / total rows\n",
    "#34 Ratio number relations where predicate holds / total relations\n",
    "#36 Ratio number unique relations where predicate holds / total unique relations\n",
    "#61 Ratio number relations where predicate holds / total relations in cluster\n",
    "#62 Ratio number rows where predicate holds / total rows in cluster\n",
    "\n",
    "\n",
    "c=xf[xf['VALIDATION']==1][[32,34,36,61,62]]\n",
    "c.describe()\n",
    "\n",
    "i=xf[xf['VALIDATION']==2][[32,34,36,61,62]]\n",
    "i.describe()\n",
    "\n",
    "c['key'] = 'correct'\n",
    "i['key'] = 'incorrect'\n",
    "\n",
    "DF = pd.concat([c,i],keys=['correct','incorrect'])\n",
    "DFGroup = DF.groupby(['key'])\n",
    "ax=DFGroup.boxplot()\n",
    "plt.show()"
   ]
  },
  {
   "cell_type": "markdown",
   "metadata": {
    "colab_type": "text",
    "id": "5L9cwNdVe2kT"
   },
   "source": [
    "## Removing outliers"
   ]
  },
  {
   "cell_type": "code",
   "execution_count": 15,
   "metadata": {
    "colab": {
     "base_uri": "https://localhost:8080/",
     "height": 603
    },
    "colab_type": "code",
    "id": "5iwv5CSie2kU",
    "outputId": "1985c4b1-da85-4a74-ebba-610c0367f7e6"
   },
   "outputs": [
    {
     "name": "stderr",
     "output_type": "stream",
     "text": [
      "/usr/local/lib/python3.5/dist-packages/ipykernel_launcher.py:8: SettingWithCopyWarning: \n",
      "A value is trying to be set on a copy of a slice from a DataFrame.\n",
      "Try using .loc[row_indexer,col_indexer] = value instead\n",
      "\n",
      "See the caveats in the documentation: http://pandas.pydata.org/pandas-docs/stable/indexing.html#indexing-view-versus-copy\n",
      "  \n",
      "/usr/local/lib/python3.5/dist-packages/ipykernel_launcher.py:14: SettingWithCopyWarning: \n",
      "A value is trying to be set on a copy of a slice from a DataFrame.\n",
      "Try using .loc[row_indexer,col_indexer] = value instead\n",
      "\n",
      "See the caveats in the documentation: http://pandas.pydata.org/pandas-docs/stable/indexing.html#indexing-view-versus-copy\n",
      "  \n"
     ]
    },
    {
     "data": {
      "image/png": "[encoded data removed]",
      "text/plain": [
       "<Figure size 1080x432 with 2 Axes>"
      ]
     },
     "metadata": {},
     "output_type": "display_data"
    }
   ],
   "source": [
    "#Delete outiliers that are out of interquartile (Greater than 0.75 and less than 0.25) on specific features\n",
    "\n",
    "c=xf[xf['VALIDATION']==1][[32,34,36,61,62]]\n",
    "Q1 = c.quantile(0.25)\n",
    "Q3 = c.quantile(0.75)\n",
    "IQR = Q3 - Q1\n",
    "dfoc = c[~((c < (Q1 - 1.5 * IQR)) |(c > (Q3 + 1.5 * IQR))).any(axis=1)]\n",
    "dfoc['key'] = 'correct'\n",
    "i=xf[xf['VALIDATION']==2][[32,34,36,61,62]]\n",
    "Q1 = i.quantile(0.25)\n",
    "Q3 = i.quantile(0.75)\n",
    "IQR = Q3 - Q1\n",
    "dfo = i[~((i < (Q1 - 1.5 * IQR)) |(i > (Q3 + 1.5 * IQR))).any(axis=1)]\n",
    "dfo['key'] = 'incorrect'\n",
    "\n",
    "DF = pd.concat([dfoc,dfo],keys=['correct','incorrect'])\n",
    "DFGroup = DF.groupby(['key'])\n",
    "ax=DFGroup.boxplot()\n",
    "plt.show()"
   ]
  },
  {
   "cell_type": "markdown",
   "metadata": {
    "colab_type": "text",
    "id": "RXr6biX6fGOU"
   },
   "source": [
    "** Preparing data without outliers**\n",
    "\n"
   ]
  },
  {
   "cell_type": "code",
   "execution_count": 16,
   "metadata": {
    "colab": {
     "base_uri": "https://localhost:8080/",
     "height": 71
    },
    "colab_type": "code",
    "id": "oRxXokRgfObm",
    "outputId": "023a6ebf-438f-40c5-bf94-956ecb33d529"
   },
   "outputs": [
    {
     "name": "stdout",
     "output_type": "stream",
     "text": [
      "Total triples without outliers:  (655, 6)\n",
      "Total correct triples without outliers:  (195, 6)\n",
      "Total incorrect triples without outliers:  (460, 6)\n"
     ]
    }
   ],
   "source": [
    "#dfoc= correct triples without outliers\n",
    "#dfo= incorrect triples wihout outliers\n",
    "dt=pd.concat([dfoc,dfo])\n",
    "print(\"Total triples without outliers: \", dt.shape)\n",
    "print(\"Total correct triples without outliers: \", dt[dt['key']=='correct'].shape)\n",
    "print(\"Total incorrect triples without outliers: \", dt[dt['key']=='incorrect'].shape)\n",
    "dt['key']=np.where(dt['key']=='correct',1, 2)\n",
    "# Data for training models\n",
    "setToTrain=set(dt.index.tolist())\n",
    "dt=xf[xf.index.isin(list(setToTrain))]\n",
    "X1=dt.iloc[:,:-1].values\n",
    "Y1=dt['VALIDATION'].values"
   ]
  },
  {
   "cell_type": "code",
   "execution_count": 17,
   "metadata": {
    "colab": {
     "base_uri": "https://localhost:8080/",
     "height": 253
    },
    "colab_type": "code",
    "id": "c7DA72L3mbE4",
    "outputId": "c2bb8f51-e816-4ecf-fe92-4c3fa80af221"
   },
   "outputs": [
    {
     "data": {
      "text/html": [
       "<div>\n",
       "<style scoped>\n",
       "    .dataframe tbody tr th:only-of-type {\n",
       "        vertical-align: middle;\n",
       "    }\n",
       "\n",
       "    .dataframe tbody tr th {\n",
       "        vertical-align: top;\n",
       "    }\n",
       "\n",
       "    .dataframe thead th {\n",
       "        text-align: right;\n",
       "    }\n",
       "</style>\n",
       "<table border=\"1\" class=\"dataframe\">\n",
       "  <thead>\n",
       "    <tr style=\"text-align: right;\">\n",
       "      <th></th>\n",
       "      <th>2</th>\n",
       "      <th>3</th>\n",
       "      <th>4</th>\n",
       "      <th>5</th>\n",
       "      <th>6</th>\n",
       "      <th>7</th>\n",
       "      <th>8</th>\n",
       "      <th>9</th>\n",
       "      <th>10</th>\n",
       "      <th>11</th>\n",
       "      <th>...</th>\n",
       "      <th>57</th>\n",
       "      <th>58</th>\n",
       "      <th>59</th>\n",
       "      <th>60</th>\n",
       "      <th>61</th>\n",
       "      <th>62</th>\n",
       "      <th>63</th>\n",
       "      <th>64</th>\n",
       "      <th>65</th>\n",
       "      <th>VALIDATION</th>\n",
       "    </tr>\n",
       "  </thead>\n",
       "  <tbody>\n",
       "    <tr>\n",
       "      <th>0</th>\n",
       "      <td>0.033613</td>\n",
       "      <td>0.003184</td>\n",
       "      <td>0.02963</td>\n",
       "      <td>0.003229</td>\n",
       "      <td>0.000054</td>\n",
       "      <td>-1</td>\n",
       "      <td>2</td>\n",
       "      <td>0.001282</td>\n",
       "      <td>0.001282</td>\n",
       "      <td>0.110199</td>\n",
       "      <td>...</td>\n",
       "      <td>0.000057</td>\n",
       "      <td>0.000077</td>\n",
       "      <td>0.000055</td>\n",
       "      <td>1.0</td>\n",
       "      <td>0.000119</td>\n",
       "      <td>0.000026</td>\n",
       "      <td>0</td>\n",
       "      <td>1</td>\n",
       "      <td>82793</td>\n",
       "      <td>2</td>\n",
       "    </tr>\n",
       "    <tr>\n",
       "      <th>1</th>\n",
       "      <td>0.029412</td>\n",
       "      <td>0.001592</td>\n",
       "      <td>0.02963</td>\n",
       "      <td>0.001637</td>\n",
       "      <td>0.000024</td>\n",
       "      <td>-1</td>\n",
       "      <td>1</td>\n",
       "      <td>0.001282</td>\n",
       "      <td>0.001282</td>\n",
       "      <td>0.110199</td>\n",
       "      <td>...</td>\n",
       "      <td>0.000053</td>\n",
       "      <td>0.000058</td>\n",
       "      <td>0.000051</td>\n",
       "      <td>1.0</td>\n",
       "      <td>0.000096</td>\n",
       "      <td>0.000024</td>\n",
       "      <td>0</td>\n",
       "      <td>0</td>\n",
       "      <td>82793</td>\n",
       "      <td>2</td>\n",
       "    </tr>\n",
       "    <tr>\n",
       "      <th>2</th>\n",
       "      <td>0.029412</td>\n",
       "      <td>0.003820</td>\n",
       "      <td>0.02963</td>\n",
       "      <td>0.003866</td>\n",
       "      <td>0.000064</td>\n",
       "      <td>-1</td>\n",
       "      <td>2</td>\n",
       "      <td>0.001602</td>\n",
       "      <td>0.001602</td>\n",
       "      <td>0.110199</td>\n",
       "      <td>...</td>\n",
       "      <td>0.000003</td>\n",
       "      <td>0.000000</td>\n",
       "      <td>0.000003</td>\n",
       "      <td>1.0</td>\n",
       "      <td>0.000011</td>\n",
       "      <td>0.000002</td>\n",
       "      <td>0</td>\n",
       "      <td>1</td>\n",
       "      <td>82793</td>\n",
       "      <td>2</td>\n",
       "    </tr>\n",
       "    <tr>\n",
       "      <th>3</th>\n",
       "      <td>0.058824</td>\n",
       "      <td>0.002865</td>\n",
       "      <td>0.02963</td>\n",
       "      <td>0.002911</td>\n",
       "      <td>0.000052</td>\n",
       "      <td>-1</td>\n",
       "      <td>2</td>\n",
       "      <td>0.001282</td>\n",
       "      <td>0.001282</td>\n",
       "      <td>0.110199</td>\n",
       "      <td>...</td>\n",
       "      <td>0.001304</td>\n",
       "      <td>0.001696</td>\n",
       "      <td>0.001327</td>\n",
       "      <td>1.0</td>\n",
       "      <td>0.002402</td>\n",
       "      <td>0.000631</td>\n",
       "      <td>0</td>\n",
       "      <td>1</td>\n",
       "      <td>82793</td>\n",
       "      <td>2</td>\n",
       "    </tr>\n",
       "    <tr>\n",
       "      <th>4</th>\n",
       "      <td>0.126050</td>\n",
       "      <td>0.001592</td>\n",
       "      <td>0.02963</td>\n",
       "      <td>0.001637</td>\n",
       "      <td>0.000031</td>\n",
       "      <td>-1</td>\n",
       "      <td>2</td>\n",
       "      <td>0.000961</td>\n",
       "      <td>0.000961</td>\n",
       "      <td>0.110199</td>\n",
       "      <td>...</td>\n",
       "      <td>0.000003</td>\n",
       "      <td>0.000010</td>\n",
       "      <td>0.000003</td>\n",
       "      <td>1.0</td>\n",
       "      <td>0.000024</td>\n",
       "      <td>0.000002</td>\n",
       "      <td>0</td>\n",
       "      <td>0</td>\n",
       "      <td>82793</td>\n",
       "      <td>2</td>\n",
       "    </tr>\n",
       "  </tbody>\n",
       "</table>\n",
       "<p>5 rows × 59 columns</p>\n",
       "</div>"
      ],
      "text/plain": [
       "          2         3        4         5         6  7  8         9        10  \\\n",
       "0  0.033613  0.003184  0.02963  0.003229  0.000054 -1  2  0.001282  0.001282   \n",
       "1  0.029412  0.001592  0.02963  0.001637  0.000024 -1  1  0.001282  0.001282   \n",
       "2  0.029412  0.003820  0.02963  0.003866  0.000064 -1  2  0.001602  0.001602   \n",
       "3  0.058824  0.002865  0.02963  0.002911  0.000052 -1  2  0.001282  0.001282   \n",
       "4  0.126050  0.001592  0.02963  0.001637  0.000031 -1  2  0.000961  0.000961   \n",
       "\n",
       "         11     ...            57        58        59   60        61  \\\n",
       "0  0.110199     ...      0.000057  0.000077  0.000055  1.0  0.000119   \n",
       "1  0.110199     ...      0.000053  0.000058  0.000051  1.0  0.000096   \n",
       "2  0.110199     ...      0.000003  0.000000  0.000003  1.0  0.000011   \n",
       "3  0.110199     ...      0.001304  0.001696  0.001327  1.0  0.002402   \n",
       "4  0.110199     ...      0.000003  0.000010  0.000003  1.0  0.000024   \n",
       "\n",
       "         62  63  64     65  VALIDATION  \n",
       "0  0.000026   0   1  82793           2  \n",
       "1  0.000024   0   0  82793           2  \n",
       "2  0.000002   0   1  82793           2  \n",
       "3  0.000631   0   1  82793           2  \n",
       "4  0.000002   0   0  82793           2  \n",
       "\n",
       "[5 rows x 59 columns]"
      ]
     },
     "execution_count": 17,
     "metadata": {},
     "output_type": "execute_result"
    }
   ],
   "source": [
    "dt.head()"
   ]
  },
  {
   "cell_type": "markdown",
   "metadata": {
    "colab_type": "text",
    "id": "gMMSeCpGgZhH"
   },
   "source": [
    "# Training models"
   ]
  },
  {
   "cell_type": "code",
   "execution_count": 18,
   "metadata": {
    "colab": {},
    "colab_type": "code",
    "id": "On-h3z0be2kZ",
    "scrolled": true
   },
   "outputs": [],
   "source": [
    "from sklearn.metrics import precision_score\n",
    "from sklearn.metrics import recall_score\n",
    "from sklearn.metrics import f1_score\n",
    "import warnings\n",
    "from sklearn.neighbors import KNeighborsClassifier\n",
    "from sklearn.model_selection import StratifiedShuffleSplit\n",
    "from sklearn.metrics import classification_report\n",
    "from sklearn.tree import DecisionTreeClassifier\n",
    "from sklearn.linear_model import LogisticRegression\n",
    "from sklearn.ensemble import RandomForestClassifier\n",
    "from sklearn.svm import SVC\n",
    "from sklearn.naive_bayes import GaussianNB\n",
    "from sklearn.model_selection import RepeatedKFold\n",
    "def classify(X, Y, weighted=True):\n",
    "    warnings.simplefilter(action='ignore', category=FutureWarning)    \n",
    "    # Cross validation with 40 splits,  each time with 20% as validation set.\n",
    "    kf = StratifiedShuffleSplit(n_splits=10, test_size=0.2) \n",
    "    cl1 = KNeighborsClassifier(n_neighbors=1)\n",
    "    cl2 = DecisionTreeClassifier()\n",
    "    cl3 = RandomForestClassifier(max_depth=10,random_state=101, max_features=None, min_samples_leaf=3)\n",
    "    cl4=  SVC(kernel='linear')\n",
    "    cl5 = GaussianNB()\n",
    "    p1= p2= p3= p4 =p5=0 \n",
    "    r1=r2=r3=r4=r5=0\n",
    "    f1=f2=f3=f4=f5=0\n",
    "    cont=0\n",
    "    pacum=[]\n",
    "\n",
    "    for train_index, test_index in kf.split(X, Y): \n",
    "            #print(\"Train:\", train_index, \"Validation:\", test_index) \n",
    "            X_train, X_test = X[train_index], X[test_index] \n",
    "            y_train, y_test = Y[train_index], Y[test_index]\n",
    "\n",
    "            cl1 = KNeighborsClassifier(n_neighbors=1)\n",
    "            cl2 = DecisionTreeClassifier()\n",
    "            cl3 = RF = RandomForestClassifier(bootstrap=True, max_depth= 100, max_features=10, min_samples_leaf=3, min_samples_split=5, n_estimators=100)#RandomForestClassifier(max_depth=10,max_features=None, min_samples_leaf=3)\n",
    "            #cl4=  SVC(kernel='linear')\n",
    "            cl5 = GaussianNB()\n",
    "\n",
    "            #print(X_train)\n",
    "            #print('----')\n",
    "            #print(y_train)\n",
    "            #print('KNN---------------')\n",
    "            #cl1 = KNeighborsClassifier(n_neighbors=1)\n",
    "            #X_train, X_test, y_train, y_test = train_test_split(xf, y, test_size=0.3, random_state=4)\n",
    "            cl1.fit(X_train, y_train)\n",
    "            y_pred = cl1.predict(X_test)\n",
    "            if weighted:\n",
    "                labels=[1,2]\n",
    "            else:\n",
    "                labels=[1]\n",
    "                \n",
    "            p1+=precision_score(y_test, y_pred, labels=labels,average='weighted') \n",
    "            r1+=recall_score(y_test, y_pred, labels=labels,average='weighted') \n",
    "            f1+=f1_score(y_test, y_pred, labels=labels,average='weighted') \n",
    "            #print('KNN')\n",
    "            #print(classification_report(y_test, y_pred))\n",
    "            #print('Decision Tree --------------')\n",
    "\n",
    "            cl2.fit(X_train, y_train)    \n",
    "            y_pred=cl2.predict(X_test)\n",
    "            p2+=precision_score(y_test, y_pred, labels=labels,average='weighted') \n",
    "            r2+=recall_score(y_test, y_pred, labels=labels,average='weighted') \n",
    "            f2+=f1_score(y_test, y_pred, labels=labels,average='weighted') \n",
    "            #print('Decision Tree')\n",
    "            #print(classification_report(y_test, y_pred))\n",
    "            #print (sorted(zip(map(lambda x: round(x, 4), cl2.feature_importances_), list(xf.columns)), \n",
    "            #         reverse=False))\n",
    "\n",
    "            cl3.fit(X_train, y_train)\n",
    "            y_pred=cl3.predict(X_test)\n",
    "            ps=precision_score(y_test, y_pred, labels=labels,average='weighted') \n",
    "            pacum.append(ps)\n",
    "            p3+=ps \n",
    "            r3+=recall_score(y_test, y_pred, labels=labels,average='weighted') \n",
    "            f3+=f1_score(y_test, y_pred, labels=labels,average='weighted') \n",
    "            #print('Random')\n",
    "            #print(cl3.feature_importances_)\n",
    "            #print (sorted(zip(map(lambda x: round(x, 4), cl3.feature_importances_), list(xf.columns)), \n",
    "            #         reverse=False))\n",
    "            #print(classification_report(y_test, y_pred))\n",
    "\n",
    "            #cl4.fit(X_train, y_train)        \n",
    "            #y_pred=cl4.predict(X_test)    \n",
    "            #p4+=precision_score(y_test, y_pred, average='weighted') \n",
    "            #r4+=recall_score(y_test, y_pred, average='weighted') \n",
    "            #f4+=f1_score(y_test, y_pred, average='weighted') \n",
    "            #print('Logistic')\n",
    "            #print(classification_report(y_test, y_pred))\n",
    "\n",
    "            cl5.fit(X_train, y_train)\n",
    "            y_pred=cl5.predict(X_test)\n",
    "            p5+=precision_score(y_test, y_pred, labels=labels,average='weighted') \n",
    "            r5+=recall_score(y_test, y_pred, labels=labels,average='weighted') \n",
    "            f5+=f1_score(y_test, y_pred, labels=labels,average='weighted') \n",
    "            #print('Naive Bayes')\n",
    "            #print(classification_report(y_test, y_pred))\n",
    "\n",
    "\n",
    "            cont+=1\n",
    "            #print('Set y: ', [ip for ip in y_test if ip==1])\n",
    "    print('***  KNN  ***')\n",
    "    print('Precision: ', p1/cont)\n",
    "    print('Recall: ', r1/cont)\n",
    "    print('F1-score: ', f1/cont)\n",
    "    print('***  Decision Tree  ***')\n",
    "    print('Precision: ', p2/cont)\n",
    "    print('Recall: ', r2/cont)\n",
    "    print('F1-score: ', f1/cont)\n",
    "    print('***  Random Forest  ***')\n",
    "    print('Precision: ', p3/cont)\n",
    "    print('Recall: ', r3/cont)\n",
    "    print('F1-score: ', f3/cont)\n",
    "    print('***  Naive Bayes  ***')\n",
    "    print('Precision: ', p5/cont)\n",
    "    print('Recall: ', r5/cont)\n",
    "    print('F1-score: ', f5/cont)\n",
    "    #print(pacum)\n",
    "    #print('***  SVC  ***')\n",
    "    #print('Precision: ', p4/cont)\n",
    "    #print('Recall: ', r4/cont)\n",
    "    #print('F1-score: ', f4/cont)\n",
    "    #print(classification_report(y_test, y_pred))\n",
    "\n"
   ]
  },
  {
   "cell_type": "markdown",
   "metadata": {
    "colab_type": "text",
    "id": "c9pmQaEDd0x1"
   },
   "source": [
    "## Classification  (Cross Validation)"
   ]
  },
  {
   "cell_type": "markdown",
   "metadata": {
    "colab_type": "text",
    "id": "WKz48k4GeeA9"
   },
   "source": [
    "* (X,Y): initial data \n",
    "* (X1,Y1): initial data without outliers \n",
    "* (X2,Y2): initial data + \"contextual triples\" updated \n",
    "* (X3,Y3): initial data + Correct triples (existent in Wikidata)\n",
    "* (X3,Y3): initial data + Correct triples (existent in Wikidata) without outliers"
   ]
  },
  {
   "cell_type": "markdown",
   "metadata": {
    "colab_type": "text",
    "id": "BGOZgZ-yd3bD"
   },
   "source": [
    "**Initial data**"
   ]
  },
  {
   "cell_type": "code",
   "execution_count": 19,
   "metadata": {
    "colab": {
     "base_uri": "https://localhost:8080/",
     "height": 305
    },
    "colab_type": "code",
    "id": "AxBYYiaYdyyo",
    "outputId": "9a28efa8-7c56-4c87-acac-60831c69f24e"
   },
   "outputs": [
    {
     "name": "stdout",
     "output_type": "stream",
     "text": [
      "***  KNN  ***\n",
      "Precision:  0.6551935365491673\n",
      "Recall:  0.656140350877193\n",
      "F1-score:  0.6548742502488043\n",
      "***  Decision Tree  ***\n",
      "Precision:  0.7211711382136509\n",
      "Recall:  0.7163742690058481\n",
      "F1-score:  0.6548742502488043\n",
      "***  Random Forest  ***\n",
      "Precision:  0.7755301865708683\n",
      "Recall:  0.7859649122807018\n",
      "F1-score:  0.7691567026538851\n",
      "***  Naive Bayes  ***\n",
      "Precision:  0.6909754378244173\n",
      "Recall:  0.44385964912280695\n",
      "F1-score:  0.42841309634615393\n"
     ]
    }
   ],
   "source": [
    "classify(X,Y)"
   ]
  },
  {
   "cell_type": "markdown",
   "metadata": {
    "colab_type": "text",
    "id": "eAVeEallkJlN"
   },
   "source": [
    "** Classification initial data without outliers**"
   ]
  },
  {
   "cell_type": "code",
   "execution_count": 20,
   "metadata": {
    "colab": {
     "base_uri": "https://localhost:8080/",
     "height": 305
    },
    "colab_type": "code",
    "id": "4AiEUCEQkOWK",
    "outputId": "feb67702-0fe4-43ab-bd70-624b196a268b"
   },
   "outputs": [
    {
     "name": "stdout",
     "output_type": "stream",
     "text": [
      "***  KNN  ***\n",
      "Precision:  0.6766616599004626\n",
      "Recall:  0.6725190839694657\n",
      "F1-score:  0.6733396323575936\n",
      "***  Decision Tree  ***\n",
      "Precision:  0.7501867432470954\n",
      "Recall:  0.750381679389313\n",
      "F1-score:  0.6733396323575936\n",
      "***  Random Forest  ***\n",
      "Precision:  0.7768892039067241\n",
      "Recall:  0.783969465648855\n",
      "F1-score:  0.7676390447566449\n",
      "***  Naive Bayes  ***\n",
      "Precision:  0.6650322977568639\n",
      "Recall:  0.7015267175572519\n",
      "F1-score:  0.6643410023206796\n"
     ]
    }
   ],
   "source": [
    "classify(X1,Y1)"
   ]
  },
  {
   "cell_type": "markdown",
   "metadata": {
    "colab_type": "text",
    "id": "lyWCCnvZfhqQ"
   },
   "source": [
    "** Classification data + \"contextual\" triples** "
   ]
  },
  {
   "cell_type": "code",
   "execution_count": 21,
   "metadata": {
    "colab": {
     "base_uri": "https://localhost:8080/",
     "height": 305
    },
    "colab_type": "code",
    "id": "AH-WZOkDfnL0",
    "outputId": "18566fe1-4454-4222-e361-62039bee406c"
   },
   "outputs": [
    {
     "name": "stdout",
     "output_type": "stream",
     "text": [
      "***  KNN  ***\n",
      "Precision:  0.626786641606685\n",
      "Recall:  0.6255555555555554\n",
      "F1-score:  0.6256285229470496\n",
      "***  Decision Tree  ***\n",
      "Precision:  0.7275482912978802\n",
      "Recall:  0.7261111111111112\n",
      "F1-score:  0.6256285229470496\n",
      "***  Random Forest  ***\n",
      "Precision:  0.7669745676793254\n",
      "Recall:  0.7883333333333332\n",
      "F1-score:  0.7632502071677354\n",
      "***  Naive Bayes  ***\n",
      "Precision:  0.6491652768597546\n",
      "Recall:  0.4477777777777779\n",
      "F1-score:  0.42627619079769197\n"
     ]
    }
   ],
   "source": [
    "classify(X2,Y2)"
   ]
  },
  {
   "cell_type": "markdown",
   "metadata": {
    "colab_type": "text",
    "id": "Q0YQfOh1kEmK"
   },
   "source": [
    "The results improve removing outiliers, with a small difference of 0.03%.  "
   ]
  },
  {
   "cell_type": "markdown",
   "metadata": {
    "colab_type": "text",
    "id": "IB1jZZZFe2km"
   },
   "source": [
    "## Testing best model over new data (outliers)"
   ]
  },
  {
   "cell_type": "code",
   "execution_count": 22,
   "metadata": {
    "colab": {
     "base_uri": "https://localhost:8080/",
     "height": 449
    },
    "colab_type": "code",
    "id": "tEe_dU8je2ko",
    "outputId": "fdd61163-6590-4453-9230-5cf4d98e2c96"
   },
   "outputs": [
    {
     "name": "stdout",
     "output_type": "stream",
     "text": [
      "Outliers:  197\n",
      "              precision    recall  f1-score   support\n",
      "\n",
      "           1       0.27      1.00      0.43        50\n",
      "           2       1.00      0.08      0.15       147\n",
      "\n",
      "   micro avg       0.31      0.31      0.31       197\n",
      "   macro avg       0.64      0.54      0.29       197\n",
      "weighted avg       0.81      0.31      0.22       197\n",
      "\n",
      "OUTLIERS\n",
      "[2 2 1 2 2 2 1 2 1 1 1 1 1 1 2 2 2 2 2 2 2 2 2 2 2 2 1 2 1 2 2 2 1 2 2 1 2\n",
      " 2 2 2 2 2 2 2 2 2 1 1 2 2 1 2 2 2 2 2 2 2 2 2 2 2 1 2 2 2 2 2 1 2 1 2 2 2\n",
      " 1 2 1 2 2 2 2 1 2 2 1 1 2 2 2 2 2 2 1 1 1 2 1 1 2 1 2 2 2 2 2 2 1 2 2 1 2\n",
      " 2 1 1 2 2 2 2 2 2 2 2 2 1 2 1 2 2 2 1 2 2 1 2 2 2 2 2 2 2 2 2 1 2 1 1 2 2\n",
      " 2 2 2 2 2 2 2 1 2 2 1 2 2 1 2 2 2 2 1 2 2 2 2 1 1 1 1 2 1 2 2 2 2 2 2 2 2\n",
      " 2 2 2 2 2 2 2 2 2 2 1 2]\n",
      "PREDICTED\n",
      "[1 1 1 1 1 1 1 1 1 1 1 1 1 1 1 2 2 1 1 1 1 1 1 1 1 1 1 1 1 2 1 1 1 1 2 1 1\n",
      " 1 1 1 1 1 1 1 1 1 1 1 2 1 1 1 1 1 1 1 1 1 1 1 1 2 1 1 1 1 1 1 1 1 1 1 1 1\n",
      " 1 1 1 1 1 2 1 1 2 1 1 1 1 1 1 1 1 1 1 1 1 1 1 1 1 1 1 1 1 1 1 1 1 1 1 1 1\n",
      " 1 1 1 1 1 1 1 1 1 1 2 1 1 1 1 1 1 1 1 1 1 1 1 1 1 1 1 1 1 1 1 1 1 1 1 2 1\n",
      " 1 1 1 1 1 1 1 1 1 1 1 1 1 1 1 1 1 1 1 1 1 1 1 1 1 1 1 1 1 2 1 1 1 2 1 1 1\n",
      " 1 1 1 1 1 1 1 1 1 1 1 1]\n"
     ]
    }
   ],
   "source": [
    "setAll=set(xf.index.tolist())\n",
    "setFiltered=setAll-setToTrain\n",
    "outliers1=xf[xf.index.isin(list(setFiltered))]\n",
    "print(\"Outliers: \", outliers1.shape[0])\n",
    "RF=  RandomForestClassifier(max_depth=3,random_state=101, max_features=None, min_samples_leaf=3)\n",
    "RF.fit(X1,Y1)\n",
    "X_test1=outliers1.iloc[:,:-1].values\n",
    "y_test1=outliers1['VALIDATION'].values\n",
    "y_pred1=RF.predict(X_test1)\n",
    "print(classification_report(y_test1, y_pred1))\n",
    "print(\"OUTLIERS\")\n",
    "print(y_test1)\n",
    "print(\"PREDICTED\")\n",
    "print(y_pred1)"
   ]
  },
  {
   "cell_type": "markdown",
   "metadata": {
    "colab_type": "text",
    "id": "-B3Fsh_Je2kt"
   },
   "source": [
    "**0.27% precision for class 1 applying Random Forest and just 0.31% in average recall is not enough**"
   ]
  },
  {
   "cell_type": "code",
   "execution_count": 23,
   "metadata": {
    "colab": {
     "base_uri": "https://localhost:8080/",
     "height": 199
    },
    "colab_type": "code",
    "id": "V8UBKioDe2kv",
    "outputId": "2c3741a6-fb82-44d6-ba78-71dcd989da3f"
   },
   "outputs": [
    {
     "data": {
      "text/html": [
       "<div>\n",
       "<style scoped>\n",
       "    .dataframe tbody tr th:only-of-type {\n",
       "        vertical-align: middle;\n",
       "    }\n",
       "\n",
       "    .dataframe tbody tr th {\n",
       "        vertical-align: top;\n",
       "    }\n",
       "\n",
       "    .dataframe thead th {\n",
       "        text-align: right;\n",
       "    }\n",
       "</style>\n",
       "<table border=\"1\" class=\"dataframe\">\n",
       "  <thead>\n",
       "    <tr style=\"text-align: right;\">\n",
       "      <th></th>\n",
       "      <th>47</th>\n",
       "      <th>48</th>\n",
       "      <th>49</th>\n",
       "      <th>50</th>\n",
       "      <th>61</th>\n",
       "      <th>62</th>\n",
       "      <th>TABLE</th>\n",
       "      <th>CELL</th>\n",
       "      <th>NAME_COL1</th>\n",
       "      <th>NAME_COL2</th>\n",
       "      <th>ENTITY_COL1</th>\n",
       "      <th>PREDICATE</th>\n",
       "      <th>ENTITY_COL2</th>\n",
       "    </tr>\n",
       "  </thead>\n",
       "  <tbody>\n",
       "    <tr>\n",
       "      <th>55</th>\n",
       "      <td>58817</td>\n",
       "      <td>6</td>\n",
       "      <td>0</td>\n",
       "      <td>58817</td>\n",
       "      <td>0.602756</td>\n",
       "      <td>0.533935</td>\n",
       "      <td>560380.10</td>\n",
       "      <td>3:3:2</td>\n",
       "      <td>player@3</td>\n",
       "      <td>posit@3</td>\n",
       "      <td>https://en.wikipedia.org/wiki/Vladimir_Nikolov...</td>\n",
       "      <td>P413 :position played on team / speciality@en</td>\n",
       "      <td>https://en.wikipedia.org/wiki/Midfielder :Q193592</td>\n",
       "    </tr>\n",
       "    <tr>\n",
       "      <th>68</th>\n",
       "      <td>372150</td>\n",
       "      <td>8</td>\n",
       "      <td>1</td>\n",
       "      <td>17465</td>\n",
       "      <td>0.559276</td>\n",
       "      <td>0.477559</td>\n",
       "      <td>804035.2</td>\n",
       "      <td>13:3:1</td>\n",
       "      <td>player@3</td>\n",
       "      <td>spancol@4</td>\n",
       "      <td>https://en.wikipedia.org/wiki/Kim_Young-wook :...</td>\n",
       "      <td>P27 :country of citizenship@en</td>\n",
       "      <td>https://en.wikipedia.org/wiki/South_Korea :Q884</td>\n",
       "    </tr>\n",
       "  </tbody>\n",
       "</table>\n",
       "</div>"
      ],
      "text/plain": [
       "        47  48  49     50        61        62      TABLE    CELL NAME_COL1  \\\n",
       "55   58817   6   0  58817  0.602756  0.533935  560380.10   3:3:2  player@3   \n",
       "68  372150   8   1  17465  0.559276  0.477559   804035.2  13:3:1  player@3   \n",
       "\n",
       "    NAME_COL2                                        ENTITY_COL1  \\\n",
       "55    posit@3  https://en.wikipedia.org/wiki/Vladimir_Nikolov...   \n",
       "68  spancol@4  https://en.wikipedia.org/wiki/Kim_Young-wook :...   \n",
       "\n",
       "                                        PREDICATE  \\\n",
       "55  P413 :position played on team / speciality@en   \n",
       "68                 P27 :country of citizenship@en   \n",
       "\n",
       "                                          ENTITY_COL2  \n",
       "55  https://en.wikipedia.org/wiki/Midfielder :Q193592  \n",
       "68    https://en.wikipedia.org/wiki/South_Korea :Q884  "
      ]
     },
     "execution_count": 23,
     "metadata": {},
     "output_type": "execute_result"
    }
   ],
   "source": [
    "# OUTLIERS\n",
    "data[data.index.isin(outliers1[outliers1['VALIDATION']==1].index.tolist())][['47','48','49','50','61','62','TABLE','CELL','NAME_COL1','NAME_COL2','ENTITY_COL1','PREDICATE','ENTITY_COL2']].head(2)"
   ]
  },
  {
   "cell_type": "markdown",
   "metadata": {
    "colab_type": "text",
    "id": "CV_Lqskti_Db"
   },
   "source": [
    "#DATA WITHOUT OUTLIERS"
   ]
  },
  {
   "cell_type": "markdown",
   "metadata": {
    "colab_type": "text",
    "id": "HoogMfrle2k1"
   },
   "source": [
    "### Applying Stochastic Gradient Descent Classifier for getting thresholds"
   ]
  },
  {
   "cell_type": "code",
   "execution_count": 24,
   "metadata": {
    "colab": {
     "base_uri": "https://localhost:8080/",
     "height": 235
    },
    "colab_type": "code",
    "id": "cG9P6D5ge2k2",
    "outputId": "6763deba-1ea6-4e34-f53d-253f95675b15"
   },
   "outputs": [
    {
     "name": "stdout",
     "output_type": "stream",
     "text": [
      "              precision    recall  f1-score   support\n",
      "\n",
      "           1       0.00      0.00      0.00        50\n",
      "           2       0.75      1.00      0.85       147\n",
      "\n",
      "   micro avg       0.75      0.75      0.75       197\n",
      "   macro avg       0.37      0.50      0.43       197\n",
      "weighted avg       0.56      0.75      0.64       197\n",
      "\n"
     ]
    },
    {
     "name": "stderr",
     "output_type": "stream",
     "text": [
      "/home/jhomara/.local/lib/python3.5/site-packages/sklearn/metrics/classification.py:1143: UndefinedMetricWarning: Precision and F-score are ill-defined and being set to 0.0 in labels with no predicted samples.\n",
      "  'precision', 'predicted', average, warn_for)\n"
     ]
    }
   ],
   "source": [
    "from sklearn.linear_model import SGDClassifier\n",
    "sgd_clf=SGDClassifier(random_state=42)\n",
    "sgd_clf.fit(X1,Y1)\n",
    "ys_pred=sgd_clf.predict(X_test1)\n",
    "print(classification_report(y_test1, ys_pred))"
   ]
  },
  {
   "cell_type": "code",
   "execution_count": 25,
   "metadata": {
    "colab": {},
    "colab_type": "code",
    "id": "CAlKteYAe2k6"
   },
   "outputs": [],
   "source": [
    "#y_scores=sgd_clf.decision_function(X_test)\n",
    "from sklearn.model_selection import cross_val_predict\n",
    "from sklearn.metrics import precision_recall_curve\n",
    "\n",
    "\n",
    "def plot_precision_recall_vs_threshold(fig, precisions, recalls, thresholds):\n",
    "    fig.plot(thresholds, precisions[:-1], \"b-\", label=\"Precision\")\n",
    "    fig.plot(thresholds, recalls[:-1], \"g--\", label=\"Recall\")\n",
    "    fig.set_xlabel(\"Threshold\")\n",
    "    fig.legend(loc=\"center left\")\n",
    "    fig.set_ylim([0,1])\n"
   ]
  },
  {
   "cell_type": "markdown",
   "metadata": {
    "colab_type": "text",
    "id": "1PBQT92fhsv8"
   },
   "source": [
    "### **Precision vs Recall Random SGD**"
   ]
  },
  {
   "cell_type": "code",
   "execution_count": 26,
   "metadata": {
    "colab": {
     "base_uri": "https://localhost:8080/",
     "height": 403
    },
    "colab_type": "code",
    "id": "93Rdixk-hnsu",
    "outputId": "85cf2abe-6c71-40e3-a601-a3e7f45ce884"
   },
   "outputs": [
    {
     "data": {
      "image/png": "[encoded data removed]",
      "text/plain": [
       "<Figure size 1080x432 with 2 Axes>"
      ]
     },
     "metadata": {},
     "output_type": "display_data"
    }
   ],
   "source": [
    "f, (ax1,ax2)=plt.subplots(1,2)\n",
    "y_scores1=cross_val_predict(sgd_clf, X1, Y1, cv=3, method=\"decision_function\")\n",
    "precisions, recalls, thresholds = precision_recall_curve(Y1,y_scores1, pos_label=1)\n",
    "plot_precision_recall_vs_threshold(ax1, precisions, recalls, thresholds)\n",
    "ax1.set_title(\"Correct triples\")\n",
    "precisions, recalls, thresholds = precision_recall_curve(Y1,y_scores1, pos_label=2)\n",
    "plot_precision_recall_vs_threshold(ax2, precisions, recalls, thresholds)\n",
    "ax2.set_title(\"Incorrect triples\")\n",
    "plt.show()"
   ]
  },
  {
   "cell_type": "markdown",
   "metadata": {
    "colab_type": "text",
    "id": "XF3ktHQVe2k9"
   },
   "source": [
    "### Precision vs Recall Random Forest "
   ]
  },
  {
   "cell_type": "code",
   "execution_count": 27,
   "metadata": {
    "colab": {
     "base_uri": "https://localhost:8080/",
     "height": 403
    },
    "colab_type": "code",
    "id": "rCIkwCR6e2k_",
    "outputId": "49a5c737-fb70-4c5e-d8c7-6426d8616c97"
   },
   "outputs": [
    {
     "data": {
      "image/png": "[encoded data removed]",
      "text/plain": [
       "<Figure size 1080x432 with 2 Axes>"
      ]
     },
     "metadata": {},
     "output_type": "display_data"
    }
   ],
   "source": [
    "from sklearn.model_selection import train_test_split\n",
    "\n",
    "f, (ax1,ax2)=plt.subplots(1,2)\n",
    "RF=RandomForestClassifier(max_depth=3,random_state=101, max_features=None, min_samples_leaf=3)\n",
    "X_train1, X_test1, y_train1, y_test1 = train_test_split(X1, Y1, test_size=0.2,random_state=0)\n",
    "RF.fit(X_train1, y_train1)\n",
    "y_scores1=RF.predict_proba(X_test1)\n",
    "\n",
    "precisions, recalls, thresholds = precision_recall_curve(y_test1,y_scores1[:,0], pos_label=1)\n",
    "plot_precision_recall_vs_threshold(ax1, precisions, recalls, thresholds)\n",
    "ax1.set_title(\"Correct triples\")\n",
    "precisions, recalls, thresholds = precision_recall_curve(y_test1,y_scores1[:,1], pos_label=2)\n",
    "plot_precision_recall_vs_threshold(ax2, precisions, recalls, thresholds)\n",
    "ax2.set_title(\"Incorrect triples\")\n",
    "plt.show()"
   ]
  },
  {
   "cell_type": "markdown",
   "metadata": {
    "colab_type": "text",
    "id": "6x3WCod5e2lD"
   },
   "source": [
    "### ROC (Receiver operating characteristic) True Positive Rate vs False Positive Rate (TPR vs FPR)"
   ]
  },
  {
   "cell_type": "code",
   "execution_count": 28,
   "metadata": {
    "colab": {},
    "colab_type": "code",
    "id": "Q27BMdv7e2lF"
   },
   "outputs": [],
   "source": [
    "from sklearn.metrics import roc_curve, auc\n",
    "def probability_analysis(fig, X,Y, X_test=None, y_test=None, label=1):\n",
    "    RF=RandomForestClassifier(max_depth=3,random_state=101, max_features=None, min_samples_leaf=3)\n",
    "    if X_test is not None:\n",
    "        X_train=X\n",
    "        y_train=Y\n",
    "        if label==1:\n",
    "            y_score = RF.fit(X_train, y_train).predict_proba(X_test)[:, 0]\n",
    "        else:\n",
    "            y_score = RF.fit(X_train, y_train).predict_proba(X_test)[:, 1]\n",
    "    else:\n",
    "        X_train, X_test, y_train, y_test = train_test_split(X, Y, test_size=0.2,\n",
    "                                                    random_state=0)\n",
    "        if label==1:\n",
    "            y_score = RF.fit(X_train, y_train).predict_proba(X_test)[:, 0]\n",
    "        else:\n",
    "            y_score = RF.fit(X_train, y_train).predict_proba(X_test)[:, 1]\n",
    "        \n",
    "    fpr = dict()\n",
    "    tpr = dict()\n",
    "    roc_auc = dict()\n",
    "    #labels=[1,2]\n",
    "    th=dict()\n",
    "    #for i in labels:\n",
    "    fpr[label], tpr[label], th[label] = roc_curve(y_test, y_score,  pos_label=label)\n",
    "    roc_auc[label] = auc(fpr[label], tpr[label])\n",
    "    print(roc_auc)\n",
    "    \n",
    "    # Compute micro-average ROC curve and ROC area\n",
    "    fpr[\"micro\"], tpr[\"micro\"], _ = roc_curve(y_test.ravel(), y_score.ravel(), pos_label=label)\n",
    "    roc_auc[\"micro\"] = auc(fpr[\"micro\"], tpr[\"micro\"])\n",
    "    print(roc_auc)\n",
    "    plt.figure()\n",
    "    lw = 2\n",
    "    fig.plot(fpr[label], tpr[label], color='darkorange',\n",
    "             lw=lw, label='ROC curve (area = %0.2f)' % roc_auc[label])\n",
    "    fig.plot([0, 1], [0, 1], color='navy', lw=lw, linestyle='--')\n",
    "    fig.set_xlim([0.0, 1.0])\n",
    "    fig.set_ylim([0.0, 1.05])\n",
    "    fig.set_xlabel('False Positive Rate')\n",
    "    fig.set_ylabel('True Positive Rate')\n",
    "    fig.set_title('Receiver operating characteristic example - Random Forest')\n",
    "    fig.legend(loc=\"lower right\")"
   ]
  },
  {
   "cell_type": "code",
   "execution_count": 29,
   "metadata": {
    "colab": {
     "base_uri": "https://localhost:8080/",
     "height": 511
    },
    "colab_type": "code",
    "id": "_uUIpaSke2lI",
    "outputId": "1c8c7f61-9a27-41e1-8897-9cc528c382eb"
   },
   "outputs": [
    {
     "name": "stdout",
     "output_type": "stream",
     "text": [
      "{1: 0.7994884910485933}\n",
      "{1: 0.7994884910485933, 'micro': 0.7994884910485933}\n",
      "{2: 0.7994884910485933}\n",
      "{2: 0.7994884910485933, 'micro': 0.7994884910485933}\n"
     ]
    },
    {
     "data": {
      "image/png": "[encoded data removed]",
      "text/plain": [
       "<Figure size 1080x432 with 2 Axes>"
      ]
     },
     "metadata": {},
     "output_type": "display_data"
    },
    {
     "data": {
      "text/plain": [
       "<Figure size 1080x432 with 0 Axes>"
      ]
     },
     "metadata": {},
     "output_type": "display_data"
    },
    {
     "data": {
      "text/plain": [
       "<Figure size 1080x432 with 0 Axes>"
      ]
     },
     "metadata": {},
     "output_type": "display_data"
    }
   ],
   "source": [
    "f, (ax1,ax2)=plt.subplots(1,2)\n",
    "probability_analysis(ax1,X1,Y1, label=1)\n",
    "ax1.set_title(\"Correct triples\")\n",
    "probability_analysis(ax2,X1,Y1, label=2)\n",
    "ax2.set_title(\"Incorrect triples\")\n",
    "plt.show()"
   ]
  },
  {
   "cell_type": "markdown",
   "metadata": {
    "colab_type": "text",
    "id": "h1Rw69Dje2lL"
   },
   "source": [
    "** The figure shows that algorithm can differentiate both classes with 0.80% probability, if we increase the threshold for more positive values (TRP), we could get more false positives (Decrease the specificity FPR). **"
   ]
  },
  {
   "cell_type": "markdown",
   "metadata": {
    "colab_type": "text",
    "id": "IevSx9oxe2lL"
   },
   "source": [
    "### Evaluating model with additional features:"
   ]
  },
  {
   "cell_type": "code",
   "execution_count": 30,
   "metadata": {
    "colab": {
     "base_uri": "https://localhost:8080/",
     "height": 305
    },
    "colab_type": "code",
    "id": "gpubUd1Je2lO",
    "outputId": "6fae1a35-0eb9-4f9a-9454-54bcec2c34a8"
   },
   "outputs": [
    {
     "name": "stdout",
     "output_type": "stream",
     "text": [
      "***  KNN  ***\n",
      "Precision:  0.6801891526394396\n",
      "Recall:  0.6656488549618321\n",
      "F1-score:  0.6706386868197199\n",
      "***  Decision Tree  ***\n",
      "Precision:  0.7036921489770468\n",
      "Recall:  0.6923664122137404\n",
      "F1-score:  0.6706386868197199\n",
      "***  Random Forest  ***\n",
      "Precision:  0.7710344979715046\n",
      "Recall:  0.7809160305343511\n",
      "F1-score:  0.769494388169708\n",
      "***  Naive Bayes  ***\n",
      "Precision:  0.6729901621015347\n",
      "Recall:  0.7068702290076335\n",
      "F1-score:  0.6681467876974924\n"
     ]
    }
   ],
   "source": [
    "Xt=dt.copy()\n",
    "del Xt[31]\n",
    "del Xt[32]\n",
    "del Xt[33]\n",
    "del Xt[34]\n",
    "del Xt[35]\n",
    "del Xt[36]\n",
    "del Xt[61]\n",
    "del Xt[62]\n",
    "Xt=Xt.iloc[:,:-1].values\n",
    "Yt=dt['VALIDATION'].values\n",
    "classify(Xt,Yt)"
   ]
  },
  {
   "cell_type": "code",
   "execution_count": 31,
   "metadata": {
    "colab": {
     "base_uri": "https://localhost:8080/",
     "height": 305
    },
    "colab_type": "code",
    "id": "W5N-ILnBnmSN",
    "outputId": "060180c7-e02a-4afc-8641-63113b4fba00"
   },
   "outputs": [
    {
     "ename": "ValueError",
     "evalue": "max_features must be in (0, n_features]",
     "output_type": "error",
     "traceback": [
      "\u001b[0;31m---------------------------------------------------------------------------\u001b[0m",
      "\u001b[0;31mValueError\u001b[0m                                Traceback (most recent call last)",
      "\u001b[0;32m<ipython-input-31-0947849fea5f>\u001b[0m in \u001b[0;36m<module>\u001b[0;34m()\u001b[0m\n\u001b[1;32m      2\u001b[0m \u001b[0mXt\u001b[0m\u001b[0;34m=\u001b[0m\u001b[0mXt\u001b[0m\u001b[0;34m[\u001b[0m\u001b[0;34m[\u001b[0m\u001b[0;36m32\u001b[0m\u001b[0;34m,\u001b[0m\u001b[0;36m36\u001b[0m\u001b[0;34m,\u001b[0m\u001b[0;36m61\u001b[0m\u001b[0;34m,\u001b[0m\u001b[0;36m62\u001b[0m\u001b[0;34m]\u001b[0m\u001b[0;34m]\u001b[0m\u001b[0;34m.\u001b[0m\u001b[0mvalues\u001b[0m\u001b[0;34m\u001b[0m\u001b[0m\n\u001b[1;32m      3\u001b[0m \u001b[0mYt\u001b[0m\u001b[0;34m=\u001b[0m\u001b[0mdt\u001b[0m\u001b[0;34m[\u001b[0m\u001b[0;34m'VALIDATION'\u001b[0m\u001b[0;34m]\u001b[0m\u001b[0;34m.\u001b[0m\u001b[0mvalues\u001b[0m\u001b[0;34m\u001b[0m\u001b[0m\n\u001b[0;32m----> 4\u001b[0;31m \u001b[0mclassify\u001b[0m\u001b[0;34m(\u001b[0m\u001b[0mXt\u001b[0m\u001b[0;34m,\u001b[0m\u001b[0mYt\u001b[0m\u001b[0;34m)\u001b[0m\u001b[0;34m\u001b[0m\u001b[0m\n\u001b[0m",
      "\u001b[0;32m<ipython-input-18-0fe4cb11f401>\u001b[0m in \u001b[0;36mclassify\u001b[0;34m(X, Y, weighted)\u001b[0m\n\u001b[1;32m     68\u001b[0m             \u001b[0;31m#         reverse=False))\u001b[0m\u001b[0;34m\u001b[0m\u001b[0;34m\u001b[0m\u001b[0m\n\u001b[1;32m     69\u001b[0m \u001b[0;34m\u001b[0m\u001b[0m\n\u001b[0;32m---> 70\u001b[0;31m             \u001b[0mcl3\u001b[0m\u001b[0;34m.\u001b[0m\u001b[0mfit\u001b[0m\u001b[0;34m(\u001b[0m\u001b[0mX_train\u001b[0m\u001b[0;34m,\u001b[0m \u001b[0my_train\u001b[0m\u001b[0;34m)\u001b[0m\u001b[0;34m\u001b[0m\u001b[0m\n\u001b[0m\u001b[1;32m     71\u001b[0m             \u001b[0my_pred\u001b[0m\u001b[0;34m=\u001b[0m\u001b[0mcl3\u001b[0m\u001b[0;34m.\u001b[0m\u001b[0mpredict\u001b[0m\u001b[0;34m(\u001b[0m\u001b[0mX_test\u001b[0m\u001b[0;34m)\u001b[0m\u001b[0;34m\u001b[0m\u001b[0m\n\u001b[1;32m     72\u001b[0m             \u001b[0mps\u001b[0m\u001b[0;34m=\u001b[0m\u001b[0mprecision_score\u001b[0m\u001b[0;34m(\u001b[0m\u001b[0my_test\u001b[0m\u001b[0;34m,\u001b[0m \u001b[0my_pred\u001b[0m\u001b[0;34m,\u001b[0m \u001b[0mlabels\u001b[0m\u001b[0;34m=\u001b[0m\u001b[0mlabels\u001b[0m\u001b[0;34m,\u001b[0m\u001b[0maverage\u001b[0m\u001b[0;34m=\u001b[0m\u001b[0;34m'weighted'\u001b[0m\u001b[0;34m)\u001b[0m\u001b[0;34m\u001b[0m\u001b[0m\n",
      "\u001b[0;32m~/.local/lib/python3.5/site-packages/sklearn/ensemble/forest.py\u001b[0m in \u001b[0;36mfit\u001b[0;34m(self, X, y, sample_weight)\u001b[0m\n\u001b[1;32m    333\u001b[0m                     \u001b[0mt\u001b[0m\u001b[0;34m,\u001b[0m \u001b[0mself\u001b[0m\u001b[0;34m,\u001b[0m \u001b[0mX\u001b[0m\u001b[0;34m,\u001b[0m \u001b[0my\u001b[0m\u001b[0;34m,\u001b[0m \u001b[0msample_weight\u001b[0m\u001b[0;34m,\u001b[0m \u001b[0mi\u001b[0m\u001b[0;34m,\u001b[0m \u001b[0mlen\u001b[0m\u001b[0;34m(\u001b[0m\u001b[0mtrees\u001b[0m\u001b[0;34m)\u001b[0m\u001b[0;34m,\u001b[0m\u001b[0;34m\u001b[0m\u001b[0m\n\u001b[1;32m    334\u001b[0m                     verbose=self.verbose, class_weight=self.class_weight)\n\u001b[0;32m--> 335\u001b[0;31m                 for i, t in enumerate(trees))\n\u001b[0m\u001b[1;32m    336\u001b[0m \u001b[0;34m\u001b[0m\u001b[0m\n\u001b[1;32m    337\u001b[0m             \u001b[0;31m# Collect newly grown trees\u001b[0m\u001b[0;34m\u001b[0m\u001b[0;34m\u001b[0m\u001b[0m\n",
      "\u001b[0;32m~/.local/lib/python3.5/site-packages/sklearn/externals/joblib/parallel.py\u001b[0m in \u001b[0;36m__call__\u001b[0;34m(self, iterable)\u001b[0m\n\u001b[1;32m    981\u001b[0m             \u001b[0;31m# remaining jobs.\u001b[0m\u001b[0;34m\u001b[0m\u001b[0;34m\u001b[0m\u001b[0m\n\u001b[1;32m    982\u001b[0m             \u001b[0mself\u001b[0m\u001b[0;34m.\u001b[0m\u001b[0m_iterating\u001b[0m \u001b[0;34m=\u001b[0m \u001b[0;32mFalse\u001b[0m\u001b[0;34m\u001b[0m\u001b[0m\n\u001b[0;32m--> 983\u001b[0;31m             \u001b[0;32mif\u001b[0m \u001b[0mself\u001b[0m\u001b[0;34m.\u001b[0m\u001b[0mdispatch_one_batch\u001b[0m\u001b[0;34m(\u001b[0m\u001b[0miterator\u001b[0m\u001b[0;34m)\u001b[0m\u001b[0;34m:\u001b[0m\u001b[0;34m\u001b[0m\u001b[0m\n\u001b[0m\u001b[1;32m    984\u001b[0m                 \u001b[0mself\u001b[0m\u001b[0;34m.\u001b[0m\u001b[0m_iterating\u001b[0m \u001b[0;34m=\u001b[0m \u001b[0mself\u001b[0m\u001b[0;34m.\u001b[0m\u001b[0m_original_iterator\u001b[0m \u001b[0;32mis\u001b[0m \u001b[0;32mnot\u001b[0m \u001b[0;32mNone\u001b[0m\u001b[0;34m\u001b[0m\u001b[0m\n\u001b[1;32m    985\u001b[0m \u001b[0;34m\u001b[0m\u001b[0m\n",
      "\u001b[0;32m~/.local/lib/python3.5/site-packages/sklearn/externals/joblib/parallel.py\u001b[0m in \u001b[0;36mdispatch_one_batch\u001b[0;34m(self, iterator)\u001b[0m\n\u001b[1;32m    823\u001b[0m                 \u001b[0;32mreturn\u001b[0m \u001b[0;32mFalse\u001b[0m\u001b[0;34m\u001b[0m\u001b[0m\n\u001b[1;32m    824\u001b[0m             \u001b[0;32melse\u001b[0m\u001b[0;34m:\u001b[0m\u001b[0;34m\u001b[0m\u001b[0m\n\u001b[0;32m--> 825\u001b[0;31m                 \u001b[0mself\u001b[0m\u001b[0;34m.\u001b[0m\u001b[0m_dispatch\u001b[0m\u001b[0;34m(\u001b[0m\u001b[0mtasks\u001b[0m\u001b[0;34m)\u001b[0m\u001b[0;34m\u001b[0m\u001b[0m\n\u001b[0m\u001b[1;32m    826\u001b[0m                 \u001b[0;32mreturn\u001b[0m \u001b[0;32mTrue\u001b[0m\u001b[0;34m\u001b[0m\u001b[0m\n\u001b[1;32m    827\u001b[0m \u001b[0;34m\u001b[0m\u001b[0m\n",
      "\u001b[0;32m~/.local/lib/python3.5/site-packages/sklearn/externals/joblib/parallel.py\u001b[0m in \u001b[0;36m_dispatch\u001b[0;34m(self, batch)\u001b[0m\n\u001b[1;32m    780\u001b[0m         \u001b[0;32mwith\u001b[0m \u001b[0mself\u001b[0m\u001b[0;34m.\u001b[0m\u001b[0m_lock\u001b[0m\u001b[0;34m:\u001b[0m\u001b[0;34m\u001b[0m\u001b[0m\n\u001b[1;32m    781\u001b[0m             \u001b[0mjob_idx\u001b[0m \u001b[0;34m=\u001b[0m \u001b[0mlen\u001b[0m\u001b[0;34m(\u001b[0m\u001b[0mself\u001b[0m\u001b[0;34m.\u001b[0m\u001b[0m_jobs\u001b[0m\u001b[0;34m)\u001b[0m\u001b[0;34m\u001b[0m\u001b[0m\n\u001b[0;32m--> 782\u001b[0;31m             \u001b[0mjob\u001b[0m \u001b[0;34m=\u001b[0m \u001b[0mself\u001b[0m\u001b[0;34m.\u001b[0m\u001b[0m_backend\u001b[0m\u001b[0;34m.\u001b[0m\u001b[0mapply_async\u001b[0m\u001b[0;34m(\u001b[0m\u001b[0mbatch\u001b[0m\u001b[0;34m,\u001b[0m \u001b[0mcallback\u001b[0m\u001b[0;34m=\u001b[0m\u001b[0mcb\u001b[0m\u001b[0;34m)\u001b[0m\u001b[0;34m\u001b[0m\u001b[0m\n\u001b[0m\u001b[1;32m    783\u001b[0m             \u001b[0;31m# A job can complete so quickly than its callback is\u001b[0m\u001b[0;34m\u001b[0m\u001b[0;34m\u001b[0m\u001b[0m\n\u001b[1;32m    784\u001b[0m             \u001b[0;31m# called before we get here, causing self._jobs to\u001b[0m\u001b[0;34m\u001b[0m\u001b[0;34m\u001b[0m\u001b[0m\n",
      "\u001b[0;32m~/.local/lib/python3.5/site-packages/sklearn/externals/joblib/_parallel_backends.py\u001b[0m in \u001b[0;36mapply_async\u001b[0;34m(self, func, callback)\u001b[0m\n\u001b[1;32m    180\u001b[0m     \u001b[0;32mdef\u001b[0m \u001b[0mapply_async\u001b[0m\u001b[0;34m(\u001b[0m\u001b[0mself\u001b[0m\u001b[0;34m,\u001b[0m \u001b[0mfunc\u001b[0m\u001b[0;34m,\u001b[0m \u001b[0mcallback\u001b[0m\u001b[0;34m=\u001b[0m\u001b[0;32mNone\u001b[0m\u001b[0;34m)\u001b[0m\u001b[0;34m:\u001b[0m\u001b[0;34m\u001b[0m\u001b[0m\n\u001b[1;32m    181\u001b[0m         \u001b[0;34m\"\"\"Schedule a func to be run\"\"\"\u001b[0m\u001b[0;34m\u001b[0m\u001b[0m\n\u001b[0;32m--> 182\u001b[0;31m         \u001b[0mresult\u001b[0m \u001b[0;34m=\u001b[0m \u001b[0mImmediateResult\u001b[0m\u001b[0;34m(\u001b[0m\u001b[0mfunc\u001b[0m\u001b[0;34m)\u001b[0m\u001b[0;34m\u001b[0m\u001b[0m\n\u001b[0m\u001b[1;32m    183\u001b[0m         \u001b[0;32mif\u001b[0m \u001b[0mcallback\u001b[0m\u001b[0;34m:\u001b[0m\u001b[0;34m\u001b[0m\u001b[0m\n\u001b[1;32m    184\u001b[0m             \u001b[0mcallback\u001b[0m\u001b[0;34m(\u001b[0m\u001b[0mresult\u001b[0m\u001b[0;34m)\u001b[0m\u001b[0;34m\u001b[0m\u001b[0m\n",
      "\u001b[0;32m~/.local/lib/python3.5/site-packages/sklearn/externals/joblib/_parallel_backends.py\u001b[0m in \u001b[0;36m__init__\u001b[0;34m(self, batch)\u001b[0m\n\u001b[1;32m    543\u001b[0m         \u001b[0;31m# Don't delay the application, to avoid keeping the input\u001b[0m\u001b[0;34m\u001b[0m\u001b[0;34m\u001b[0m\u001b[0m\n\u001b[1;32m    544\u001b[0m         \u001b[0;31m# arguments in memory\u001b[0m\u001b[0;34m\u001b[0m\u001b[0;34m\u001b[0m\u001b[0m\n\u001b[0;32m--> 545\u001b[0;31m         \u001b[0mself\u001b[0m\u001b[0;34m.\u001b[0m\u001b[0mresults\u001b[0m \u001b[0;34m=\u001b[0m \u001b[0mbatch\u001b[0m\u001b[0;34m(\u001b[0m\u001b[0;34m)\u001b[0m\u001b[0;34m\u001b[0m\u001b[0m\n\u001b[0m\u001b[1;32m    546\u001b[0m \u001b[0;34m\u001b[0m\u001b[0m\n\u001b[1;32m    547\u001b[0m     \u001b[0;32mdef\u001b[0m \u001b[0mget\u001b[0m\u001b[0;34m(\u001b[0m\u001b[0mself\u001b[0m\u001b[0;34m)\u001b[0m\u001b[0;34m:\u001b[0m\u001b[0;34m\u001b[0m\u001b[0m\n",
      "\u001b[0;32m~/.local/lib/python3.5/site-packages/sklearn/externals/joblib/parallel.py\u001b[0m in \u001b[0;36m__call__\u001b[0;34m(self)\u001b[0m\n\u001b[1;32m    259\u001b[0m         \u001b[0;32mwith\u001b[0m \u001b[0mparallel_backend\u001b[0m\u001b[0;34m(\u001b[0m\u001b[0mself\u001b[0m\u001b[0;34m.\u001b[0m\u001b[0m_backend\u001b[0m\u001b[0;34m)\u001b[0m\u001b[0;34m:\u001b[0m\u001b[0;34m\u001b[0m\u001b[0m\n\u001b[1;32m    260\u001b[0m             return [func(*args, **kwargs)\n\u001b[0;32m--> 261\u001b[0;31m                     for func, args, kwargs in self.items]\n\u001b[0m\u001b[1;32m    262\u001b[0m \u001b[0;34m\u001b[0m\u001b[0m\n\u001b[1;32m    263\u001b[0m     \u001b[0;32mdef\u001b[0m \u001b[0m__len__\u001b[0m\u001b[0;34m(\u001b[0m\u001b[0mself\u001b[0m\u001b[0;34m)\u001b[0m\u001b[0;34m:\u001b[0m\u001b[0;34m\u001b[0m\u001b[0m\n",
      "\u001b[0;32m~/.local/lib/python3.5/site-packages/sklearn/externals/joblib/parallel.py\u001b[0m in \u001b[0;36m<listcomp>\u001b[0;34m(.0)\u001b[0m\n\u001b[1;32m    259\u001b[0m         \u001b[0;32mwith\u001b[0m \u001b[0mparallel_backend\u001b[0m\u001b[0;34m(\u001b[0m\u001b[0mself\u001b[0m\u001b[0;34m.\u001b[0m\u001b[0m_backend\u001b[0m\u001b[0;34m)\u001b[0m\u001b[0;34m:\u001b[0m\u001b[0;34m\u001b[0m\u001b[0m\n\u001b[1;32m    260\u001b[0m             return [func(*args, **kwargs)\n\u001b[0;32m--> 261\u001b[0;31m                     for func, args, kwargs in self.items]\n\u001b[0m\u001b[1;32m    262\u001b[0m \u001b[0;34m\u001b[0m\u001b[0m\n\u001b[1;32m    263\u001b[0m     \u001b[0;32mdef\u001b[0m \u001b[0m__len__\u001b[0m\u001b[0;34m(\u001b[0m\u001b[0mself\u001b[0m\u001b[0;34m)\u001b[0m\u001b[0;34m:\u001b[0m\u001b[0;34m\u001b[0m\u001b[0m\n",
      "\u001b[0;32m~/.local/lib/python3.5/site-packages/sklearn/ensemble/forest.py\u001b[0m in \u001b[0;36m_parallel_build_trees\u001b[0;34m(tree, forest, X, y, sample_weight, tree_idx, n_trees, verbose, class_weight)\u001b[0m\n\u001b[1;32m    119\u001b[0m             \u001b[0mcurr_sample_weight\u001b[0m \u001b[0;34m*=\u001b[0m \u001b[0mcompute_sample_weight\u001b[0m\u001b[0;34m(\u001b[0m\u001b[0;34m'balanced'\u001b[0m\u001b[0;34m,\u001b[0m \u001b[0my\u001b[0m\u001b[0;34m,\u001b[0m \u001b[0mindices\u001b[0m\u001b[0;34m)\u001b[0m\u001b[0;34m\u001b[0m\u001b[0m\n\u001b[1;32m    120\u001b[0m \u001b[0;34m\u001b[0m\u001b[0m\n\u001b[0;32m--> 121\u001b[0;31m         \u001b[0mtree\u001b[0m\u001b[0;34m.\u001b[0m\u001b[0mfit\u001b[0m\u001b[0;34m(\u001b[0m\u001b[0mX\u001b[0m\u001b[0;34m,\u001b[0m \u001b[0my\u001b[0m\u001b[0;34m,\u001b[0m \u001b[0msample_weight\u001b[0m\u001b[0;34m=\u001b[0m\u001b[0mcurr_sample_weight\u001b[0m\u001b[0;34m,\u001b[0m \u001b[0mcheck_input\u001b[0m\u001b[0;34m=\u001b[0m\u001b[0;32mFalse\u001b[0m\u001b[0;34m)\u001b[0m\u001b[0;34m\u001b[0m\u001b[0m\n\u001b[0m\u001b[1;32m    122\u001b[0m     \u001b[0;32melse\u001b[0m\u001b[0;34m:\u001b[0m\u001b[0;34m\u001b[0m\u001b[0m\n\u001b[1;32m    123\u001b[0m         \u001b[0mtree\u001b[0m\u001b[0;34m.\u001b[0m\u001b[0mfit\u001b[0m\u001b[0;34m(\u001b[0m\u001b[0mX\u001b[0m\u001b[0;34m,\u001b[0m \u001b[0my\u001b[0m\u001b[0;34m,\u001b[0m \u001b[0msample_weight\u001b[0m\u001b[0;34m=\u001b[0m\u001b[0msample_weight\u001b[0m\u001b[0;34m,\u001b[0m \u001b[0mcheck_input\u001b[0m\u001b[0;34m=\u001b[0m\u001b[0;32mFalse\u001b[0m\u001b[0;34m)\u001b[0m\u001b[0;34m\u001b[0m\u001b[0m\n",
      "\u001b[0;32m~/.local/lib/python3.5/site-packages/sklearn/tree/tree.py\u001b[0m in \u001b[0;36mfit\u001b[0;34m(self, X, y, sample_weight, check_input, X_idx_sorted)\u001b[0m\n\u001b[1;32m    797\u001b[0m             \u001b[0msample_weight\u001b[0m\u001b[0;34m=\u001b[0m\u001b[0msample_weight\u001b[0m\u001b[0;34m,\u001b[0m\u001b[0;34m\u001b[0m\u001b[0m\n\u001b[1;32m    798\u001b[0m             \u001b[0mcheck_input\u001b[0m\u001b[0;34m=\u001b[0m\u001b[0mcheck_input\u001b[0m\u001b[0;34m,\u001b[0m\u001b[0;34m\u001b[0m\u001b[0m\n\u001b[0;32m--> 799\u001b[0;31m             X_idx_sorted=X_idx_sorted)\n\u001b[0m\u001b[1;32m    800\u001b[0m         \u001b[0;32mreturn\u001b[0m \u001b[0mself\u001b[0m\u001b[0;34m\u001b[0m\u001b[0m\n\u001b[1;32m    801\u001b[0m \u001b[0;34m\u001b[0m\u001b[0m\n",
      "\u001b[0;32m~/.local/lib/python3.5/site-packages/sklearn/tree/tree.py\u001b[0m in \u001b[0;36mfit\u001b[0;34m(self, X, y, sample_weight, check_input, X_idx_sorted)\u001b[0m\n\u001b[1;32m    240\u001b[0m             \u001b[0;32mraise\u001b[0m \u001b[0mValueError\u001b[0m\u001b[0;34m(\u001b[0m\u001b[0;34m\"max_depth must be greater than zero. \"\u001b[0m\u001b[0;34m)\u001b[0m\u001b[0;34m\u001b[0m\u001b[0m\n\u001b[1;32m    241\u001b[0m         \u001b[0;32mif\u001b[0m \u001b[0;32mnot\u001b[0m \u001b[0;34m(\u001b[0m\u001b[0;36m0\u001b[0m \u001b[0;34m<\u001b[0m \u001b[0mmax_features\u001b[0m \u001b[0;34m<=\u001b[0m \u001b[0mself\u001b[0m\u001b[0;34m.\u001b[0m\u001b[0mn_features_\u001b[0m\u001b[0;34m)\u001b[0m\u001b[0;34m:\u001b[0m\u001b[0;34m\u001b[0m\u001b[0m\n\u001b[0;32m--> 242\u001b[0;31m             \u001b[0;32mraise\u001b[0m \u001b[0mValueError\u001b[0m\u001b[0;34m(\u001b[0m\u001b[0;34m\"max_features must be in (0, n_features]\"\u001b[0m\u001b[0;34m)\u001b[0m\u001b[0;34m\u001b[0m\u001b[0m\n\u001b[0m\u001b[1;32m    243\u001b[0m         \u001b[0;32mif\u001b[0m \u001b[0;32mnot\u001b[0m \u001b[0misinstance\u001b[0m\u001b[0;34m(\u001b[0m\u001b[0mmax_leaf_nodes\u001b[0m\u001b[0;34m,\u001b[0m \u001b[0;34m(\u001b[0m\u001b[0mnumbers\u001b[0m\u001b[0;34m.\u001b[0m\u001b[0mIntegral\u001b[0m\u001b[0;34m,\u001b[0m \u001b[0mnp\u001b[0m\u001b[0;34m.\u001b[0m\u001b[0minteger\u001b[0m\u001b[0;34m)\u001b[0m\u001b[0;34m)\u001b[0m\u001b[0;34m:\u001b[0m\u001b[0;34m\u001b[0m\u001b[0m\n\u001b[1;32m    244\u001b[0m             raise ValueError(\"max_leaf_nodes must be integral number but was \"\n",
      "\u001b[0;31mValueError\u001b[0m: max_features must be in (0, n_features]"
     ]
    }
   ],
   "source": [
    "Xt=dt.copy()\n",
    "Xt=Xt[[32,36,61,62]].values\n",
    "Yt=dt['VALIDATION'].values\n",
    "classify(Xt,Yt)"
   ]
  },
  {
   "cell_type": "markdown",
   "metadata": {
    "colab_type": "text",
    "id": "15sZigKrnM65"
   },
   "source": [
    "\n",
    "\n",
    "If we evaluate the models using the remainder features instead of features: 32,34,61 and 62 the precision and recall held,  but if I remove them the results decrease a bit. (~0.02), then I will keep all features.\n",
    "\n"
   ]
  },
  {
   "cell_type": "markdown",
   "metadata": {
    "colab_type": "text",
    "id": "hFhuytSee2lR"
   },
   "source": [
    "# Adding data to training set (correct triples)"
   ]
  },
  {
   "cell_type": "code",
   "execution_count": null,
   "metadata": {
    "colab": {
     "base_uri": "https://localhost:8080/",
     "height": 260
    },
    "colab_type": "code",
    "id": "cu3tq4SPe2lS",
    "outputId": "b1d4aff5-6057-4e55-b570-ec68b0c5c92f"
   },
   "outputs": [],
   "source": [
    "dataCorrect = pd.read_csv('sampleCorrect300.csv',sep=\"\\t\", decimal=\",\", index_col=False)\n",
    "print(\"Size: \", data.shape)\n",
    "#data1=data[data['ORIGIN']=='f']\n",
    "dataCorrect=pd.merge(dataCorrect, clusters, on=['CLUSTER'])\n",
    "dataCorrect.head(3)\n"
   ]
  },
  {
   "cell_type": "markdown",
   "metadata": {
    "colab_type": "text",
    "id": "Dm-e-Ui7e2lV"
   },
   "source": [
    "## Testing models over new training set"
   ]
  },
  {
   "cell_type": "code",
   "execution_count": null,
   "metadata": {
    "colab": {
     "base_uri": "https://localhost:8080/",
     "height": 413
    },
    "colab_type": "code",
    "id": "2KKBWXCfe2lW",
    "outputId": "e88c00ec-505a-4251-8f3a-f4041756f828"
   },
   "outputs": [],
   "source": [
    "#Append new data to initial group.\n",
    "print(\"New data:\")\n",
    "xf1=filterFeatures(dataCorrect)\n",
    "xfNew=xf.append(xf1)\n",
    "xfNew.shape\n",
    "X3=xfNew.iloc[:,:-1].values\n",
    "Y3=xfNew['VALIDATION'].values\n",
    "print(\"New training set\")\n",
    "print(\"New number of correct triples:\", xfNew[xfNew['VALIDATION']==1].shape[0])\n",
    "print(\"New number of incorrect triples:\", xfNew[xfNew['VALIDATION']==1].shape[0])\n",
    "classify(X3,Y3)"
   ]
  },
  {
   "cell_type": "markdown",
   "metadata": {
    "colab_type": "text",
    "id": "Jad0vARypRxc"
   },
   "source": [
    "Adding correct triples to training set the results improve significantly, achieving 0.82% precision and recall with Random Forest and 0.78% with Decision Tree models."
   ]
  },
  {
   "cell_type": "markdown",
   "metadata": {
    "colab_type": "text",
    "id": "zBTgCop9pvhW"
   },
   "source": [
    "## Plotting curves with new Training set"
   ]
  },
  {
   "cell_type": "markdown",
   "metadata": {
    "colab_type": "text",
    "id": "zubeDGRye2lc"
   },
   "source": [
    "### Precision vs Recall (new training set)"
   ]
  },
  {
   "cell_type": "code",
   "execution_count": null,
   "metadata": {
    "colab": {
     "base_uri": "https://localhost:8080/",
     "height": 403
    },
    "colab_type": "code",
    "id": "0piNdEuVe2ld",
    "outputId": "0913d2e6-9d9a-4eb0-a122-b2c724ff587b"
   },
   "outputs": [],
   "source": [
    "f, (ax1,ax2)=plt.subplots(1,2)\n",
    "RF=RandomForestClassifier(max_depth=3,random_state=101, max_features=None, min_samples_leaf=3)\n",
    "X_train3, X_test3, y_train3, y_test3= train_test_split(X3, Y3, test_size=0.2,random_state=0)\n",
    "RF.fit(X_train3, y_train3)\n",
    "y_scores3=RF.predict_proba(X_test3)\n",
    "\n",
    "precisions, recalls, thresholds = precision_recall_curve(y_test3,y_scores3[:,0], pos_label=1)\n",
    "plot_precision_recall_vs_threshold(ax1, precisions, recalls, thresholds)\n",
    "ax1.set_title(\"Correct triples\")\n",
    "\n",
    "precisions, recalls, thresholds = precision_recall_curve(y_test3,y_scores3[:,1], pos_label=2)\n",
    "plot_precision_recall_vs_threshold(ax2, precisions, recalls, thresholds)\n",
    "ax2.set_title(\"Incorrect triples\")\n",
    "plt.show()"
   ]
  },
  {
   "cell_type": "markdown",
   "metadata": {
    "colab_type": "text",
    "id": "LMZ8EZ0LqRu4"
   },
   "source": [
    "The figure shows that increasing the training set, the precision and also recall improve"
   ]
  },
  {
   "cell_type": "markdown",
   "metadata": {
    "colab_type": "text",
    "id": "aC38NFforseR"
   },
   "source": [
    "### Setting Threshold"
   ]
  },
  {
   "cell_type": "markdown",
   "metadata": {
    "colab_type": "text",
    "id": "ZdU4OQz2q39w"
   },
   "source": [
    "We can move the threshold to gain precision without lossing recall significally"
   ]
  },
  {
   "cell_type": "code",
   "execution_count": null,
   "metadata": {
    "colab": {
     "base_uri": "https://localhost:8080/",
     "height": 53
    },
    "colab_type": "code",
    "id": "aD65YWn9e2lf",
    "outputId": "5007e7b0-8d58-4870-e33d-de767c0766fd"
   },
   "outputs": [],
   "source": [
    "y_pred_33=np.where(y_scores3[:,0]>=0.55,1,2)\n",
    "print(\"Precision:\", precision_score(y_test3, y_pred_33))\n",
    "print(\"Recall: \", recall_score(y_test3, y_pred_33))"
   ]
  },
  {
   "cell_type": "markdown",
   "metadata": {
    "colab_type": "text",
    "id": "2OQaMLKte2li"
   },
   "source": [
    "### ROC curve (new training set)"
   ]
  },
  {
   "cell_type": "code",
   "execution_count": null,
   "metadata": {
    "colab": {
     "base_uri": "https://localhost:8080/",
     "height": 511
    },
    "colab_type": "code",
    "id": "FVFLR2y6e2lj",
    "outputId": "a4f27520-65ce-4906-ea9b-fea733526e01"
   },
   "outputs": [],
   "source": [
    "#Plot ROC curve for all data, including correct triples added. \n",
    "\n",
    "f, (ax1,ax2)=plt.subplots(1,2)\n",
    "probability_analysis(ax1,X2,Y2, label=1)\n",
    "ax1.set_title(\"Correct triples\")\n",
    "probability_analysis(ax2,X2,Y2, label=2)\n",
    "ax2.set_title(\"Incorrect triples\")\n",
    "plt.show()"
   ]
  },
  {
   "cell_type": "markdown",
   "metadata": {
    "colab_type": "text",
    "id": "XU7h4Oa_e2lp"
   },
   "source": [
    "### Removing outliers from new training set"
   ]
  },
  {
   "cell_type": "markdown",
   "metadata": {
    "colab_type": "raw",
    "id": "ArTu4X-fe2lr"
   },
   "source": [
    "Remove outliers in features:32,34,36,61,62 over new dataset, train model and test over removed data"
   ]
  },
  {
   "cell_type": "code",
   "execution_count": null,
   "metadata": {
    "colab": {
     "base_uri": "https://localhost:8080/",
     "height": 495
    },
    "colab_type": "code",
    "id": "e_v1lta0e2lr",
    "outputId": "1a6a3ba4-5244-4c3e-a256-06882d8e60c8"
   },
   "outputs": [],
   "source": [
    "c=xfNew[xfNew['VALIDATION']==1][[32,34,36,61,62]]\n",
    "Q1 = c.quantile(0.25)\n",
    "Q3 = c.quantile(0.75)\n",
    "IQR = Q3 - Q1\n",
    "dfoc = c[~((c < (Q1 - 1.5 * IQR)) |(c > (Q3 + 1.5 * IQR))).any(axis=1)]\n",
    "dfoc['key'] = 'correct'\n",
    "\n",
    "i=xfNew[xfNew['VALIDATION']==2][[32,34,36,61,62]]\n",
    "Q1 = i.quantile(0.25)\n",
    "Q3 = i.quantile(0.75)\n",
    "IQR = Q3 - Q1\n",
    "dfo = i[~((i < (Q1 - 1.5 * IQR)) |(i > (Q3 + 1.5 * IQR))).any(axis=1)]\n",
    "dfo['key'] = 'incorrect'\n",
    "\n",
    "DF = pd.concat([dfoc,dfo],keys=['correct','incorrect'])\n",
    "DFGroup = DF.groupby(['key'])\n",
    "ax=DFGroup.boxplot()\n",
    "plt.show()"
   ]
  },
  {
   "cell_type": "code",
   "execution_count": null,
   "metadata": {
    "colab": {
     "base_uri": "https://localhost:8080/",
     "height": 487
    },
    "colab_type": "code",
    "id": "0L96sunIe2lw",
    "outputId": "0a8997f8-f2a0-47f4-a4bd-99688dafe34b"
   },
   "outputs": [],
   "source": [
    "#Training Naive Bayes:\n",
    "#Measure evaluated for correct triples\n",
    "dt1=pd.concat([dfoc,dfo])\n",
    "print(\"Total triples without outliers: \", dt1.shape)\n",
    "print(\"Total correct triples without outliers: \", dt1[dt1['key']=='correct'].shape)\n",
    "print(\"Total incorrect triples without outliers: \", dt1[dt1['key']=='incorrect'].shape)\n",
    "dt1['key']=np.where(dt1['key']=='correct',1, 2)\n",
    "\"\"\"\n",
    "del xfNew[31]\n",
    "del xfNew[32]\n",
    "del xfNew[33]\n",
    "del xfNew[34]\n",
    "del xfNew[35]\n",
    "del xfNew[36]\n",
    "\"\"\"\n",
    "setAll=set(xfNew.index.tolist())\n",
    "setToTrain=set(dt1.index.tolist())\n",
    "alld=xfNew[xfNew.index.isin(list(setToTrain))]\n",
    "\n",
    "X4=alld.iloc[:,:-1].values\n",
    "Y4=alld['VALIDATION'].values\n",
    "\n",
    "setFiltered=setAll-setToTrain\n",
    "outliers=xfNew[xfNew.index.isin(list(setFiltered))]\n",
    "print(\"Outliers: \", outliers.shape[0])\n",
    "RF=RandomForestClassifier(max_depth=3,random_state=101, max_features=None, min_samples_leaf=3)\n",
    "RF.fit(X4,Y4)\n",
    "X_test4=outliers.iloc[:,:-1].values\n",
    "\n",
    "y_test4=outliers['VALIDATION'].values\n",
    "y_pred4=RF.predict(X_test4)\n",
    "print(classification_report(y_test4, y_pred4))\n",
    "print(\"OUTLIERS\")\n",
    "print(y_test4)\n",
    "print(\"PREDICTED\")\n",
    "print(y_pred4)"
   ]
  },
  {
   "cell_type": "code",
   "execution_count": null,
   "metadata": {
    "colab": {},
    "colab_type": "code",
    "id": "6WNpQ3p8sbxi"
   },
   "outputs": [],
   "source": []
  },
  {
   "cell_type": "markdown",
   "metadata": {
    "colab_type": "text",
    "id": "q1nHAG4otIaO"
   },
   "source": [
    "Again the model does not predict well outliers, which in this case are all negative. The algorithm gets a high probability  that they have a high probability of being positives. "
   ]
  },
  {
   "cell_type": "markdown",
   "metadata": {
    "colab_type": "text",
    "id": "0111S0GbtS__"
   },
   "source": [
    "### ROC Curve for new  training set without outliers"
   ]
  },
  {
   "cell_type": "code",
   "execution_count": null,
   "metadata": {
    "colab": {
     "base_uri": "https://localhost:8080/",
     "height": 403
    },
    "colab_type": "code",
    "id": "r5wG_jL8e2l4",
    "outputId": "693976a4-9a71-44a6-9792-c2628d180fd2"
   },
   "outputs": [],
   "source": [
    "f, (ax1,ax2)=plt.subplots(1,2)\n",
    "RF=RandomForestClassifier(max_depth=3,random_state=101, max_features=None, min_samples_leaf=3)\n",
    "X_train4, X_test4, y_train4, y_test4= train_test_split(X4, Y4, test_size=0.2,random_state=0)\n",
    "RF.fit(X_train4, y_train4)\n",
    "y_scores4=RF.predict_proba(X_test4)\n",
    "\n",
    "precisions, recalls, thresholds = precision_recall_curve(y_test4,y_scores4[:,0], pos_label=1)\n",
    "plot_precision_recall_vs_threshold(ax1, precisions, recalls, thresholds)\n",
    "ax1.set_title(\"Correct triples\")\n",
    "\n",
    "precisions, recalls, thresholds = precision_recall_curve(y_test4,y_scores4[:,1], pos_label=2)\n",
    "plot_precision_recall_vs_threshold(ax2, precisions, recalls, thresholds)\n",
    "ax2.set_title(\"Incorrect triples\")\n",
    "plt.show()"
   ]
  },
  {
   "cell_type": "markdown",
   "metadata": {
    "colab_type": "text",
    "id": "1OTkCiMde2l7"
   },
   "source": [
    "### Setting the threshold"
   ]
  },
  {
   "cell_type": "code",
   "execution_count": null,
   "metadata": {
    "colab": {
     "base_uri": "https://localhost:8080/",
     "height": 53
    },
    "colab_type": "code",
    "id": "tHf5UhsZe2l9",
    "outputId": "e28446a1-c2e7-4244-84b7-5c0c9e237efe"
   },
   "outputs": [],
   "source": [
    "y_pred_44=np.where(y_scores4[:,0]>=0.55,1,2)\n",
    "print(\"Precision:\", precision_score(y_test4, y_pred_44))\n",
    "print(\"Recall: \", recall_score(y_test4, y_pred_44))\n"
   ]
  },
  {
   "cell_type": "markdown",
   "metadata": {
    "colab_type": "text",
    "id": "Fb7expmdt2OJ"
   },
   "source": [
    "# Regression Models (with Initial Data)"
   ]
  },
  {
   "cell_type": "code",
   "execution_count": null,
   "metadata": {
    "colab": {},
    "colab_type": "code",
    "id": "2K8e7a90uTXk"
   },
   "outputs": [],
   "source": [
    "X_trainR, X_testR, y_trainR, y_testR = train_test_split(X1, Y1, test_size=0.3,shuffle=3)"
   ]
  },
  {
   "cell_type": "markdown",
   "metadata": {
    "colab_type": "text",
    "id": "VRVv5dVVuZZS"
   },
   "source": [
    "** Logistic Regression**"
   ]
  },
  {
   "cell_type": "code",
   "execution_count": null,
   "metadata": {
    "colab": {
     "base_uri": "https://localhost:8080/",
     "height": 179
    },
    "colab_type": "code",
    "id": "aEcePIgDuX6d",
    "outputId": "8b54f39c-9c21-4e6d-a0d4-d1e8f8488ae6"
   },
   "outputs": [],
   "source": [
    "lr=LogisticRegression()\n",
    "lr.fit(X_trainR, y_trainR)\n",
    "pred_lr=lr.predict(X_testR)\n",
    "print(classification_report(pred_lr, y_testR))"
   ]
  },
  {
   "cell_type": "code",
   "execution_count": null,
   "metadata": {
    "colab": {},
    "colab_type": "code",
    "id": "aXqAW1BxzBWT"
   },
   "outputs": [],
   "source": [
    "y_traintR=np.where(y_train4==1,0.75,0.45)\n",
    "y_testtR=np.where(y_test4==1,0.75,0.45)"
   ]
  },
  {
   "cell_type": "markdown",
   "metadata": {
    "colab_type": "text",
    "id": "H_tPeI6guSQN"
   },
   "source": [
    "**Other models**"
   ]
  },
  {
   "cell_type": "code",
   "execution_count": null,
   "metadata": {
    "colab": {
     "base_uri": "https://localhost:8080/",
     "height": 953
    },
    "colab_type": "code",
    "id": "oLHroS8cvTli",
    "outputId": "c2a33aba-d911-459b-9a17-fe5097cd4975"
   },
   "outputs": [],
   "source": [
    "from sklearn import linear_model\n",
    "from sklearn import svm\n",
    "from sklearn.metrics import mean_squared_error, r2_score\n",
    "from sklearn.ensemble import RandomForestRegressor\n",
    "classifiers = [\n",
    "    svm.SVR(),\n",
    "    linear_model.SGDRegressor(max_iter=100),\n",
    "    linear_model.BayesianRidge(),    \n",
    "    RandomForestRegressor()]\n",
    "\n",
    "for item in classifiers:\n",
    "    #print(item)\n",
    "    clf = item\n",
    "    print(\"\\n\")\n",
    "    print(\"***** \",type(clf).__name__,\" *****\"+\"\\n\")  \n",
    "    clf.fit(X_trainR, y_trainR)\n",
    "    predR=clf.predict(X_testR)\n",
    "    #print('Accuracy of {} on test set: {:.2f}'.format(type(clf).__name__,logreg.score(X_test3, y_testt3)))\n",
    "\n",
    "    print(\"R2 score : %.2f\" % r2_score(y_testR,predR))\n",
    "    print(\"Mean squared error: %.2f\" % mean_squared_error(y_testR, predR))\n",
    "    er = []\n",
    "    g = 0\n",
    "    meany=np.mean(predR)\n",
    "    for i in range(len(y_testR)):\n",
    "        #print( \"actual=\", y_testt3[i], \" observed=\", pred3[i])\n",
    "        x = (y_testR[i] - predR[i]) **2\n",
    "        er.append(x)        \n",
    "        g = g + x\n",
    "\n",
    "    x = 0\n",
    "    for i in range(len(er)):\n",
    "        x = x + er[i]\n",
    "    print (\"MSE\", x / len(er))\n",
    "\n",
    "    v = np.var(er)\n",
    "    print (\"variance\", v)\n",
    "    print (\"average of errors \", np.mean(er))\n",
    "    m = np.mean(y_testR)\n",
    "    print (\"average of observed values\", m)\n",
    "\n",
    "    y = 0\n",
    "    for i in range(len(y_testR)):\n",
    "        y = y + ((y_testR[i] - m) ** 2)\n",
    "\n",
    "    print (\"total sum of squares\", y)\n",
    "    print (\"ẗotal sum of residuals \", g)\n",
    "    print (\"r2 calculated\", 1 - (g / y))"
   ]
  },
  {
   "cell_type": "markdown",
   "metadata": {
    "colab_type": "text",
    "id": "zSCmUdogxHz4"
   },
   "source": [
    "R2 score reached negative values, meaning that the regression function  doesn't achive better results than mean values. The max value achieved was using Random Forest Regressor with R2 close to 0.5% and MSE of 0.15"
   ]
  },
  {
   "cell_type": "markdown",
   "metadata": {
    "colab_type": "text",
    "id": "zf_kSdBqz5YB"
   },
   "source": [
    "# Tunning Random Forest"
   ]
  },
  {
   "cell_type": "code",
   "execution_count": null,
   "metadata": {
    "colab": {},
    "colab_type": "code",
    "id": "4lC4Slhp0Q_b"
   },
   "outputs": [],
   "source": [
    "def evaluate(model, test_features, test_labels):\n",
    "    predictions = model.predict(test_features)\n",
    "    errors = abs(predictions - test_labels)\n",
    "    mape = 100 * np.mean(errors / test_labels)\n",
    "    accuracy = 100 - mape\n",
    "    print('Model Performance')\n",
    "    print('Average Error: {:0.4f} degrees.'.format(np.mean(errors)))\n",
    "    print('Accuracy = {:0.2f}%.'.format(accuracy))    \n",
    "    return accuracy"
   ]
  },
  {
   "cell_type": "code",
   "execution_count": null,
   "metadata": {
    "colab": {
     "base_uri": "https://localhost:8080/",
     "height": 424
    },
    "colab_type": "code",
    "id": "gZDTvkijz9wr",
    "outputId": "734cd0e6-baad-4cb9-ef79-0c3fde47f8d4"
   },
   "outputs": [],
   "source": [
    "from sklearn.model_selection import GridSearchCV\n",
    "# Create the parameter grid based on the results of random search \n",
    "base_accuracy=70\n",
    "param_grid = {\n",
    "    'bootstrap': [True],\n",
    "    'max_depth': [5,10, 30, 50, 100],\n",
    "    'max_features': [3,6,10],\n",
    "    'min_samples_leaf': [3, 4, 5],\n",
    "    'min_samples_split': [3,5, 10, 12],\n",
    "    'n_estimators': [5,10, 50, 100, 200]\n",
    "}\n",
    "# Create a based model\n",
    "rf = RandomForestClassifier()\n",
    "\n",
    "# Instantiate the grid search model\n",
    "grid_search = GridSearchCV(estimator = rf, param_grid = param_grid, \n",
    "                          cv = 3, n_jobs = -1, verbose = 2)\n",
    "\n",
    "# Fit the grid search to the data\n",
    "grid_search.fit(X_train4, y_train4)\n",
    "print(\"Best paramenters: \")\n",
    "# {'bootstrap': True, 'max_depth': 10, 'max_features': 3, 'min_samples_leaf': 3, 'min_samples_split': 3, 'n_estimators': 10}\n",
    "print(grid_search.best_params_)\n",
    "y_testt4=np.where(y_test4==1,1,0)\n",
    "y_traint4=np.where(y_train4==1,1,0)\n",
    "\n",
    "best_grid = grid_search.best_estimator_\n",
    "predictions = best_grid.predict_proba(X_test4)\n",
    "\n",
    "grid_accuracy = evaluate(best_grid, X_test4, y_test4)\n",
    "\n",
    "print('Improvement of {:0.2f}%.'.format( 100 * (grid_accuracy - base_accuracy) / base_accuracy))\n",
    "\n"
   ]
  },
  {
   "cell_type": "code",
   "execution_count": null,
   "metadata": {},
   "outputs": [],
   "source": [
    "X.shape"
   ]
  },
  {
   "cell_type": "code",
   "execution_count": null,
   "metadata": {},
   "outputs": [],
   "source": [
    "#After setting parameters testing with initial data\n",
    "classify(X,Y)"
   ]
  },
  {
   "cell_type": "code",
   "execution_count": null,
   "metadata": {},
   "outputs": [],
   "source": []
  },
  {
   "cell_type": "markdown",
   "metadata": {
    "colab_type": "text",
    "id": "Nc907iOX4ph-"
   },
   "source": [
    "## Saving Model"
   ]
  },
  {
   "cell_type": "code",
   "execution_count": null,
   "metadata": {},
   "outputs": [],
   "source": []
  },
  {
   "cell_type": "code",
   "execution_count": null,
   "metadata": {
    "colab": {},
    "colab_type": "code",
    "id": "BosEAF1M4JlG"
   },
   "outputs": [],
   "source": [
    "#Saving trained model\n",
    "import pickle\n",
    "RF = RandomForestClassifier(bootstrap=True, max_depth= 100, max_features=10, min_samples_leaf=3, min_samples_split=5, n_estimators=100)\n",
    "RF.fit(X,Y)\n",
    "filename = 'trainedModelRF.sav'\n",
    "pickle.dump(RF, open(filename, 'wb'))"
   ]
  },
  {
   "cell_type": "markdown",
   "metadata": {
    "colab_type": "text",
    "id": "CgZgtQJ_e2mL"
   },
   "source": [
    "# Some stats"
   ]
  },
  {
   "cell_type": "markdown",
   "metadata": {
    "colab_type": "text",
    "id": "3r5oTPpWe2mM"
   },
   "source": [
    "## Models comparison"
   ]
  },
  {
   "cell_type": "code",
   "execution_count": null,
   "metadata": {
    "colab": {
     "base_uri": "https://localhost:8080/",
     "height": 489
    },
    "colab_type": "code",
    "id": "GhQZKSuBe2mN",
    "outputId": "a4d72bbf-8fd9-44de-98de-c64e92441ac7"
   },
   "outputs": [],
   "source": [
    "# Compare Algorithms Weighted average\n",
    "import pandas\n",
    "import matplotlib.pyplot as plt\n",
    "from sklearn import model_selection\n",
    "from sklearn.linear_model import LogisticRegression\n",
    "from sklearn.tree import DecisionTreeClassifier\n",
    "from sklearn.neighbors import KNeighborsClassifier\n",
    "from sklearn.discriminant_analysis import LinearDiscriminantAnalysis\n",
    "from sklearn.naive_bayes import GaussianNB\n",
    "from sklearn.svm import SVC\n",
    "\n",
    "seed = 7\n",
    "models = []\n",
    "cl1 = KNeighborsClassifier(n_neighbors=1)\n",
    "cl2 = DecisionTreeClassifier()\n",
    "cl3 = RandomForestClassifier(max_depth=10,max_features=None, min_samples_leaf=3)\n",
    "cl4=  SVC(kernel='linear')\n",
    "cl5 = GaussianNB()\n",
    "models.append(('KNN',cl1))\n",
    "models.append(('DT', cl2))\n",
    "models.append(('RF', cl3))\n",
    "#models.append(('SVM', cl4))\n",
    "models.append(('GNB', cl5))\n",
    "results = []\n",
    "names = []\n",
    "scoring = 'f1_weighted'\n",
    "for name, model in models:\n",
    "    #kfold = model_selection.KFold(n_splits=40, random_state=seed)\n",
    "    kfold = StratifiedShuffleSplit(n_splits=40, test_size=0.2) \n",
    "    cv_results = model_selection.cross_val_score(model, X, Y, cv=kfold, scoring=scoring)\n",
    "    results.append(cv_results)\n",
    "    names.append(name)\n",
    "    msg = \"%s: %f (%f)\" % (name, cv_results.mean(), cv_results.std())\n",
    "    print(msg)\n",
    "# boxplot algorithm comparison\n",
    "fig = plt.figure()\n",
    "fig.suptitle('Algorithm Comparison')\n",
    "ax = fig.add_subplot(111)\n",
    "plt.boxplot(results)\n",
    "ax.set_xticklabels(names)\n",
    "plt.show()"
   ]
  },
  {
   "cell_type": "code",
   "execution_count": null,
   "metadata": {
    "colab": {},
    "colab_type": "code",
    "id": "wqAC8MgHgluN"
   },
   "outputs": [],
   "source": []
  },
  {
   "cell_type": "code",
   "execution_count": null,
   "metadata": {
    "colab": {
     "base_uri": "https://localhost:8080/",
     "height": 55
    },
    "colab_type": "code",
    "id": "vwBSD1xJe2mV",
    "outputId": "8f5fe997-14ca-4c69-860c-f6374057e596"
   },
   "outputs": [],
   "source": [
    "#Graph decision Tree \n",
    "\"\"\"\n",
    "from sklearn.ensemble import RandomForestClassifier\n",
    "from sklearn.tree import export_graphviz\n",
    "model = RandomForestClassifier(n_estimators=10)\n",
    "Xtree=xf[[14,17,20,19,36,8,25,24,6,4,35,34,18,32,13,7,11,33,10,15,9,3,2]]\n",
    "print(Xtree.head(2))\n",
    "Xtreev=Xtree.values\n",
    "\n",
    "model.fit(Xtreev, y)\n",
    "fnames=[str(fn) for fn in list(Xtree.columns)]\n",
    "cnames=[str(v) for v in set(y.values)]\n",
    "print(fnames)\n",
    "print(cnames)\n",
    "\n",
    "estimator = model.estimators_[0]\n",
    "\n",
    "# Export as dot file\n",
    "export_graphviz(estimator, out_file='tree.dot', \n",
    "                feature_names = fnames,\n",
    "                class_names = cnames,\n",
    "                rounded = True, proportion = False, \n",
    "                precision = 2, filled = True)\n",
    "\n",
    "# Convert to png using system command (requires Graphviz)\n",
    "from subprocess import call\n",
    "call(['dot', '-Tpng', 'tree.dot', '-o', 'tree.png', '-Gdpi=600'])\n",
    "\n",
    "# Display in jupyter notebook\n",
    "from IPython.display import Image\n",
    "Image(filename = 'tree.png')\"\"\""
   ]
  },
  {
   "cell_type": "markdown",
   "metadata": {
    "colab_type": "text",
    "id": "8T6s15ESgrxT"
   },
   "source": [
    "## Learning curve"
   ]
  },
  {
   "cell_type": "code",
   "execution_count": null,
   "metadata": {
    "colab": {
     "base_uri": "https://localhost:8080/",
     "height": 789
    },
    "colab_type": "code",
    "id": "7saKyTHCe2mc",
    "outputId": "26f7f006-7a5d-4e71-919d-a5bc0d17c257"
   },
   "outputs": [],
   "source": [
    "import numpy as np\n",
    "import matplotlib.pyplot as plt\n",
    "from sklearn.naive_bayes import GaussianNB\n",
    "from sklearn.svm import SVC\n",
    "from sklearn.datasets import load_digits\n",
    "from sklearn.model_selection import learning_curve\n",
    "from sklearn.model_selection import ShuffleSplit\n",
    "\n",
    "\n",
    "def plot_learning_curve(estimator, title, X, y, ylim=None, cv=None,\n",
    "                        n_jobs=None, train_sizes=np.linspace(0.10, 1.0, 20)):\n",
    "    \n",
    "    plt.figure(figsize=(6,5))\n",
    "    plt.title(title)\n",
    "    if ylim is not None:\n",
    "        plt.ylim(*ylim)\n",
    "    plt.xlabel(\"Training examples\")\n",
    "    plt.ylabel(\"Score\")\n",
    "    print('learning curve')\n",
    "    train_sizes, train_scores, test_scores = learning_curve(\n",
    "        estimator, X, y, cv=cv, n_jobs=n_jobs, train_sizes=train_sizes, scoring='f1_weighted')\n",
    "    print('learning curve2')\n",
    "    train_scores_mean = np.mean(train_scores, axis=1)\n",
    "    train_scores_std = np.std(train_scores, axis=1)\n",
    "    test_scores_mean = np.mean(test_scores, axis=1)\n",
    "    test_scores_std = np.std(test_scores, axis=1)\n",
    "    plt.grid()\n",
    "\n",
    "    plt.fill_between(train_sizes, train_scores_mean - train_scores_std,\n",
    "                     train_scores_mean + train_scores_std, alpha=0.1,\n",
    "                     color=\"r\")\n",
    "    plt.fill_between(train_sizes, test_scores_mean - test_scores_std,\n",
    "                     test_scores_mean + test_scores_std, alpha=0.1, color=\"g\")\n",
    "    plt.plot(train_sizes, train_scores_mean, 'o-', color=\"r\",\n",
    "             label=\"Training score\")\n",
    "    plt.plot(train_sizes, test_scores_mean, 'o-', color=\"g\",\n",
    "             label=\"Cross-validation score\")\n",
    "\n",
    "    plt.legend(loc=\"best\")\n",
    "    return plt\n",
    "\n",
    "title = \"Learning Curve (Random Forest)\"\n",
    "# Cross validation with 40 splits,  each time with 20% as validation set.\n",
    "cv = StratifiedShuffleSplit(n_splits=40, test_size=0.2, random_state=7)\n",
    "estimator = RandomForestClassifier(max_depth=10,random_state=101, max_features=None, min_samples_leaf=3)\n",
    "print('estimator 1')\n",
    "plot_learning_curve(estimator, title, X1, Y1, ylim=(0.1, 1.01), cv=cv, n_jobs=4)\n",
    "\n",
    "title = r\"Learning Curves (Decision Tree)\"\n",
    "cv = StratifiedShuffleSplit(n_splits=40, test_size=0.2, random_state=7)\n",
    "\n",
    "estimator = DecisionTreeClassifier()\n",
    "print('estimator 2')\n",
    "plot_learning_curve(estimator, title, X1, Y1, (0.1, 1.01), cv=cv, n_jobs=4)\n",
    "\n",
    "\n",
    "plt.show()"
   ]
  },
  {
   "cell_type": "markdown",
   "metadata": {
    "colab_type": "text",
    "id": "iM6iw-6gg4Pz"
   },
   "source": [
    "## Feature importances"
   ]
  },
  {
   "cell_type": "code",
   "execution_count": null,
   "metadata": {
    "colab": {
     "base_uri": "https://localhost:8080/",
     "height": 677
    },
    "colab_type": "code",
    "id": "7gLjIq1Ge2mg",
    "outputId": "80a3a034-1dfc-46ba-a0ef-ea18a862cc1c"
   },
   "outputs": [],
   "source": [
    "from sklearn.ensemble import ExtraTreesClassifier\n",
    "#Compute feature importances\n",
    "forest = ExtraTreesClassifier()\n",
    "forest.fit(X1, Y1)\n",
    "columns=np.array(xf.columns)\n",
    "importances = forest.feature_importances_\n",
    "std = np.std([tree.feature_importances_ for tree in forest.estimators_],\n",
    "             axis=0)\n",
    "indices = np.argsort(importances)[::-1]\n",
    "indices=indices[0:15]\n",
    "indices=indices[::-1]\n",
    "print(len(indices))\n",
    "\n",
    "col=columns[indices]\n",
    "print('cols:', col)\n",
    "# Print the feature ranking\n",
    "print(\"Feature ranking:\")\n",
    "lenx=15\n",
    "print(len(range(lenx)))\n",
    "for f in range(lenx):\n",
    "    print(\"%d. feature %d (%f)\" % (f + 1, indices[f], importances[indices[f]]))\n",
    "\n",
    "# Plot the feature importances of the forest\n",
    "plt.figure(figsize=(7,5))\n",
    "plt.title(\"Feature importances\")\n",
    "plt.barh(range(lenx), importances[indices],\n",
    "       color=\"b\", align=\"center\")\n",
    "plt.yticks(range(lenx), col)\n",
    "#plt.xlim([-1, lenx])\n",
    "plt.show()"
   ]
  },
  {
   "cell_type": "code",
   "execution_count": null,
   "metadata": {
    "colab": {},
    "colab_type": "code",
    "id": "euHUFF0Ee2mm"
   },
   "outputs": [],
   "source": []
  }
 ],
 "metadata": {
  "colab": {
   "collapsed_sections": [],
   "name": "clasification.ipynb",
   "provenance": [],
   "version": "0.3.2"
  },
  "kernelspec": {
   "display_name": "Python 3",
   "language": "python",
   "name": "python3"
  },
  "language_info": {
   "codemirror_mode": {
    "name": "ipython",
    "version": 3
   },
   "file_extension": ".py",
   "mimetype": "text/x-python",
   "name": "python",
   "nbconvert_exporter": "python",
   "pygments_lexer": "ipython3",
   "version": "3.5.2"
  }
 },
 "nbformat": 4,
 "nbformat_minor": 1
}
