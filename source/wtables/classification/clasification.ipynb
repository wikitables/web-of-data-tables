{
 "cells": [
  {
   "cell_type": "code",
   "execution_count": 1,
   "metadata": {},
   "outputs": [],
   "source": [
    "import pandas as pd\n",
    "import numpy as np\n",
    "from matplotlib import pyplot as plt\n",
    "import seaborn as sns"
   ]
  },
  {
   "cell_type": "code",
   "execution_count": 2,
   "metadata": {},
   "outputs": [
    {
     "name": "stdout",
     "output_type": "stream",
     "text": [
      "Size:  (852, 69)\n"
     ]
    },
    {
     "data": {
      "text/html": [
       "<div>\n",
       "<style scoped>\n",
       "    .dataframe tbody tr th:only-of-type {\n",
       "        vertical-align: middle;\n",
       "    }\n",
       "\n",
       "    .dataframe tbody tr th {\n",
       "        vertical-align: top;\n",
       "    }\n",
       "\n",
       "    .dataframe thead th {\n",
       "        text-align: right;\n",
       "    }\n",
       "</style>\n",
       "<table border=\"1\" class=\"dataframe\">\n",
       "  <thead>\n",
       "    <tr style=\"text-align: right;\">\n",
       "      <th></th>\n",
       "      <th>2</th>\n",
       "      <th>3</th>\n",
       "      <th>4</th>\n",
       "      <th>5</th>\n",
       "      <th>6</th>\n",
       "      <th>7</th>\n",
       "      <th>8</th>\n",
       "      <th>9</th>\n",
       "      <th>10</th>\n",
       "      <th>11</th>\n",
       "      <th>...</th>\n",
       "      <th>VALIDATION</th>\n",
       "      <th>ORIGIN</th>\n",
       "      <th>CLUSTER</th>\n",
       "      <th>TABLE</th>\n",
       "      <th>CELL</th>\n",
       "      <th>NAME_COL1</th>\n",
       "      <th>NAME_COL2</th>\n",
       "      <th>ENTITY_COL1</th>\n",
       "      <th>PREDICATE</th>\n",
       "      <th>ENTITY_COL2</th>\n",
       "    </tr>\n",
       "  </thead>\n",
       "  <tbody>\n",
       "    <tr>\n",
       "      <th>0</th>\n",
       "      <td>9</td>\n",
       "      <td>11</td>\n",
       "      <td>6</td>\n",
       "      <td>1.833333</td>\n",
       "      <td>24</td>\n",
       "      <td>-1</td>\n",
       "      <td>2</td>\n",
       "      <td>5</td>\n",
       "      <td>5</td>\n",
       "      <td>1.0</td>\n",
       "      <td>...</td>\n",
       "      <td>2</td>\n",
       "      <td>t</td>\n",
       "      <td>0</td>\n",
       "      <td>203221.9</td>\n",
       "      <td>13:-1:2</td>\n",
       "      <td>protag_article@3</td>\n",
       "      <td>candid@3</td>\n",
       "      <td>https://en.wikipedia.org/wiki/Electoral_result...</td>\n",
       "      <td>P1346 :winner@en</td>\n",
       "      <td>https://en.wikipedia.org/wiki/Voter_turnout :Q...</td>\n",
       "    </tr>\n",
       "    <tr>\n",
       "      <th>1</th>\n",
       "      <td>8</td>\n",
       "      <td>6</td>\n",
       "      <td>6</td>\n",
       "      <td>1.000000</td>\n",
       "      <td>11</td>\n",
       "      <td>-1</td>\n",
       "      <td>1</td>\n",
       "      <td>5</td>\n",
       "      <td>5</td>\n",
       "      <td>1.0</td>\n",
       "      <td>...</td>\n",
       "      <td>2</td>\n",
       "      <td>t</td>\n",
       "      <td>0</td>\n",
       "      <td>238845.8</td>\n",
       "      <td>4:-1:1</td>\n",
       "      <td>protag_article@3</td>\n",
       "      <td>2__parti@3</td>\n",
       "      <td>https://en.wikipedia.org/wiki/Gravesham_Boroug...</td>\n",
       "      <td>P488-1 :chairperson@en</td>\n",
       "      <td>https://en.wikipedia.org/wiki/Labour_Party_(UK...</td>\n",
       "    </tr>\n",
       "    <tr>\n",
       "      <th>2</th>\n",
       "      <td>8</td>\n",
       "      <td>13</td>\n",
       "      <td>6</td>\n",
       "      <td>2.166667</td>\n",
       "      <td>28</td>\n",
       "      <td>-1</td>\n",
       "      <td>2</td>\n",
       "      <td>6</td>\n",
       "      <td>6</td>\n",
       "      <td>1.0</td>\n",
       "      <td>...</td>\n",
       "      <td>2</td>\n",
       "      <td>t</td>\n",
       "      <td>0</td>\n",
       "      <td>242238.8</td>\n",
       "      <td>17:-1:2</td>\n",
       "      <td>protag_article@3</td>\n",
       "      <td>candid@3</td>\n",
       "      <td>https://en.wikipedia.org/wiki/Electoral_result...</td>\n",
       "      <td>P488 :chairperson@en</td>\n",
       "      <td>https://en.wikipedia.org/wiki/Voter_turnout :Q...</td>\n",
       "    </tr>\n",
       "  </tbody>\n",
       "</table>\n",
       "<p>3 rows × 69 columns</p>\n",
       "</div>"
      ],
      "text/plain": [
       "   2   3  4         5   6  7  8  9  10   11  \\\n",
       "0  9  11  6  1.833333  24 -1  2  5   5  1.0   \n",
       "1  8   6  6  1.000000  11 -1  1  5   5  1.0   \n",
       "2  8  13  6  2.166667  28 -1  2  6   6  1.0   \n",
       "\n",
       "                         ...                          VALIDATION  ORIGIN  \\\n",
       "0                        ...                                   2       t   \n",
       "1                        ...                                   2       t   \n",
       "2                        ...                                   2       t   \n",
       "\n",
       "   CLUSTER     TABLE     CELL         NAME_COL1   NAME_COL2  \\\n",
       "0        0  203221.9  13:-1:2  protag_article@3    candid@3   \n",
       "1        0  238845.8   4:-1:1  protag_article@3  2__parti@3   \n",
       "2        0  242238.8  17:-1:2  protag_article@3    candid@3   \n",
       "\n",
       "                                         ENTITY_COL1               PREDICATE  \\\n",
       "0  https://en.wikipedia.org/wiki/Electoral_result...        P1346 :winner@en   \n",
       "1  https://en.wikipedia.org/wiki/Gravesham_Boroug...  P488-1 :chairperson@en   \n",
       "2  https://en.wikipedia.org/wiki/Electoral_result...    P488 :chairperson@en   \n",
       "\n",
       "                                         ENTITY_COL2  \n",
       "0  https://en.wikipedia.org/wiki/Voter_turnout :Q...  \n",
       "1  https://en.wikipedia.org/wiki/Labour_Party_(UK...  \n",
       "2  https://en.wikipedia.org/wiki/Voter_turnout :Q...  \n",
       "\n",
       "[3 rows x 69 columns]"
      ]
     },
     "execution_count": 2,
     "metadata": {},
     "output_type": "execute_result"
    }
   ],
   "source": [
    "#Training set:  852 triples annotated as correct and incorrect\n",
    "\n",
    "data = pd.read_csv('featuresAnnotatedTriples.csv',sep=\"\\t\", decimal=\",\", index_col=False)\n",
    "data=data[(data['VALIDATION']<3)]\n",
    "print(\"Size: \", data.shape)\n",
    "#data1=data[data['ORIGIN']=='f']\n",
    "data.head(3)"
   ]
  },
  {
   "cell_type": "markdown",
   "metadata": {},
   "source": [
    "I applied normalization over some feautures, but I didn't get to much difference"
   ]
  },
  {
   "cell_type": "code",
   "execution_count": 3,
   "metadata": {},
   "outputs": [],
   "source": [
    "def normalize(df):\n",
    "    result = df.copy()\n",
    "    for feature_name in df.columns:\n",
    "        max_value = df[feature_name].max()\n",
    "        min_value = df[feature_name].min()\n",
    "        result[feature_name] = (df[feature_name] - min_value) / (max_value - min_value)\n",
    "    return result\n"
   ]
  },
  {
   "cell_type": "code",
   "execution_count": 4,
   "metadata": {},
   "outputs": [
    {
     "name": "stdout",
     "output_type": "stream",
     "text": [
      "Number of correct triples:  (245, 58)\n",
      "Number of incorrect triples:  (607, 58)\n"
     ]
    }
   ],
   "source": [
    "#Next features are not used\n",
    "#21 number entities subject cell\n",
    "#22 number entities object cell\n",
    "#23 ratio 21/22\n",
    "#38 exist relation in KB\n",
    "#43 number links subject cell\n",
    "#44 number links object cell\n",
    "# Features not normalized:\n",
    "#7 subject column index\n",
    "#8 object column index \n",
    "#26 &27 formatting present in cells (0,1)\n",
    "#37 relation from title article (0,1)\n",
    "#39 object is in range of predicate (0,1)\n",
    "#40 subject is in domain of predicate (0,1)\n",
    "#64 Inverse predicate\n",
    "noImportant=['21','22','23','38','43','44']\n",
    "noNormalized=['7','8', '26', '27', '37','39','40','64','VALIDATION']\n",
    "def filterFeatures(data):\n",
    "    #Adding feature for inverse property\n",
    "    data['64']=data.PREDICATE.str.contains('-1')\n",
    "    data['64']=np.where(data['64'],0,1)\n",
    "    data.head(2)\n",
    "    r1 = [str(i) for i in np.arange(2,65) if str(i) if str(i) not in noImportant and str(i) not in noNormalized]\n",
    "    r1.append('VALIDATION')\n",
    "    x=data[r1]\n",
    "    r1 = [c for c in list(x.columns) if c not in noNormalized]\n",
    "    d1=x[r1]\n",
    "    #Normalized features\n",
    "    xn=normalize(d1)\n",
    "    xf=pd.concat([xn, data[noNormalized]], axis=1)\n",
    "    fcols=[c for c in list(xf.columns) if c!='VALIDATION']\n",
    "    X=xf[fcols]\n",
    "    Y=xf['VALIDATION']\n",
    "    colnames={n:int(n) for n in list(X.columns)}\n",
    "    #Numeric name features and sorting\n",
    "    X=X.rename(columns=colnames)\n",
    "    X = X.sort_index(axis=1)    \n",
    "    #Final dataFrame\n",
    "    xf=pd.concat([X, Y], axis=1)\n",
    "    print(\"Number of correct triples: \", xf[xf['VALIDATION']==1].shape)\n",
    "    print(\"Number of incorrect triples: \", xf[xf['VALIDATION']==2].shape)\n",
    "    return xf\n",
    "xf=filterFeatures(data)\n",
    "X=xf.iloc[:,:-1].values\n",
    "Y=xf['VALIDATION'].values"
   ]
  },
  {
   "cell_type": "code",
   "execution_count": 5,
   "metadata": {},
   "outputs": [
    {
     "data": {
      "image/png": "[encoded data removed]",
      "text/plain": [
       "<Figure size 1080x432 with 2 Axes>"
      ]
     },
     "metadata": {},
     "output_type": "display_data"
    }
   ],
   "source": [
    "#Features validation to idenfify outliers\n",
    "\n",
    "#32 Ratio number rows where predicate holds / total rows\n",
    "#34 Ratio number relations where predicate holds / total relations\n",
    "#36 Ratio number unique relations where predicate holds / total unique relations\n",
    "#61 Ratio number rows where predicate holds / total rows in cluster\n",
    "#62 Ratio number relations where predicate holds / total relations in cluster\n",
    "\n",
    "%matplotlib inline\n",
    "plt.rcParams[\"figure.figsize\"] = [15, 6]\n",
    "\n",
    "c=xf[xf['VALIDATION']==1][[32,34,36,61,62]]\n",
    "c.describe()\n",
    "\n",
    "i=xf[xf['VALIDATION']==2][[32,34,36,61,62]]\n",
    "i.describe()\n",
    "\n",
    "c['key'] = 'correct'\n",
    "i['key'] = 'incorrect'\n",
    "\n",
    "DF = pd.concat([c,i],keys=['correct','incorrect'])\n",
    "DFGroup = DF.groupby(['key'])\n",
    "ax=DFGroup.boxplot()\n",
    "plt.show()"
   ]
  },
  {
   "cell_type": "code",
   "execution_count": 6,
   "metadata": {},
   "outputs": [
    {
     "data": {
      "image/png": "[encoded data removed]",
      "text/plain": [
       "<Figure size 1080x432 with 1 Axes>"
      ]
     },
     "metadata": {},
     "output_type": "display_data"
    }
   ],
   "source": [
    "#Comparison all features\n",
    "#CORRECT TRIPLES\n",
    "c=xf[xf['VALIDATION']==1].iloc[:,:-1]\n",
    "inoNormalized=[int(noNormalized[n]) for n in range(len(noNormalized)-1)]\n",
    "cols=[col for col in list(c.columns) if col not in inoNormalized]\n",
    "c=c[cols]\n",
    "mins = c.min().values\n",
    "maxes = c.max().values\n",
    "means = c.mean().values\n",
    "std = c.std().values\n",
    "\n",
    "plt.errorbar(np.arange(len(list(c.columns))), means, std, fmt='ok', lw=3)\n",
    "plt.errorbar(np.arange(len(list(c.columns))), means, [means - mins, maxes - means],\n",
    "             fmt='.k', ecolor='black', lw=1)\n",
    "\n",
    "#INCORRECT TRIPLES\n",
    "i=xf[xf['VALIDATION']==2].iloc[:,:-1]\n",
    "inoNormalized=[int(noNormalized[n]) for n in range(len(noNormalized)-1)]\n",
    "cols=[col for col in list(i.columns) if col not in inoNormalized]\n",
    "i=i[cols]\n",
    "\n",
    "mins = i.min().values\n",
    "maxes = i.max().values\n",
    "means = i.mean().values\n",
    "std = i.std().values\n",
    "\n",
    "\n",
    "plt.errorbar([i+0.3 for i in range(len(list(i.columns)))], means, std, fmt='ok',ecolor='red', lw=3)\n",
    "plt.errorbar([i+0.3 for i in range(len(list(i.columns)))], means, [means - mins, maxes - means],\n",
    "             fmt='.k', ecolor='red', lw=1)\n",
    "plt.xticks([i+0.3 for i in range(len(list(i.columns)))], [str(i) for i in list(i.columns)])\n",
    "plt.show()"
   ]
  },
  {
   "cell_type": "code",
   "execution_count": 7,
   "metadata": {},
   "outputs": [
    {
     "name": "stderr",
     "output_type": "stream",
     "text": [
      "/usr/local/lib/python3.5/dist-packages/ipykernel_launcher.py:9: SettingWithCopyWarning: \n",
      "A value is trying to be set on a copy of a slice from a DataFrame.\n",
      "Try using .loc[row_indexer,col_indexer] = value instead\n",
      "\n",
      "See the caveats in the documentation: http://pandas.pydata.org/pandas-docs/stable/indexing.html#indexing-view-versus-copy\n",
      "  if __name__ == '__main__':\n",
      "/usr/local/lib/python3.5/dist-packages/ipykernel_launcher.py:15: SettingWithCopyWarning: \n",
      "A value is trying to be set on a copy of a slice from a DataFrame.\n",
      "Try using .loc[row_indexer,col_indexer] = value instead\n",
      "\n",
      "See the caveats in the documentation: http://pandas.pydata.org/pandas-docs/stable/indexing.html#indexing-view-versus-copy\n",
      "  from ipykernel import kernelapp as app\n"
     ]
    },
    {
     "data": {
      "image/png": "[encoded data removed]",
      "text/plain": [
       "<Figure size 1080x432 with 2 Axes>"
      ]
     },
     "metadata": {},
     "output_type": "display_data"
    }
   ],
   "source": [
    "\n",
    "#Delete outiliers that are out of interquartile (Greater than 0.75 and less than 0.25) on specific features\n",
    "\n",
    "c=xf[xf['VALIDATION']==1][[32,34,36,61,62]]\n",
    "Q1 = c.quantile(0.25)\n",
    "Q3 = c.quantile(0.75)\n",
    "IQR = Q3 - Q1\n",
    "dfoc = c[~((c < (Q1 - 1.5 * IQR)) |(c > (Q3 + 1.5 * IQR))).any(axis=1)]\n",
    "dfoc['key'] = 'correct'\n",
    "i=xf[xf['VALIDATION']==2][[32,34,36,61,62]]\n",
    "Q1 = i.quantile(0.25)\n",
    "Q3 = i.quantile(0.75)\n",
    "IQR = Q3 - Q1\n",
    "dfo = i[~((i < (Q1 - 1.5 * IQR)) |(i > (Q3 + 1.5 * IQR))).any(axis=1)]\n",
    "dfo['key'] = 'incorrect'\n",
    "\n",
    "DF = pd.concat([dfoc,dfo],keys=['correct','incorrect'])\n",
    "DFGroup = DF.groupby(['key'])\n",
    "ax=DFGroup.boxplot()\n",
    "plt.show()"
   ]
  },
  {
   "cell_type": "code",
   "execution_count": 8,
   "metadata": {
    "scrolled": true
   },
   "outputs": [],
   "source": [
    "from sklearn.metrics import precision_score\n",
    "from sklearn.metrics import recall_score\n",
    "from sklearn.metrics import f1_score\n",
    "import warnings\n",
    "from sklearn.neighbors import KNeighborsClassifier\n",
    "from sklearn.model_selection import StratifiedShuffleSplit\n",
    "from sklearn.metrics import classification_report\n",
    "from sklearn.tree import DecisionTreeClassifier\n",
    "from sklearn.linear_model import LogisticRegression\n",
    "from sklearn.ensemble import RandomForestClassifier\n",
    "from sklearn.svm import SVC\n",
    "from sklearn.naive_bayes import GaussianNB\n",
    "from sklearn.model_selection import RepeatedKFold\n",
    "def classify(X, Y, weighted=True):\n",
    "    warnings.simplefilter(action='ignore', category=FutureWarning)    \n",
    "    # Cross validation with 40 splits,  each time with 20% as validation set.\n",
    "    kf = StratifiedShuffleSplit(n_splits=40, test_size=0.2) \n",
    "    cl1 = KNeighborsClassifier(n_neighbors=1)\n",
    "    cl2 = DecisionTreeClassifier()\n",
    "    cl3 = RandomForestClassifier(max_depth=10,random_state=101, max_features=None, min_samples_leaf=3)\n",
    "    cl4=  SVC(kernel='linear')\n",
    "    cl5 = GaussianNB()\n",
    "    p1= p2= p3= p4 =p5=0 \n",
    "    r1=r2=r3=r4=r5=0\n",
    "    f1=f2=f3=f4=f5=0\n",
    "    cont=0\n",
    "    pacum=[]\n",
    "\n",
    "    for train_index, test_index in kf.split(X, Y): \n",
    "            #print(\"Train:\", train_index, \"Validation:\", test_index) \n",
    "            X_train, X_test = X[train_index], X[test_index] \n",
    "            y_train, y_test = Y[train_index], Y[test_index]\n",
    "\n",
    "            #cl1 = KNeighborsClassifier(n_neighbors=1)\n",
    "            #cl2 = DecisionTreeClassifier()\n",
    "            #cl3 = RandomForestClassifier(max_depth=10,max_features=None, min_samples_leaf=3)\n",
    "            #cl4=  SVC(kernel='linear')\n",
    "\n",
    "            #print(X_train)\n",
    "            #print('----')\n",
    "            #print(y_train)\n",
    "            #print('KNN---------------')\n",
    "            #cl1 = KNeighborsClassifier(n_neighbors=1)\n",
    "            #X_train, X_test, y_train, y_test = train_test_split(xf, y, test_size=0.3, random_state=4)\n",
    "            cl1.fit(X_train, y_train)\n",
    "            y_pred = cl1.predict(X_test)\n",
    "            if weighted:\n",
    "                labels=[1,2]\n",
    "            else:\n",
    "                labels=[1]\n",
    "                \n",
    "            p1+=precision_score(y_test, y_pred, labels=labels,average='weighted') \n",
    "            r1+=recall_score(y_test, y_pred, labels=labels,average='weighted') \n",
    "            f1+=f1_score(y_test, y_pred, labels=labels,average='weighted') \n",
    "            #print('KNN')\n",
    "            #print(classification_report(y_test, y_pred))\n",
    "            #print('Decision Tree --------------')\n",
    "\n",
    "            cl2.fit(X_train, y_train)    \n",
    "            y_pred=cl2.predict(X_test)\n",
    "            p2+=precision_score(y_test, y_pred, labels=labels,average='weighted') \n",
    "            r2+=recall_score(y_test, y_pred, labels=labels,average='weighted') \n",
    "            f2+=f1_score(y_test, y_pred, labels=labels,average='weighted') \n",
    "            #print('Decision Tree')\n",
    "            #print(classification_report(y_test, y_pred))\n",
    "            #print (sorted(zip(map(lambda x: round(x, 4), cl2.feature_importances_), list(xf.columns)), \n",
    "            #         reverse=False))\n",
    "\n",
    "            cl3.fit(X_train, y_train)\n",
    "            y_pred=cl3.predict(X_test)\n",
    "            ps=precision_score(y_test, y_pred, labels=labels,average='weighted') \n",
    "            pacum.append(ps)\n",
    "            p3+=ps \n",
    "            r3+=recall_score(y_test, y_pred, labels=labels,average='weighted') \n",
    "            f3+=f1_score(y_test, y_pred, labels=labels,average='weighted') \n",
    "            #print('Random')\n",
    "            #print(cl3.feature_importances_)\n",
    "            #print (sorted(zip(map(lambda x: round(x, 4), cl3.feature_importances_), list(xf.columns)), \n",
    "            #         reverse=False))\n",
    "            #print(classification_report(y_test, y_pred))\n",
    "\n",
    "            #cl4.fit(X_train, y_train)        \n",
    "            #y_pred=cl4.predict(X_test)    \n",
    "            #p4+=precision_score(y_test, y_pred, average='weighted') \n",
    "            #r4+=recall_score(y_test, y_pred, average='weighted') \n",
    "            #f4+=f1_score(y_test, y_pred, average='weighted') \n",
    "            #print('Logistic')\n",
    "            #print(classification_report(y_test, y_pred))\n",
    "\n",
    "            cl5.fit(X_train, y_train)\n",
    "            y_pred=cl5.predict(X_test)\n",
    "            p5+=precision_score(y_test, y_pred, labels=labels,average='weighted') \n",
    "            r5+=recall_score(y_test, y_pred, labels=labels,average='weighted') \n",
    "            f5+=f1_score(y_test, y_pred, labels=labels,average='weighted') \n",
    "            #print('Naive Bayes')\n",
    "            #print(classification_report(y_test, y_pred))\n",
    "\n",
    "\n",
    "            cont+=1\n",
    "            #print('Set y: ', [ip for ip in y_test if ip==1])\n",
    "    print('***  KNN  ***')\n",
    "    print('Precision: ', p1/cont)\n",
    "    print('Recall: ', r1/cont)\n",
    "    print('F1-score: ', f1/cont)\n",
    "    print('***  Decision Tree  ***')\n",
    "    print('Precision: ', p2/cont)\n",
    "    print('Recall: ', r2/cont)\n",
    "    print('F1-score: ', f1/cont)\n",
    "    print('***  Random Forest  ***')\n",
    "    print('Precision: ', p3/cont)\n",
    "    print('Recall: ', r3/cont)\n",
    "    print('F1-score: ', f3/cont)\n",
    "    print('***  Naive Bayes  ***')\n",
    "    print('Precision: ', p5/cont)\n",
    "    print('Recall: ', r5/cont)\n",
    "    print('F1-score: ', f5/cont)\n",
    "        #print(pacum)\n",
    "        #print('***  SVC  ***')\n",
    "        #print('Precision: ', p4/cont)\n",
    "        #print('Recall: ', r4/cont)\n",
    "        #print('F1-score: ', f4/cont)\n",
    "            #print(classification_report(y_test, y_pred))\n",
    "\n"
   ]
  },
  {
   "cell_type": "raw",
   "metadata": {},
   "source": [
    "The next results are of classification using report for the class 1 (correct triples)"
   ]
  },
  {
   "cell_type": "code",
   "execution_count": 9,
   "metadata": {},
   "outputs": [
    {
     "name": "stdout",
     "output_type": "stream",
     "text": [
      "Total triples without outliers:  (655, 6)\n",
      "Total correct triples without outliers:  (195, 6)\n",
      "Total incorrect triples without outliers:  (460, 6)\n",
      "***  KNN  ***\n",
      "Precision:  0.5167272231336083\n",
      "Recall:  0.5102564102564104\n",
      "F1-score:  0.511133503786425\n",
      "***  Decision Tree  ***\n",
      "Precision:  0.5561665750783102\n",
      "Recall:  0.5634615384615388\n",
      "F1-score:  0.511133503786425\n",
      "***  Random Forest  ***\n",
      "Precision:  0.6195900862125371\n",
      "Recall:  0.5217948717948719\n",
      "F1-score:  0.5624371111005202\n",
      "***  Naive Bayes  ***\n",
      "Precision:  0.6141412431861472\n",
      "Recall:  0.6083333333333335\n",
      "F1-score:  0.6040096378751717\n"
     ]
    }
   ],
   "source": [
    "#Measure evaluated for correct triples\n",
    "dt=pd.concat([dfoc,dfo])\n",
    "print(\"Total triples without outliers: \", dt.shape)\n",
    "print(\"Total correct triples without outliers: \", dt[dt['key']=='correct'].shape)\n",
    "print(\"Total incorrect triples without outliers: \", dt[dt['key']=='incorrect'].shape)\n",
    "dt['key']=np.where(dt['key']=='correct',1, 2)\n",
    "setToTrain=set(dt.index.tolist())\n",
    "dt=xf[xf.index.isin(list(setToTrain))]\n",
    "X=dt.iloc[:,:-1].values\n",
    "Y=dt['VALIDATION'].values\n",
    "classify(X,Y, False)"
   ]
  },
  {
   "cell_type": "raw",
   "metadata": {},
   "source": [
    "The best predictor for with filtered data, looking for precision is Random Forest. \n",
    "Next I will try to train the algorithm with filtered data and predict outliers. "
   ]
  },
  {
   "cell_type": "code",
   "execution_count": 10,
   "metadata": {},
   "outputs": [
    {
     "name": "stdout",
     "output_type": "stream",
     "text": [
      "Outliers:  197\n",
      "              precision    recall  f1-score   support\n",
      "\n",
      "           1       0.27      1.00      0.43        50\n",
      "           2       1.00      0.08      0.15       147\n",
      "\n",
      "   micro avg       0.31      0.31      0.31       197\n",
      "   macro avg       0.64      0.54      0.29       197\n",
      "weighted avg       0.81      0.31      0.22       197\n",
      "\n",
      "OUTLIERS\n",
      "[2 2 1 2 2 2 1 2 1 1 1 1 1 1 2 2 2 2 2 2 2 2 2 2 2 2 1 2 1 2 2 2 1 2 2 1 2\n",
      " 2 2 2 2 2 2 2 2 2 1 1 2 2 1 2 2 2 2 2 2 2 2 2 2 2 1 2 2 2 2 2 1 2 1 2 2 2\n",
      " 1 2 1 2 2 2 2 1 2 2 1 1 2 2 2 2 2 2 1 1 1 2 1 1 2 1 2 2 2 2 2 2 1 2 2 1 2\n",
      " 2 1 1 2 2 2 2 2 2 2 2 2 1 2 1 2 2 2 1 2 2 1 2 2 2 2 2 2 2 2 2 1 2 1 1 2 2\n",
      " 2 2 2 2 2 2 2 1 2 2 1 2 2 1 2 2 2 2 1 2 2 2 2 1 1 1 1 2 1 2 2 2 2 2 2 2 2\n",
      " 2 2 2 2 2 2 2 2 2 2 1 2]\n",
      "PREDICTED\n",
      "[1 1 1 1 1 1 1 1 1 1 1 1 1 1 1 2 2 1 1 1 1 1 1 1 1 1 1 1 1 2 1 1 1 1 2 1 1\n",
      " 1 1 1 1 1 1 1 1 1 1 1 2 1 1 1 1 1 1 1 1 1 1 1 1 2 1 1 1 1 1 1 1 1 1 1 1 1\n",
      " 1 1 1 1 1 2 1 1 2 1 1 1 1 1 1 1 1 1 1 1 1 1 1 1 1 1 1 1 1 1 1 1 1 1 1 1 1\n",
      " 1 1 1 1 1 1 1 1 1 1 2 1 1 1 1 1 1 1 1 1 1 1 1 1 1 1 1 1 1 1 1 1 1 1 1 2 1\n",
      " 1 1 1 1 1 1 1 1 1 1 1 1 1 1 1 1 1 1 1 1 1 1 1 1 1 1 1 1 1 2 1 1 1 2 1 1 1\n",
      " 1 1 1 1 1 1 1 1 1 1 1 1]\n"
     ]
    }
   ],
   "source": [
    "#Training Random Forest:\n",
    "setAll=set(xf.index.tolist())\n",
    "setFiltered=setAll-setToTrain\n",
    "outliers=xf[xf.index.isin(list(setFiltered))]\n",
    "print(\"Outliers: \", outliers.shape[0])\n",
    "RF=  RandomForestClassifier(max_depth=3,random_state=101, max_features=None, min_samples_leaf=3)\n",
    "RF.fit(X,Y)\n",
    "X_test=outliers.iloc[:,:-1].values\n",
    "y_test=outliers['VALIDATION'].values\n",
    "y_pred=RF.predict(X_test)\n",
    "print(classification_report(y_test, y_pred))\n",
    "print(\"OUTLIERS\")\n",
    "print(y_test)\n",
    "print(\"PREDICTED\")\n",
    "print(y_pred)"
   ]
  },
  {
   "cell_type": "markdown",
   "metadata": {},
   "source": [
    "#### PROBABILITY THRESHOLD EVALUATION, TESTING OVER OUTILIERS"
   ]
  },
  {
   "cell_type": "raw",
   "metadata": {},
   "source": [
    "With class 1 as positive class, Random Forest doesn't performs good until using 0.6 of probability for class 1, using test of outliers data. "
   ]
  },
  {
   "cell_type": "code",
   "execution_count": 11,
   "metadata": {},
   "outputs": [],
   "source": [
    "from sklearn.metrics import roc_curve, auc\n",
    "from sklearn.model_selection import train_test_split\n",
    "def probability_analysis(X,Y, X_test=None, y_test=None, label=1):    \n",
    "    if X_test is not None:\n",
    "        X_train=X\n",
    "        y_train=Y\n",
    "        y_score = RF.fit(X_train, y_train).predict_proba(X_test)[:, 1]\n",
    "    else:\n",
    "        X_train, X_test, y_train, y_test = train_test_split(X, Y, test_size=0.3,\n",
    "                                                    random_state=0)\n",
    "        y_score = RF.fit(X_train, y_train).predict_proba(X_test)[:, 1]\n",
    "        \n",
    "    fpr = dict()\n",
    "    tpr = dict()\n",
    "    roc_auc = dict()\n",
    "    labels=[1,2]\n",
    "    th=dict()\n",
    "    #for i in labels:\n",
    "    fpr[label], tpr[label], th[label] = roc_curve(y_test, y_score,  pos_label=label)\n",
    "    roc_auc[label] = auc(fpr[label], tpr[label])\n",
    "    print(roc_auc)\n",
    "    #print(\"TH: \", th)\n",
    "    # Compute micro-average ROC curve and ROC area\n",
    "    fpr[\"micro\"], tpr[\"micro\"], _ = roc_curve(y_test.ravel(), y_score.ravel(), pos_label=1)\n",
    "    roc_auc[\"micro\"] = auc(fpr[\"micro\"], tpr[\"micro\"])\n",
    "    print(roc_auc)\n",
    "    plt.figure()\n",
    "    lw = 2\n",
    "    plt.plot(fpr[label], tpr[label], color='darkorange',\n",
    "             lw=lw, label='ROC curve (area = %0.2f)' % roc_auc[label])\n",
    "    plt.plot([0, 1], [0, 1], color='navy', lw=lw, linestyle='--')\n",
    "    plt.xlim([0.0, 1.0])\n",
    "    plt.ylim([0.0, 1.05])\n",
    "    plt.xlabel('False Positive Rate')\n",
    "    plt.ylabel('True Positive Rate')\n",
    "    plt.title('Receiver operating characteristic example - Random Forest')\n",
    "    plt.legend(loc=\"lower right\")\n",
    "    plt.show()"
   ]
  },
  {
   "cell_type": "code",
   "execution_count": 12,
   "metadata": {},
   "outputs": [
    {
     "name": "stdout",
     "output_type": "stream",
     "text": [
      "{1: 0.2872108843537415}\n",
      "{1: 0.2872108843537415, 'micro': 0.2872108843537415}\n"
     ]
    },
    {
     "data": {
      "image/png": "[encoded data removed]",
      "text/plain": [
       "<Figure size 1080x432 with 1 Axes>"
      ]
     },
     "metadata": {},
     "output_type": "display_data"
    }
   ],
   "source": [
    "#We get probability\n",
    "probability_analysis(X,Y, X_test, y_test)"
   ]
  },
  {
   "cell_type": "code",
   "execution_count": 13,
   "metadata": {},
   "outputs": [
    {
     "name": "stdout",
     "output_type": "stream",
     "text": [
      "{1: 0.2397790055248619}\n",
      "{1: 0.2397790055248619, 'micro': 0.2397790055248619}\n"
     ]
    },
    {
     "data": {
      "image/png": "[encoded data removed]",
      "text/plain": [
       "<Figure size 1080x432 with 1 Axes>"
      ]
     },
     "metadata": {},
     "output_type": "display_data"
    }
   ],
   "source": [
    "# Similar results are obtained for all data. \n",
    "X=xf.iloc[:,:-1].values\n",
    "Y=xf['VALIDATION'].values\n",
    "probability_analysis(X,Y)"
   ]
  },
  {
   "cell_type": "code",
   "execution_count": 14,
   "metadata": {},
   "outputs": [
    {
     "data": {
      "text/html": [
       "<div>\n",
       "<style scoped>\n",
       "    .dataframe tbody tr th:only-of-type {\n",
       "        vertical-align: middle;\n",
       "    }\n",
       "\n",
       "    .dataframe tbody tr th {\n",
       "        vertical-align: top;\n",
       "    }\n",
       "\n",
       "    .dataframe thead th {\n",
       "        text-align: right;\n",
       "    }\n",
       "</style>\n",
       "<table border=\"1\" class=\"dataframe\">\n",
       "  <thead>\n",
       "    <tr style=\"text-align: right;\">\n",
       "      <th></th>\n",
       "      <th>61</th>\n",
       "      <th>62</th>\n",
       "      <th>63</th>\n",
       "      <th>VALIDATION</th>\n",
       "      <th>ORIGIN</th>\n",
       "      <th>CLUSTER</th>\n",
       "      <th>TABLE</th>\n",
       "      <th>CELL</th>\n",
       "      <th>NAME_COL1</th>\n",
       "      <th>NAME_COL2</th>\n",
       "      <th>ENTITY_COL1</th>\n",
       "      <th>PREDICATE</th>\n",
       "      <th>ENTITY_COL2</th>\n",
       "      <th>64</th>\n",
       "    </tr>\n",
       "  </thead>\n",
       "  <tbody>\n",
       "    <tr>\n",
       "      <th>46</th>\n",
       "      <td>0.116939</td>\n",
       "      <td>0.406470</td>\n",
       "      <td>2</td>\n",
       "      <td>2</td>\n",
       "      <td>t</td>\n",
       "      <td>2</td>\n",
       "      <td>114126.11</td>\n",
       "      <td>4:-1:1</td>\n",
       "      <td>protag_article@3</td>\n",
       "      <td>spancol@4</td>\n",
       "      <td>https://en.wikipedia.org/wiki/List_of_Latvian_...</td>\n",
       "      <td>P17 :country@en</td>\n",
       "      <td>https://en.wikipedia.org/wiki/Latvia :Q211</td>\n",
       "      <td>1</td>\n",
       "    </tr>\n",
       "    <tr>\n",
       "      <th>53</th>\n",
       "      <td>0.116939</td>\n",
       "      <td>0.406470</td>\n",
       "      <td>2</td>\n",
       "      <td>2</td>\n",
       "      <td>t</td>\n",
       "      <td>2</td>\n",
       "      <td>27054.44</td>\n",
       "      <td>14:-1:1</td>\n",
       "      <td>protag_article@3</td>\n",
       "      <td>spancol@4</td>\n",
       "      <td>https://en.wikipedia.org/wiki/2000%E2%80%9301_...</td>\n",
       "      <td>P17 :country@en</td>\n",
       "      <td>https://en.wikipedia.org/wiki/Cameroon :Q1009</td>\n",
       "      <td>1</td>\n",
       "    </tr>\n",
       "    <tr>\n",
       "      <th>64</th>\n",
       "      <td>0.602756</td>\n",
       "      <td>0.533935</td>\n",
       "      <td>2</td>\n",
       "      <td>1</td>\n",
       "      <td>f</td>\n",
       "      <td>2</td>\n",
       "      <td>560380.10</td>\n",
       "      <td>3:3:2</td>\n",
       "      <td>player@3</td>\n",
       "      <td>posit@3</td>\n",
       "      <td>https://en.wikipedia.org/wiki/Vladimir_Nikolov...</td>\n",
       "      <td>P413 :position played on team / speciality@en</td>\n",
       "      <td>https://en.wikipedia.org/wiki/Midfielder :Q193592</td>\n",
       "      <td>1</td>\n",
       "    </tr>\n",
       "    <tr>\n",
       "      <th>65</th>\n",
       "      <td>0.116939</td>\n",
       "      <td>0.406470</td>\n",
       "      <td>2</td>\n",
       "      <td>2</td>\n",
       "      <td>f</td>\n",
       "      <td>2</td>\n",
       "      <td>562929.3</td>\n",
       "      <td>3:-1:1</td>\n",
       "      <td>protag_article@3</td>\n",
       "      <td>spancol@4</td>\n",
       "      <td>https://en.wikipedia.org/wiki/Fort_Worth_Vaque...</td>\n",
       "      <td>P17 :country@en</td>\n",
       "      <td>https://en.wikipedia.org/wiki/Mexico :Q96</td>\n",
       "      <td>1</td>\n",
       "    </tr>\n",
       "    <tr>\n",
       "      <th>71</th>\n",
       "      <td>0.602756</td>\n",
       "      <td>0.533935</td>\n",
       "      <td>2</td>\n",
       "      <td>2</td>\n",
       "      <td>f</td>\n",
       "      <td>2</td>\n",
       "      <td>669590.3</td>\n",
       "      <td>3:3:2</td>\n",
       "      <td>player@3</td>\n",
       "      <td>posit@3</td>\n",
       "      <td>https://en.wikipedia.org/wiki/Berliner_AK_07 :...</td>\n",
       "      <td>P413 :position played on team / speciality@en</td>\n",
       "      <td>https://en.wikipedia.org/wiki/Defender_(associ...</td>\n",
       "      <td>1</td>\n",
       "    </tr>\n",
       "  </tbody>\n",
       "</table>\n",
       "</div>"
      ],
      "text/plain": [
       "          61        62  63  VALIDATION ORIGIN  CLUSTER      TABLE     CELL  \\\n",
       "46  0.116939  0.406470   2           2      t        2  114126.11   4:-1:1   \n",
       "53  0.116939  0.406470   2           2      t        2   27054.44  14:-1:1   \n",
       "64  0.602756  0.533935   2           1      f        2  560380.10    3:3:2   \n",
       "65  0.116939  0.406470   2           2      f        2   562929.3   3:-1:1   \n",
       "71  0.602756  0.533935   2           2      f        2   669590.3    3:3:2   \n",
       "\n",
       "           NAME_COL1  NAME_COL2  \\\n",
       "46  protag_article@3  spancol@4   \n",
       "53  protag_article@3  spancol@4   \n",
       "64          player@3    posit@3   \n",
       "65  protag_article@3  spancol@4   \n",
       "71          player@3    posit@3   \n",
       "\n",
       "                                          ENTITY_COL1  \\\n",
       "46  https://en.wikipedia.org/wiki/List_of_Latvian_...   \n",
       "53  https://en.wikipedia.org/wiki/2000%E2%80%9301_...   \n",
       "64  https://en.wikipedia.org/wiki/Vladimir_Nikolov...   \n",
       "65  https://en.wikipedia.org/wiki/Fort_Worth_Vaque...   \n",
       "71  https://en.wikipedia.org/wiki/Berliner_AK_07 :...   \n",
       "\n",
       "                                        PREDICATE  \\\n",
       "46                                P17 :country@en   \n",
       "53                                P17 :country@en   \n",
       "64  P413 :position played on team / speciality@en   \n",
       "65                                P17 :country@en   \n",
       "71  P413 :position played on team / speciality@en   \n",
       "\n",
       "                                          ENTITY_COL2  64  \n",
       "46         https://en.wikipedia.org/wiki/Latvia :Q211   1  \n",
       "53      https://en.wikipedia.org/wiki/Cameroon :Q1009   1  \n",
       "64  https://en.wikipedia.org/wiki/Midfielder :Q193592   1  \n",
       "65          https://en.wikipedia.org/wiki/Mexico :Q96   1  \n",
       "71  https://en.wikipedia.org/wiki/Defender_(associ...   1  "
      ]
     },
     "execution_count": 14,
     "metadata": {},
     "output_type": "execute_result"
    }
   ],
   "source": [
    "#Outliers data\n",
    "data[data.index.isin(list(setFiltered))].iloc[:,56:].head()"
   ]
  },
  {
   "cell_type": "code",
   "execution_count": 15,
   "metadata": {},
   "outputs": [
    {
     "name": "stdout",
     "output_type": "stream",
     "text": [
      "***  KNN  ***\n",
      "Precision:  0.5163562789148286\n",
      "Recall:  0.48979591836734687\n",
      "F1-score:  0.5005950110568372\n",
      "***  Decision Tree  ***\n",
      "Precision:  0.5211269752137768\n",
      "Recall:  0.5204081632653061\n",
      "F1-score:  0.5005950110568372\n",
      "***  Random Forest  ***\n",
      "Precision:  0.6520428999372844\n",
      "Recall:  0.4811224489795918\n",
      "F1-score:  0.5494783105127967\n",
      "***  Naive Bayes  ***\n",
      "Precision:  0.4774987970682475\n",
      "Recall:  0.5928571428571427\n",
      "F1-score:  0.516088775690212\n"
     ]
    }
   ],
   "source": [
    "#No filtered data with all features: 32,34,36,61,62 \n",
    "# Measure evaluated with correct Triples\n",
    "X=xf.iloc[:,:-1].values\n",
    "Y=xf['VALIDATION'].values\n",
    "classify(X,Y, False)"
   ]
  },
  {
   "cell_type": "markdown",
   "metadata": {},
   "source": [
    "### Important!"
   ]
  },
  {
   "cell_type": "raw",
   "metadata": {},
   "source": [
    "Due to features 32,34 and 36 will be 0 if predicate is given by cluster instead by  table, using only features 61,62 on models will give similar or better results as well. "
   ]
  },
  {
   "cell_type": "code",
   "execution_count": 16,
   "metadata": {},
   "outputs": [
    {
     "name": "stdout",
     "output_type": "stream",
     "text": [
      "***  KNN  ***\n",
      "Precision:  0.4905638747567152\n",
      "Recall:  0.4637755102040816\n",
      "F1-score:  0.4747195196099808\n",
      "***  Decision Tree  ***\n",
      "Precision:  0.5164092215243935\n",
      "Recall:  0.5275510204081633\n",
      "F1-score:  0.4747195196099808\n",
      "***  Random Forest  ***\n",
      "Precision:  0.6602824683943539\n",
      "Recall:  0.49132653061224485\n",
      "F1-score:  0.5600246558032159\n",
      "***  Naive Bayes  ***\n",
      "Precision:  0.40942176204537395\n",
      "Recall:  0.7551020408163265\n",
      "F1-score:  0.5283272888436505\n"
     ]
    }
   ],
   "source": [
    "X=xf.copy()\n",
    "del X[31]\n",
    "del X[32]\n",
    "del X[33]\n",
    "del X[34]\n",
    "del X[35]\n",
    "del X[36]\n",
    "X=X.iloc[:,:-1].values\n",
    "Y=xf['VALIDATION'].values\n",
    "classify(X,Y, False)"
   ]
  },
  {
   "cell_type": "markdown",
   "metadata": {},
   "source": [
    "### Adding correct triples that exist in Wikidata"
   ]
  },
  {
   "cell_type": "code",
   "execution_count": 17,
   "metadata": {},
   "outputs": [
    {
     "name": "stdout",
     "output_type": "stream",
     "text": [
      "Size:  (852, 70)\n"
     ]
    },
    {
     "data": {
      "text/html": [
       "<div>\n",
       "<style scoped>\n",
       "    .dataframe tbody tr th:only-of-type {\n",
       "        vertical-align: middle;\n",
       "    }\n",
       "\n",
       "    .dataframe tbody tr th {\n",
       "        vertical-align: top;\n",
       "    }\n",
       "\n",
       "    .dataframe thead th {\n",
       "        text-align: right;\n",
       "    }\n",
       "</style>\n",
       "<table border=\"1\" class=\"dataframe\">\n",
       "  <thead>\n",
       "    <tr style=\"text-align: right;\">\n",
       "      <th></th>\n",
       "      <th>1</th>\n",
       "      <th>2</th>\n",
       "      <th>3</th>\n",
       "      <th>4</th>\n",
       "      <th>5</th>\n",
       "      <th>6</th>\n",
       "      <th>7</th>\n",
       "      <th>8</th>\n",
       "      <th>9</th>\n",
       "      <th>10</th>\n",
       "      <th>...</th>\n",
       "      <th>VALIDATION</th>\n",
       "      <th>ORIGIN</th>\n",
       "      <th>CLUSTER</th>\n",
       "      <th>TABLE</th>\n",
       "      <th>CELL</th>\n",
       "      <th>NAME_COL1</th>\n",
       "      <th>NAME_COL2</th>\n",
       "      <th>ENTITY_COL1</th>\n",
       "      <th>PREDICATE</th>\n",
       "      <th>ENTITY_COL2</th>\n",
       "    </tr>\n",
       "  </thead>\n",
       "  <tbody>\n",
       "    <tr>\n",
       "      <th>0</th>\n",
       "      <td>0</td>\n",
       "      <td>4</td>\n",
       "      <td>12</td>\n",
       "      <td>6</td>\n",
       "      <td>2.0</td>\n",
       "      <td>36</td>\n",
       "      <td>2</td>\n",
       "      <td>3</td>\n",
       "      <td>12</td>\n",
       "      <td>12</td>\n",
       "      <td>...</td>\n",
       "      <td>1</td>\n",
       "      <td>f</td>\n",
       "      <td>72</td>\n",
       "      <td>836544.4</td>\n",
       "      <td>1:2:3</td>\n",
       "      <td>name@3</td>\n",
       "      <td>nation@3</td>\n",
       "      <td>https://en.wikipedia.org/wiki/Marlies_G%C3%B6h...</td>\n",
       "      <td>P1532 :country for sport@en</td>\n",
       "      <td>https://en.wikipedia.org/wiki/East_Germany :Q1...</td>\n",
       "    </tr>\n",
       "    <tr>\n",
       "      <th>1</th>\n",
       "      <td>0</td>\n",
       "      <td>2</td>\n",
       "      <td>10</td>\n",
       "      <td>5</td>\n",
       "      <td>2.0</td>\n",
       "      <td>17</td>\n",
       "      <td>-1</td>\n",
       "      <td>1</td>\n",
       "      <td>6</td>\n",
       "      <td>6</td>\n",
       "      <td>...</td>\n",
       "      <td>1</td>\n",
       "      <td>f</td>\n",
       "      <td>372</td>\n",
       "      <td>568763.2</td>\n",
       "      <td>4:-1:1</td>\n",
       "      <td>protag_article@3</td>\n",
       "      <td>titl@3</td>\n",
       "      <td>https://en.wikipedia.org/wiki/Hangin%27_Tough ...</td>\n",
       "      <td>P361-1 :part of@en</td>\n",
       "      <td>https://en.wikipedia.org/wiki/Cover_Girl_(New_...</td>\n",
       "    </tr>\n",
       "    <tr>\n",
       "      <th>2</th>\n",
       "      <td>0</td>\n",
       "      <td>1</td>\n",
       "      <td>10</td>\n",
       "      <td>4</td>\n",
       "      <td>2.5</td>\n",
       "      <td>28</td>\n",
       "      <td>1</td>\n",
       "      <td>2</td>\n",
       "      <td>9</td>\n",
       "      <td>9</td>\n",
       "      <td>...</td>\n",
       "      <td>1</td>\n",
       "      <td>f</td>\n",
       "      <td>36</td>\n",
       "      <td>242469.1</td>\n",
       "      <td>6:1:2</td>\n",
       "      <td>rider@3</td>\n",
       "      <td>team@3</td>\n",
       "      <td>https://en.wikipedia.org/wiki/Nikki_Harris :Q2...</td>\n",
       "      <td>P54 :member of sports team@en</td>\n",
       "      <td>https://en.wikipedia.org/wiki/Boels%E2%80%93Do...</td>\n",
       "    </tr>\n",
       "  </tbody>\n",
       "</table>\n",
       "<p>3 rows × 73 columns</p>\n",
       "</div>"
      ],
      "text/plain": [
       "   1  2   3  4    5   6  7  8   9  10  \\\n",
       "0  0  4  12  6  2.0  36  2  3  12  12   \n",
       "1  0  2  10  5  2.0  17 -1  1   6   6   \n",
       "2  0  1  10  4  2.5  28  1  2   9   9   \n",
       "\n",
       "                         ...                          VALIDATION  ORIGIN  \\\n",
       "0                        ...                                   1       f   \n",
       "1                        ...                                   1       f   \n",
       "2                        ...                                   1       f   \n",
       "\n",
       "   CLUSTER     TABLE    CELL         NAME_COL1  NAME_COL2  \\\n",
       "0       72  836544.4   1:2:3            name@3   nation@3   \n",
       "1      372  568763.2  4:-1:1  protag_article@3     titl@3   \n",
       "2       36  242469.1   6:1:2           rider@3     team@3   \n",
       "\n",
       "                                         ENTITY_COL1  \\\n",
       "0  https://en.wikipedia.org/wiki/Marlies_G%C3%B6h...   \n",
       "1  https://en.wikipedia.org/wiki/Hangin%27_Tough ...   \n",
       "2  https://en.wikipedia.org/wiki/Nikki_Harris :Q2...   \n",
       "\n",
       "                       PREDICATE  \\\n",
       "0    P1532 :country for sport@en   \n",
       "1             P361-1 :part of@en   \n",
       "2  P54 :member of sports team@en   \n",
       "\n",
       "                                         ENTITY_COL2  \n",
       "0  https://en.wikipedia.org/wiki/East_Germany :Q1...  \n",
       "1  https://en.wikipedia.org/wiki/Cover_Girl_(New_...  \n",
       "2  https://en.wikipedia.org/wiki/Boels%E2%80%93Do...  \n",
       "\n",
       "[3 rows x 73 columns]"
      ]
     },
     "execution_count": 17,
     "metadata": {},
     "output_type": "execute_result"
    }
   ],
   "source": [
    "dataCorrect = pd.read_csv('sample300Frame.csv',sep=\"\\t\", decimal=\",\", index_col=False)\n",
    "print(\"Size: \", data.shape)\n",
    "#data1=data[data['ORIGIN']=='f']\n",
    "dataCorrect.head(3)"
   ]
  },
  {
   "cell_type": "code",
   "execution_count": 18,
   "metadata": {},
   "outputs": [
    {
     "name": "stdout",
     "output_type": "stream",
     "text": [
      "Number of correct triples:  (300, 58)\n",
      "Number of incorrect triples:  (0, 58)\n",
      "***  KNN  ***\n",
      "Precision:  0.7127361177966711\n",
      "Recall:  0.6809633027522936\n",
      "F1-score:  0.6954905983605016\n",
      "***  Decision Tree  ***\n",
      "Precision:  0.767489139906308\n",
      "Recall:  0.7573394495412842\n",
      "F1-score:  0.6954905983605016\n",
      "***  Random Forest  ***\n",
      "Precision:  0.8474039994712106\n",
      "Recall:  0.7392201834862385\n",
      "F1-score:  0.7884827430604517\n",
      "***  Naive Bayes  ***\n",
      "Precision:  0.860668718739268\n",
      "Recall:  0.5912844036697248\n",
      "F1-score:  0.6999699773194443\n"
     ]
    }
   ],
   "source": [
    "#Append new data to initial group.\n",
    "\n",
    "xf1=filterFeatures(dataCorrect)\n",
    "xfNew=xf.append(xf1)\n",
    "xfNew.shape\n",
    "X=xfNew.iloc[:,:-1].values\n",
    "Y=xfNew['VALIDATION'].values\n",
    "classify(X,Y, False)"
   ]
  },
  {
   "cell_type": "markdown",
   "metadata": {},
   "source": [
    "Adding correct triples the performance is good, but it is necesary to know that the most of triples in dataset are generated with predicates extracted from cluster and correct triples extracted from cluster are less than 10%"
   ]
  },
  {
   "cell_type": "code",
   "execution_count": 30,
   "metadata": {},
   "outputs": [
    {
     "name": "stdout",
     "output_type": "stream",
     "text": [
      "***  KNN  ***\n",
      "Precision:  0.7041822626801248\n",
      "Recall:  0.6637614678899083\n",
      "F1-score:  0.6825282862236216\n",
      "***  Decision Tree  ***\n",
      "Precision:  0.7613982594889075\n",
      "Recall:  0.773394495412844\n",
      "F1-score:  0.6825282862236216\n",
      "***  Random Forest  ***\n",
      "Precision:  0.8417141497830283\n",
      "Recall:  0.757110091743119\n",
      "F1-score:  0.7959659226995216\n",
      "***  Naive Bayes  ***\n",
      "Precision:  0.8497576420021501\n",
      "Recall:  0.5612385321100917\n",
      "F1-score:  0.6743354885751984\n"
     ]
    }
   ],
   "source": [
    "#If features of table are not included, the results are similar. \n",
    "#Without table features.\n",
    "test=xfNew.copy()\n",
    "del test[31]\n",
    "del test[32]\n",
    "del test[33]\n",
    "del test[34]\n",
    "del test[35]\n",
    "del test[36]\n",
    "X=test.iloc[:,:-1].values\n",
    "Y=test['VALIDATION'].values\n",
    "classify(X,Y, False)"
   ]
  },
  {
   "cell_type": "raw",
   "metadata": {},
   "source": [
    "Remove outliers in features:32,34,36,61,62 over new dataset, train model and test over removed data"
   ]
  },
  {
   "cell_type": "code",
   "execution_count": 20,
   "metadata": {},
   "outputs": [
    {
     "name": "stderr",
     "output_type": "stream",
     "text": [
      "/usr/local/lib/python3.5/dist-packages/ipykernel_launcher.py:13: SettingWithCopyWarning: \n",
      "A value is trying to be set on a copy of a slice from a DataFrame.\n",
      "Try using .loc[row_indexer,col_indexer] = value instead\n",
      "\n",
      "See the caveats in the documentation: http://pandas.pydata.org/pandas-docs/stable/indexing.html#indexing-view-versus-copy\n",
      "  del sys.path[0]\n"
     ]
    },
    {
     "data": {
      "image/png": "[encoded data removed]",
      "text/plain": [
       "<Figure size 1080x432 with 2 Axes>"
      ]
     },
     "metadata": {},
     "output_type": "display_data"
    }
   ],
   "source": [
    "c=xfNew[xfNew['VALIDATION']==1][[32,34,36,61,62]]\n",
    "Q1 = c.quantile(0.25)\n",
    "Q3 = c.quantile(0.75)\n",
    "IQR = Q3 - Q1\n",
    "dfoc = c[~((c < (Q1 - 1.5 * IQR)) |(c > (Q3 + 1.5 * IQR))).any(axis=1)]\n",
    "dfoc['key'] = 'correct'\n",
    "\n",
    "i=xfNew[xfNew['VALIDATION']==2][[32,34,36,61,62]]\n",
    "Q1 = i.quantile(0.25)\n",
    "Q3 = i.quantile(0.75)\n",
    "IQR = Q3 - Q1\n",
    "dfo = i[~((i < (Q1 - 1.5 * IQR)) |(i > (Q3 + 1.5 * IQR))).any(axis=1)]\n",
    "dfo['key'] = 'incorrect'\n",
    "\n",
    "DF = pd.concat([dfoc,dfo],keys=['correct','incorrect'])\n",
    "DFGroup = DF.groupby(['key'])\n",
    "ax=DFGroup.boxplot()\n",
    "plt.show()"
   ]
  },
  {
   "cell_type": "code",
   "execution_count": 21,
   "metadata": {},
   "outputs": [
    {
     "name": "stdout",
     "output_type": "stream",
     "text": [
      "Total triples without outliers:  (1005, 6)\n",
      "Total correct triples without outliers:  (545, 6)\n",
      "Total incorrect triples without outliers:  (460, 6)\n",
      "Outliers:  129\n",
      "              precision    recall  f1-score   support\n",
      "\n",
      "           1       0.00      0.00      0.00         0\n",
      "           2       1.00      0.53      0.70       129\n",
      "\n",
      "   micro avg       0.53      0.53      0.53       129\n",
      "   macro avg       0.50      0.27      0.35       129\n",
      "weighted avg       1.00      0.53      0.70       129\n",
      "\n",
      "OUTLIERS\n",
      "[2 2 2 2 2 2 2 2 2 2 2 2 2 2 2 2 2 2 2 2 2 2 2 2 2 2 2 2 2 2 2 2 2 2 2 2 2\n",
      " 2 2 2 2 2 2 2 2 2 2 2 2 2 2 2 2 2 2 2 2 2 2 2 2 2 2 2 2 2 2 2 2 2 2 2 2 2\n",
      " 2 2 2 2 2 2 2 2 2 2 2 2 2 2 2 2 2 2 2 2 2 2 2 2 2 2 2 2 2 2 2 2 2 2 2 2 2\n",
      " 2 2 2 2 2 2 2 2 2 2 2 2 2 2 2 2 2 2]\n",
      "PREDICTED\n",
      "[1 2 2 2 1 2 1 1 2 2 2 2 1 2 2 2 2 2 1 2 2 2 2 2 1 2 1 1 2 2 1 2 2 1 1 2 1\n",
      " 1 2 1 2 2 2 2 2 2 2 1 1 1 2 1 2 2 2 1 2 1 1 1 2 1 1 2 1 2 1 2 2 2 1 2 2 2\n",
      " 2 2 2 2 2 2 1 1 2 1 2 1 2 2 1 1 2 1 1 1 1 1 1 1 1 2 1 1 2 1 2 1 2 2 1 2 1\n",
      " 1 2 1 1 2 2 1 1 1 1 2 1 2 1 2 1 1 1]\n"
     ]
    },
    {
     "name": "stderr",
     "output_type": "stream",
     "text": [
      "/home/jhomara/.local/lib/python3.5/site-packages/sklearn/metrics/classification.py:1145: UndefinedMetricWarning: Recall and F-score are ill-defined and being set to 0.0 in labels with no true samples.\n",
      "  'recall', 'true', average, warn_for)\n"
     ]
    }
   ],
   "source": [
    "#Training Naive Bayes:\n",
    "#Measure evaluated for correct triples\n",
    "dt=pd.concat([dfoc,dfo])\n",
    "print(\"Total triples without outliers: \", dt.shape)\n",
    "print(\"Total correct triples without outliers: \", dt[dt['key']=='correct'].shape)\n",
    "print(\"Total incorrect triples without outliers: \", dt[dt['key']=='incorrect'].shape)\n",
    "dt['key']=np.where(dt['key']=='correct',1, 2)\n",
    "\n",
    "\n",
    "\n",
    "setAll=set(xfNew.index.tolist())\n",
    "setToTrain=set(dt.index.tolist())\n",
    "alld=xfNew[xfNew.index.isin(list(setToTrain))]\n",
    "X=alld.iloc[:,:-1].values\n",
    "Y=alld['VALIDATION'].values\n",
    "\n",
    "setFiltered=setAll-setToTrain\n",
    "outliers=xfNew[xfNew.index.isin(list(setFiltered))]\n",
    "print(\"Outliers: \", outliers.shape[0])\n",
    "NB = GaussianNB()\n",
    "NB.fit(X,Y)\n",
    "X_test=outliers.iloc[:,:-1].values\n",
    "y_test=outliers['VALIDATION'].values\n",
    "y_pred=NB.predict(X_test)\n",
    "print(classification_report(y_test, y_pred))\n",
    "print(\"OUTLIERS\")\n",
    "print(y_test)\n",
    "print(\"PREDICTED\")\n",
    "print(y_pred)"
   ]
  },
  {
   "cell_type": "code",
   "execution_count": 22,
   "metadata": {},
   "outputs": [
    {
     "name": "stdout",
     "output_type": "stream",
     "text": [
      "{1: 0.0686789712039648}\n",
      "{1: 0.0686789712039648, 'micro': 0.0686789712039648}\n"
     ]
    },
    {
     "data": {
      "image/png": "[encoded data removed]",
      "text/plain": [
       "<Figure size 1080x432 with 1 Axes>"
      ]
     },
     "metadata": {},
     "output_type": "display_data"
    }
   ],
   "source": [
    "probability_analysis(X,Y)"
   ]
  },
  {
   "cell_type": "code",
   "execution_count": 23,
   "metadata": {},
   "outputs": [],
   "source": [
    "#Saving trained model\n",
    "import pickle\n",
    "cl5 = GaussianNB()\n",
    "cl5.fit(X,Y)\n",
    "filename = 'trainedModelNoise2.sav'\n",
    "pickle.dump(cl5, open(filename, 'wb'))"
   ]
  },
  {
   "cell_type": "markdown",
   "metadata": {},
   "source": [
    "### Some stats"
   ]
  },
  {
   "cell_type": "code",
   "execution_count": 24,
   "metadata": {},
   "outputs": [
    {
     "data": {
      "text/plain": [
       "(1023,)"
      ]
     },
     "execution_count": 24,
     "metadata": {},
     "output_type": "execute_result"
    }
   ],
   "source": [
    "Y.shape"
   ]
  },
  {
   "cell_type": "code",
   "execution_count": 25,
   "metadata": {},
   "outputs": [
    {
     "name": "stdout",
     "output_type": "stream",
     "text": [
      "KNN: 0.755591 (0.024341)\n",
      "DT: 0.815756 (0.024646)\n",
      "RF: 0.846912 (0.025913)\n",
      "SVM: 0.843180 (0.022269)\n",
      "GNB: 0.793136 (0.025979)\n"
     ]
    },
    {
     "data": {
      "image/png": "[encoded data removed]",
      "text/plain": [
       "<Figure size 1080x432 with 1 Axes>"
      ]
     },
     "metadata": {},
     "output_type": "display_data"
    }
   ],
   "source": [
    "# Compare Algorithms Weighted average\n",
    "import pandas\n",
    "import matplotlib.pyplot as plt\n",
    "from sklearn import model_selection\n",
    "from sklearn.linear_model import LogisticRegression\n",
    "from sklearn.tree import DecisionTreeClassifier\n",
    "from sklearn.neighbors import KNeighborsClassifier\n",
    "from sklearn.discriminant_analysis import LinearDiscriminantAnalysis\n",
    "from sklearn.naive_bayes import GaussianNB\n",
    "from sklearn.svm import SVC\n",
    "\n",
    "seed = 7\n",
    "models = []\n",
    "cl1 = KNeighborsClassifier(n_neighbors=1)\n",
    "cl2 = DecisionTreeClassifier()\n",
    "cl3 = RandomForestClassifier(max_depth=10,max_features=None, min_samples_leaf=3)\n",
    "cl4=  SVC(kernel='linear')\n",
    "cl5 = GaussianNB()\n",
    "models.append(('KNN',cl1))\n",
    "models.append(('DT', cl2))\n",
    "models.append(('RF', cl3))\n",
    "models.append(('SVM', cl4))\n",
    "models.append(('GNB', cl5))\n",
    "results = []\n",
    "names = []\n",
    "scoring = 'f1_weighted'\n",
    "for name, model in models:\n",
    "    #kfold = model_selection.KFold(n_splits=40, random_state=seed)\n",
    "    kfold = StratifiedShuffleSplit(n_splits=40, test_size=0.2) \n",
    "    cv_results = model_selection.cross_val_score(model, X, Y, cv=kfold, scoring=scoring)\n",
    "    results.append(cv_results)\n",
    "    names.append(name)\n",
    "    msg = \"%s: %f (%f)\" % (name, cv_results.mean(), cv_results.std())\n",
    "    print(msg)\n",
    "# boxplot algorithm comparison\n",
    "fig = plt.figure()\n",
    "fig.suptitle('Algorithm Comparison')\n",
    "ax = fig.add_subplot(111)\n",
    "plt.boxplot(results)\n",
    "ax.set_xticklabels(names)\n",
    "plt.show()"
   ]
  },
  {
   "cell_type": "code",
   "execution_count": 26,
   "metadata": {},
   "outputs": [
    {
     "data": {
      "text/plain": [
       "\"\\nfrom sklearn.ensemble import RandomForestClassifier\\nfrom sklearn.tree import export_graphviz\\nmodel = RandomForestClassifier(n_estimators=10)\\nXtree=xf[[14,17,20,19,36,8,25,24,6,4,35,34,18,32,13,7,11,33,10,15,9,3,2]]\\nprint(Xtree.head(2))\\nXtreev=Xtree.values\\n\\nmodel.fit(Xtreev, y)\\nfnames=[str(fn) for fn in list(Xtree.columns)]\\ncnames=[str(v) for v in set(y.values)]\\nprint(fnames)\\nprint(cnames)\\n\\nestimator = model.estimators_[0]\\n\\n# Export as dot file\\nexport_graphviz(estimator, out_file='tree.dot', \\n                feature_names = fnames,\\n                class_names = cnames,\\n                rounded = True, proportion = False, \\n                precision = 2, filled = True)\\n\\n# Convert to png using system command (requires Graphviz)\\nfrom subprocess import call\\ncall(['dot', '-Tpng', 'tree.dot', '-o', 'tree.png', '-Gdpi=600'])\\n\\n# Display in jupyter notebook\\nfrom IPython.display import Image\\nImage(filename = 'tree.png')\""
      ]
     },
     "execution_count": 26,
     "metadata": {},
     "output_type": "execute_result"
    }
   ],
   "source": [
    "#Graph decision Tree \n",
    "\"\"\"\n",
    "from sklearn.ensemble import RandomForestClassifier\n",
    "from sklearn.tree import export_graphviz\n",
    "model = RandomForestClassifier(n_estimators=10)\n",
    "Xtree=xf[[14,17,20,19,36,8,25,24,6,4,35,34,18,32,13,7,11,33,10,15,9,3,2]]\n",
    "print(Xtree.head(2))\n",
    "Xtreev=Xtree.values\n",
    "\n",
    "model.fit(Xtreev, y)\n",
    "fnames=[str(fn) for fn in list(Xtree.columns)]\n",
    "cnames=[str(v) for v in set(y.values)]\n",
    "print(fnames)\n",
    "print(cnames)\n",
    "\n",
    "estimator = model.estimators_[0]\n",
    "\n",
    "# Export as dot file\n",
    "export_graphviz(estimator, out_file='tree.dot', \n",
    "                feature_names = fnames,\n",
    "                class_names = cnames,\n",
    "                rounded = True, proportion = False, \n",
    "                precision = 2, filled = True)\n",
    "\n",
    "# Convert to png using system command (requires Graphviz)\n",
    "from subprocess import call\n",
    "call(['dot', '-Tpng', 'tree.dot', '-o', 'tree.png', '-Gdpi=600'])\n",
    "\n",
    "# Display in jupyter notebook\n",
    "from IPython.display import Image\n",
    "Image(filename = 'tree.png')\"\"\""
   ]
  },
  {
   "cell_type": "code",
   "execution_count": 27,
   "metadata": {},
   "outputs": [
    {
     "name": "stdout",
     "output_type": "stream",
     "text": [
      "estimator 1\n",
      "learning curve\n",
      "learning curve2\n",
      "estimator 2\n",
      "learning curve\n",
      "learning curve2\n"
     ]
    },
    {
     "data": {
      "image/png": "[encoded data removed]",
      "text/plain": [
       "<Figure size 1080x432 with 1 Axes>"
      ]
     },
     "metadata": {},
     "output_type": "display_data"
    },
    {
     "data": {
      "image/png": "[encoded data removed]",
      "text/plain": [
       "<Figure size 1080x432 with 1 Axes>"
      ]
     },
     "metadata": {},
     "output_type": "display_data"
    }
   ],
   "source": [
    "import numpy as np\n",
    "import matplotlib.pyplot as plt\n",
    "from sklearn.naive_bayes import GaussianNB\n",
    "from sklearn.svm import SVC\n",
    "from sklearn.datasets import load_digits\n",
    "from sklearn.model_selection import learning_curve\n",
    "from sklearn.model_selection import ShuffleSplit\n",
    "\n",
    "\n",
    "def plot_learning_curve(estimator, title, X, y, ylim=None, cv=None,\n",
    "                        n_jobs=None, train_sizes=np.linspace(0.10, 1.0, 20)):\n",
    "    \n",
    "    plt.figure()\n",
    "    plt.title(title)\n",
    "    if ylim is not None:\n",
    "        plt.ylim(*ylim)\n",
    "    plt.xlabel(\"Training examples\")\n",
    "    plt.ylabel(\"Score\")\n",
    "    print('learning curve')\n",
    "    train_sizes, train_scores, test_scores = learning_curve(\n",
    "        estimator, X, y, cv=cv, n_jobs=n_jobs, train_sizes=train_sizes, scoring='f1_weighted')\n",
    "    print('learning curve2')\n",
    "    train_scores_mean = np.mean(train_scores, axis=1)\n",
    "    train_scores_std = np.std(train_scores, axis=1)\n",
    "    test_scores_mean = np.mean(test_scores, axis=1)\n",
    "    test_scores_std = np.std(test_scores, axis=1)\n",
    "    plt.grid()\n",
    "\n",
    "    plt.fill_between(train_sizes, train_scores_mean - train_scores_std,\n",
    "                     train_scores_mean + train_scores_std, alpha=0.1,\n",
    "                     color=\"r\")\n",
    "    plt.fill_between(train_sizes, test_scores_mean - test_scores_std,\n",
    "                     test_scores_mean + test_scores_std, alpha=0.1, color=\"g\")\n",
    "    plt.plot(train_sizes, train_scores_mean, 'o-', color=\"r\",\n",
    "             label=\"Training score\")\n",
    "    plt.plot(train_sizes, test_scores_mean, 'o-', color=\"g\",\n",
    "             label=\"Cross-validation score\")\n",
    "\n",
    "    plt.legend(loc=\"best\")\n",
    "    return plt\n",
    "\n",
    "title = \"Learning Curve (Random Forest)\"\n",
    "# Cross validation with 40 splits,  each time with 20% as validation set.\n",
    "cv = StratifiedShuffleSplit(n_splits=40, test_size=0.2, random_state=7)\n",
    "estimator = RandomForestClassifier(max_depth=10,random_state=101, max_features=None, min_samples_leaf=3)\n",
    "print('estimator 1')\n",
    "plot_learning_curve(estimator, title, X, Y, ylim=(0.1, 1.01), cv=cv, n_jobs=4)\n",
    "\n",
    "title = r\"Learning Curves (Naive Bayes)\"\n",
    "cv = StratifiedShuffleSplit(n_splits=40, test_size=0.2, random_state=7)\n",
    "\n",
    "estimator = GaussianNB()\n",
    "print('estimator 2')\n",
    "plot_learning_curve(estimator, title, X, Y, (0.1, 1.01), cv=cv, n_jobs=4)\n",
    "\n",
    "\n",
    "plt.show()"
   ]
  },
  {
   "cell_type": "code",
   "execution_count": 28,
   "metadata": {},
   "outputs": [
    {
     "name": "stdout",
     "output_type": "stream",
     "text": [
      "15\n",
      "cols: [33 63 55 25 30 62 40 4 60 39 32 36 61 11 34]\n",
      "Feature ranking:\n",
      "15\n",
      "1. feature 28 (0.014339)\n",
      "2. feature 55 (0.015023)\n",
      "3. feature 47 (0.016081)\n",
      "4. feature 20 (0.016917)\n",
      "5. feature 25 (0.020884)\n",
      "6. feature 54 (0.023463)\n",
      "7. feature 34 (0.023817)\n",
      "8. feature 2 (0.023952)\n",
      "9. feature 52 (0.026650)\n",
      "10. feature 33 (0.031055)\n",
      "11. feature 27 (0.044214)\n",
      "12. feature 31 (0.059913)\n",
      "13. feature 53 (0.076537)\n",
      "14. feature 9 (0.086368)\n",
      "15. feature 29 (0.151612)\n"
     ]
    },
    {
     "data": {
      "image/png": "[encoded data removed]",
      "text/plain": [
       "<Figure size 504x360 with 1 Axes>"
      ]
     },
     "metadata": {},
     "output_type": "display_data"
    }
   ],
   "source": [
    "from sklearn.ensemble import ExtraTreesClassifier\n",
    "#Compute feature importances\n",
    "forest = ExtraTreesClassifier()\n",
    "forest.fit(X, Y)\n",
    "columns=np.array(xfNew.columns)\n",
    "importances = forest.feature_importances_\n",
    "std = np.std([tree.feature_importances_ for tree in forest.estimators_],\n",
    "             axis=0)\n",
    "indices = np.argsort(importances)[::-1]\n",
    "indices=indices[0:15]\n",
    "indices=indices[::-1]\n",
    "print(len(indices))\n",
    "\n",
    "col=columns[indices]\n",
    "print('cols:', col)\n",
    "# Print the feature ranking\n",
    "print(\"Feature ranking:\")\n",
    "lenx=15\n",
    "print(len(range(lenx)))\n",
    "for f in range(lenx):\n",
    "    print(\"%d. feature %d (%f)\" % (f + 1, indices[f], importances[indices[f]]))\n",
    "\n",
    "# Plot the feature importances of the forest\n",
    "plt.figure(figsize=(7,5))\n",
    "plt.title(\"Feature importances\")\n",
    "plt.barh(range(lenx), importances[indices],\n",
    "       color=\"b\", align=\"center\")\n",
    "plt.yticks(range(lenx), col)\n",
    "#plt.xlim([-1, lenx])\n",
    "plt.show()"
   ]
  },
  {
   "cell_type": "code",
   "execution_count": null,
   "metadata": {},
   "outputs": [],
   "source": []
  }
 ],
 "metadata": {
  "kernelspec": {
   "display_name": "Python 3",
   "language": "python",
   "name": "python3"
  },
  "language_info": {
   "codemirror_mode": {
    "name": "ipython",
    "version": 3
   },
   "file_extension": ".py",
   "mimetype": "text/x-python",
   "name": "python",
   "nbconvert_exporter": "python",
   "pygments_lexer": "ipython3",
   "version": "3.5.2"
  }
 },
 "nbformat": 4,
 "nbformat_minor": 2
}
