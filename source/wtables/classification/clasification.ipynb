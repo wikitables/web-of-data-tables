{
 "cells": [
  {
   "cell_type": "code",
   "execution_count": 1,
   "metadata": {},
   "outputs": [],
   "source": [
    "import pandas as pd\n",
    "import numpy as np\n",
    "from matplotlib import pyplot as plt\n",
    "import seaborn as sns\n",
    "from sklearn.metrics import precision_score\n",
    "from sklearn.metrics import recall_score\n",
    "from sklearn.metrics import f1_score\n",
    "import warnings\n",
    "from sklearn.neighbors import KNeighborsClassifier\n",
    "from sklearn.model_selection import StratifiedShuffleSplit\n",
    "from sklearn.metrics import classification_report\n",
    "from sklearn.tree import DecisionTreeClassifier\n",
    "from sklearn.linear_model import LogisticRegression\n",
    "from sklearn.ensemble import RandomForestClassifier\n",
    "from sklearn.svm import SVC\n",
    "from sklearn.naive_bayes import GaussianNB\n",
    "from sklearn.model_selection import RepeatedKFold\n",
    "from sklearn.linear_model import SGDClassifier\n",
    "from sklearn.model_selection import cross_val_predict\n",
    "from sklearn.metrics import precision_recall_curve\n",
    "from sklearn.model_selection import train_test_split\n"
   ]
  },
  {
   "cell_type": "markdown",
   "metadata": {},
   "source": [
    "## PREPARING DATA"
   ]
  },
  {
   "cell_type": "code",
   "execution_count": 2,
   "metadata": {},
   "outputs": [],
   "source": [
    "#Training set:  852 triples annotated as correct and incorrect\n",
    "\n",
    "data = pd.read_csv('annotatedTriples.csv',sep=\"\\t\", decimal=\",\", index_col=False, dtype={'TABLE':str})\n"
   ]
  },
  {
   "cell_type": "code",
   "execution_count": 3,
   "metadata": {},
   "outputs": [],
   "source": [
    "#Updating contextual triples\n",
    "#contextual=data[data['VALIDATION']==3]\n",
    "#contextual.to_csv('contextual_triples.csv', sep='\\t', decimal=',',  float_format='%.10f')"
   ]
  },
  {
   "cell_type": "code",
   "execution_count": 4,
   "metadata": {},
   "outputs": [
    {
     "name": "stdout",
     "output_type": "stream",
     "text": [
      "Size:  (852, 69)\n"
     ]
    },
    {
     "data": {
      "text/html": [
       "<div>\n",
       "<style scoped>\n",
       "    .dataframe tbody tr th:only-of-type {\n",
       "        vertical-align: middle;\n",
       "    }\n",
       "\n",
       "    .dataframe tbody tr th {\n",
       "        vertical-align: top;\n",
       "    }\n",
       "\n",
       "    .dataframe thead th {\n",
       "        text-align: right;\n",
       "    }\n",
       "</style>\n",
       "<table border=\"1\" class=\"dataframe\">\n",
       "  <thead>\n",
       "    <tr style=\"text-align: right;\">\n",
       "      <th></th>\n",
       "      <th>2</th>\n",
       "      <th>3</th>\n",
       "      <th>4</th>\n",
       "      <th>5</th>\n",
       "      <th>6</th>\n",
       "      <th>7</th>\n",
       "      <th>8</th>\n",
       "      <th>9</th>\n",
       "      <th>10</th>\n",
       "      <th>11</th>\n",
       "      <th>...</th>\n",
       "      <th>VALIDATION</th>\n",
       "      <th>ORIGIN</th>\n",
       "      <th>CLUSTER</th>\n",
       "      <th>TABLE</th>\n",
       "      <th>CELL</th>\n",
       "      <th>NAME_COL1</th>\n",
       "      <th>NAME_COL2</th>\n",
       "      <th>ENTITY_COL1</th>\n",
       "      <th>PREDICATE</th>\n",
       "      <th>ENTITY_COL2</th>\n",
       "    </tr>\n",
       "  </thead>\n",
       "  <tbody>\n",
       "    <tr>\n",
       "      <th>0</th>\n",
       "      <td>9</td>\n",
       "      <td>11</td>\n",
       "      <td>6</td>\n",
       "      <td>1.833333</td>\n",
       "      <td>24</td>\n",
       "      <td>-1</td>\n",
       "      <td>2</td>\n",
       "      <td>5</td>\n",
       "      <td>5</td>\n",
       "      <td>1.0</td>\n",
       "      <td>...</td>\n",
       "      <td>2</td>\n",
       "      <td>t</td>\n",
       "      <td>0</td>\n",
       "      <td>203221.9</td>\n",
       "      <td>13:-1:2</td>\n",
       "      <td>protag_article@3</td>\n",
       "      <td>candid@3</td>\n",
       "      <td>https://en.wikipedia.org/wiki/Electoral_result...</td>\n",
       "      <td>P1346 :winner@en</td>\n",
       "      <td>https://en.wikipedia.org/wiki/Voter_turnout :Q...</td>\n",
       "    </tr>\n",
       "    <tr>\n",
       "      <th>1</th>\n",
       "      <td>8</td>\n",
       "      <td>6</td>\n",
       "      <td>6</td>\n",
       "      <td>1.000000</td>\n",
       "      <td>11</td>\n",
       "      <td>-1</td>\n",
       "      <td>1</td>\n",
       "      <td>5</td>\n",
       "      <td>5</td>\n",
       "      <td>1.0</td>\n",
       "      <td>...</td>\n",
       "      <td>2</td>\n",
       "      <td>t</td>\n",
       "      <td>0</td>\n",
       "      <td>238845.8</td>\n",
       "      <td>4:-1:1</td>\n",
       "      <td>protag_article@3</td>\n",
       "      <td>2__parti@3</td>\n",
       "      <td>https://en.wikipedia.org/wiki/Gravesham_Boroug...</td>\n",
       "      <td>P488-1 :chairperson@en</td>\n",
       "      <td>https://en.wikipedia.org/wiki/Labour_Party_(UK...</td>\n",
       "    </tr>\n",
       "    <tr>\n",
       "      <th>2</th>\n",
       "      <td>8</td>\n",
       "      <td>13</td>\n",
       "      <td>6</td>\n",
       "      <td>2.166667</td>\n",
       "      <td>28</td>\n",
       "      <td>-1</td>\n",
       "      <td>2</td>\n",
       "      <td>6</td>\n",
       "      <td>6</td>\n",
       "      <td>1.0</td>\n",
       "      <td>...</td>\n",
       "      <td>2</td>\n",
       "      <td>t</td>\n",
       "      <td>0</td>\n",
       "      <td>242238.8</td>\n",
       "      <td>17:-1:2</td>\n",
       "      <td>protag_article@3</td>\n",
       "      <td>candid@3</td>\n",
       "      <td>https://en.wikipedia.org/wiki/Electoral_result...</td>\n",
       "      <td>P488 :chairperson@en</td>\n",
       "      <td>https://en.wikipedia.org/wiki/Voter_turnout :Q...</td>\n",
       "    </tr>\n",
       "  </tbody>\n",
       "</table>\n",
       "<p>3 rows × 69 columns</p>\n",
       "</div>"
      ],
      "text/plain": [
       "   2   3  4         5   6  7  8  9  10   11  \\\n",
       "0  9  11  6  1.833333  24 -1  2  5   5  1.0   \n",
       "1  8   6  6  1.000000  11 -1  1  5   5  1.0   \n",
       "2  8  13  6  2.166667  28 -1  2  6   6  1.0   \n",
       "\n",
       "                         ...                          VALIDATION  ORIGIN  \\\n",
       "0                        ...                                   2       t   \n",
       "1                        ...                                   2       t   \n",
       "2                        ...                                   2       t   \n",
       "\n",
       "   CLUSTER     TABLE     CELL         NAME_COL1   NAME_COL2  \\\n",
       "0        0  203221.9  13:-1:2  protag_article@3    candid@3   \n",
       "1        0  238845.8   4:-1:1  protag_article@3  2__parti@3   \n",
       "2        0  242238.8  17:-1:2  protag_article@3    candid@3   \n",
       "\n",
       "                                         ENTITY_COL1               PREDICATE  \\\n",
       "0  https://en.wikipedia.org/wiki/Electoral_result...        P1346 :winner@en   \n",
       "1  https://en.wikipedia.org/wiki/Gravesham_Boroug...  P488-1 :chairperson@en   \n",
       "2  https://en.wikipedia.org/wiki/Electoral_result...    P488 :chairperson@en   \n",
       "\n",
       "                                         ENTITY_COL2  \n",
       "0  https://en.wikipedia.org/wiki/Voter_turnout :Q...  \n",
       "1  https://en.wikipedia.org/wiki/Labour_Party_(UK...  \n",
       "2  https://en.wikipedia.org/wiki/Voter_turnout :Q...  \n",
       "\n",
       "[3 rows x 69 columns]"
      ]
     },
     "execution_count": 4,
     "metadata": {},
     "output_type": "execute_result"
    }
   ],
   "source": [
    "data=data[(data['VALIDATION']<3)].reset_index(drop=True)\n",
    "print(\"Size: \", data.shape)\n",
    "#data1=data[data['ORIGIN']=='f']\n",
    "data.head(3)"
   ]
  },
  {
   "cell_type": "code",
   "execution_count": 5,
   "metadata": {},
   "outputs": [
    {
     "data": {
      "text/html": [
       "<div>\n",
       "<style scoped>\n",
       "    .dataframe tbody tr th:only-of-type {\n",
       "        vertical-align: middle;\n",
       "    }\n",
       "\n",
       "    .dataframe tbody tr th {\n",
       "        vertical-align: top;\n",
       "    }\n",
       "\n",
       "    .dataframe thead th {\n",
       "        text-align: right;\n",
       "    }\n",
       "</style>\n",
       "<table border=\"1\" class=\"dataframe\">\n",
       "  <thead>\n",
       "    <tr style=\"text-align: right;\">\n",
       "      <th></th>\n",
       "      <th>2</th>\n",
       "      <th>3</th>\n",
       "      <th>4</th>\n",
       "      <th>5</th>\n",
       "      <th>6</th>\n",
       "      <th>7</th>\n",
       "      <th>8</th>\n",
       "      <th>9</th>\n",
       "      <th>10</th>\n",
       "      <th>11</th>\n",
       "      <th>...</th>\n",
       "      <th>56</th>\n",
       "      <th>57</th>\n",
       "      <th>58</th>\n",
       "      <th>59</th>\n",
       "      <th>60</th>\n",
       "      <th>61</th>\n",
       "      <th>62</th>\n",
       "      <th>63</th>\n",
       "      <th>VALIDATION</th>\n",
       "      <th>CLUSTER</th>\n",
       "    </tr>\n",
       "  </thead>\n",
       "  <tbody>\n",
       "    <tr>\n",
       "      <th>count</th>\n",
       "      <td>852.000000</td>\n",
       "      <td>852.000000</td>\n",
       "      <td>852.000000</td>\n",
       "      <td>852.000000</td>\n",
       "      <td>852.000000</td>\n",
       "      <td>852.000000</td>\n",
       "      <td>852.000000</td>\n",
       "      <td>852.000000</td>\n",
       "      <td>852.000000</td>\n",
       "      <td>852.000000</td>\n",
       "      <td>...</td>\n",
       "      <td>852.000000</td>\n",
       "      <td>852.000000</td>\n",
       "      <td>852.000000</td>\n",
       "      <td>852.000000</td>\n",
       "      <td>852.000000</td>\n",
       "      <td>852.000000</td>\n",
       "      <td>852.000000</td>\n",
       "      <td>8.520000e+02</td>\n",
       "      <td>852.000000</td>\n",
       "      <td>8.520000e+02</td>\n",
       "    </tr>\n",
       "    <tr>\n",
       "      <th>mean</th>\n",
       "      <td>4.867371</td>\n",
       "      <td>118.609155</td>\n",
       "      <td>7.764085</td>\n",
       "      <td>21.012787</td>\n",
       "      <td>2271.332160</td>\n",
       "      <td>1.931925</td>\n",
       "      <td>2.991784</td>\n",
       "      <td>88.605634</td>\n",
       "      <td>86.784038</td>\n",
       "      <td>1.008263</td>\n",
       "      <td>...</td>\n",
       "      <td>37774.588028</td>\n",
       "      <td>3605.549296</td>\n",
       "      <td>1043.991784</td>\n",
       "      <td>3422.158451</td>\n",
       "      <td>109387.808685</td>\n",
       "      <td>0.061984</td>\n",
       "      <td>0.043405</td>\n",
       "      <td>8.620954e+04</td>\n",
       "      <td>1.712441</td>\n",
       "      <td>8.620954e+04</td>\n",
       "    </tr>\n",
       "    <tr>\n",
       "      <th>std</th>\n",
       "      <td>13.623182</td>\n",
       "      <td>299.665648</td>\n",
       "      <td>12.114009</td>\n",
       "      <td>51.735646</td>\n",
       "      <td>17475.905677</td>\n",
       "      <td>6.850258</td>\n",
       "      <td>8.268621</td>\n",
       "      <td>237.518733</td>\n",
       "      <td>229.219147</td>\n",
       "      <td>0.284525</td>\n",
       "      <td>...</td>\n",
       "      <td>87457.634155</td>\n",
       "      <td>26187.643886</td>\n",
       "      <td>8688.224145</td>\n",
       "      <td>25403.361476</td>\n",
       "      <td>199257.575466</td>\n",
       "      <td>0.137363</td>\n",
       "      <td>0.110518</td>\n",
       "      <td>1.943094e+05</td>\n",
       "      <td>0.452890</td>\n",
       "      <td>1.943094e+05</td>\n",
       "    </tr>\n",
       "    <tr>\n",
       "      <th>min</th>\n",
       "      <td>1.000000</td>\n",
       "      <td>1.000000</td>\n",
       "      <td>2.000000</td>\n",
       "      <td>0.142857</td>\n",
       "      <td>1.000000</td>\n",
       "      <td>-1.000000</td>\n",
       "      <td>0.000000</td>\n",
       "      <td>1.000000</td>\n",
       "      <td>1.000000</td>\n",
       "      <td>0.283525</td>\n",
       "      <td>...</td>\n",
       "      <td>2.000000</td>\n",
       "      <td>1.000000</td>\n",
       "      <td>1.000000</td>\n",
       "      <td>1.000000</td>\n",
       "      <td>4.000000</td>\n",
       "      <td>0.000003</td>\n",
       "      <td>0.000002</td>\n",
       "      <td>0.000000e+00</td>\n",
       "      <td>1.000000</td>\n",
       "      <td>0.000000e+00</td>\n",
       "    </tr>\n",
       "    <tr>\n",
       "      <th>25%</th>\n",
       "      <td>1.000000</td>\n",
       "      <td>13.000000</td>\n",
       "      <td>4.000000</td>\n",
       "      <td>2.220238</td>\n",
       "      <td>42.000000</td>\n",
       "      <td>-1.000000</td>\n",
       "      <td>1.000000</td>\n",
       "      <td>9.000000</td>\n",
       "      <td>9.000000</td>\n",
       "      <td>1.000000</td>\n",
       "      <td>...</td>\n",
       "      <td>256.750000</td>\n",
       "      <td>2.000000</td>\n",
       "      <td>1.000000</td>\n",
       "      <td>2.000000</td>\n",
       "      <td>519.750000</td>\n",
       "      <td>0.000325</td>\n",
       "      <td>0.000162</td>\n",
       "      <td>3.200000e+01</td>\n",
       "      <td>1.000000</td>\n",
       "      <td>3.200000e+01</td>\n",
       "    </tr>\n",
       "    <tr>\n",
       "      <th>50%</th>\n",
       "      <td>1.000000</td>\n",
       "      <td>29.000000</td>\n",
       "      <td>5.000000</td>\n",
       "      <td>4.750000</td>\n",
       "      <td>123.000000</td>\n",
       "      <td>1.000000</td>\n",
       "      <td>1.000000</td>\n",
       "      <td>21.000000</td>\n",
       "      <td>21.000000</td>\n",
       "      <td>1.000000</td>\n",
       "      <td>...</td>\n",
       "      <td>2857.000000</td>\n",
       "      <td>10.000000</td>\n",
       "      <td>4.500000</td>\n",
       "      <td>7.000000</td>\n",
       "      <td>9288.000000</td>\n",
       "      <td>0.006329</td>\n",
       "      <td>0.003760</td>\n",
       "      <td>7.795000e+02</td>\n",
       "      <td>2.000000</td>\n",
       "      <td>7.795000e+02</td>\n",
       "    </tr>\n",
       "    <tr>\n",
       "      <th>75%</th>\n",
       "      <td>3.000000</td>\n",
       "      <td>84.000000</td>\n",
       "      <td>7.000000</td>\n",
       "      <td>14.562500</td>\n",
       "      <td>540.250000</td>\n",
       "      <td>3.000000</td>\n",
       "      <td>3.000000</td>\n",
       "      <td>55.250000</td>\n",
       "      <td>59.000000</td>\n",
       "      <td>1.000000</td>\n",
       "      <td>...</td>\n",
       "      <td>26148.250000</td>\n",
       "      <td>95.000000</td>\n",
       "      <td>41.000000</td>\n",
       "      <td>62.250000</td>\n",
       "      <td>57332.000000</td>\n",
       "      <td>0.047066</td>\n",
       "      <td>0.025106</td>\n",
       "      <td>2.704825e+04</td>\n",
       "      <td>2.000000</td>\n",
       "      <td>2.704825e+04</td>\n",
       "    </tr>\n",
       "    <tr>\n",
       "      <th>max</th>\n",
       "      <td>239.000000</td>\n",
       "      <td>3142.000000</td>\n",
       "      <td>137.000000</td>\n",
       "      <td>523.666667</td>\n",
       "      <td>422891.000000</td>\n",
       "      <td>68.000000</td>\n",
       "      <td>100.000000</td>\n",
       "      <td>3122.000000</td>\n",
       "      <td>3122.000000</td>\n",
       "      <td>6.785185</td>\n",
       "      <td>...</td>\n",
       "      <td>363350.000000</td>\n",
       "      <td>300682.000000</td>\n",
       "      <td>103771.000000</td>\n",
       "      <td>293146.000000</td>\n",
       "      <td>646277.000000</td>\n",
       "      <td>0.917891</td>\n",
       "      <td>0.954107</td>\n",
       "      <td>1.100194e+06</td>\n",
       "      <td>2.000000</td>\n",
       "      <td>1.100194e+06</td>\n",
       "    </tr>\n",
       "  </tbody>\n",
       "</table>\n",
       "<p>8 rows × 61 columns</p>\n",
       "</div>"
      ],
      "text/plain": [
       "                2            3           4           5              6  \\\n",
       "count  852.000000   852.000000  852.000000  852.000000     852.000000   \n",
       "mean     4.867371   118.609155    7.764085   21.012787    2271.332160   \n",
       "std     13.623182   299.665648   12.114009   51.735646   17475.905677   \n",
       "min      1.000000     1.000000    2.000000    0.142857       1.000000   \n",
       "25%      1.000000    13.000000    4.000000    2.220238      42.000000   \n",
       "50%      1.000000    29.000000    5.000000    4.750000     123.000000   \n",
       "75%      3.000000    84.000000    7.000000   14.562500     540.250000   \n",
       "max    239.000000  3142.000000  137.000000  523.666667  422891.000000   \n",
       "\n",
       "                7           8            9           10          11  \\\n",
       "count  852.000000  852.000000   852.000000   852.000000  852.000000   \n",
       "mean     1.931925    2.991784    88.605634    86.784038    1.008263   \n",
       "std      6.850258    8.268621   237.518733   229.219147    0.284525   \n",
       "min     -1.000000    0.000000     1.000000     1.000000    0.283525   \n",
       "25%     -1.000000    1.000000     9.000000     9.000000    1.000000   \n",
       "50%      1.000000    1.000000    21.000000    21.000000    1.000000   \n",
       "75%      3.000000    3.000000    55.250000    59.000000    1.000000   \n",
       "max     68.000000  100.000000  3122.000000  3122.000000    6.785185   \n",
       "\n",
       "           ...                  56             57             58  \\\n",
       "count      ...          852.000000     852.000000     852.000000   \n",
       "mean       ...        37774.588028    3605.549296    1043.991784   \n",
       "std        ...        87457.634155   26187.643886    8688.224145   \n",
       "min        ...            2.000000       1.000000       1.000000   \n",
       "25%        ...          256.750000       2.000000       1.000000   \n",
       "50%        ...         2857.000000      10.000000       4.500000   \n",
       "75%        ...        26148.250000      95.000000      41.000000   \n",
       "max        ...       363350.000000  300682.000000  103771.000000   \n",
       "\n",
       "                  59             60          61          62            63  \\\n",
       "count     852.000000     852.000000  852.000000  852.000000  8.520000e+02   \n",
       "mean     3422.158451  109387.808685    0.061984    0.043405  8.620954e+04   \n",
       "std     25403.361476  199257.575466    0.137363    0.110518  1.943094e+05   \n",
       "min         1.000000       4.000000    0.000003    0.000002  0.000000e+00   \n",
       "25%         2.000000     519.750000    0.000325    0.000162  3.200000e+01   \n",
       "50%         7.000000    9288.000000    0.006329    0.003760  7.795000e+02   \n",
       "75%        62.250000   57332.000000    0.047066    0.025106  2.704825e+04   \n",
       "max    293146.000000  646277.000000    0.917891    0.954107  1.100194e+06   \n",
       "\n",
       "       VALIDATION       CLUSTER  \n",
       "count  852.000000  8.520000e+02  \n",
       "mean     1.712441  8.620954e+04  \n",
       "std      0.452890  1.943094e+05  \n",
       "min      1.000000  0.000000e+00  \n",
       "25%      1.000000  3.200000e+01  \n",
       "50%      2.000000  7.795000e+02  \n",
       "75%      2.000000  2.704825e+04  \n",
       "max      2.000000  1.100194e+06  \n",
       "\n",
       "[8 rows x 61 columns]"
      ]
     },
     "execution_count": 5,
     "metadata": {},
     "output_type": "execute_result"
    }
   ],
   "source": [
    "data.describe()"
   ]
  },
  {
   "cell_type": "code",
   "execution_count": 6,
   "metadata": {},
   "outputs": [],
   "source": [
    "contextual = pd.read_csv('contextual_triples_new.csv',sep=\"\\t\", decimal=',',index_col=False, dtype={'TABLE':str})\n",
    "contextual=contextual[(contextual['VALIDATION']<=3)]"
   ]
  },
  {
   "cell_type": "code",
   "execution_count": 7,
   "metadata": {},
   "outputs": [
    {
     "data": {
      "text/html": [
       "<div>\n",
       "<style scoped>\n",
       "    .dataframe tbody tr th:only-of-type {\n",
       "        vertical-align: middle;\n",
       "    }\n",
       "\n",
       "    .dataframe tbody tr th {\n",
       "        vertical-align: top;\n",
       "    }\n",
       "\n",
       "    .dataframe thead th {\n",
       "        text-align: right;\n",
       "    }\n",
       "</style>\n",
       "<table border=\"1\" class=\"dataframe\">\n",
       "  <thead>\n",
       "    <tr style=\"text-align: right;\">\n",
       "      <th></th>\n",
       "      <th>65</th>\n",
       "      <th>CLUSTER</th>\n",
       "    </tr>\n",
       "  </thead>\n",
       "  <tbody>\n",
       "    <tr>\n",
       "      <th>0</th>\n",
       "      <td>82793</td>\n",
       "      <td>0</td>\n",
       "    </tr>\n",
       "    <tr>\n",
       "      <th>1</th>\n",
       "      <td>59658</td>\n",
       "      <td>1</td>\n",
       "    </tr>\n",
       "  </tbody>\n",
       "</table>\n",
       "</div>"
      ],
      "text/plain": [
       "      65  CLUSTER\n",
       "0  82793        0\n",
       "1  59658        1"
      ]
     },
     "execution_count": 7,
     "metadata": {},
     "output_type": "execute_result"
    }
   ],
   "source": [
    "clusters = pd.read_csv('numTablesByCluster.csv',sep=\"\\s+\", index_col=False)\n",
    "clusters=clusters.rename(columns={'cluster': 'CLUSTER', '1':'65'})\n",
    "clusters.head(2)"
   ]
  },
  {
   "cell_type": "code",
   "execution_count": 8,
   "metadata": {
    "scrolled": true
   },
   "outputs": [],
   "source": [
    "data=pd.merge(data, clusters, on=['CLUSTER'])"
   ]
  },
  {
   "cell_type": "code",
   "execution_count": 9,
   "metadata": {},
   "outputs": [
    {
     "name": "stderr",
     "output_type": "stream",
     "text": [
      "/home/jhomara/.local/lib/python3.5/site-packages/pandas/core/frame.py:6211: FutureWarning: Sorting because non-concatenation axis is not aligned. A future version\n",
      "of pandas will change to not sort by default.\n",
      "\n",
      "To accept the future behavior, pass 'sort=False'.\n",
      "\n",
      "To retain the current behavior and silence the warning, pass 'sort=True'.\n",
      "\n",
      "  sort=sort)\n"
     ]
    },
    {
     "data": {
      "text/html": [
       "<div>\n",
       "<style scoped>\n",
       "    .dataframe tbody tr th:only-of-type {\n",
       "        vertical-align: middle;\n",
       "    }\n",
       "\n",
       "    .dataframe tbody tr th {\n",
       "        vertical-align: top;\n",
       "    }\n",
       "\n",
       "    .dataframe thead th {\n",
       "        text-align: right;\n",
       "    }\n",
       "</style>\n",
       "<table border=\"1\" class=\"dataframe\">\n",
       "  <thead>\n",
       "    <tr style=\"text-align: right;\">\n",
       "      <th></th>\n",
       "      <th>10</th>\n",
       "      <th>11</th>\n",
       "      <th>12</th>\n",
       "      <th>13</th>\n",
       "      <th>14</th>\n",
       "      <th>15</th>\n",
       "      <th>16</th>\n",
       "      <th>17</th>\n",
       "      <th>18</th>\n",
       "      <th>19</th>\n",
       "      <th>...</th>\n",
       "      <th>CLUSTER</th>\n",
       "      <th>ENTITY_COL1</th>\n",
       "      <th>ENTITY_COL2</th>\n",
       "      <th>NAME_COL1</th>\n",
       "      <th>NAME_COL2</th>\n",
       "      <th>ORIGIN</th>\n",
       "      <th>PREDICATE</th>\n",
       "      <th>TABLE</th>\n",
       "      <th>VALIDATION</th>\n",
       "      <th>65</th>\n",
       "    </tr>\n",
       "  </thead>\n",
       "  <tbody>\n",
       "    <tr>\n",
       "      <th>0</th>\n",
       "      <td>5</td>\n",
       "      <td>1.0</td>\n",
       "      <td>1</td>\n",
       "      <td>4</td>\n",
       "      <td>0.25</td>\n",
       "      <td>5</td>\n",
       "      <td>4</td>\n",
       "      <td>0.000505</td>\n",
       "      <td>0.000603</td>\n",
       "      <td>0.000753</td>\n",
       "      <td>...</td>\n",
       "      <td>0</td>\n",
       "      <td>https://en.wikipedia.org/wiki/Electoral_result...</td>\n",
       "      <td>https://en.wikipedia.org/wiki/Voter_turnout :Q...</td>\n",
       "      <td>protag_article@3</td>\n",
       "      <td>candid@3</td>\n",
       "      <td>t</td>\n",
       "      <td>P1346 :winner@en</td>\n",
       "      <td>203221.9</td>\n",
       "      <td>2</td>\n",
       "      <td>82793</td>\n",
       "    </tr>\n",
       "    <tr>\n",
       "      <th>1</th>\n",
       "      <td>5</td>\n",
       "      <td>1.0</td>\n",
       "      <td>1</td>\n",
       "      <td>4</td>\n",
       "      <td>0.25</td>\n",
       "      <td>5</td>\n",
       "      <td>4</td>\n",
       "      <td>0.000136</td>\n",
       "      <td>0.000122</td>\n",
       "      <td>0.000081</td>\n",
       "      <td>...</td>\n",
       "      <td>0</td>\n",
       "      <td>https://en.wikipedia.org/wiki/Gravesham_Boroug...</td>\n",
       "      <td>https://en.wikipedia.org/wiki/Labour_Party_(UK...</td>\n",
       "      <td>protag_article@3</td>\n",
       "      <td>2__parti@3</td>\n",
       "      <td>t</td>\n",
       "      <td>P488-1 :chairperson@en</td>\n",
       "      <td>238845.8</td>\n",
       "      <td>2</td>\n",
       "      <td>82793</td>\n",
       "    </tr>\n",
       "  </tbody>\n",
       "</table>\n",
       "<p>2 rows × 70 columns</p>\n",
       "</div>"
      ],
      "text/plain": [
       "   10   11  12  13    14  15  16        17        18        19  ...    \\\n",
       "0   5  1.0   1   4  0.25   5   4  0.000505  0.000603  0.000753  ...     \n",
       "1   5  1.0   1   4  0.25   5   4  0.000136  0.000122  0.000081  ...     \n",
       "\n",
       "   CLUSTER                                        ENTITY_COL1  \\\n",
       "0        0  https://en.wikipedia.org/wiki/Electoral_result...   \n",
       "1        0  https://en.wikipedia.org/wiki/Gravesham_Boroug...   \n",
       "\n",
       "                                         ENTITY_COL2         NAME_COL1  \\\n",
       "0  https://en.wikipedia.org/wiki/Voter_turnout :Q...  protag_article@3   \n",
       "1  https://en.wikipedia.org/wiki/Labour_Party_(UK...  protag_article@3   \n",
       "\n",
       "    NAME_COL2  ORIGIN               PREDICATE     TABLE  VALIDATION     65  \n",
       "0    candid@3       t        P1346 :winner@en  203221.9           2  82793  \n",
       "1  2__parti@3       t  P488-1 :chairperson@en  238845.8           2  82793  \n",
       "\n",
       "[2 rows x 70 columns]"
      ]
     },
     "execution_count": 9,
     "metadata": {},
     "output_type": "execute_result"
    }
   ],
   "source": [
    "data2=data.copy()\n",
    "data2=data2.append(contextual)\n",
    "del data2['65']\n",
    "data2=pd.merge(data2, clusters, on=['CLUSTER'])\n",
    "data2.head(2)"
   ]
  },
  {
   "cell_type": "code",
   "execution_count": 10,
   "metadata": {},
   "outputs": [
    {
     "data": {
      "text/plain": [
       "Index(['10', '11', '12', '13', '14', '15', '16', '17', '18', '19', '2', '20',\n",
       "       '24', '25', '26', '27', '28', '29', '3', '30', '31', '32', '33', '34',\n",
       "       '35', '36', '37', '38', '39', '4', '40', '41', '42', '43', '44', '45',\n",
       "       '46', '47', '48', '49', '5', '50', '51', '52', '53', '54', '55', '56',\n",
       "       '57', '58', '59', '6', '60', '61', '62', '63', '7', '8', '9', 'CELL',\n",
       "       'CLUSTER', 'ENTITY_COL1', 'ENTITY_COL2', 'NAME_COL1', 'NAME_COL2',\n",
       "       'ORIGIN', 'PREDICATE', 'TABLE', 'VALIDATION', '65'],\n",
       "      dtype='object')"
      ]
     },
     "execution_count": 10,
     "metadata": {},
     "output_type": "execute_result"
    }
   ],
   "source": [
    "data2.columns"
   ]
  },
  {
   "cell_type": "code",
   "execution_count": 11,
   "metadata": {},
   "outputs": [
    {
     "data": {
      "text/plain": [
       "0.7824168604000001"
      ]
     },
     "execution_count": 11,
     "metadata": {},
     "output_type": "execute_result"
    }
   ],
   "source": [
    "contextual['17'].sum()"
   ]
  },
  {
   "cell_type": "markdown",
   "metadata": {},
   "source": [
    "### Normalizing some features"
   ]
  },
  {
   "cell_type": "markdown",
   "metadata": {},
   "source": [
    "I applied normalization over some feautures, but I didn't get to much difference"
   ]
  },
  {
   "cell_type": "code",
   "execution_count": 12,
   "metadata": {},
   "outputs": [],
   "source": [
    "def normalize(df):\n",
    "    result = df.copy()\n",
    "    for feature_name in df.columns:        \n",
    "        max_value = df[feature_name].max()\n",
    "        min_value = df[feature_name].min()\n",
    "        result[feature_name] = (df[feature_name] - min_value) / (max_value - min_value)\n",
    "    return result\n"
   ]
  },
  {
   "cell_type": "code",
   "execution_count": 13,
   "metadata": {},
   "outputs": [],
   "source": [
    "#Next features are not used, since cells with more than one link were deleted. \n",
    "#21 number entities subject cell\n",
    "#22 number entities object cell\n",
    "#23 ratio 21/22\n",
    "#38 exist relation in KB\n",
    "#43 number links subject cell\n",
    "#44 number links object cell\n",
    "\n",
    "# Features not normalized:\n",
    "#7 subject column index\n",
    "#8 object column index \n",
    "#26 & 27 formatting present in cells (values: 0,1)\n",
    "#37 relation from title article (values: 0,1)\n",
    "#39 object is in range of predicate (values: 0,1)\n",
    "#40 subject is in domain of predicate (values : 0,1)\n",
    "#63 num of cluster\n",
    "#64 Inverse predicate\n",
    "\n",
    "noImportant=['21','22','23','38','43','44']\n",
    "noNormalized=['7','8', '26', '27', '37','39','40','63','64','VALIDATION']\n",
    "def filterFeatures(data):\n",
    "    #Adding feature for inverse property\n",
    "    data['64']=data.PREDICATE.str.contains('-1')\n",
    "    data['64']=np.where(data['64'],0,1)\n",
    "    data.head(2)\n",
    "    r1 = [str(i) for i in np.arange(2,66) if str(i) if str(i) not in noImportant and str(i) not in noNormalized]\n",
    "    r1.append('VALIDATION')\n",
    "    x=data[r1]\n",
    "    r1 = [c for c in list(x.columns) if c not in noNormalized]\n",
    "    d1=x[r1]\n",
    "    \n",
    "    #Normalized features\n",
    "    xn=normalize(d1)\n",
    "    xf=pd.concat([xn, data[noNormalized]], axis=1)\n",
    "    fcols=[c for c in list(xf.columns) if c!='VALIDATION']\n",
    "    X=xf[fcols]\n",
    "    Y=xf['VALIDATION']\n",
    "    colnames={n:int(n) for n in list(X.columns)}\n",
    "    \n",
    "    #Numeric name features and sorting\n",
    "    X=X.rename(columns=colnames)\n",
    "    X = X.sort_index(axis=1)    \n",
    "    #Final dataFrame\n",
    "    xf=pd.concat([X, Y], axis=1)\n",
    "    print(\"Number of correct triples: \", xf[xf['VALIDATION']==1].shape)\n",
    "    print(\"Number of incorrect triples: \", xf[xf['VALIDATION']==2].shape)\n",
    "    return xf"
   ]
  },
  {
   "cell_type": "code",
   "execution_count": 14,
   "metadata": {},
   "outputs": [
    {
     "name": "stdout",
     "output_type": "stream",
     "text": [
      "Number of correct triples:  (245, 59)\n",
      "Number of incorrect triples:  (607, 59)\n"
     ]
    }
   ],
   "source": [
    "#Filter Features:\n",
    "xf=filterFeatures(data)\n",
    "X=xf.iloc[:,:-1].values\n",
    "Y=xf['VALIDATION'].values"
   ]
  },
  {
   "cell_type": "code",
   "execution_count": 15,
   "metadata": {},
   "outputs": [
    {
     "name": "stdout",
     "output_type": "stream",
     "text": [
      "Number of correct triples:  (277, 59)\n",
      "Number of incorrect triples:  (620, 59)\n"
     ]
    }
   ],
   "source": [
    "#Filter Features2:\n",
    "#data2[['62']]\n",
    "xf2=filterFeatures(data2)\n",
    "X2=xf2.iloc[:,:-1].values\n",
    "Y2=xf2['VALIDATION'].values"
   ]
  },
  {
   "cell_type": "markdown",
   "metadata": {},
   "source": [
    "# Features overview"
   ]
  },
  {
   "cell_type": "code",
   "execution_count": 16,
   "metadata": {},
   "outputs": [
    {
     "data": {
      "image/png": "[encoded data removed]",
      "text/plain": [
       "<Figure size 1080x432 with 1 Axes>"
      ]
     },
     "metadata": {},
     "output_type": "display_data"
    }
   ],
   "source": [
    "#Comparison all features \n",
    "#CORRECT TRIPLES\n",
    "\n",
    "%matplotlib inline\n",
    "plt.rcParams[\"figure.figsize\"] = [15, 6]\n",
    "\n",
    "c=xf[xf['VALIDATION']==1].iloc[:,:-1]\n",
    "inoNormalized=[int(noNormalized[n]) for n in range(len(noNormalized)-1)]\n",
    "cols=[col for col in list(c.columns) if col not in inoNormalized]\n",
    "c=c[cols]\n",
    "mins = c.min().values\n",
    "maxes = c.max().values\n",
    "means = c.mean().values\n",
    "std = c.std().values\n",
    "\n",
    "plt.errorbar(np.arange(len(list(c.columns))), means, std, fmt='ok', lw=3)\n",
    "plt.errorbar(np.arange(len(list(c.columns))), means, [means - mins, maxes - means],\n",
    "             fmt='.k', ecolor='black', lw=1)\n",
    "\n",
    "#INCORRECT TRIPLES\n",
    "i=xf[xf['VALIDATION']==2].iloc[:,:-1]\n",
    "inoNormalized=[int(noNormalized[n]) for n in range(len(noNormalized)-1)]\n",
    "cols=[col for col in list(i.columns) if col not in inoNormalized]\n",
    "i=i[cols]\n",
    "\n",
    "mins = i.min().values\n",
    "maxes = i.max().values\n",
    "means = i.mean().values\n",
    "std = i.std().values\n",
    "\n",
    "\n",
    "plt.errorbar([i+0.3 for i in range(len(list(i.columns)))], means, std, fmt='ok',ecolor='red', lw=3)\n",
    "plt.errorbar([i+0.3 for i in range(len(list(i.columns)))], means, [means - mins, maxes - means],\n",
    "             fmt='.k', ecolor='red', lw=1)\n",
    "plt.xticks([i+0.3 for i in range(len(list(i.columns)))], [str(i) for i in list(i.columns)])\n",
    "plt.show()"
   ]
  },
  {
   "cell_type": "raw",
   "metadata": {},
   "source": [
    "The figure shows that there is a little difference between median values of the most features and it is possible look variation  on features 32, 34, 36, 51,52, 54,55, 56, 60, 61,62 and 63:\n",
    "#32 Ratio number rows where predicate holds / total rows\n",
    "#34 Ratio number relations where predicate holds / total relations\n",
    "#36 Ratio number unique relations where predicate holds / total unique relations\n",
    "#51 Number of entities in subject column (cluster)\n",
    "#52 Number of entities in object column (cluster)\n",
    "#53 Number of unique entities in subject column (cluster)\n",
    "#54 Number of unique entities in object column (cluster)\n",
    "#55 Number of potential relations (cluster)\n",
    "#56 Number of unique potential relations (cluster)\n",
    "#61 Ratio number relations where predicate holds / total relations (cluster)\n",
    "#62 Ratio number rows where predicate holds / total rows (cluster)"
   ]
  },
  {
   "cell_type": "code",
   "execution_count": 17,
   "metadata": {},
   "outputs": [
    {
     "data": {
      "text/plain": [
       "<Figure size 1080x432 with 0 Axes>"
      ]
     },
     "metadata": {},
     "output_type": "display_data"
    },
    {
     "data": {
      "image/png": "[encoded data removed]",
      "text/plain": [
       "<Figure size 1080x432 with 2 Axes>"
      ]
     },
     "metadata": {},
     "output_type": "display_data"
    }
   ],
   "source": [
    "#Features validation to idenfify outliers\n",
    "\n",
    "#32 Ratio number rows where predicate holds / total rows\n",
    "#34 Ratio number relations where predicate holds / total relations\n",
    "#36 Ratio number unique relations where predicate holds / total unique relations\n",
    "#61 Ratio number relations where predicate holds / total relations in cluster\n",
    "#62 Ratio number rows where predicate holds / total rows in cluster\n",
    "\n",
    "c=xf[xf['VALIDATION']==1][[32,34,36,61,62]]\n",
    "c.describe()\n",
    "\n",
    "i=xf[xf['VALIDATION']==2][[32,34,36,61,62]]\n",
    "i.describe()\n",
    "\n",
    "c['key'] = 'correct'\n",
    "i['key'] = 'incorrect'\n",
    "plt.figure()\n",
    "DF = pd.concat([c,i],keys=['correct','incorrect'])\n",
    "DFGroup = DF.groupby(['key'])\n",
    "ax=DFGroup.boxplot()\n",
    "plt.show()"
   ]
  },
  {
   "cell_type": "code",
   "execution_count": 18,
   "metadata": {},
   "outputs": [
    {
     "data": {
      "text/plain": [
       "<seaborn.axisgrid.PairGrid at 0x7f45ef5738d0>"
      ]
     },
     "execution_count": 18,
     "metadata": {},
     "output_type": "execute_result"
    },
    {
     "data": {
      "image/png": "[encoded data removed]",
      "text/plain": [
       "<Figure size 942.375x900 with 30 Axes>"
      ]
     },
     "metadata": {},
     "output_type": "display_data"
    }
   ],
   "source": [
    "x_filteredf=xf[[20,48,47,49,50,42,30,28,41,39,29,40,27,45,46,26,32,36,61,62]]\n",
    "y_filteredf=xf[['VALIDATION']]\n",
    "#Training RF with to get probability scores\n",
    "RF=RandomForestClassifier(min_samples_split=3, max_depth=5, n_estimators=5, min_samples_leaf=3, max_features=3, bootstrap=True)\n",
    "Xf_train, Xf_test, yf_train, yf_test = train_test_split(x_filteredf.values, y_filteredf['VALIDATION'].values, test_size=0.3,random_state=0)\n",
    "RF.fit(Xf_train, yf_train)\n",
    "yf_scores=RF.predict_proba(Xf_test)\n",
    "#Building a dataframe with test values\n",
    "x_plot=pd.DataFrame(Xf_test,columns=[20,48,47,49,50,42,30,28,41,39,29,40,27,45,46,26,32,36,61,62])\n",
    "df_score=pd.DataFrame({'score':yf_scores[:,0]})\n",
    "x_plot=pd.concat([x_plot, df_score], axis=1)\n",
    "x_plot=pd.concat([x_plot, pd.DataFrame({'class':yf_test})], axis=1)\n",
    "x_plot.head()\n",
    "#Plot a matrix with features 32,36,61,62 and probability score:\n",
    "#Class 1: Correct \n",
    "#Class 2: Incorrect\n",
    "sns.pairplot(x_plot[[32,36,39,40,47,48,49,50,61,62, 'score','class']],vars=[32,36,61,62, 'score'], hue='class', diag_kind=\"kde\")"
   ]
  },
  {
   "cell_type": "markdown",
   "metadata": {},
   "source": [
    "# Training models"
   ]
  },
  {
   "cell_type": "code",
   "execution_count": 19,
   "metadata": {
    "scrolled": true
   },
   "outputs": [],
   "source": [
    "def classify(X, Y, weighted=True):\n",
    "    warnings.simplefilter(action='ignore', category=FutureWarning)    \n",
    "    # Cross validation with 40 splits,  each time with 20% as validation set.\n",
    "    kf = StratifiedShuffleSplit(n_splits=10, test_size=0.2) \n",
    "    cl1 = KNeighborsClassifier(n_neighbors=1)\n",
    "    cl2 = DecisionTreeClassifier()\n",
    "    cl3 = RandomForestClassifier(max_depth=10,random_state=101, max_features=None, min_samples_leaf=3)\n",
    "    cl4=  SVC(kernel='linear')\n",
    "    cl5 = GaussianNB()\n",
    "    p1= p2= p3= p4 =p5=0 \n",
    "    r1=r2=r3=r4=r5=0\n",
    "    f1=f2=f3=f4=f5=0\n",
    "    cont=0\n",
    "    pacum=[]\n",
    "\n",
    "    for train_index, test_index in kf.split(X, Y): \n",
    "            #print(\"Train:\", train_index, \"Validation:\", test_index) \n",
    "            X_train, X_test = X[train_index], X[test_index] \n",
    "            y_train, y_test = Y[train_index], Y[test_index]\n",
    "\n",
    "            cl1 = KNeighborsClassifier(n_neighbors=1)\n",
    "            cl2 = DecisionTreeClassifier()\n",
    "            cl3 = RandomForestClassifier(max_depth=10,max_features=None, min_samples_leaf=3)\n",
    "            #cl4=  SVC(kernel='linear')\n",
    "            cl5 = GaussianNB()\n",
    "\n",
    "            #print(X_train)\n",
    "            #print('----')\n",
    "            #print(y_train)\n",
    "            #print('KNN---------------')\n",
    "            #cl1 = KNeighborsClassifier(n_neighbors=1)\n",
    "            #X_train, X_test, y_train, y_test = train_test_split(xf, y, test_size=0.3, random_state=4)\n",
    "            cl1.fit(X_train, y_train)\n",
    "            y_pred = cl1.predict(X_test)\n",
    "            if weighted:\n",
    "                labels=[1,2]\n",
    "            else:\n",
    "                labels=[1]\n",
    "                \n",
    "            p1+=precision_score(y_test, y_pred, labels=labels,average='weighted') \n",
    "            r1+=recall_score(y_test, y_pred, labels=labels,average='weighted') \n",
    "            f1+=f1_score(y_test, y_pred, labels=labels,average='weighted') \n",
    "            #print('KNN')\n",
    "            #print(classification_report(y_test, y_pred))\n",
    "            #print('Decision Tree --------------')\n",
    "\n",
    "            cl2.fit(X_train, y_train)    \n",
    "            y_pred=cl2.predict(X_test)\n",
    "            p2+=precision_score(y_test, y_pred, labels=labels,average='weighted') \n",
    "            r2+=recall_score(y_test, y_pred, labels=labels,average='weighted') \n",
    "            f2+=f1_score(y_test, y_pred, labels=labels,average='weighted') \n",
    "            #print('Decision Tree')\n",
    "            #print(classification_report(y_test, y_pred))\n",
    "            #print (sorted(zip(map(lambda x: round(x, 4), cl2.feature_importances_), list(xf.columns)), \n",
    "            #         reverse=False))\n",
    "\n",
    "            cl3.fit(X_train, y_train)\n",
    "            y_pred=cl3.predict(X_test)\n",
    "            ps=precision_score(y_test, y_pred, labels=labels,average='weighted') \n",
    "            pacum.append(ps)\n",
    "            p3+=ps \n",
    "            r3+=recall_score(y_test, y_pred, labels=labels,average='weighted') \n",
    "            f3+=f1_score(y_test, y_pred, labels=labels,average='weighted') \n",
    "            #print('Random')\n",
    "            #print(cl3.feature_importances_)\n",
    "            #print (sorted(zip(map(lambda x: round(x, 4), cl3.feature_importances_), list(xf.columns)), \n",
    "            #         reverse=False))\n",
    "            #print(classification_report(y_test, y_pred))\n",
    "\n",
    "            #cl4.fit(X_train, y_train)        \n",
    "            #y_pred=cl4.predict(X_test)    \n",
    "            #p4+=precision_score(y_test, y_pred, average='weighted') \n",
    "            #r4+=recall_score(y_test, y_pred, average='weighted') \n",
    "            #f4+=f1_score(y_test, y_pred, average='weighted') \n",
    "            #print('Logistic')\n",
    "            #print(classification_report(y_test, y_pred))\n",
    "\n",
    "            cl5.fit(X_train, y_train)\n",
    "            y_pred=cl5.predict(X_test)\n",
    "            p5+=precision_score(y_test, y_pred, labels=labels,average='weighted') \n",
    "            r5+=recall_score(y_test, y_pred, labels=labels,average='weighted') \n",
    "            f5+=f1_score(y_test, y_pred, labels=labels,average='weighted') \n",
    "            #print('Naive Bayes')\n",
    "            #print(classification_report(y_test, y_pred))\n",
    "\n",
    "\n",
    "            cont+=1\n",
    "            #print('Set y: ', [ip for ip in y_test if ip==1])\n",
    "    print('***  KNN  ***')\n",
    "    print('Precision: ', p1/cont)\n",
    "    print('Recall: ', r1/cont)\n",
    "    print('F1-score: ', f1/cont)\n",
    "    print('***  Decision Tree  ***')\n",
    "    print('Precision: ', p2/cont)\n",
    "    print('Recall: ', r2/cont)\n",
    "    print('F1-score: ', f1/cont)\n",
    "    print('***  Random Forest  ***')\n",
    "    print('Precision: ', p3/cont)\n",
    "    print('Recall: ', r3/cont)\n",
    "    print('F1-score: ', f3/cont)\n",
    "    print('***  Naive Bayes  ***')\n",
    "    print('Precision: ', p5/cont)\n",
    "    print('Recall: ', r5/cont)\n",
    "    print('F1-score: ', f5/cont)\n",
    "    #print(pacum)\n",
    "    #print('***  SVC  ***')\n",
    "    #print('Precision: ', p4/cont)\n",
    "    #print('Recall: ', r4/cont)\n",
    "    #print('F1-score: ', f4/cont)\n",
    "    #print(classification_report(y_test, y_pred))\n",
    "\n"
   ]
  },
  {
   "cell_type": "markdown",
   "metadata": {},
   "source": [
    "## Classification  (Cross Validation Average)"
   ]
  },
  {
   "cell_type": "markdown",
   "metadata": {},
   "source": [
    "**All classes**"
   ]
  },
  {
   "cell_type": "code",
   "execution_count": 20,
   "metadata": {},
   "outputs": [
    {
     "name": "stdout",
     "output_type": "stream",
     "text": [
      "***  KNN  ***\n",
      "Precision:  0.6487431418121961\n",
      "Recall:  0.6497076023391812\n",
      "F1-score:  0.6489471916423739\n",
      "***  Decision Tree  ***\n",
      "Precision:  0.7192016880764609\n",
      "Recall:  0.7128654970760233\n",
      "F1-score:  0.6489471916423739\n",
      "***  Random Forest  ***\n",
      "Precision:  0.7650466346776665\n",
      "Recall:  0.7742690058479532\n",
      "F1-score:  0.7659602457348669\n",
      "***  Naive Bayes  ***\n",
      "Precision:  0.6444228315461822\n",
      "Recall:  0.6520467836257309\n",
      "F1-score:  0.6177894874705677\n"
     ]
    }
   ],
   "source": [
    "classify(X,Y)"
   ]
  },
  {
   "cell_type": "markdown",
   "metadata": {},
   "source": [
    "** Class Correct Triples  **"
   ]
  },
  {
   "cell_type": "code",
   "execution_count": 21,
   "metadata": {},
   "outputs": [
    {
     "name": "stdout",
     "output_type": "stream",
     "text": [
      "***  KNN  ***\n",
      "Precision:  0.42207332795532226\n",
      "Recall:  0.38775510204081637\n",
      "F1-score:  0.40331835340696925\n",
      "***  Decision Tree  ***\n",
      "Precision:  0.5078688731014732\n",
      "Recall:  0.49591836734693884\n",
      "F1-score:  0.40331835340696925\n",
      "***  Random Forest  ***\n",
      "Precision:  0.6160031483173898\n",
      "Recall:  0.4387755102040817\n",
      "F1-score:  0.509269133540276\n",
      "***  Naive Bayes  ***\n",
      "Precision:  0.47021488896730423\n",
      "Recall:  0.2816326530612245\n",
      "F1-score:  0.3179151519113663\n"
     ]
    }
   ],
   "source": [
    "classify(X,Y, False)"
   ]
  },
  {
   "cell_type": "markdown",
   "metadata": {},
   "source": [
    "## Removing outliers"
   ]
  },
  {
   "cell_type": "code",
   "execution_count": 22,
   "metadata": {},
   "outputs": [
    {
     "name": "stderr",
     "output_type": "stream",
     "text": [
      "/usr/local/lib/python3.5/dist-packages/ipykernel_launcher.py:9: SettingWithCopyWarning: \n",
      "A value is trying to be set on a copy of a slice from a DataFrame.\n",
      "Try using .loc[row_indexer,col_indexer] = value instead\n",
      "\n",
      "See the caveats in the documentation: http://pandas.pydata.org/pandas-docs/stable/indexing.html#indexing-view-versus-copy\n",
      "  if __name__ == '__main__':\n",
      "/usr/local/lib/python3.5/dist-packages/ipykernel_launcher.py:15: SettingWithCopyWarning: \n",
      "A value is trying to be set on a copy of a slice from a DataFrame.\n",
      "Try using .loc[row_indexer,col_indexer] = value instead\n",
      "\n",
      "See the caveats in the documentation: http://pandas.pydata.org/pandas-docs/stable/indexing.html#indexing-view-versus-copy\n",
      "  from ipykernel import kernelapp as app\n"
     ]
    },
    {
     "data": {
      "text/plain": [
       "<Figure size 1080x432 with 0 Axes>"
      ]
     },
     "metadata": {},
     "output_type": "display_data"
    },
    {
     "data": {
      "image/png": "[encoded data removed]",
      "text/plain": [
       "<Figure size 1080x432 with 2 Axes>"
      ]
     },
     "metadata": {},
     "output_type": "display_data"
    }
   ],
   "source": [
    "\n",
    "#Delete outiliers that are out of interquartile (Greater than 0.75 and less than 0.25) on specific features\n",
    "\n",
    "c=xf[xf['VALIDATION']==1][[32,34,36,61,62]]\n",
    "Q1 = c.quantile(0.25)\n",
    "Q3 = c.quantile(0.75)\n",
    "IQR = Q3 - Q1\n",
    "dfoc = c[~((c < (Q1 - 1.5 * IQR)) |(c > (Q3 + 1.5 * IQR))).any(axis=1)]\n",
    "dfoc['key'] = 'correct'\n",
    "i=xf[xf['VALIDATION']==2][[32,34,36,61,62]]\n",
    "Q1 = i.quantile(0.25)\n",
    "Q3 = i.quantile(0.75)\n",
    "IQR = Q3 - Q1\n",
    "dfo = i[~((i < (Q1 - 1.5 * IQR)) |(i > (Q3 + 1.5 * IQR))).any(axis=1)]\n",
    "dfo['key'] = 'incorrect'\n",
    "\n",
    "plt.figure()\n",
    "DF = pd.concat([dfoc,dfo],keys=['correct','incorrect'])\n",
    "DFGroup = DF.groupby(['key'])\n",
    "ax=DFGroup.boxplot()\n",
    "plt.show()"
   ]
  },
  {
   "cell_type": "markdown",
   "metadata": {},
   "source": [
    "** (X,Y):** initial data X1=data <br>\n",
    "** (X1,Y1):** data without outliers <br>\n",
    "** (X2,Y2):** initial data + \"contextual triples\" updated <br>"
   ]
  },
  {
   "cell_type": "markdown",
   "metadata": {},
   "source": [
    "**Preparing data without outliers**"
   ]
  },
  {
   "cell_type": "code",
   "execution_count": 23,
   "metadata": {},
   "outputs": [
    {
     "name": "stdout",
     "output_type": "stream",
     "text": [
      "Total triples without outliers:  (655, 6)\n",
      "Total correct triples without outliers:  (195, 6)\n",
      "Total incorrect triples without outliers:  (460, 6)\n"
     ]
    }
   ],
   "source": [
    "#dfoc= correct triples without outliers\n",
    "#dfo= incorrect triples wihout outliers\n",
    "dt=pd.concat([dfoc,dfo])\n",
    "print(\"Total triples without outliers: \", dt.shape)\n",
    "print(\"Total correct triples without outliers: \", dt[dt['key']=='correct'].shape)\n",
    "print(\"Total incorrect triples without outliers: \", dt[dt['key']=='incorrect'].shape)\n",
    "dt['key']=np.where(dt['key']=='correct',1, 2)\n",
    "# Data for training models\n",
    "setToTrain=set(dt.index.tolist())\n",
    "dt=xf[xf.index.isin(list(setToTrain))]\n",
    "X1=dt.iloc[:,:-1].values\n",
    "Y1=dt['VALIDATION'].values\n",
    "#Use True for average and False for class 1.\n"
   ]
  },
  {
   "cell_type": "markdown",
   "metadata": {},
   "source": [
    "**Classification all triples**"
   ]
  },
  {
   "cell_type": "code",
   "execution_count": 24,
   "metadata": {},
   "outputs": [
    {
     "name": "stdout",
     "output_type": "stream",
     "text": [
      "***  KNN  ***\n",
      "Precision:  0.6611153866842094\n",
      "Recall:  0.6564885496183205\n",
      "F1-score:  0.657708498248707\n",
      "***  Decision Tree  ***\n",
      "Precision:  0.7397384530958722\n",
      "Recall:  0.7427480916030534\n",
      "F1-score:  0.657708498248707\n",
      "***  Random Forest  ***\n",
      "Precision:  0.7659366955815541\n",
      "Recall:  0.7732824427480915\n",
      "F1-score:  0.7619965785885829\n",
      "***  Naive Bayes  ***\n",
      "Precision:  0.7057130297520887\n",
      "Recall:  0.7251908396946565\n",
      "F1-score:  0.6754162026622746\n"
     ]
    }
   ],
   "source": [
    "classify(X1,Y1)"
   ]
  },
  {
   "cell_type": "markdown",
   "metadata": {},
   "source": [
    "** Classification Correct triples **"
   ]
  },
  {
   "cell_type": "code",
   "execution_count": 25,
   "metadata": {},
   "outputs": [
    {
     "name": "stdout",
     "output_type": "stream",
     "text": [
      "***  KNN  ***\n",
      "Precision:  0.42955384403858526\n",
      "Recall:  0.4435897435897436\n",
      "F1-score:  0.43382582637981526\n",
      "***  Decision Tree  ***\n",
      "Precision:  0.5921901562884947\n",
      "Recall:  0.5897435897435898\n",
      "F1-score:  0.43382582637981526\n",
      "***  Random Forest  ***\n",
      "Precision:  0.661393152433197\n",
      "Recall:  0.4666666666666666\n",
      "F1-score:  0.5448453007694687\n",
      "***  Naive Bayes  ***\n",
      "Precision:  0.5482478632478631\n",
      "Recall:  0.19743589743589746\n",
      "F1-score:  0.2886462749237444\n"
     ]
    }
   ],
   "source": [
    "classify(X1,Y1, False)"
   ]
  },
  {
   "cell_type": "markdown",
   "metadata": {},
   "source": [
    "** Classification data + \"contextual\" triples **"
   ]
  },
  {
   "cell_type": "code",
   "execution_count": 26,
   "metadata": {},
   "outputs": [
    {
     "name": "stdout",
     "output_type": "stream",
     "text": [
      "***  KNN  ***\n",
      "Precision:  0.4165274754876288\n",
      "Recall:  0.4321428571428571\n",
      "F1-score:  0.42306906308846504\n",
      "***  Decision Tree  ***\n",
      "Precision:  0.5388510254200155\n",
      "Recall:  0.5625\n",
      "F1-score:  0.42306906308846504\n",
      "***  Random Forest  ***\n",
      "Precision:  0.628844879766097\n",
      "Recall:  0.5035714285714287\n",
      "F1-score:  0.5555948855317747\n",
      "***  Naive Bayes  ***\n",
      "Precision:  0.4202503057531753\n",
      "Recall:  0.2964285714285714\n",
      "F1-score:  0.3156552166068416\n"
     ]
    }
   ],
   "source": [
    "classify(X2,Y2, False)"
   ]
  },
  {
   "cell_type": "markdown",
   "metadata": {},
   "source": [
    " ### The best algorithm is Random Forest with 0.64% Precision for Correct Triples and 0.75% in average for data without outliers"
   ]
  },
  {
   "cell_type": "markdown",
   "metadata": {},
   "source": [
    "## Testing best model over new data (outliers)"
   ]
  },
  {
   "cell_type": "raw",
   "metadata": {},
   "source": [
    "The best predictor for with filtered data, looking for precision is Random Forest. \n",
    "Next I will try to train the algorithm with filtered data and predict outliers. "
   ]
  },
  {
   "cell_type": "code",
   "execution_count": 27,
   "metadata": {},
   "outputs": [
    {
     "name": "stdout",
     "output_type": "stream",
     "text": [
      "Outliers:  197\n",
      "              precision    recall  f1-score   support\n",
      "\n",
      "           1       0.27      1.00      0.43        50\n",
      "           2       1.00      0.08      0.15       147\n",
      "\n",
      "   micro avg       0.31      0.31      0.31       197\n",
      "   macro avg       0.64      0.54      0.29       197\n",
      "weighted avg       0.81      0.31      0.22       197\n",
      "\n",
      "OUTLIERS\n",
      "[2 2 1 2 2 2 1 2 1 1 1 1 1 1 2 2 2 2 2 2 2 2 2 2 2 2 1 2 1 2 2 2 1 2 2 1 2\n",
      " 2 2 2 2 2 2 2 2 2 1 1 2 2 1 2 2 2 2 2 2 2 2 2 2 2 1 2 2 2 2 2 1 2 1 2 2 2\n",
      " 1 2 1 2 2 2 2 1 2 2 1 1 2 2 2 2 2 2 1 1 1 2 1 1 2 1 2 2 2 2 2 2 1 2 2 1 2\n",
      " 2 1 1 2 2 2 2 2 2 2 2 2 1 2 1 2 2 2 1 2 2 1 2 2 2 2 2 2 2 2 2 1 2 1 1 2 2\n",
      " 2 2 2 2 2 2 2 1 2 2 1 2 2 1 2 2 2 2 1 2 2 2 2 1 1 1 1 2 1 2 2 2 2 2 2 2 2\n",
      " 2 2 2 2 2 2 2 2 2 2 1 2]\n",
      "PREDICTED\n",
      "[1 1 1 1 1 1 1 1 1 1 1 1 1 1 1 2 2 1 1 1 1 1 1 1 1 1 1 1 1 2 1 1 1 1 2 1 1\n",
      " 1 1 1 1 1 1 1 1 1 1 1 2 1 1 1 1 1 1 1 1 1 1 1 1 2 1 1 1 1 1 1 1 1 1 1 1 1\n",
      " 1 1 1 1 1 2 1 1 2 1 1 1 1 1 1 1 1 1 1 1 1 1 1 1 1 1 1 1 1 1 1 1 1 1 1 1 1\n",
      " 1 1 1 1 1 1 1 1 1 1 2 1 1 1 1 1 1 1 1 1 1 1 1 1 1 1 1 1 1 1 1 1 1 1 1 2 1\n",
      " 1 1 1 1 1 1 1 1 1 1 1 1 1 1 1 1 1 1 1 1 1 1 1 1 1 1 1 1 1 2 1 1 1 2 1 1 1\n",
      " 1 1 1 1 1 1 1 1 1 1 1 1]\n"
     ]
    }
   ],
   "source": [
    "setAll=set(xf.index.tolist())\n",
    "setFiltered=setAll-setToTrain\n",
    "outliers1=xf[xf.index.isin(list(setFiltered))]\n",
    "print(\"Outliers: \", outliers1.shape[0])\n",
    "RF=  RandomForestClassifier(max_depth=3,random_state=101, max_features=None, min_samples_leaf=3)\n",
    "RF.fit(X1,Y1)\n",
    "X_test1=outliers1.iloc[:,:-1].values\n",
    "y_test1=outliers1['VALIDATION'].values\n",
    "y_pred1=RF.predict(X_test1)\n",
    "print(classification_report(y_test1, y_pred1))\n",
    "print(\"OUTLIERS\")\n",
    "print(y_test1)\n",
    "print(\"PREDICTED\")\n",
    "print(y_pred1)"
   ]
  },
  {
   "cell_type": "markdown",
   "metadata": {},
   "source": [
    "0.27% precision for class 1 applying Random Forest and just 0.31% in average recall is not enough"
   ]
  },
  {
   "cell_type": "code",
   "execution_count": 28,
   "metadata": {},
   "outputs": [
    {
     "data": {
      "text/html": [
       "<div>\n",
       "<style scoped>\n",
       "    .dataframe tbody tr th:only-of-type {\n",
       "        vertical-align: middle;\n",
       "    }\n",
       "\n",
       "    .dataframe tbody tr th {\n",
       "        vertical-align: top;\n",
       "    }\n",
       "\n",
       "    .dataframe thead th {\n",
       "        text-align: right;\n",
       "    }\n",
       "</style>\n",
       "<table border=\"1\" class=\"dataframe\">\n",
       "  <thead>\n",
       "    <tr style=\"text-align: right;\">\n",
       "      <th></th>\n",
       "      <th>47</th>\n",
       "      <th>48</th>\n",
       "      <th>49</th>\n",
       "      <th>50</th>\n",
       "      <th>61</th>\n",
       "      <th>62</th>\n",
       "      <th>TABLE</th>\n",
       "      <th>CELL</th>\n",
       "      <th>NAME_COL1</th>\n",
       "      <th>NAME_COL2</th>\n",
       "      <th>ENTITY_COL1</th>\n",
       "      <th>PREDICATE</th>\n",
       "      <th>ENTITY_COL2</th>\n",
       "    </tr>\n",
       "  </thead>\n",
       "  <tbody>\n",
       "    <tr>\n",
       "      <th>55</th>\n",
       "      <td>58817</td>\n",
       "      <td>6</td>\n",
       "      <td>0</td>\n",
       "      <td>58817</td>\n",
       "      <td>0.602756</td>\n",
       "      <td>0.533935</td>\n",
       "      <td>560380.10</td>\n",
       "      <td>3:3:2</td>\n",
       "      <td>player@3</td>\n",
       "      <td>posit@3</td>\n",
       "      <td>https://en.wikipedia.org/wiki/Vladimir_Nikolov...</td>\n",
       "      <td>P413 :position played on team / speciality@en</td>\n",
       "      <td>https://en.wikipedia.org/wiki/Midfielder :Q193592</td>\n",
       "    </tr>\n",
       "    <tr>\n",
       "      <th>68</th>\n",
       "      <td>372150</td>\n",
       "      <td>8</td>\n",
       "      <td>1</td>\n",
       "      <td>17465</td>\n",
       "      <td>0.559276</td>\n",
       "      <td>0.477559</td>\n",
       "      <td>804035.2</td>\n",
       "      <td>13:3:1</td>\n",
       "      <td>player@3</td>\n",
       "      <td>spancol@4</td>\n",
       "      <td>https://en.wikipedia.org/wiki/Kim_Young-wook :...</td>\n",
       "      <td>P27 :country of citizenship@en</td>\n",
       "      <td>https://en.wikipedia.org/wiki/South_Korea :Q884</td>\n",
       "    </tr>\n",
       "  </tbody>\n",
       "</table>\n",
       "</div>"
      ],
      "text/plain": [
       "        47  48  49     50        61        62      TABLE    CELL NAME_COL1  \\\n",
       "55   58817   6   0  58817  0.602756  0.533935  560380.10   3:3:2  player@3   \n",
       "68  372150   8   1  17465  0.559276  0.477559   804035.2  13:3:1  player@3   \n",
       "\n",
       "    NAME_COL2                                        ENTITY_COL1  \\\n",
       "55    posit@3  https://en.wikipedia.org/wiki/Vladimir_Nikolov...   \n",
       "68  spancol@4  https://en.wikipedia.org/wiki/Kim_Young-wook :...   \n",
       "\n",
       "                                        PREDICATE  \\\n",
       "55  P413 :position played on team / speciality@en   \n",
       "68                 P27 :country of citizenship@en   \n",
       "\n",
       "                                          ENTITY_COL2  \n",
       "55  https://en.wikipedia.org/wiki/Midfielder :Q193592  \n",
       "68    https://en.wikipedia.org/wiki/South_Korea :Q884  "
      ]
     },
     "execution_count": 28,
     "metadata": {},
     "output_type": "execute_result"
    }
   ],
   "source": [
    "data[data.index.isin(outliers1[outliers1['VALIDATION']==1].index.tolist())][['47','48','49','50','61','62','TABLE','CELL','NAME_COL1','NAME_COL2','ENTITY_COL1','PREDICATE','ENTITY_COL2']].head(2)"
   ]
  },
  {
   "cell_type": "code",
   "execution_count": 57,
   "metadata": {},
   "outputs": [
    {
     "name": "stdout",
     "output_type": "stream",
     "text": [
      "              precision    recall  f1-score   support\n",
      "\n",
      "           1       0.22      0.67      0.33        15\n",
      "           2       0.94      0.69      0.80       116\n",
      "\n",
      "   micro avg       0.69      0.69      0.69       131\n",
      "   macro avg       0.58      0.68      0.56       131\n",
      "weighted avg       0.86      0.69      0.74       131\n",
      "\n"
     ]
    }
   ],
   "source": [
    "lr=linear_model.LogisticRegression()\n",
    "lr.fit(X1, Y1)\n",
    "pred_lr=lr.predict(X_test1)\n",
    "print(classification_report(pred_lr, y_test1))"
   ]
  },
  {
   "cell_type": "markdown",
   "metadata": {},
   "source": [
    "### Applying Stochastic Gradient Descent Classifier to get thresholds"
   ]
  },
  {
   "cell_type": "code",
   "execution_count": 29,
   "metadata": {},
   "outputs": [
    {
     "name": "stdout",
     "output_type": "stream",
     "text": [
      "              precision    recall  f1-score   support\n",
      "\n",
      "           1       0.00      0.00      0.00        50\n",
      "           2       0.75      1.00      0.85       147\n",
      "\n",
      "   micro avg       0.75      0.75      0.75       197\n",
      "   macro avg       0.37      0.50      0.43       197\n",
      "weighted avg       0.56      0.75      0.64       197\n",
      "\n"
     ]
    },
    {
     "name": "stderr",
     "output_type": "stream",
     "text": [
      "/home/jhomara/.local/lib/python3.5/site-packages/sklearn/metrics/classification.py:1143: UndefinedMetricWarning: Precision and F-score are ill-defined and being set to 0.0 in labels with no predicted samples.\n",
      "  'precision', 'predicted', average, warn_for)\n"
     ]
    }
   ],
   "source": [
    "\n",
    "sgd_clf=SGDClassifier(random_state=42)\n",
    "sgd_clf.fit(X1,Y1)\n",
    "ys_pred=sgd_clf.predict(X_test1)\n",
    "print(classification_report(y_test1, ys_pred))"
   ]
  },
  {
   "cell_type": "code",
   "execution_count": 30,
   "metadata": {},
   "outputs": [
    {
     "data": {
      "image/png": "[encoded data removed]",
      "text/plain": [
       "<Figure size 1080x432 with 2 Axes>"
      ]
     },
     "metadata": {},
     "output_type": "display_data"
    }
   ],
   "source": [
    "\n",
    "\n",
    "def plot_precision_recall_vs_threshold(fig, precisions, recalls, thresholds):\n",
    "    fig.plot(thresholds, precisions[:-1], \"b-\", label=\"Precision\")\n",
    "    fig.plot(thresholds, recalls[:-1], \"g--\", label=\"Recall\")\n",
    "    fig.set_xlabel(\"Threshold\")\n",
    "    fig.legend(loc=\"center left\")\n",
    "    fig.set_ylim([0,1])\n",
    "\n",
    "f, (ax1,ax2)=plt.subplots(1,2)\n",
    "y_scores1=cross_val_predict(sgd_clf, X1, Y1, cv=3, method=\"decision_function\")\n",
    "precisions, recalls, thresholds = precision_recall_curve(Y1,y_scores1, pos_label=1)\n",
    "plot_precision_recall_vs_threshold(ax1, precisions, recalls, thresholds)\n",
    "ax1.set_title(\"Correct triples\")\n",
    "precisions, recalls, thresholds = precision_recall_curve(Y1,y_scores1, pos_label=2)\n",
    "plot_precision_recall_vs_threshold(ax2, precisions, recalls, thresholds)\n",
    "ax2.set_title(\"Incorrect triples\")\n",
    "plt.show()"
   ]
  },
  {
   "cell_type": "markdown",
   "metadata": {},
   "source": [
    "## Precision vs Recall Random Forest"
   ]
  },
  {
   "cell_type": "code",
   "execution_count": 31,
   "metadata": {},
   "outputs": [
    {
     "data": {
      "image/png": "[encoded data removed]",
      "text/plain": [
       "<Figure size 1080x432 with 2 Axes>"
      ]
     },
     "metadata": {},
     "output_type": "display_data"
    }
   ],
   "source": [
    "\n",
    "\n",
    "f, (ax1,ax2)=plt.subplots(1,2)\n",
    "RF=RandomForestClassifier(max_depth=3,random_state=101, max_features=None, min_samples_leaf=3)\n",
    "X_train1, X_test1, y_train1, y_test1 = train_test_split(X1, Y1, test_size=0.2,random_state=0)\n",
    "RF.fit(X_train1, y_train1)\n",
    "y_scores1=RF.predict_proba(X_test1)\n",
    "\n",
    "precisions, recalls, thresholds = precision_recall_curve(y_test1,y_scores1[:,0], pos_label=1)\n",
    "plot_precision_recall_vs_threshold(ax1, precisions, recalls, thresholds)\n",
    "ax1.set_title(\"Correct triples\")\n",
    "precisions, recalls, thresholds = precision_recall_curve(y_test1,y_scores1[:,1], pos_label=2)\n",
    "plot_precision_recall_vs_threshold(ax2, precisions, recalls, thresholds)\n",
    "ax2.set_title(\"Incorrect triples\")\n",
    "plt.show()"
   ]
  },
  {
   "cell_type": "markdown",
   "metadata": {},
   "source": [
    "#### The method predict_proba of RandomForest give a positive and negative probability for each sample, for example [9.99169610e-01, 8.30390214e-04] where left probability indicates if example is correct and right probability  otherwise.  "
   ]
  },
  {
   "cell_type": "markdown",
   "metadata": {},
   "source": [
    "### ROC (Receiver operating characteristic) TPR vs FPS"
   ]
  },
  {
   "cell_type": "code",
   "execution_count": 32,
   "metadata": {},
   "outputs": [],
   "source": [
    "from sklearn.metrics import roc_curve, auc\n",
    "def probability_analysis(fig, X,Y, X_test=None, y_test=None, label=1):\n",
    "    RF=RandomForestClassifier(max_depth=3,random_state=101, max_features=None, min_samples_leaf=3)\n",
    "    if X_test is not None:\n",
    "        X_train=X\n",
    "        y_train=Y\n",
    "        if label==1:\n",
    "            y_score = RF.fit(X_train, y_train).predict_proba(X_test)[:, 0]\n",
    "        else:\n",
    "            y_score = RF.fit(X_train, y_train).predict_proba(X_test)[:, 1]\n",
    "    else:\n",
    "        X_train, X_test, y_train, y_test = train_test_split(X, Y, test_size=0.2,\n",
    "                                                    random_state=0)\n",
    "        if label==1:\n",
    "            y_score = RF.fit(X_train, y_train).predict_proba(X_test)[:, 0]\n",
    "        else:\n",
    "            y_score = RF.fit(X_train, y_train).predict_proba(X_test)[:, 1]\n",
    "        \n",
    "    fpr = dict()\n",
    "    tpr = dict()\n",
    "    roc_auc = dict()\n",
    "    #labels=[1,2]\n",
    "    th=dict()\n",
    "    #for i in labels:\n",
    "    fpr[label], tpr[label], th[label] = roc_curve(y_test, y_score,  pos_label=label)\n",
    "    roc_auc[label] = auc(fpr[label], tpr[label])\n",
    "    print(roc_auc)\n",
    "    \n",
    "    # Compute micro-average ROC curve and ROC area\n",
    "    fpr[\"micro\"], tpr[\"micro\"], _ = roc_curve(y_test.ravel(), y_score.ravel(), pos_label=label)\n",
    "    roc_auc[\"micro\"] = auc(fpr[\"micro\"], tpr[\"micro\"])\n",
    "    print(roc_auc)\n",
    "    plt.figure()\n",
    "    lw = 2\n",
    "    fig.plot(fpr[label], tpr[label], color='darkorange',\n",
    "             lw=lw, label='ROC curve (area = %0.2f)' % roc_auc[label])\n",
    "    fig.plot([0, 1], [0, 1], color='navy', lw=lw, linestyle='--')\n",
    "    fig.set_xlim([0.0, 1.0])\n",
    "    fig.set_ylim([0.0, 1.05])\n",
    "    fig.set_xlabel('False Positive Rate')\n",
    "    fig.set_ylabel('True Positive Rate')\n",
    "    fig.set_title('Receiver operating characteristic example - Random Forest')\n",
    "    fig.legend(loc=\"lower right\")"
   ]
  },
  {
   "cell_type": "code",
   "execution_count": 33,
   "metadata": {},
   "outputs": [
    {
     "name": "stdout",
     "output_type": "stream",
     "text": [
      "{1: 0.7994884910485933}\n",
      "{1: 0.7994884910485933, 'micro': 0.7994884910485933}\n",
      "{2: 0.7994884910485933}\n",
      "{2: 0.7994884910485933, 'micro': 0.7994884910485933}\n"
     ]
    },
    {
     "data": {
      "image/png": "[encoded data removed]",
      "text/plain": [
       "<Figure size 1080x432 with 2 Axes>"
      ]
     },
     "metadata": {},
     "output_type": "display_data"
    },
    {
     "data": {
      "text/plain": [
       "<Figure size 1080x432 with 0 Axes>"
      ]
     },
     "metadata": {},
     "output_type": "display_data"
    },
    {
     "data": {
      "text/plain": [
       "<Figure size 1080x432 with 0 Axes>"
      ]
     },
     "metadata": {},
     "output_type": "display_data"
    }
   ],
   "source": [
    "#We get probability\n",
    "f, (ax1,ax2)=plt.subplots(1,2)\n",
    "probability_analysis(ax1,X1,Y1, label=1)\n",
    "ax1.set_title(\"Correct triples\")\n",
    "probability_analysis(ax2,X1,Y1, label=2)\n",
    "ax2.set_title(\"Incorrect triples\")\n",
    "plt.show()"
   ]
  },
  {
   "cell_type": "markdown",
   "metadata": {},
   "source": [
    "### The figure shows that algorithm can differentiate two classes with 0.80% probability, if we increase the threshold for more positive values (TRP), we could get more false positives (Decrease the specificity FPR). "
   ]
  },
  {
   "cell_type": "markdown",
   "metadata": {},
   "source": [
    "### A little note:"
   ]
  },
  {
   "cell_type": "raw",
   "metadata": {},
   "source": [
    "Due to features 32,34 and 36 will be 0 if predicate is given by cluster instead by  table, using only features 61,62 on models will give similar or better results as well. "
   ]
  },
  {
   "cell_type": "code",
   "execution_count": 34,
   "metadata": {},
   "outputs": [
    {
     "name": "stdout",
     "output_type": "stream",
     "text": [
      "***  KNN  ***\n",
      "Precision:  0.41761573192855506\n",
      "Recall:  0.4122448979591836\n",
      "F1-score:  0.4136329029038114\n",
      "***  Decision Tree  ***\n",
      "Precision:  0.48109785811672606\n",
      "Recall:  0.4795918367346938\n",
      "F1-score:  0.4136329029038114\n",
      "***  Random Forest  ***\n",
      "Precision:  0.6333590967801122\n",
      "Recall:  0.5020408163265306\n",
      "F1-score:  0.5569815111640232\n",
      "***  Naive Bayes  ***\n",
      "Precision:  0.4004578017113891\n",
      "Recall:  0.21428571428571427\n",
      "F1-score:  0.2729042866751755\n"
     ]
    }
   ],
   "source": [
    "X=xf.copy()\n",
    "del X[31]\n",
    "del X[32]\n",
    "del X[33]\n",
    "del X[34]\n",
    "del X[35]\n",
    "del X[36]\n",
    "X=X.iloc[:,:-1].values\n",
    "Y=xf['VALIDATION'].values\n",
    "classify(X,Y, False)"
   ]
  },
  {
   "cell_type": "markdown",
   "metadata": {},
   "source": [
    "# Adding data to training set (correct triples)"
   ]
  },
  {
   "cell_type": "code",
   "execution_count": 59,
   "metadata": {},
   "outputs": [
    {
     "name": "stdout",
     "output_type": "stream",
     "text": [
      "Size:  (852, 71)\n"
     ]
    },
    {
     "data": {
      "text/html": [
       "<div>\n",
       "<style scoped>\n",
       "    .dataframe tbody tr th:only-of-type {\n",
       "        vertical-align: middle;\n",
       "    }\n",
       "\n",
       "    .dataframe tbody tr th {\n",
       "        vertical-align: top;\n",
       "    }\n",
       "\n",
       "    .dataframe thead th {\n",
       "        text-align: right;\n",
       "    }\n",
       "</style>\n",
       "<table border=\"1\" class=\"dataframe\">\n",
       "  <thead>\n",
       "    <tr style=\"text-align: right;\">\n",
       "      <th></th>\n",
       "      <th>1</th>\n",
       "      <th>2</th>\n",
       "      <th>3</th>\n",
       "      <th>4</th>\n",
       "      <th>5</th>\n",
       "      <th>6</th>\n",
       "      <th>7</th>\n",
       "      <th>8</th>\n",
       "      <th>9</th>\n",
       "      <th>10</th>\n",
       "      <th>...</th>\n",
       "      <th>ORIGIN</th>\n",
       "      <th>CLUSTER</th>\n",
       "      <th>TABLE</th>\n",
       "      <th>CELL</th>\n",
       "      <th>NAME_COL1</th>\n",
       "      <th>NAME_COL2</th>\n",
       "      <th>ENTITY_COL1</th>\n",
       "      <th>PREDICATE</th>\n",
       "      <th>ENTITY_COL2</th>\n",
       "      <th>65</th>\n",
       "    </tr>\n",
       "  </thead>\n",
       "  <tbody>\n",
       "    <tr>\n",
       "      <th>0</th>\n",
       "      <td>0</td>\n",
       "      <td>4</td>\n",
       "      <td>12</td>\n",
       "      <td>6</td>\n",
       "      <td>2.000000</td>\n",
       "      <td>36</td>\n",
       "      <td>2</td>\n",
       "      <td>3</td>\n",
       "      <td>12</td>\n",
       "      <td>12</td>\n",
       "      <td>...</td>\n",
       "      <td>f</td>\n",
       "      <td>72</td>\n",
       "      <td>836544.4</td>\n",
       "      <td>1:2:3</td>\n",
       "      <td>name@3</td>\n",
       "      <td>nation@3</td>\n",
       "      <td>https://en.wikipedia.org/wiki/Marlies_G%C3%B6h...</td>\n",
       "      <td>P1532 :country for sport@en</td>\n",
       "      <td>https://en.wikipedia.org/wiki/East_Germany :Q1...</td>\n",
       "      <td>2632</td>\n",
       "    </tr>\n",
       "    <tr>\n",
       "      <th>1</th>\n",
       "      <td>0</td>\n",
       "      <td>6</td>\n",
       "      <td>12</td>\n",
       "      <td>6</td>\n",
       "      <td>2.000000</td>\n",
       "      <td>42</td>\n",
       "      <td>2</td>\n",
       "      <td>3</td>\n",
       "      <td>12</td>\n",
       "      <td>12</td>\n",
       "      <td>...</td>\n",
       "      <td>f</td>\n",
       "      <td>72</td>\n",
       "      <td>798568.6</td>\n",
       "      <td>11:2:3</td>\n",
       "      <td>name@3</td>\n",
       "      <td>nation@3</td>\n",
       "      <td>https://en.wikipedia.org/wiki/Grace_Claxton :Q...</td>\n",
       "      <td>P1532 :country for sport@en</td>\n",
       "      <td>https://en.wikipedia.org/wiki/Puerto_Rico :Q1183</td>\n",
       "      <td>2632</td>\n",
       "    </tr>\n",
       "    <tr>\n",
       "      <th>2</th>\n",
       "      <td>0</td>\n",
       "      <td>3</td>\n",
       "      <td>13</td>\n",
       "      <td>6</td>\n",
       "      <td>2.166667</td>\n",
       "      <td>33</td>\n",
       "      <td>2</td>\n",
       "      <td>3</td>\n",
       "      <td>10</td>\n",
       "      <td>10</td>\n",
       "      <td>...</td>\n",
       "      <td>f</td>\n",
       "      <td>72</td>\n",
       "      <td>989152.3</td>\n",
       "      <td>9:2:3</td>\n",
       "      <td>name@3</td>\n",
       "      <td>nation@3</td>\n",
       "      <td>https://en.wikipedia.org/wiki/Andrea_Nuti :Q28...</td>\n",
       "      <td>P27 :country of citizenship@en</td>\n",
       "      <td>https://en.wikipedia.org/wiki/Italy :Q38</td>\n",
       "      <td>2632</td>\n",
       "    </tr>\n",
       "  </tbody>\n",
       "</table>\n",
       "<p>3 rows × 74 columns</p>\n",
       "</div>"
      ],
      "text/plain": [
       "   1  2   3  4         5   6  7  8   9  10  ...   ORIGIN  CLUSTER     TABLE  \\\n",
       "0  0  4  12  6  2.000000  36  2  3  12  12  ...        f       72  836544.4   \n",
       "1  0  6  12  6  2.000000  42  2  3  12  12  ...        f       72  798568.6   \n",
       "2  0  3  13  6  2.166667  33  2  3  10  10  ...        f       72  989152.3   \n",
       "\n",
       "     CELL  NAME_COL1  NAME_COL2  \\\n",
       "0   1:2:3     name@3   nation@3   \n",
       "1  11:2:3     name@3   nation@3   \n",
       "2   9:2:3     name@3   nation@3   \n",
       "\n",
       "                                         ENTITY_COL1  \\\n",
       "0  https://en.wikipedia.org/wiki/Marlies_G%C3%B6h...   \n",
       "1  https://en.wikipedia.org/wiki/Grace_Claxton :Q...   \n",
       "2  https://en.wikipedia.org/wiki/Andrea_Nuti :Q28...   \n",
       "\n",
       "                        PREDICATE  \\\n",
       "0     P1532 :country for sport@en   \n",
       "1     P1532 :country for sport@en   \n",
       "2  P27 :country of citizenship@en   \n",
       "\n",
       "                                         ENTITY_COL2    65  \n",
       "0  https://en.wikipedia.org/wiki/East_Germany :Q1...  2632  \n",
       "1   https://en.wikipedia.org/wiki/Puerto_Rico :Q1183  2632  \n",
       "2           https://en.wikipedia.org/wiki/Italy :Q38  2632  \n",
       "\n",
       "[3 rows x 74 columns]"
      ]
     },
     "execution_count": 59,
     "metadata": {},
     "output_type": "execute_result"
    }
   ],
   "source": [
    "dataCorrect = pd.read_csv('sampleCorrect300.csv',sep=\"\\t\", decimal=\",\", index_col=False)\n",
    "print(\"Size: \", data.shape)\n",
    "#data1=data[data['ORIGIN']=='f']\n",
    "dataCorrect=pd.merge(dataCorrect, clusters, on=['CLUSTER'])\n",
    "dataCorrect.head(3)\n"
   ]
  },
  {
   "cell_type": "markdown",
   "metadata": {},
   "source": [
    "## Testing models over new data"
   ]
  },
  {
   "cell_type": "code",
   "execution_count": 36,
   "metadata": {},
   "outputs": [
    {
     "name": "stdout",
     "output_type": "stream",
     "text": [
      "New data:\n",
      "Number of correct triples:  (300, 59)\n",
      "Number of incorrect triples:  (0, 59)\n",
      "              precision    recall  f1-score   support\n",
      "\n",
      "           1       1.00      0.64      0.78       300\n",
      "           2       0.00      0.00      0.00         0\n",
      "\n",
      "   micro avg       0.64      0.64      0.64       300\n",
      "   macro avg       0.50      0.32      0.39       300\n",
      "weighted avg       1.00      0.64      0.78       300\n",
      "\n"
     ]
    },
    {
     "name": "stderr",
     "output_type": "stream",
     "text": [
      "/home/jhomara/.local/lib/python3.5/site-packages/sklearn/metrics/classification.py:1145: UndefinedMetricWarning: Recall and F-score are ill-defined and being set to 0.0 in labels with no true samples.\n",
      "  'recall', 'true', average, warn_for)\n"
     ]
    }
   ],
   "source": [
    "print(\"New data:\")\n",
    "xf1=filterFeatures(dataCorrect)\n",
    "X_old=xf.iloc[:,:-1].values\n",
    "Y_old=xf['VALIDATION'].values\n",
    "X_new=xf1.iloc[:,:-1].values\n",
    "Y_new=xf1.iloc[:,-1].values\n",
    "\n",
    "RF=RandomForestClassifier(max_depth=3,random_state=101, max_features=None, min_samples_leaf=3)\n",
    "RF.fit(X_old, Y_old)\n",
    "pred_new=RF.predict(X_new)\n",
    "print(classification_report(Y_new, pred_new))"
   ]
  },
  {
   "cell_type": "markdown",
   "metadata": {},
   "source": [
    "## Testing models over new training set"
   ]
  },
  {
   "cell_type": "code",
   "execution_count": 37,
   "metadata": {},
   "outputs": [
    {
     "name": "stdout",
     "output_type": "stream",
     "text": [
      "New training set\n",
      "New number of correct triples: 545\n",
      "New number of incorrect triples: 607\n",
      "***  KNN  ***\n",
      "Precision:  0.5943898225403085\n",
      "Recall:  0.6155963302752294\n",
      "F1-score:  0.6043296336084325\n",
      "***  Decision Tree  ***\n",
      "Precision:  0.7495214609100638\n",
      "Recall:  0.7660550458715596\n",
      "F1-score:  0.6043296336084325\n",
      "***  Random Forest  ***\n",
      "Precision:  0.8395112369303233\n",
      "Recall:  0.7577981651376147\n",
      "F1-score:  0.796161323562001\n",
      "***  Naive Bayes  ***\n",
      "Precision:  0.478737941214942\n",
      "Recall:  0.938532110091743\n",
      "F1-score:  0.6340109770514458\n"
     ]
    }
   ],
   "source": [
    "#Append new data to initial group.\n",
    "xfNew=xf.append(xf1)\n",
    "xfNew.shape\n",
    "X2=xfNew.iloc[:,:-1].values\n",
    "Y2=xfNew['VALIDATION'].values\n",
    "print(\"New training set\")\n",
    "print(\"New number of correct triples:\", xfNew[xfNew['VALIDATION']==1].shape[0])\n",
    "print(\"New number of incorrect triples:\", xfNew[xfNew['VALIDATION']==2].shape[0])\n",
    "classify(X2,Y2, False)"
   ]
  },
  {
   "cell_type": "markdown",
   "metadata": {},
   "source": [
    "## Precision vs Recall (new training set)"
   ]
  },
  {
   "cell_type": "code",
   "execution_count": 38,
   "metadata": {},
   "outputs": [
    {
     "data": {
      "image/png": "[encoded data removed]",
      "text/plain": [
       "<Figure size 1080x432 with 2 Axes>"
      ]
     },
     "metadata": {},
     "output_type": "display_data"
    }
   ],
   "source": [
    "f, (ax1,ax2)=plt.subplots(1,2)\n",
    "RF=RandomForestClassifier(max_depth=3,random_state=101, max_features=None, min_samples_leaf=3)\n",
    "X_train2, X_test2, y_train2, y_test2= train_test_split(X2, Y2, test_size=0.2,random_state=0)\n",
    "RF.fit(X_train2, y_train2)\n",
    "y_scores2=RF.predict_proba(X_test2)\n",
    "\n",
    "precisions, recalls, thresholds = precision_recall_curve(y_test2,y_scores2[:,0], pos_label=1)\n",
    "plot_precision_recall_vs_threshold(ax1, precisions, recalls, thresholds)\n",
    "ax1.set_title(\"Correct triples\")\n",
    "\n",
    "precisions, recalls, thresholds = precision_recall_curve(y_test2,y_scores2[:,1], pos_label=2)\n",
    "plot_precision_recall_vs_threshold(ax2, precisions, recalls, thresholds)\n",
    "ax2.set_title(\"Incorrect triples\")\n",
    "plt.show()"
   ]
  },
  {
   "cell_type": "markdown",
   "metadata": {},
   "source": [
    "## Setting Threshold"
   ]
  },
  {
   "cell_type": "code",
   "execution_count": 39,
   "metadata": {},
   "outputs": [
    {
     "name": "stdout",
     "output_type": "stream",
     "text": [
      "Precision: 0.9333333333333333\n",
      "Recall:  0.6422018348623854\n"
     ]
    }
   ],
   "source": [
    "# If I use 0.55 as probability threshold I will get 0.75% precision and recall.\n",
    "\n",
    "y_pred_55=np.where(y_scores2[:,0]>=0.55,1,2)\n",
    "print(\"Precision:\", precision_score(y_test2, y_pred_55))\n",
    "print(\"Recall: \", recall_score(y_test2, y_pred_55))"
   ]
  },
  {
   "cell_type": "markdown",
   "metadata": {},
   "source": [
    "## ROC curve (new training set)"
   ]
  },
  {
   "cell_type": "code",
   "execution_count": 40,
   "metadata": {},
   "outputs": [
    {
     "name": "stdout",
     "output_type": "stream",
     "text": [
      "{1: 0.8525342156715296}\n",
      "{1: 0.8525342156715296, 'micro': 0.8525342156715296}\n",
      "{2: 0.8525342156715295}\n",
      "{2: 0.8525342156715295, 'micro': 0.8525342156715295}\n"
     ]
    },
    {
     "data": {
      "image/png": "[encoded data removed]",
      "text/plain": [
       "<Figure size 1080x432 with 2 Axes>"
      ]
     },
     "metadata": {},
     "output_type": "display_data"
    },
    {
     "data": {
      "text/plain": [
       "<Figure size 1080x432 with 0 Axes>"
      ]
     },
     "metadata": {},
     "output_type": "display_data"
    },
    {
     "data": {
      "text/plain": [
       "<Figure size 1080x432 with 0 Axes>"
      ]
     },
     "metadata": {},
     "output_type": "display_data"
    }
   ],
   "source": [
    "#Plot ROC curve for all data, including correct triples added. \n",
    "\n",
    "f, (ax1,ax2)=plt.subplots(1,2)\n",
    "probability_analysis(ax1,X2,Y2, label=1)\n",
    "ax1.set_title(\"Correct triples\")\n",
    "probability_analysis(ax2,X2,Y2, label=2)\n",
    "ax2.set_title(\"Incorrect triples\")\n",
    "plt.show()"
   ]
  },
  {
   "cell_type": "markdown",
   "metadata": {},
   "source": [
    "### Adding correct triples the performance is good, but it is necesary to know that the most of triples in dataset are generated with predicates extracted from cluster and correct triples extracted from cluster are less than 10%"
   ]
  },
  {
   "cell_type": "code",
   "execution_count": 41,
   "metadata": {},
   "outputs": [
    {
     "name": "stdout",
     "output_type": "stream",
     "text": [
      "***  KNN  ***\n",
      "Precision:  0.613416864029069\n",
      "Recall:  0.5743119266055047\n",
      "F1-score:  0.5925192539663053\n",
      "***  Decision Tree  ***\n",
      "Precision:  0.761142885136081\n",
      "Recall:  0.7798165137614678\n",
      "F1-score:  0.5925192539663053\n",
      "***  Random Forest  ***\n",
      "Precision:  0.8371143583349878\n",
      "Recall:  0.7587155963302752\n",
      "F1-score:  0.7951572913645063\n",
      "***  Naive Bayes  ***\n",
      "Precision:  0.4820321546522185\n",
      "Recall:  0.9477064220183488\n",
      "F1-score:  0.638984536125243\n"
     ]
    }
   ],
   "source": [
    "#If features of table are not included, the results are similar. \n",
    "#Without table features.\n",
    "test=xfNew.copy()\n",
    "X3=test.iloc[:,:-1].values\n",
    "Y3=test['VALIDATION'].values\n",
    "classify(X3,Y3, False)"
   ]
  },
  {
   "cell_type": "markdown",
   "metadata": {},
   "source": [
    "### Removing outliers from new training set"
   ]
  },
  {
   "cell_type": "raw",
   "metadata": {},
   "source": [
    "Remove outliers in features:32,34,36,61,62 over new dataset, train model and test over removed data"
   ]
  },
  {
   "cell_type": "code",
   "execution_count": 42,
   "metadata": {},
   "outputs": [
    {
     "name": "stderr",
     "output_type": "stream",
     "text": [
      "/usr/local/lib/python3.5/dist-packages/ipykernel_launcher.py:13: SettingWithCopyWarning: \n",
      "A value is trying to be set on a copy of a slice from a DataFrame.\n",
      "Try using .loc[row_indexer,col_indexer] = value instead\n",
      "\n",
      "See the caveats in the documentation: http://pandas.pydata.org/pandas-docs/stable/indexing.html#indexing-view-versus-copy\n",
      "  del sys.path[0]\n"
     ]
    },
    {
     "data": {
      "image/png": "[encoded data removed]",
      "text/plain": [
       "<Figure size 1080x432 with 2 Axes>"
      ]
     },
     "metadata": {},
     "output_type": "display_data"
    }
   ],
   "source": [
    "c=xfNew[xfNew['VALIDATION']==1][[32,34,36,61,62]]\n",
    "Q1 = c.quantile(0.25)\n",
    "Q3 = c.quantile(0.75)\n",
    "IQR = Q3 - Q1\n",
    "dfoc = c[~((c < (Q1 - 1.5 * IQR)) |(c > (Q3 + 1.5 * IQR))).any(axis=1)]\n",
    "dfoc['key'] = 'correct'\n",
    "\n",
    "i=xfNew[xfNew['VALIDATION']==2][[32,34,36,61,62]]\n",
    "Q1 = i.quantile(0.25)\n",
    "Q3 = i.quantile(0.75)\n",
    "IQR = Q3 - Q1\n",
    "dfo = i[~((i < (Q1 - 1.5 * IQR)) |(i > (Q3 + 1.5 * IQR))).any(axis=1)]\n",
    "dfo['key'] = 'incorrect'\n",
    "\n",
    "DF = pd.concat([dfoc,dfo],keys=['correct','incorrect'])\n",
    "DFGroup = DF.groupby(['key'])\n",
    "ax=DFGroup.boxplot()\n",
    "plt.show()"
   ]
  },
  {
   "cell_type": "code",
   "execution_count": 43,
   "metadata": {},
   "outputs": [
    {
     "name": "stdout",
     "output_type": "stream",
     "text": [
      "Total triples without outliers:  (1005, 6)\n",
      "Total correct triples without outliers:  (545, 6)\n",
      "Total incorrect triples without outliers:  (460, 6)\n",
      "Outliers:  (126, 59)\n",
      "              precision    recall  f1-score   support\n",
      "\n",
      "           1       0.00      0.00      0.00         0\n",
      "           2       1.00      0.12      0.21       126\n",
      "\n",
      "   micro avg       0.12      0.12      0.12       126\n",
      "   macro avg       0.50      0.06      0.11       126\n",
      "weighted avg       1.00      0.12      0.21       126\n",
      "\n",
      "OUTLIERS\n",
      "[2 2 2 2 2 2 2 2 2 2 2 2 2 2 2 2 2 2 2 2 2 2 2 2 2 2 2 2 2 2 2 2 2 2 2 2 2\n",
      " 2 2 2 2 2 2 2 2 2 2 2 2 2 2 2 2 2 2 2 2 2 2 2 2 2 2 2 2 2 2 2 2 2 2 2 2 2\n",
      " 2 2 2 2 2 2 2 2 2 2 2 2 2 2 2 2 2 2 2 2 2 2 2 2 2 2 2 2 2 2 2 2 2 2 2 2 2\n",
      " 2 2 2 2 2 2 2 2 2 2 2 2 2 2 2]\n",
      "PREDICTED\n",
      "[1 1 1 1 1 1 1 2 1 1 1 1 1 2 1 1 1 1 1 1 1 1 1 1 1 1 1 1 2 1 1 1 1 1 1 1 1\n",
      " 1 2 1 1 1 2 1 1 1 1 1 1 2 1 2 1 2 1 1 2 1 1 1 1 1 1 1 1 1 2 1 2 2 1 1 1 1\n",
      " 1 1 1 1 1 1 1 1 1 1 1 1 1 1 1 1 1 1 1 1 1 1 1 1 1 1 1 1 1 1 1 1 1 2 1 1 2\n",
      " 2 1 1 1 1 1 1 1 1 1 1 1 1 1 1]\n"
     ]
    },
    {
     "name": "stderr",
     "output_type": "stream",
     "text": [
      "/home/jhomara/.local/lib/python3.5/site-packages/sklearn/metrics/classification.py:1145: UndefinedMetricWarning: Recall and F-score are ill-defined and being set to 0.0 in labels with no true samples.\n",
      "  'recall', 'true', average, warn_for)\n"
     ]
    }
   ],
   "source": [
    "#Training Naive Bayes:\n",
    "#Measure evaluated for correct triples\n",
    "dt=pd.concat([dfoc,dfo])\n",
    "print(\"Total triples without outliers: \", dt.shape)\n",
    "print(\"Total correct triples without outliers: \", dt[dt['key']=='correct'].shape)\n",
    "print(\"Total incorrect triples without outliers: \", dt[dt['key']=='incorrect'].shape)\n",
    "dt['key']=np.where(dt['key']=='correct',1, 2)\n",
    "\"\"\"\n",
    "del xfNew[31]\n",
    "del xfNew[32]\n",
    "del xfNew[33]\n",
    "del xfNew[34]\n",
    "del xfNew[35]\n",
    "del xfNew[36]\n",
    "\"\"\"\n",
    "setAll=set(xfNew.index.tolist())\n",
    "setToTrain=set(dt.index.tolist())\n",
    "alld=xfNew[xfNew.index.isin(list(setToTrain))]\n",
    "\n",
    "X4=alld.iloc[:,:-1].values\n",
    "Y4=alld['VALIDATION'].values\n",
    "\n",
    "setFiltered=setAll-setToTrain\n",
    "outliers=xfNew[xfNew.index.isin(list(setFiltered))]\n",
    "print(\"Outliers: \", outliers.shape)\n",
    "RF=RandomForestClassifier(max_depth=3,random_state=101, max_features=None, min_samples_leaf=3)\n",
    "RF.fit(X4,Y4)\n",
    "X_test4=outliers.iloc[:,:-1].values\n",
    "\n",
    "y_test4=outliers['VALIDATION'].values\n",
    "y_pred4=RF.predict(X_test4)\n",
    "print(classification_report(y_test4, y_pred4))\n",
    "print(\"OUTLIERS\")\n",
    "print(y_test4)\n",
    "print(\"PREDICTED\")\n",
    "print(y_pred4)"
   ]
  },
  {
   "cell_type": "code",
   "execution_count": 44,
   "metadata": {},
   "outputs": [],
   "source": [
    "#See outliers\n",
    "#test=data.append(dataCorrect)\n",
    "#test[test.index.isin(list(setFiltered))].iloc[:,50:]"
   ]
  },
  {
   "cell_type": "markdown",
   "metadata": {},
   "source": [
    "## Regression Models"
   ]
  },
  {
   "cell_type": "code",
   "execution_count": 45,
   "metadata": {},
   "outputs": [],
   "source": [
    "def logistic(z):\n",
    "    return 1. / (1. + nd.exp(-z))\n",
    "\n",
    "def lossf(output, y):\n",
    "    newy=logistic(output)\n",
    "    return- nd.nansum(  y * nd.log(newy) + (1-y) * nd.log(1-newy))"
   ]
  },
  {
   "cell_type": "code",
   "execution_count": 56,
   "metadata": {},
   "outputs": [
    {
     "name": "stdout",
     "output_type": "stream",
     "text": [
      "              precision    recall  f1-score   support\n",
      "\n",
      "           1       0.88      0.70      0.78       206\n",
      "           2       0.57      0.81      0.67       102\n",
      "\n",
      "   micro avg       0.74      0.74      0.74       308\n",
      "   macro avg       0.73      0.76      0.73       308\n",
      "weighted avg       0.78      0.74      0.74       308\n",
      "\n"
     ]
    },
    {
     "data": {
      "text/plain": [
       "'y_traint3=nd.array(np.where(y_train3==1,1,0))\\ny_testt3=nd.array(np.where(y_test3==1,1,0))\\ny_traint3=logistic(y_traint3).asnumpy()\\ny_testt3=logistic(y_testt3).asnumpy()\\nprint(len(y_traint3))\\nprint(X_train3.shape)\\nprint(len(y_testt3))'"
      ]
     },
     "execution_count": 56,
     "metadata": {},
     "output_type": "execute_result"
    }
   ],
   "source": [
    "X_train4, X_test4, y_train4, y_test4 = train_test_split(X4, Y4, test_size=0.3,shuffle=3)\n",
    "\n",
    "#Logistic Regression\n",
    "\n",
    "lr=linear_model.LogisticRegression()\n",
    "lr.fit(X_train4, y_train4)\n",
    "pred_lr=lr.predict(X_test4)\n",
    "print(classification_report(pred_lr, y_test4))\n",
    "y_traint4=np.where(y_train4==1,0.75,0.45)\n",
    "y_testt4=np.where(y_test4==1,0.75,0.45)\n",
    "\n",
    "\"\"\"y_traint3=nd.array(np.where(y_train3==1,1,0))\n",
    "y_testt3=nd.array(np.where(y_test3==1,1,0))\n",
    "y_traint3=logistic(y_traint3).asnumpy()\n",
    "y_testt3=logistic(y_testt3).asnumpy()\n",
    "print(len(y_traint3))\n",
    "print(X_train3.shape)\n",
    "print(len(y_testt3))\"\"\""
   ]
  },
  {
   "cell_type": "code",
   "execution_count": 54,
   "metadata": {},
   "outputs": [
    {
     "name": "stdout",
     "output_type": "stream",
     "text": [
      "\n",
      "\n",
      "*****  SVR  *****\n",
      "\n",
      "R2 score : 0.16\n",
      "Mean squared error: 0.02\n",
      "MSE 0.018851278978259067\n",
      "variance 0.00013239253334313843\n",
      "average of errors  0.01885127897825907\n",
      "average of observed values 0.6038961038961039\n",
      "total sum of squares 6.92532467532468\n",
      "ẗotal sum of residuals  5.806193925303792\n",
      "r2 calculated 0.1615997519955149\n",
      "\n",
      "\n",
      "*****  SGDRegressor  *****\n",
      "\n",
      "R2 score : -144649426922551767639277611446980243881984.00\n",
      "Mean squared error: 3252416381617925579184341853343611617280.00\n",
      "MSE 3.252416381617926e+39\n",
      "variance 2.0009878243095055e+80\n",
      "average of errors  3.2524163816179256e+39\n",
      "average of observed values 0.6038961038961039\n",
      "total sum of squares 6.92532467532468\n",
      "ẗotal sum of residuals  1.0017442455383212e+42\n",
      "r2 calculated -1.4464942692255167e+41\n",
      "\n",
      "\n",
      "*****  BayesianRidge  *****\n",
      "\n",
      "R2 score : 0.48\n",
      "Mean squared error: 0.01\n",
      "MSE 0.011630366717179031\n",
      "variance 0.00013721207673498027\n",
      "average of errors  0.011630366717179022\n",
      "average of observed values 0.6038961038961039\n",
      "total sum of squares 6.92532467532468\n",
      "ẗotal sum of residuals  3.5821529488911414\n",
      "r2 calculated 0.48274584704244217\n",
      "\n",
      "\n",
      "*****  RandomForestRegressor  *****\n",
      "\n",
      "R2 score : 0.59\n",
      "Mean squared error: 0.01\n",
      "MSE 0.009160714285714293\n",
      "variance 0.00027516115143784724\n",
      "average of errors  0.009160714285714286\n",
      "average of observed values 0.6038961038961039\n",
      "total sum of squares 6.92532467532468\n",
      "ẗotal sum of residuals  2.821500000000002\n",
      "r2 calculated 0.5925822784810126\n"
     ]
    }
   ],
   "source": [
    "from sklearn import linear_model\n",
    "from sklearn import svm\n",
    "from sklearn.metrics import mean_squared_error, r2_score\n",
    "from sklearn.ensemble import RandomForestRegressor\n",
    "classifiers = [\n",
    "    svm.SVR(),\n",
    "    linear_model.SGDRegressor(max_iter=100),\n",
    "    linear_model.BayesianRidge(),    \n",
    "    RandomForestRegressor()]\n",
    "\n",
    "for item in classifiers:\n",
    "    #print(item)\n",
    "    clf = item\n",
    "    print(\"\\n\")\n",
    "    print(\"***** \",type(clf).__name__,\" *****\"+\"\\n\")  \n",
    "    clf.fit(X_train4, y_traint4)\n",
    "    pred4=clf.predict(X_test4)\n",
    "    #print('Accuracy of {} on test set: {:.2f}'.format(type(clf).__name__,logreg.score(X_test3, y_testt3)))\n",
    "\n",
    "    print(\"R2 score : %.2f\" % r2_score(y_testt4,pred4))\n",
    "    print(\"Mean squared error: %.2f\" % mean_squared_error(y_testt4, pred4))\n",
    "    er = []\n",
    "    g = 0\n",
    "    meany=np.mean(pred4)\n",
    "    for i in range(len(y_testt4)):\n",
    "        #print( \"actual=\", y_testt3[i], \" observed=\", pred3[i])\n",
    "        x = (y_testt4[i] - pred4[i]) **2\n",
    "        er.append(x)        \n",
    "        g = g + x\n",
    "\n",
    "    x = 0\n",
    "    for i in range(len(er)):\n",
    "        x = x + er[i]\n",
    "    print (\"MSE\", x / len(er))\n",
    "\n",
    "    v = np.var(er)\n",
    "    print (\"variance\", v)\n",
    "    print (\"average of errors \", np.mean(er))\n",
    "    m = np.mean(y_testt4)\n",
    "    print (\"average of observed values\", m)\n",
    "\n",
    "    y = 0\n",
    "    for i in range(len(y_testt4)):\n",
    "        y = y + ((y_testt4[i] - m) ** 2)\n",
    "\n",
    "    print (\"total sum of squares\", y)\n",
    "    print (\"ẗotal sum of residuals \", g)\n",
    "    print (\"r2 calculated\", 1 - (g / y))\n",
    "\n",
    "\n",
    "#logreg = LinearRegression()\n",
    "#logreg.fit(X_train3, y_traint3)\n",
    "#pred3=logreg.predict(X_test3)\n",
    "#print('Accuracy of LR Classifier on test set: {:.2f}'.format(logreg.score(X_test3, y_testt3)))"
   ]
  },
  {
   "cell_type": "code",
   "execution_count": null,
   "metadata": {},
   "outputs": [],
   "source": [
    "logistic(nd.array([0,0,1,1]))"
   ]
  },
  {
   "cell_type": "code",
   "execution_count": null,
   "metadata": {},
   "outputs": [],
   "source": [
    "xd=mx.nd.arange(58,dtype='float32').reshape(1,58)\n",
    "net(xd)"
   ]
  },
  {
   "cell_type": "code",
   "execution_count": 58,
   "metadata": {},
   "outputs": [
    {
     "ename": "NameError",
     "evalue": "name 'y_train3' is not defined",
     "output_type": "error",
     "traceback": [
      "\u001b[0;31m---------------------------------------------------------------------------\u001b[0m",
      "\u001b[0;31mNameError\u001b[0m                                 Traceback (most recent call last)",
      "\u001b[0;32m<ipython-input-58-840192852593>\u001b[0m in \u001b[0;36m<module>\u001b[0;34m()\u001b[0m\n\u001b[1;32m      4\u001b[0m \u001b[0mmodel_ctx\u001b[0m \u001b[0;34m=\u001b[0m \u001b[0mmx\u001b[0m\u001b[0;34m.\u001b[0m\u001b[0mcpu\u001b[0m\u001b[0;34m(\u001b[0m\u001b[0;34m)\u001b[0m\u001b[0;34m\u001b[0m\u001b[0m\n\u001b[1;32m      5\u001b[0m \u001b[0mbatch_size\u001b[0m\u001b[0;34m=\u001b[0m\u001b[0;36m100\u001b[0m\u001b[0;34m\u001b[0m\u001b[0m\n\u001b[0;32m----> 6\u001b[0;31m \u001b[0my_traint3\u001b[0m\u001b[0;34m=\u001b[0m\u001b[0mnp\u001b[0m\u001b[0;34m.\u001b[0m\u001b[0mwhere\u001b[0m\u001b[0;34m(\u001b[0m\u001b[0my_train3\u001b[0m\u001b[0;34m==\u001b[0m\u001b[0;36m1\u001b[0m\u001b[0;34m,\u001b[0m\u001b[0;36m0\u001b[0m\u001b[0;34m,\u001b[0m\u001b[0;36m1\u001b[0m\u001b[0;34m)\u001b[0m\u001b[0;34m\u001b[0m\u001b[0m\n\u001b[0m\u001b[1;32m      7\u001b[0m \u001b[0my_testt3\u001b[0m\u001b[0;34m=\u001b[0m\u001b[0mnp\u001b[0m\u001b[0;34m.\u001b[0m\u001b[0mwhere\u001b[0m\u001b[0;34m(\u001b[0m\u001b[0my_test3\u001b[0m\u001b[0;34m==\u001b[0m\u001b[0;36m1\u001b[0m\u001b[0;34m,\u001b[0m\u001b[0;36m0\u001b[0m\u001b[0;34m,\u001b[0m\u001b[0;36m1\u001b[0m\u001b[0;34m)\u001b[0m\u001b[0;34m\u001b[0m\u001b[0m\n\u001b[1;32m      8\u001b[0m train_data=gluon.data.DataLoader(gluon.data.ArrayDataset(X_train3.astype(np.float64), y_traint3.astype(np.float64)),\n",
      "\u001b[0;31mNameError\u001b[0m: name 'y_train3' is not defined"
     ]
    }
   ],
   "source": [
    "import mxnet as mx\n",
    "from mxnet import nd, autograd, gluon\n",
    "data_ctx = mx.cpu()\n",
    "model_ctx = mx.cpu()\n",
    "batch_size=100\n",
    "y_traint3=np.where(y_train3==1,0,1)\n",
    "y_testt3=np.where(y_test3==1,0,1)\n",
    "train_data=gluon.data.DataLoader(gluon.data.ArrayDataset(X_train3.astype(np.float64), y_traint3.astype(np.float64)),\n",
    "                                batch_size=batch_size, shuffle=True)\n",
    "test_data=gluon.data.DataLoader(gluon.data.ArrayDataset(X_test3.astype(np.float64), y_testt3.astype(np.float64)),\n",
    "                                batch_size=batch_size, shuffle=True)\n",
    "net = gluon.nn.Dense(1)\n",
    "net.collect_params().initialize(mx.init.Normal(sigma=1.), ctx=model_ctx)\n",
    "trainer = gluon.Trainer(net.collect_params(), 'sgd', {'learning_rate': 0.01})\n",
    "\n",
    "epochs = 50\n",
    "loss_sequence = []\n",
    "num_examples = len(X_train3)\n",
    "#train_data=train_data.cast(dtype='float64')\n",
    "for e in range(epochs):\n",
    "    cumulative_loss = 0\n",
    "    \n",
    "    for i, (data, label) in enumerate(train_data):\n",
    "        \n",
    "        data= data.astype(dtype='float32')\n",
    "        \n",
    "        data = data.as_in_context(model_ctx)\n",
    "        label= label.astype(dtype='float32')\n",
    "        print(label)\n",
    "        label = label.as_in_context(model_ctx)\n",
    "        with autograd.record():            \n",
    "            output = net(data)\n",
    "            #print(output,label)\n",
    "            loss = lossf(output, label)\n",
    "        loss.backward()\n",
    "        trainer.step(batch_size)\n",
    "        cumulative_loss += nd.sum(loss).asscalar()\n",
    "    print(\"Epoch %s, loss: %s\" % (e, cumulative_loss ))\n",
    "    loss_sequence.append(cumulative_loss)\n",
    "print(loss_sequence)"
   ]
  },
  {
   "cell_type": "code",
   "execution_count": null,
   "metadata": {},
   "outputs": [],
   "source": [
    "plt.figure(num=None,figsize=(8, 6))\n",
    "plt.plot(loss_sequence)\n",
    "\n",
    "# Adding some bells and whistles to the plot\n",
    "plt.grid(True, which=\"both\")\n",
    "plt.xlabel('epoch',fontsize=14)\n",
    "plt.ylabel('average loss',fontsize=14)"
   ]
  },
  {
   "cell_type": "code",
   "execution_count": null,
   "metadata": {},
   "outputs": [],
   "source": [
    "num_correct = 0.0\n",
    "num_total = len(X_test3)\n",
    "for i, (data, label) in enumerate(test_data):\n",
    "    data = data.as_in_context(model_ctx)\n",
    "    data= data.astype(dtype='float32')\n",
    "    label = label.as_in_context(model_ctx)\n",
    "    label= label.astype(dtype='float32')\n",
    "    output = net(data)\n",
    "    prediction = (nd.sign(output) + 1) / 2\n",
    "    num_correct += nd.sum(prediction == label)\n",
    "print(\"Accuracy: %0.3f (%s/%s)\" % (num_correct.asscalar()/num_total, num_correct.asscalar(), num_total))"
   ]
  },
  {
   "cell_type": "markdown",
   "metadata": {},
   "source": [
    "# Features Evaluation"
   ]
  },
  {
   "cell_type": "markdown",
   "metadata": {},
   "source": [
    "# Tunning Random Forest"
   ]
  },
  {
   "cell_type": "code",
   "execution_count": null,
   "metadata": {},
   "outputs": [],
   "source": [
    "def evaluate(model, test_features, test_labels):\n",
    "    predictions = model.predict(test_features)\n",
    "    errors = abs(predictions - test_labels)\n",
    "    mape = 100 * np.mean(errors / test_labels)\n",
    "    accuracy = 100 - mape\n",
    "    print('Model Performance')\n",
    "    print('Average Error: {:0.4f} degrees.'.format(np.mean(errors)))\n",
    "    print('Accuracy = {:0.2f}%.'.format(accuracy))\n",
    "    \n",
    "    return accuracy"
   ]
  },
  {
   "cell_type": "raw",
   "metadata": {},
   "source": [
    "from sklearn.model_selection import GridSearchCV\n",
    "# Create the parameter grid based on the results of random search \n",
    "base_accuracy=70\n",
    "param_grid = {\n",
    "    'bootstrap': [True],\n",
    "    'max_depth': [5,10, 30, 50, 100],\n",
    "    'max_features': [3,6,10],\n",
    "    'min_samples_leaf': [3, 4, 5],\n",
    "    'min_samples_split': [3,5, 10, 12],\n",
    "    'n_estimators': [5,10, 50, 100, 200]\n",
    "}\n",
    "# Create a based model\n",
    "rf = RandomForestClassifier()\n",
    "\n",
    "# Instantiate the grid search model\n",
    "#grid_search = GridSearchCV(estimator = rf, param_grid = param_grid, \n",
    "#                          cv = 3, n_jobs = -1, verbose = 2)\n",
    "\n",
    "# Fit the grid search to the data\n",
    "#grid_search.fit(X_train3, y_train3)\n",
    "print(grid_search.best_params_)\n",
    "y_testt3=np.where(y_test3==1,1,0)\n",
    "y_traint3=np.where(y_traint3==1,1,0)\n",
    "\n",
    "best_grid = grid_search.best_estimator_\n",
    "grid_search.fit(X_train3, y_traint3)\n",
    "#param_grid = {\n",
    "#    'bootstrap': [True],\n",
    "#    'max_depth': [5,10, 30, 50, 100],\n",
    "#    'max_features': [3,6,10],\n",
    "#    'min_samples_leaf': [3, 4, 5],\n",
    "#    'min_samples_split': [3,5, 10, 12],\n",
    "#    'n_estimators': [5,10, 50, 100, 200]\n",
    "#}\n",
    "predictions = best_grid.predict_proba(X_test3)\n",
    "print(predictions)\n",
    "#grid_accuracy = evaluate(best_grid, X_test3, y_test3)\n",
    "#Model Performance\n",
    "#Average Error: 3.6561 degrees.\n",
    "#Accuracy = 93.83%.\n",
    "\n",
    "print('Improvement of {:0.2f}%.'.format( 100 * (grid_accuracy - base_accuracy) / base_accuracy))\n",
    "#Improvement of 0.50%.\n",
    "\n",
    "\n",
    "\n",
    "#X_train3, X_test3, y_train3, y_test3= train_test_split(X3, Y3, test_size=0.2,random_state=0)\n",
    "#RF.fit(X_train3, y_train3)\n",
    "#y_scores3=RF.predict_proba(X_test3)\n"
   ]
  },
  {
   "cell_type": "raw",
   "metadata": {},
   "source": [
    "print(grid_search.best_params_)"
   ]
  },
  {
   "cell_type": "code",
   "execution_count": null,
   "metadata": {},
   "outputs": [],
   "source": [
    "RF=RandomForestClassifier(min_samples_split=3, max_depth=5, n_estimators=5, min_samples_leaf=3, max_features=3, bootstrap=True)\n",
    "RF.fit(X_train3, y_train3)\n",
    "y_scores3=RF.predict_proba(X_test1)\n",
    "#y_testt3=[[0.2,0.8]if v==2 else[0.8,0.2]for v in y_test3]\n",
    "#y_testt3=np.array(y_testt3)\n",
    "#error1=(y_scores3[:,0]-y_testt3[:,0])**2\n",
    "#print(np.mean(error1))"
   ]
  },
  {
   "cell_type": "code",
   "execution_count": null,
   "metadata": {},
   "outputs": [],
   "source": [
    "print(y_test1)\n",
    "prob_pred=np.where(y_scores3[:,0]<=0.5,2,1)\n",
    "print(prob_pred)\n",
    "print(classification_report(y_test1, prob_pred))"
   ]
  },
  {
   "cell_type": "code",
   "execution_count": null,
   "metadata": {},
   "outputs": [],
   "source": [
    "x_filteredf=xfNew[[20,48,47,49,50,42,30,28,41,39,29,40,27,45,46,26,32,36,61,62]]\n",
    "y_filteredf=xfNew[['VALIDATION']]\n",
    "RF=RandomForestClassifier(min_samples_split=3, max_depth=5, n_estimators=5, min_samples_leaf=3, max_features=3, bootstrap=True)\n",
    "Xf_train, Xf_test, yf_train, yf_test = train_test_split(x_filteredf.values, y_filteredf['VALIDATION'].values, test_size=0.3,random_state=0)\n",
    "RF.fit(Xf_train, yf_train)\n",
    "yf_scores=RF.predict_proba(Xf_test)"
   ]
  },
  {
   "cell_type": "code",
   "execution_count": null,
   "metadata": {},
   "outputs": [],
   "source": [
    "import seaborn as sns\n",
    "sns.set(style=\"ticks\")\n",
    "x_plot=pd.DataFrame(Xf_test,columns=[20,48,47,49,50,42,30,28,41,39,29,40,27,45,46,26,32,36,61,62])\n",
    "print(x_plot.shape)\n",
    "df_score=pd.DataFrame({'score':yf_scores[:,0]})\n",
    "print(df_score.shape)\n",
    "x_plot=pd.concat([x_plot, df_score], axis=1)\n",
    "x_plot=pd.concat([x_plot, pd.DataFrame({'class':yf_test})], axis=1)\n",
    "x_plot.head()\n",
    "#x_plot.head()\n",
    "#x_plot.head()\n",
    "#x_plot['class']=np.where(x_plot['VALIDATION']==1,'Correct', 'Incorrect')\n",
    "#del x_plot['VALIDATION']\n",
    "#print(x_plot[x_plot['class']=='Correct'].shape)\n",
    "#print(x_plot[x_plot['class']=='Incorrect'].shape)\n",
    "sns.pairplot(x_plot[[32,36,61,62, 'score','class']],vars=[32,36,61,62, 'score'], hue='class')\n"
   ]
  },
  {
   "cell_type": "code",
   "execution_count": null,
   "metadata": {},
   "outputs": [],
   "source": [
    "sns.pairplot(x_plot[[20,27,28,29,30,'score','class']],vars=[20,27,28,29,30,'score'], hue='class')"
   ]
  },
  {
   "cell_type": "code",
   "execution_count": null,
   "metadata": {},
   "outputs": [],
   "source": [
    "sns.pairplot(x_plot[[39,40,41,42,45,46,47,48,49,50,'score','class']],vars=[39,40,41,42,45,46,47,48,49,50,'score'], hue='class')"
   ]
  },
  {
   "cell_type": "code",
   "execution_count": null,
   "metadata": {},
   "outputs": [],
   "source": []
  },
  {
   "cell_type": "code",
   "execution_count": null,
   "metadata": {},
   "outputs": [],
   "source": [
    "\n",
    "for i, c in enumerate([20,48]):#(x_filteredf.columns):\n",
    "    plt.figure(figsize=(8,5))    \n",
    "    plt.scatter(np.arange(Xf_test1.shape[0]),Xf_test1[:,i])\n",
    "    plt.scatter(np.arange(Xf_test1.shape[0]),yf_scores[:,0])"
   ]
  },
  {
   "cell_type": "code",
   "execution_count": null,
   "metadata": {},
   "outputs": [],
   "source": [
    "#Saving trained model\n",
    "import pickle\n",
    "cl5 = GaussianNB()\n",
    "cl5.fit(X,Y)\n",
    "filename = 'trainedModelNoise2.sav'\n",
    "pickle.dump(cl5, open(filename, 'wb'))"
   ]
  },
  {
   "cell_type": "markdown",
   "metadata": {},
   "source": [
    "# Some stats"
   ]
  },
  {
   "cell_type": "markdown",
   "metadata": {},
   "source": [
    "## Models comparison"
   ]
  },
  {
   "cell_type": "code",
   "execution_count": null,
   "metadata": {},
   "outputs": [],
   "source": [
    "# Compare Algorithms Weighted average\n",
    "import pandas\n",
    "import matplotlib.pyplot as plt\n",
    "from sklearn import model_selection\n",
    "from sklearn.linear_model import LogisticRegression\n",
    "from sklearn.tree import DecisionTreeClassifier\n",
    "from sklearn.neighbors import KNeighborsClassifier\n",
    "from sklearn.discriminant_analysis import LinearDiscriminantAnalysis\n",
    "from sklearn.naive_bayes import GaussianNB\n",
    "from sklearn.svm import SVC\n",
    "\n",
    "seed = 7\n",
    "models = []\n",
    "cl1 = KNeighborsClassifier(n_neighbors=1)\n",
    "cl2 = DecisionTreeClassifier()\n",
    "cl3 = RandomForestClassifier(max_depth=10,max_features=None, min_samples_leaf=3)\n",
    "cl4=  SVC(kernel='linear')\n",
    "cl5 = GaussianNB()\n",
    "models.append(('KNN',cl1))\n",
    "models.append(('DT', cl2))\n",
    "models.append(('RF', cl3))\n",
    "#models.append(('SVM', cl4))\n",
    "models.append(('GNB', cl5))\n",
    "results = []\n",
    "names = []\n",
    "scoring = 'f1_weighted'\n",
    "for name, model in models:\n",
    "    #kfold = model_selection.KFold(n_splits=40, random_state=seed)\n",
    "    kfold = StratifiedShuffleSplit(n_splits=40, test_size=0.2) \n",
    "    cv_results = model_selection.cross_val_score(model, X, Y, cv=kfold, scoring=scoring)\n",
    "    results.append(cv_results)\n",
    "    names.append(name)\n",
    "    msg = \"%s: %f (%f)\" % (name, cv_results.mean(), cv_results.std())\n",
    "    print(msg)\n",
    "# boxplot algorithm comparison\n",
    "fig = plt.figure()\n",
    "fig.suptitle('Algorithm Comparison')\n",
    "ax = fig.add_subplot(111)\n",
    "plt.boxplot(results)\n",
    "ax.set_xticklabels(names)\n",
    "plt.show()"
   ]
  },
  {
   "cell_type": "code",
   "execution_count": null,
   "metadata": {},
   "outputs": [],
   "source": [
    "#Graph decision Tree \n",
    "\"\"\"\n",
    "from sklearn.ensemble import RandomForestClassifier\n",
    "from sklearn.tree import export_graphviz\n",
    "model = RandomForestClassifier(n_estimators=10)\n",
    "Xtree=xf[[14,17,20,19,36,8,25,24,6,4,35,34,18,32,13,7,11,33,10,15,9,3,2]]\n",
    "print(Xtree.head(2))\n",
    "Xtreev=Xtree.values\n",
    "\n",
    "model.fit(Xtreev, y)\n",
    "fnames=[str(fn) for fn in list(Xtree.columns)]\n",
    "cnames=[str(v) for v in set(y.values)]\n",
    "print(fnames)\n",
    "print(cnames)\n",
    "\n",
    "estimator = model.estimators_[0]\n",
    "\n",
    "# Export as dot file\n",
    "export_graphviz(estimator, out_file='tree.dot', \n",
    "                feature_names = fnames,\n",
    "                class_names = cnames,\n",
    "                rounded = True, proportion = False, \n",
    "                precision = 2, filled = True)\n",
    "\n",
    "# Convert to png using system command (requires Graphviz)\n",
    "from subprocess import call\n",
    "call(['dot', '-Tpng', 'tree.dot', '-o', 'tree.png', '-Gdpi=600'])\n",
    "\n",
    "# Display in jupyter notebook\n",
    "from IPython.display import Image\n",
    "Image(filename = 'tree.png')\"\"\""
   ]
  },
  {
   "cell_type": "code",
   "execution_count": null,
   "metadata": {},
   "outputs": [],
   "source": [
    "import numpy as np\n",
    "import matplotlib.pyplot as plt\n",
    "from sklearn.naive_bayes import GaussianNB\n",
    "from sklearn.svm import SVC\n",
    "from sklearn.datasets import load_digits\n",
    "from sklearn.model_selection import learning_curve\n",
    "from sklearn.model_selection import ShuffleSplit\n",
    "\n",
    "\n",
    "def plot_learning_curve(estimator, title, X, y, ylim=None, cv=None,\n",
    "                        n_jobs=None, train_sizes=np.linspace(0.10, 1.0, 20)):\n",
    "    \n",
    "    plt.figure(figsize=(6,5))\n",
    "    plt.title(title)\n",
    "    if ylim is not None:\n",
    "        plt.ylim(*ylim)\n",
    "    plt.xlabel(\"Training examples\")\n",
    "    plt.ylabel(\"Score\")\n",
    "    print('learning curve')\n",
    "    train_sizes, train_scores, test_scores = learning_curve(\n",
    "        estimator, X, y, cv=cv, n_jobs=n_jobs, train_sizes=train_sizes, scoring='f1_weighted')\n",
    "    print('learning curve2')\n",
    "    train_scores_mean = np.mean(train_scores, axis=1)\n",
    "    train_scores_std = np.std(train_scores, axis=1)\n",
    "    test_scores_mean = np.mean(test_scores, axis=1)\n",
    "    test_scores_std = np.std(test_scores, axis=1)\n",
    "    plt.grid()\n",
    "\n",
    "    plt.fill_between(train_sizes, train_scores_mean - train_scores_std,\n",
    "                     train_scores_mean + train_scores_std, alpha=0.1,\n",
    "                     color=\"r\")\n",
    "    plt.fill_between(train_sizes, test_scores_mean - test_scores_std,\n",
    "                     test_scores_mean + test_scores_std, alpha=0.1, color=\"g\")\n",
    "    plt.plot(train_sizes, train_scores_mean, 'o-', color=\"r\",\n",
    "             label=\"Training score\")\n",
    "    plt.plot(train_sizes, test_scores_mean, 'o-', color=\"g\",\n",
    "             label=\"Cross-validation score\")\n",
    "\n",
    "    plt.legend(loc=\"best\")\n",
    "    return plt\n",
    "\n",
    "title = \"Learning Curve (Random Forest)\"\n",
    "# Cross validation with 40 splits,  each time with 20% as validation set.\n",
    "cv = StratifiedShuffleSplit(n_splits=40, test_size=0.2, random_state=7)\n",
    "estimator = RandomForestClassifier(max_depth=10,random_state=101, max_features=None, min_samples_leaf=3)\n",
    "print('estimator 1')\n",
    "plot_learning_curve(estimator, title, X1, Y1, ylim=(0.1, 1.01), cv=cv, n_jobs=4)\n",
    "\n",
    "title = r\"Learning Curves (Decision Tree)\"\n",
    "cv = StratifiedShuffleSplit(n_splits=40, test_size=0.2, random_state=7)\n",
    "\n",
    "estimator = DecisionTreeClassifier()\n",
    "print('estimator 2')\n",
    "plot_learning_curve(estimator, title, X1, Y1, (0.1, 1.01), cv=cv, n_jobs=4)\n",
    "\n",
    "\n",
    "plt.show()"
   ]
  },
  {
   "cell_type": "code",
   "execution_count": null,
   "metadata": {},
   "outputs": [],
   "source": [
    "from sklearn.ensemble import ExtraTreesClassifier\n",
    "#Compute feature importances\n",
    "forest = ExtraTreesClassifier()\n",
    "forest.fit(X2, Y2)\n",
    "columns=np.array(xfNew.columns)\n",
    "importances = forest.feature_importances_\n",
    "std = np.std([tree.feature_importances_ for tree in forest.estimators_],\n",
    "             axis=0)\n",
    "indices = np.argsort(importances)[::-1]\n",
    "indices=indices[0:15]\n",
    "indices=indices[::-1]\n",
    "print(len(indices))\n",
    "\n",
    "col=columns[indices]\n",
    "print('cols:', col)\n",
    "# Print the feature ranking\n",
    "print(\"Feature ranking:\")\n",
    "lenx=15\n",
    "print(len(range(lenx)))\n",
    "for f in range(lenx):\n",
    "    print(\"%d. feature %d (%f)\" % (f + 1, indices[f], importances[indices[f]]))\n",
    "\n",
    "# Plot the feature importances of the forest\n",
    "plt.figure(figsize=(7,5))\n",
    "plt.title(\"Feature importances\")\n",
    "plt.barh(range(lenx), importances[indices],\n",
    "       color=\"b\", align=\"center\")\n",
    "plt.yticks(range(lenx), col)\n",
    "#plt.xlim([-1, lenx])\n",
    "plt.show()"
   ]
  },
  {
   "cell_type": "code",
   "execution_count": null,
   "metadata": {},
   "outputs": [],
   "source": [
    "def logistic(z):\n",
    "    return 1. / (1. + np.exp(-z))\n",
    "\n",
    "def loss(output, y):\n",
    "    newy=logistic(output)\n",
    "    #print(newy)\n",
    "    return - np.nansum(  y * np.log(newy) + (1-y) * np.log(1-newy))\n",
    "\n",
    "#o=np.array([1,1,1,1,1,1])\n",
    "#y=np.array([1,1,1,1,1,1])\n",
    "#loss_log(o,y)\n",
    "#x = np.arange(-5, 5, .1)\n",
    "#y = logistic(x)\n",
    "#print(\"Sample: \", logistic(0))\n",
    "#plt.plot(x,y)\n",
    "#plt.show()"
   ]
  },
  {
   "cell_type": "code",
   "execution_count": null,
   "metadata": {},
   "outputs": [],
   "source": [
    "def loss_log(output, y):\n",
    "    newy=logistic(output)\n",
    "    print(newy)\n",
    "    loss=- np.nansum(  y * np.log(newy) + (1-y) * np.log(1-newy))\n",
    "    return loss\n"
   ]
  },
  {
   "cell_type": "code",
   "execution_count": null,
   "metadata": {},
   "outputs": [],
   "source": [
    "import pickle\n",
    "cl5 = RandomForestClassifier(bootstrap=True, max_depth= 10, max_features=3, min_samples_leaf=3, min_samples_split=3, n_estimators=10)\n",
    "cl5.fit(X4,Y4)\n",
    "filename = '/tmp/trainedModelRF.sav'\n",
    "pickle.dump(cl5, open(filename, 'wb'))"
   ]
  }
 ],
 "metadata": {
  "kernelspec": {
   "display_name": "Python 3",
   "language": "python",
   "name": "python3"
  },
  "language_info": {
   "codemirror_mode": {
    "name": "ipython",
    "version": 3
   },
   "file_extension": ".py",
   "mimetype": "text/x-python",
   "name": "python",
   "nbconvert_exporter": "python",
   "pygments_lexer": "ipython3",
   "version": "3.5.2"
  }
 },
 "nbformat": 4,
 "nbformat_minor": 2
}
