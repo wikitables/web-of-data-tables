{
 "cells": [
  {
   "cell_type": "code",
   "execution_count": 1,
   "metadata": {},
   "outputs": [],
   "source": [
    "import pandas as pd\n",
    "import numpy as np\n",
    "from matplotlib import pyplot as plt"
   ]
  },
  {
   "cell_type": "code",
   "execution_count": 2,
   "metadata": {},
   "outputs": [],
   "source": [
    "df=pd.read_csv(\"/home/jhomara/Desktop/statsLinks.csv\", sep=\"\\t\", names=[\"table\", \"ratio\"], dtype={'table': np.str}, index_col=False)"
   ]
  },
  {
   "cell_type": "code",
   "execution_count": 3,
   "metadata": {},
   "outputs": [
    {
     "data": {
      "text/html": [
       "<div>\n",
       "<style scoped>\n",
       "    .dataframe tbody tr th:only-of-type {\n",
       "        vertical-align: middle;\n",
       "    }\n",
       "\n",
       "    .dataframe tbody tr th {\n",
       "        vertical-align: top;\n",
       "    }\n",
       "\n",
       "    .dataframe thead th {\n",
       "        text-align: right;\n",
       "    }\n",
       "</style>\n",
       "<table border=\"1\" class=\"dataframe\">\n",
       "  <thead>\n",
       "    <tr style=\"text-align: right;\">\n",
       "      <th></th>\n",
       "      <th>table</th>\n",
       "      <th>ratio</th>\n",
       "    </tr>\n",
       "  </thead>\n",
       "  <tbody>\n",
       "    <tr>\n",
       "      <th>0</th>\n",
       "      <td>896639.3</td>\n",
       "      <td>0.125000</td>\n",
       "    </tr>\n",
       "    <tr>\n",
       "      <th>1</th>\n",
       "      <td>298767.2</td>\n",
       "      <td>0.333333</td>\n",
       "    </tr>\n",
       "    <tr>\n",
       "      <th>2</th>\n",
       "      <td>298767.3</td>\n",
       "      <td>0.500000</td>\n",
       "    </tr>\n",
       "    <tr>\n",
       "      <th>3</th>\n",
       "      <td>298767.4</td>\n",
       "      <td>1.000000</td>\n",
       "    </tr>\n",
       "    <tr>\n",
       "      <th>4</th>\n",
       "      <td>15706.1</td>\n",
       "      <td>0.250000</td>\n",
       "    </tr>\n",
       "  </tbody>\n",
       "</table>\n",
       "</div>"
      ],
      "text/plain": [
       "      table     ratio\n",
       "0  896639.3  0.125000\n",
       "1  298767.2  0.333333\n",
       "2  298767.3  0.500000\n",
       "3  298767.4  1.000000\n",
       "4   15706.1  0.250000"
      ]
     },
     "execution_count": 3,
     "metadata": {},
     "output_type": "execute_result"
    }
   ],
   "source": [
    "df.head()"
   ]
  },
  {
   "cell_type": "code",
   "execution_count": 4,
   "metadata": {},
   "outputs": [
    {
     "data": {
      "image/png": "[encoded data removed]",
      "text/plain": [
       "<Figure size 432x288 with 1 Axes>"
      ]
     },
     "metadata": {},
     "output_type": "display_data"
    }
   ],
   "source": [
    "ax=df[df[\"ratio\"]<=1].hist()\n",
    "ax[0][0].set(xlabel='Percentage pair column with links', ylabel='Num. Tables', title='Tables with Links')\n",
    "ax[0][0].grid(False)"
   ]
  },
  {
   "cell_type": "code",
   "execution_count": 5,
   "metadata": {},
   "outputs": [
    {
     "ename": "KeyError",
     "evalue": "'cont'",
     "traceback": [
      "\u001b[0;31m---------------------------------------------------------------------------\u001b[0m",
      "\u001b[0;31mKeyError\u001b[0m                                  Traceback (most recent call last)",
      "\u001b[0;32m<ipython-input-5-b9ba324e56d6>\u001b[0m in \u001b[0;36m<module>\u001b[0;34m()\u001b[0m\n\u001b[0;32m----> 1\u001b[0;31m \u001b[0mdf\u001b[0m\u001b[0;34m.\u001b[0m\u001b[0msort_values\u001b[0m\u001b[0;34m(\u001b[0m\u001b[0;34m\"cont\"\u001b[0m\u001b[0;34m,\u001b[0m \u001b[0mascending\u001b[0m\u001b[0;34m=\u001b[0m\u001b[0;32mFalse\u001b[0m\u001b[0;34m)\u001b[0m\u001b[0;34m.\u001b[0m\u001b[0mhead\u001b[0m\u001b[0;34m(\u001b[0m\u001b[0;34m)\u001b[0m\u001b[0;34m\u001b[0m\u001b[0m\n\u001b[0m",
      "\u001b[0;32m~/.local/lib/python3.5/site-packages/pandas/core/frame.py\u001b[0m in \u001b[0;36msort_values\u001b[0;34m(self, by, axis, ascending, inplace, kind, na_position)\u001b[0m\n\u001b[1;32m   4419\u001b[0m             \u001b[0mby\u001b[0m \u001b[0;34m=\u001b[0m \u001b[0mby\u001b[0m\u001b[0;34m[\u001b[0m\u001b[0;36m0\u001b[0m\u001b[0;34m]\u001b[0m\u001b[0;34m\u001b[0m\u001b[0m\n\u001b[1;32m   4420\u001b[0m             k = self._get_label_or_level_values(by, axis=axis,\n\u001b[0;32m-> 4421\u001b[0;31m                                                 stacklevel=stacklevel)\n\u001b[0m\u001b[1;32m   4422\u001b[0m \u001b[0;34m\u001b[0m\u001b[0m\n\u001b[1;32m   4423\u001b[0m             \u001b[0;32mif\u001b[0m \u001b[0misinstance\u001b[0m\u001b[0;34m(\u001b[0m\u001b[0mascending\u001b[0m\u001b[0;34m,\u001b[0m \u001b[0;34m(\u001b[0m\u001b[0mtuple\u001b[0m\u001b[0;34m,\u001b[0m \u001b[0mlist\u001b[0m\u001b[0;34m)\u001b[0m\u001b[0;34m)\u001b[0m\u001b[0;34m:\u001b[0m\u001b[0;34m\u001b[0m\u001b[0m\n",
      "\u001b[0;32m~/.local/lib/python3.5/site-packages/pandas/core/generic.py\u001b[0m in \u001b[0;36m_get_label_or_level_values\u001b[0;34m(self, key, axis, stacklevel)\u001b[0m\n\u001b[1;32m   1377\u001b[0m             \u001b[0mvalues\u001b[0m \u001b[0;34m=\u001b[0m \u001b[0mself\u001b[0m\u001b[0;34m.\u001b[0m\u001b[0maxes\u001b[0m\u001b[0;34m[\u001b[0m\u001b[0maxis\u001b[0m\u001b[0;34m]\u001b[0m\u001b[0;34m.\u001b[0m\u001b[0mget_level_values\u001b[0m\u001b[0;34m(\u001b[0m\u001b[0mkey\u001b[0m\u001b[0;34m)\u001b[0m\u001b[0;34m.\u001b[0m\u001b[0m_values\u001b[0m\u001b[0;34m\u001b[0m\u001b[0m\n\u001b[1;32m   1378\u001b[0m         \u001b[0;32melse\u001b[0m\u001b[0;34m:\u001b[0m\u001b[0;34m\u001b[0m\u001b[0m\n\u001b[0;32m-> 1379\u001b[0;31m             \u001b[0;32mraise\u001b[0m \u001b[0mKeyError\u001b[0m\u001b[0;34m(\u001b[0m\u001b[0mkey\u001b[0m\u001b[0;34m)\u001b[0m\u001b[0;34m\u001b[0m\u001b[0m\n\u001b[0m\u001b[1;32m   1380\u001b[0m \u001b[0;34m\u001b[0m\u001b[0m\n\u001b[1;32m   1381\u001b[0m         \u001b[0;31m# Check for duplicates\u001b[0m\u001b[0;34m\u001b[0m\u001b[0;34m\u001b[0m\u001b[0m\n",
      "\u001b[0;31mKeyError\u001b[0m: 'cont'"
     ],
     "output_type": "error"
    }
   ],
   "source": [
    "df.sort_values(\"cont\", ascending=False).head()"
   ]
  },
  {
   "cell_type": "code",
   "execution_count": null,
   "metadata": {},
   "outputs": [],
   "source": [
    "df[df['cont']>=2].hist(bins=100)"
   ]
  },
  {
   "cell_type": "code",
   "execution_count": null,
   "metadata": {},
   "outputs": [],
   "source": [
    "dfc=pd.read_csv(\"clusterByPairs6.csv\", sep=\"\\t\", names=[\"cluster\", \"tabla\", \"header\"],  dtype={'tabla': np.str})"
   ]
  },
  {
   "cell_type": "code",
   "execution_count": null,
   "metadata": {},
   "outputs": [],
   "source": [
    "dfTabla=pd.DataFrame(dfc[\"tabla\"], dtype=np.str)"
   ]
  },
  {
   "cell_type": "code",
   "execution_count": null,
   "metadata": {},
   "outputs": [],
   "source": [
    "dfc_cluster=pd.DataFrame({'count' : dfc.groupby(['cluster']).size()}).reset_index()"
   ]
  },
  {
   "cell_type": "code",
   "execution_count": null,
   "metadata": {},
   "outputs": [],
   "source": [
    "dfc_cluster.head(10)"
   ]
  },
  {
   "cell_type": "code",
   "execution_count": null,
   "metadata": {},
   "outputs": [],
   "source": [
    "dfc_cluster[dfc_cluster[\"count\"]==1].count()"
   ]
  },
  {
   "cell_type": "code",
   "execution_count": null,
   "metadata": {},
   "outputs": [],
   "source": [
    "dfc_cluster.sort_values(\"cluster\", ascending=False).head()"
   ]
  },
  {
   "cell_type": "code",
   "execution_count": null,
   "metadata": {},
   "outputs": [],
   "source": [
    "histc=dfc_cluster[dfc_cluster[\"count\"]>=10000][\"count\"].hist(bins=100)\n",
    "histc.set(xlabel='Num. Tables', ylabel='Num. Clusters', title='Tables per cluster')\n",
    "histc.grid(False)"
   ]
  },
  {
   "cell_type": "code",
   "execution_count": null,
   "metadata": {},
   "outputs": [],
   "source": [
    "dfc_clusterm=dfc_cluster[dfc_cluster[\"count\"]==1]\n",
    "dfc_clusterm.count()"
   ]
  },
  {
   "cell_type": "code",
   "execution_count": null,
   "metadata": {},
   "outputs": [],
   "source": [
    "histc2=dfc_cluster[dfc_cluster[\"count\"]<=10][\"count\"].hist()\n",
    "histc2.set(xlabel='Num. Tables', ylabel='Num. Clusters', title='Tables per cluster')\n",
    "histc2.grid(False)"
   ]
  },
  {
   "cell_type": "code",
   "execution_count": null,
   "metadata": {},
   "outputs": [],
   "source": [
    "c7=dfc[dfc[\"cluster\"]==8]\n",
    "c7h=pd.DataFrame({'count' : c7.groupby(['header']).size()}).reset_index()\n",
    "c7h.head()"
   ]
  },
  {
   "cell_type": "code",
   "execution_count": null,
   "metadata": {},
   "outputs": [],
   "source": [
    "c0=dfc[dfc[\"cluster\"]==7]\n",
    "c0.head()"
   ]
  },
  {
   "cell_type": "code",
   "execution_count": null,
   "metadata": {},
   "outputs": [],
   "source": [
    "c0f=pd.DataFrame()\n",
    "c0f[\"header\"]=c0[\"header\"]\n",
    "c0f[\"header\"]=c0f[\"header\"].apply(lambda x: str(eval(x)[0]))\n",
    "c0f.head()"
   ]
  },
  {
   "cell_type": "code",
   "execution_count": null,
   "metadata": {},
   "outputs": [],
   "source": [
    "from sklearn.feature_extraction.text import CountVectorizer\n",
    "from sklearn.metrics.pairwise import cosine_similarity\n",
    "from scipy.spatial.distance import squareform\n",
    "from scipy.spatial.distance import pdist, jaccard\n",
    "#Token_pattern changed because there is headers with one letter. \n",
    "vectorizer = CountVectorizer(list(c0f['header']), token_pattern='(?u)\\\\b\\\\w+\\\\b')\n",
    "vectorizer"
   ]
  },
  {
   "cell_type": "code",
   "execution_count": null,
   "metadata": {},
   "outputs": [],
   "source": [
    "dtm = vectorizer.fit_transform(c0f['header'])\n",
    "vocab = vectorizer.get_feature_names()"
   ]
  },
  {
   "cell_type": "code",
   "execution_count": null,
   "metadata": {},
   "outputs": [],
   "source": [
    "len(vocab)"
   ]
  },
  {
   "cell_type": "code",
   "execution_count": null,
   "metadata": {},
   "outputs": [],
   "source": [
    "dtm=dtm.toarray()\n",
    "dtm"
   ]
  },
  {
   "cell_type": "code",
   "execution_count": null,
   "metadata": {},
   "outputs": [],
   "source": [
    "fnd=pd.DataFrame(dtm, columns=vocab)"
   ]
  },
  {
   "cell_type": "code",
   "execution_count": null,
   "metadata": {},
   "outputs": [],
   "source": [
    "fndsum=pd.DataFrame(fnd.sum(), columns=[\"value\"])\n",
    "fndsum.head()"
   ]
  },
  {
   "cell_type": "code",
   "execution_count": null,
   "metadata": {},
   "outputs": [],
   "source": [
    "fndsum=fndsum.drop(['3'])"
   ]
  },
  {
   "cell_type": "code",
   "execution_count": null,
   "metadata": {},
   "outputs": [],
   "source": [
    "fndsumf=fndsum[fndsum[\"value\"]>10].sort_values(\"value\", ascending =False)\n",
    "values=fndsumf[\"value\"].tolist()"
   ]
  },
  {
   "cell_type": "code",
   "execution_count": null,
   "metadata": {},
   "outputs": [],
   "source": [
    "fig = plt.figure(figsize=(100,10))\n",
    "ax=fndsumf.plot.bar(rot=0)\n",
    "cont=0\n",
    "x_offset = -0.03\n",
    "y_offset = 0\n",
    "for i in ax.patches:    \n",
    "    b = i.get_bbox()    \n",
    "    ax.annotate(values[cont], ((b.x0 + b.x1)/2 + x_offset, b.y1 + y_offset))\n",
    "    cont+=1\n",
    "plt.show()"
   ]
  },
  {
   "cell_type": "code",
   "execution_count": 1,
   "metadata": {},
   "outputs": [
    {
     "data": {
      "text/html": [
       "<div>\n",
       "<style scoped>\n",
       "    .dataframe tbody tr th:only-of-type {\n",
       "        vertical-align: middle;\n",
       "    }\n",
       "\n",
       "    .dataframe tbody tr th {\n",
       "        vertical-align: top;\n",
       "    }\n",
       "\n",
       "    .dataframe thead th {\n",
       "        text-align: right;\n",
       "    }\n",
       "</style>\n",
       "<table border=\"1\" class=\"dataframe\">\n",
       "  <thead>\n",
       "    <tr style=\"text-align: right;\">\n",
       "      <th></th>\n",
       "      <th>table</th>\n",
       "      <th>headers</th>\n",
       "    </tr>\n",
       "  </thead>\n",
       "  <tbody>\n",
       "    <tr>\n",
       "      <th>0</th>\n",
       "      <td>896639.1</td>\n",
       "      <td>['english_titl@3', 'mandarin_titl@3', 'note@3'...</td>\n",
       "    </tr>\n",
       "    <tr>\n",
       "      <th>1</th>\n",
       "      <td>896639.2</td>\n",
       "      <td>['english_titl@3', 'mandarin_titl@3', 'note@3'...</td>\n",
       "    </tr>\n",
       "    <tr>\n",
       "      <th>2</th>\n",
       "      <td>896639.3</td>\n",
       "      <td>['award@3', 'categori@3', 'nomin_work@3', 'ref...</td>\n",
       "    </tr>\n",
       "    <tr>\n",
       "      <th>3</th>\n",
       "      <td>775711.1</td>\n",
       "      <td>['incom_parti@3', 'previou_parti@3']</td>\n",
       "    </tr>\n",
       "    <tr>\n",
       "      <th>4</th>\n",
       "      <td>141713.1</td>\n",
       "      <td>['number_state_legislatur@1', 'parti@3']</td>\n",
       "    </tr>\n",
       "  </tbody>\n",
       "</table>\n",
       "</div>"
      ],
      "text/plain": [
       "      table                                            headers\n",
       "0  896639.1  ['english_titl@3', 'mandarin_titl@3', 'note@3'...\n",
       "1  896639.2  ['english_titl@3', 'mandarin_titl@3', 'note@3'...\n",
       "2  896639.3  ['award@3', 'categori@3', 'nomin_work@3', 'ref...\n",
       "3  775711.1               ['incom_parti@3', 'previou_parti@3']\n",
       "4  141713.1           ['number_state_legislatur@1', 'parti@3']"
      ]
     },
     "execution_count": 1,
     "metadata": {},
     "output_type": "execute_result"
    }
   ],
   "source": [
    "import pandas as pd\n",
    "import numpy as np\n",
    "import matplotlib.pyplot as plt\n",
    "dfe=pd.read_csv(\"headersEvaluation.csv\", index_col=False, names=[\"table\", \"headers\"], dtype={'table':np.str}, sep=\"\\t\")\n",
    "dfe.head()"
   ]
  },
  {
   "cell_type": "code",
   "execution_count": 2,
   "metadata": {},
   "outputs": [],
   "source": [
    "ch=pd.DataFrame({'count' : dfe.groupby(['headers']).size()}).reset_index()"
   ]
  },
  {
   "cell_type": "code",
   "execution_count": 6,
   "metadata": {},
   "outputs": [],
   "source": [
    "top10=ch.sort_values('count', ascending=False).head(10)"
   ]
  },
  {
   "cell_type": "code",
   "execution_count": 12,
   "metadata": {},
   "outputs": [],
   "source": [
    "import matplotlib.pyplot as plt\n",
    "x=top10[\"headers\"].tolist()\n",
    "y=top10[\"count\"].tolist()\n"
   ]
  },
  {
   "cell_type": "code",
   "execution_count": 17,
   "metadata": {},
   "outputs": [
    {
     "data": {
      "text/plain": [
       "<BarContainer object of 10 artists>"
      ]
     },
     "execution_count": 17,
     "metadata": {},
     "output_type": "execute_result"
    },
    {
     "data": {
      "image/png": "[encoded data removed]",
      "text/plain": [
       "<Figure size 432x288 with 1 Axes>"
      ]
     },
     "metadata": {},
     "output_type": "display_data"
    }
   ],
   "source": [
    "plt.xticks(rotation=90)\n",
    "plt.bar(x,y)"
   ]
  },
  {
   "cell_type": "code",
   "execution_count": 19,
   "metadata": {},
   "outputs": [
    {
     "data": {
      "text/html": [
       "<div>\n",
       "<style scoped>\n",
       "    .dataframe tbody tr th:only-of-type {\n",
       "        vertical-align: middle;\n",
       "    }\n",
       "\n",
       "    .dataframe tbody tr th {\n",
       "        vertical-align: top;\n",
       "    }\n",
       "\n",
       "    .dataframe thead th {\n",
       "        text-align: right;\n",
       "    }\n",
       "</style>\n",
       "<table border=\"1\" class=\"dataframe\">\n",
       "  <thead>\n",
       "    <tr style=\"text-align: right;\">\n",
       "      <th></th>\n",
       "      <th>headers</th>\n",
       "      <th>count</th>\n",
       "    </tr>\n",
       "  </thead>\n",
       "  <tbody>\n",
       "    <tr>\n",
       "      <th>567737</th>\n",
       "      <td>['rate@1', 'sourc@3']</td>\n",
       "      <td>58671</td>\n",
       "    </tr>\n",
       "    <tr>\n",
       "      <th>494783</th>\n",
       "      <td>['length@1', 'no@1', 'titl@3']</td>\n",
       "      <td>57097</td>\n",
       "    </tr>\n",
       "    <tr>\n",
       "      <th>247442</th>\n",
       "      <td>['chart@3', 'peak_posit@1']</td>\n",
       "      <td>56691</td>\n",
       "    </tr>\n",
       "    <tr>\n",
       "      <th>535652</th>\n",
       "      <td>['no@1', 'player@3', 'posit@3']</td>\n",
       "      <td>39625</td>\n",
       "    </tr>\n",
       "    <tr>\n",
       "      <th>5433</th>\n",
       "      <td>['1@1', '2@1', '3@1', '4@1', 'total@1']</td>\n",
       "      <td>37594</td>\n",
       "    </tr>\n",
       "    <tr>\n",
       "      <th>305194</th>\n",
       "      <td>['countri@3', 'descript@3', 'ship@3']</td>\n",
       "      <td>30398</td>\n",
       "    </tr>\n",
       "    <tr>\n",
       "      <th>540816</th>\n",
       "      <td>['note@3', 'role@3', 'titl@3', 'year@1']</td>\n",
       "      <td>25869</td>\n",
       "    </tr>\n",
       "    <tr>\n",
       "      <th>494770</th>\n",
       "      <td>['length@1', 'no@1', 'titl@3', 'writer@3']</td>\n",
       "      <td>24730</td>\n",
       "    </tr>\n",
       "    <tr>\n",
       "      <th>567772</th>\n",
       "      <td>['rate@3', 'sourc@3']</td>\n",
       "      <td>20285</td>\n",
       "    </tr>\n",
       "    <tr>\n",
       "      <th>214024</th>\n",
       "      <td>['candid@3', 'parti@3', 'percentag@2', 'vote@1']</td>\n",
       "      <td>15587</td>\n",
       "    </tr>\n",
       "  </tbody>\n",
       "</table>\n",
       "</div>"
      ],
      "text/plain": [
       "                                                 headers  count\n",
       "567737                             ['rate@1', 'sourc@3']  58671\n",
       "494783                    ['length@1', 'no@1', 'titl@3']  57097\n",
       "247442                       ['chart@3', 'peak_posit@1']  56691\n",
       "535652                   ['no@1', 'player@3', 'posit@3']  39625\n",
       "5433             ['1@1', '2@1', '3@1', '4@1', 'total@1']  37594\n",
       "305194             ['countri@3', 'descript@3', 'ship@3']  30398\n",
       "540816          ['note@3', 'role@3', 'titl@3', 'year@1']  25869\n",
       "494770        ['length@1', 'no@1', 'titl@3', 'writer@3']  24730\n",
       "567772                             ['rate@3', 'sourc@3']  20285\n",
       "214024  ['candid@3', 'parti@3', 'percentag@2', 'vote@1']  15587"
      ]
     },
     "execution_count": 19,
     "metadata": {},
     "output_type": "execute_result"
    }
   ],
   "source": [
    "top10"
   ]
  },
  {
   "cell_type": "code",
   "execution_count": 21,
   "metadata": {},
   "outputs": [
    {
     "data": {
      "text/html": [
       "<div>\n",
       "<style scoped>\n",
       "    .dataframe tbody tr th:only-of-type {\n",
       "        vertical-align: middle;\n",
       "    }\n",
       "\n",
       "    .dataframe tbody tr th {\n",
       "        vertical-align: top;\n",
       "    }\n",
       "\n",
       "    .dataframe thead th {\n",
       "        text-align: right;\n",
       "    }\n",
       "</style>\n",
       "<table border=\"1\" class=\"dataframe\">\n",
       "  <thead>\n",
       "    <tr style=\"text-align: right;\">\n",
       "      <th></th>\n",
       "      <th>table</th>\n",
       "      <th>headers</th>\n",
       "    </tr>\n",
       "  </thead>\n",
       "  <tbody>\n",
       "    <tr>\n",
       "      <th>357</th>\n",
       "      <td>591336.1</td>\n",
       "      <td>['rate@3', 'sourc@3']</td>\n",
       "    </tr>\n",
       "    <tr>\n",
       "      <th>392</th>\n",
       "      <td>462216.1</td>\n",
       "      <td>['rate@3', 'sourc@3']</td>\n",
       "    </tr>\n",
       "    <tr>\n",
       "      <th>453</th>\n",
       "      <td>623533.1</td>\n",
       "      <td>['rate@3', 'sourc@3']</td>\n",
       "    </tr>\n",
       "    <tr>\n",
       "      <th>740</th>\n",
       "      <td>684873.1</td>\n",
       "      <td>['rate@3', 'sourc@3']</td>\n",
       "    </tr>\n",
       "    <tr>\n",
       "      <th>904</th>\n",
       "      <td>813988.1</td>\n",
       "      <td>['rate@3', 'sourc@3']</td>\n",
       "    </tr>\n",
       "    <tr>\n",
       "      <th>1049</th>\n",
       "      <td>267340.1</td>\n",
       "      <td>['rate@3', 'sourc@3']</td>\n",
       "    </tr>\n",
       "    <tr>\n",
       "      <th>1098</th>\n",
       "      <td>887456.1</td>\n",
       "      <td>['rate@3', 'sourc@3']</td>\n",
       "    </tr>\n",
       "    <tr>\n",
       "      <th>1101</th>\n",
       "      <td>116858.1</td>\n",
       "      <td>['rate@3', 'sourc@3']</td>\n",
       "    </tr>\n",
       "    <tr>\n",
       "      <th>1111</th>\n",
       "      <td>631620.1</td>\n",
       "      <td>['rate@3', 'sourc@3']</td>\n",
       "    </tr>\n",
       "    <tr>\n",
       "      <th>1121</th>\n",
       "      <td>162377.1</td>\n",
       "      <td>['rate@3', 'sourc@3']</td>\n",
       "    </tr>\n",
       "    <tr>\n",
       "      <th>1129</th>\n",
       "      <td>986368.1</td>\n",
       "      <td>['rate@3', 'sourc@3']</td>\n",
       "    </tr>\n",
       "    <tr>\n",
       "      <th>1185</th>\n",
       "      <td>289642.1</td>\n",
       "      <td>['rate@3', 'sourc@3']</td>\n",
       "    </tr>\n",
       "    <tr>\n",
       "      <th>1202</th>\n",
       "      <td>572243.1</td>\n",
       "      <td>['rate@3', 'sourc@3']</td>\n",
       "    </tr>\n",
       "    <tr>\n",
       "      <th>1235</th>\n",
       "      <td>574114.1</td>\n",
       "      <td>['rate@3', 'sourc@3']</td>\n",
       "    </tr>\n",
       "    <tr>\n",
       "      <th>1670</th>\n",
       "      <td>553087.1</td>\n",
       "      <td>['rate@3', 'sourc@3']</td>\n",
       "    </tr>\n",
       "    <tr>\n",
       "      <th>1750</th>\n",
       "      <td>852577.1</td>\n",
       "      <td>['rate@3', 'sourc@3']</td>\n",
       "    </tr>\n",
       "    <tr>\n",
       "      <th>1977</th>\n",
       "      <td>109075.1</td>\n",
       "      <td>['rate@3', 'sourc@3']</td>\n",
       "    </tr>\n",
       "    <tr>\n",
       "      <th>2020</th>\n",
       "      <td>202520.1</td>\n",
       "      <td>['rate@3', 'sourc@3']</td>\n",
       "    </tr>\n",
       "    <tr>\n",
       "      <th>2205</th>\n",
       "      <td>280634.1</td>\n",
       "      <td>['rate@3', 'sourc@3']</td>\n",
       "    </tr>\n",
       "    <tr>\n",
       "      <th>2585</th>\n",
       "      <td>557002.1</td>\n",
       "      <td>['rate@3', 'sourc@3']</td>\n",
       "    </tr>\n",
       "    <tr>\n",
       "      <th>2603</th>\n",
       "      <td>513909.1</td>\n",
       "      <td>['rate@3', 'sourc@3']</td>\n",
       "    </tr>\n",
       "    <tr>\n",
       "      <th>2660</th>\n",
       "      <td>32418.1</td>\n",
       "      <td>['rate@3', 'sourc@3']</td>\n",
       "    </tr>\n",
       "    <tr>\n",
       "      <th>2661</th>\n",
       "      <td>32418.2</td>\n",
       "      <td>['rate@3', 'sourc@3']</td>\n",
       "    </tr>\n",
       "    <tr>\n",
       "      <th>2686</th>\n",
       "      <td>726695.1</td>\n",
       "      <td>['rate@3', 'sourc@3']</td>\n",
       "    </tr>\n",
       "    <tr>\n",
       "      <th>2751</th>\n",
       "      <td>93900.1</td>\n",
       "      <td>['rate@3', 'sourc@3']</td>\n",
       "    </tr>\n",
       "    <tr>\n",
       "      <th>2850</th>\n",
       "      <td>871498.1</td>\n",
       "      <td>['rate@3', 'sourc@3']</td>\n",
       "    </tr>\n",
       "    <tr>\n",
       "      <th>2996</th>\n",
       "      <td>301150.2</td>\n",
       "      <td>['rate@3', 'sourc@3']</td>\n",
       "    </tr>\n",
       "    <tr>\n",
       "      <th>3012</th>\n",
       "      <td>370886.2</td>\n",
       "      <td>['rate@3', 'sourc@3']</td>\n",
       "    </tr>\n",
       "    <tr>\n",
       "      <th>3044</th>\n",
       "      <td>1040689.1</td>\n",
       "      <td>['rate@3', 'sourc@3']</td>\n",
       "    </tr>\n",
       "    <tr>\n",
       "      <th>3329</th>\n",
       "      <td>727091.1</td>\n",
       "      <td>['rate@3', 'sourc@3']</td>\n",
       "    </tr>\n",
       "    <tr>\n",
       "      <th>...</th>\n",
       "      <td>...</td>\n",
       "      <td>...</td>\n",
       "    </tr>\n",
       "    <tr>\n",
       "      <th>3037921</th>\n",
       "      <td>498353.1</td>\n",
       "      <td>['rate@3', 'sourc@3']</td>\n",
       "    </tr>\n",
       "    <tr>\n",
       "      <th>3038234</th>\n",
       "      <td>54700.1</td>\n",
       "      <td>['rate@3', 'sourc@3']</td>\n",
       "    </tr>\n",
       "    <tr>\n",
       "      <th>3038483</th>\n",
       "      <td>1061816.1</td>\n",
       "      <td>['rate@3', 'sourc@3']</td>\n",
       "    </tr>\n",
       "    <tr>\n",
       "      <th>3038495</th>\n",
       "      <td>156169.1</td>\n",
       "      <td>['rate@3', 'sourc@3']</td>\n",
       "    </tr>\n",
       "    <tr>\n",
       "      <th>3038686</th>\n",
       "      <td>177124.1</td>\n",
       "      <td>['rate@3', 'sourc@3']</td>\n",
       "    </tr>\n",
       "    <tr>\n",
       "      <th>3038748</th>\n",
       "      <td>254125.1</td>\n",
       "      <td>['rate@3', 'sourc@3']</td>\n",
       "    </tr>\n",
       "    <tr>\n",
       "      <th>3038796</th>\n",
       "      <td>124680.1</td>\n",
       "      <td>['rate@3', 'sourc@3']</td>\n",
       "    </tr>\n",
       "    <tr>\n",
       "      <th>3038891</th>\n",
       "      <td>682603.1</td>\n",
       "      <td>['rate@3', 'sourc@3']</td>\n",
       "    </tr>\n",
       "    <tr>\n",
       "      <th>3038909</th>\n",
       "      <td>650305.1</td>\n",
       "      <td>['rate@3', 'sourc@3']</td>\n",
       "    </tr>\n",
       "    <tr>\n",
       "      <th>3038943</th>\n",
       "      <td>171413.1</td>\n",
       "      <td>['rate@3', 'sourc@3']</td>\n",
       "    </tr>\n",
       "    <tr>\n",
       "      <th>3039084</th>\n",
       "      <td>887815.1</td>\n",
       "      <td>['rate@3', 'sourc@3']</td>\n",
       "    </tr>\n",
       "    <tr>\n",
       "      <th>3039129</th>\n",
       "      <td>213141.1</td>\n",
       "      <td>['rate@3', 'sourc@3']</td>\n",
       "    </tr>\n",
       "    <tr>\n",
       "      <th>3039195</th>\n",
       "      <td>687006.1</td>\n",
       "      <td>['rate@3', 'sourc@3']</td>\n",
       "    </tr>\n",
       "    <tr>\n",
       "      <th>3039563</th>\n",
       "      <td>591097.1</td>\n",
       "      <td>['rate@3', 'sourc@3']</td>\n",
       "    </tr>\n",
       "    <tr>\n",
       "      <th>3039827</th>\n",
       "      <td>824751.1</td>\n",
       "      <td>['rate@3', 'sourc@3']</td>\n",
       "    </tr>\n",
       "    <tr>\n",
       "      <th>3039865</th>\n",
       "      <td>710690.1</td>\n",
       "      <td>['rate@3', 'sourc@3']</td>\n",
       "    </tr>\n",
       "    <tr>\n",
       "      <th>3039921</th>\n",
       "      <td>199900.1</td>\n",
       "      <td>['rate@3', 'sourc@3']</td>\n",
       "    </tr>\n",
       "    <tr>\n",
       "      <th>3040021</th>\n",
       "      <td>738122.1</td>\n",
       "      <td>['rate@3', 'sourc@3']</td>\n",
       "    </tr>\n",
       "    <tr>\n",
       "      <th>3040058</th>\n",
       "      <td>596432.1</td>\n",
       "      <td>['rate@3', 'sourc@3']</td>\n",
       "    </tr>\n",
       "    <tr>\n",
       "      <th>3040229</th>\n",
       "      <td>714181.1</td>\n",
       "      <td>['rate@3', 'sourc@3']</td>\n",
       "    </tr>\n",
       "    <tr>\n",
       "      <th>3040290</th>\n",
       "      <td>291581.1</td>\n",
       "      <td>['rate@3', 'sourc@3']</td>\n",
       "    </tr>\n",
       "    <tr>\n",
       "      <th>3040392</th>\n",
       "      <td>913526.1</td>\n",
       "      <td>['rate@3', 'sourc@3']</td>\n",
       "    </tr>\n",
       "    <tr>\n",
       "      <th>3040432</th>\n",
       "      <td>101808.1</td>\n",
       "      <td>['rate@3', 'sourc@3']</td>\n",
       "    </tr>\n",
       "    <tr>\n",
       "      <th>3040552</th>\n",
       "      <td>907608.1</td>\n",
       "      <td>['rate@3', 'sourc@3']</td>\n",
       "    </tr>\n",
       "    <tr>\n",
       "      <th>3040576</th>\n",
       "      <td>406994.1</td>\n",
       "      <td>['rate@3', 'sourc@3']</td>\n",
       "    </tr>\n",
       "    <tr>\n",
       "      <th>3040610</th>\n",
       "      <td>826571.1</td>\n",
       "      <td>['rate@3', 'sourc@3']</td>\n",
       "    </tr>\n",
       "    <tr>\n",
       "      <th>3040696</th>\n",
       "      <td>475105.1</td>\n",
       "      <td>['rate@3', 'sourc@3']</td>\n",
       "    </tr>\n",
       "    <tr>\n",
       "      <th>3040791</th>\n",
       "      <td>655629.1</td>\n",
       "      <td>['rate@3', 'sourc@3']</td>\n",
       "    </tr>\n",
       "    <tr>\n",
       "      <th>3041040</th>\n",
       "      <td>655997.1</td>\n",
       "      <td>['rate@3', 'sourc@3']</td>\n",
       "    </tr>\n",
       "    <tr>\n",
       "      <th>3041067</th>\n",
       "      <td>203105.1</td>\n",
       "      <td>['rate@3', 'sourc@3']</td>\n",
       "    </tr>\n",
       "  </tbody>\n",
       "</table>\n",
       "<p>20285 rows × 2 columns</p>\n",
       "</div>"
      ],
      "text/plain": [
       "             table                headers\n",
       "357       591336.1  ['rate@3', 'sourc@3']\n",
       "392       462216.1  ['rate@3', 'sourc@3']\n",
       "453       623533.1  ['rate@3', 'sourc@3']\n",
       "740       684873.1  ['rate@3', 'sourc@3']\n",
       "904       813988.1  ['rate@3', 'sourc@3']\n",
       "1049      267340.1  ['rate@3', 'sourc@3']\n",
       "1098      887456.1  ['rate@3', 'sourc@3']\n",
       "1101      116858.1  ['rate@3', 'sourc@3']\n",
       "1111      631620.1  ['rate@3', 'sourc@3']\n",
       "1121      162377.1  ['rate@3', 'sourc@3']\n",
       "1129      986368.1  ['rate@3', 'sourc@3']\n",
       "1185      289642.1  ['rate@3', 'sourc@3']\n",
       "1202      572243.1  ['rate@3', 'sourc@3']\n",
       "1235      574114.1  ['rate@3', 'sourc@3']\n",
       "1670      553087.1  ['rate@3', 'sourc@3']\n",
       "1750      852577.1  ['rate@3', 'sourc@3']\n",
       "1977      109075.1  ['rate@3', 'sourc@3']\n",
       "2020      202520.1  ['rate@3', 'sourc@3']\n",
       "2205      280634.1  ['rate@3', 'sourc@3']\n",
       "2585      557002.1  ['rate@3', 'sourc@3']\n",
       "2603      513909.1  ['rate@3', 'sourc@3']\n",
       "2660       32418.1  ['rate@3', 'sourc@3']\n",
       "2661       32418.2  ['rate@3', 'sourc@3']\n",
       "2686      726695.1  ['rate@3', 'sourc@3']\n",
       "2751       93900.1  ['rate@3', 'sourc@3']\n",
       "2850      871498.1  ['rate@3', 'sourc@3']\n",
       "2996      301150.2  ['rate@3', 'sourc@3']\n",
       "3012      370886.2  ['rate@3', 'sourc@3']\n",
       "3044     1040689.1  ['rate@3', 'sourc@3']\n",
       "3329      727091.1  ['rate@3', 'sourc@3']\n",
       "...            ...                    ...\n",
       "3037921   498353.1  ['rate@3', 'sourc@3']\n",
       "3038234    54700.1  ['rate@3', 'sourc@3']\n",
       "3038483  1061816.1  ['rate@3', 'sourc@3']\n",
       "3038495   156169.1  ['rate@3', 'sourc@3']\n",
       "3038686   177124.1  ['rate@3', 'sourc@3']\n",
       "3038748   254125.1  ['rate@3', 'sourc@3']\n",
       "3038796   124680.1  ['rate@3', 'sourc@3']\n",
       "3038891   682603.1  ['rate@3', 'sourc@3']\n",
       "3038909   650305.1  ['rate@3', 'sourc@3']\n",
       "3038943   171413.1  ['rate@3', 'sourc@3']\n",
       "3039084   887815.1  ['rate@3', 'sourc@3']\n",
       "3039129   213141.1  ['rate@3', 'sourc@3']\n",
       "3039195   687006.1  ['rate@3', 'sourc@3']\n",
       "3039563   591097.1  ['rate@3', 'sourc@3']\n",
       "3039827   824751.1  ['rate@3', 'sourc@3']\n",
       "3039865   710690.1  ['rate@3', 'sourc@3']\n",
       "3039921   199900.1  ['rate@3', 'sourc@3']\n",
       "3040021   738122.1  ['rate@3', 'sourc@3']\n",
       "3040058   596432.1  ['rate@3', 'sourc@3']\n",
       "3040229   714181.1  ['rate@3', 'sourc@3']\n",
       "3040290   291581.1  ['rate@3', 'sourc@3']\n",
       "3040392   913526.1  ['rate@3', 'sourc@3']\n",
       "3040432   101808.1  ['rate@3', 'sourc@3']\n",
       "3040552   907608.1  ['rate@3', 'sourc@3']\n",
       "3040576   406994.1  ['rate@3', 'sourc@3']\n",
       "3040610   826571.1  ['rate@3', 'sourc@3']\n",
       "3040696   475105.1  ['rate@3', 'sourc@3']\n",
       "3040791   655629.1  ['rate@3', 'sourc@3']\n",
       "3041040   655997.1  ['rate@3', 'sourc@3']\n",
       "3041067   203105.1  ['rate@3', 'sourc@3']\n",
       "\n",
       "[20285 rows x 2 columns]"
      ]
     },
     "execution_count": 21,
     "metadata": {},
     "output_type": "execute_result"
    }
   ],
   "source": [
    "dfe[dfe[\"headers\"]==\"['rate@3', 'sourc@3']\"]"
   ]
  },
  {
   "cell_type": "code",
   "execution_count": 35,
   "metadata": {},
   "outputs": [
    {
     "data": {
      "text/plain": [
       "headers    589854\n",
       "count      589854\n",
       "dtype: int64"
      ]
     },
     "execution_count": 35,
     "metadata": {},
     "output_type": "execute_result"
    }
   ],
   "source": [
    "ch.count()"
   ]
  },
  {
   "cell_type": "code",
   "execution_count": 36,
   "metadata": {},
   "outputs": [
    {
     "data": {
      "text/plain": [
       "3041290"
      ]
     },
     "execution_count": 36,
     "metadata": {},
     "output_type": "execute_result"
    }
   ],
   "source": [
    "ch[\"count\"].sum()"
   ]
  },
  {
   "cell_type": "code",
   "execution_count": 86,
   "metadata": {},
   "outputs": [
    {
     "data": {
      "text/html": [
       "<div>\n",
       "<style scoped>\n",
       "    .dataframe tbody tr th:only-of-type {\n",
       "        vertical-align: middle;\n",
       "    }\n",
       "\n",
       "    .dataframe tbody tr th {\n",
       "        vertical-align: top;\n",
       "    }\n",
       "\n",
       "    .dataframe thead th {\n",
       "        text-align: right;\n",
       "    }\n",
       "</style>\n",
       "<table border=\"1\" class=\"dataframe\">\n",
       "  <thead>\n",
       "    <tr style=\"text-align: right;\">\n",
       "      <th></th>\n",
       "      <th>headers</th>\n",
       "      <th>count</th>\n",
       "      <th>count2</th>\n",
       "      <th>range</th>\n",
       "    </tr>\n",
       "  </thead>\n",
       "  <tbody>\n",
       "    <tr>\n",
       "      <th>0</th>\n",
       "      <td>['\"\"_brand_station@1', '\"statoil\"_brand_statio...</td>\n",
       "      <td>1</td>\n",
       "      <td>1</td>\n",
       "      <td>(0, 1]</td>\n",
       "    </tr>\n",
       "    <tr>\n",
       "      <th>1</th>\n",
       "      <td>['\"\"_compromis_model@3', '\"omelco_consensus\"_m...</td>\n",
       "      <td>1</td>\n",
       "      <td>1</td>\n",
       "      <td>(0, 1]</td>\n",
       "    </tr>\n",
       "    <tr>\n",
       "      <th>2</th>\n",
       "      <td>['\"+\"_quantifi@3', '&gt;_index_captur@3', 'backre...</td>\n",
       "      <td>1</td>\n",
       "      <td>1</td>\n",
       "      <td>(0, 1]</td>\n",
       "    </tr>\n",
       "    <tr>\n",
       "      <th>3</th>\n",
       "      <td>['\"@1', 'bullet@3', 'load@3']</td>\n",
       "      <td>1</td>\n",
       "      <td>1</td>\n",
       "      <td>(0, 1]</td>\n",
       "    </tr>\n",
       "    <tr>\n",
       "      <th>4</th>\n",
       "      <td>['\"@1', 'cal@1', 'mm@1', 'oper@3']</td>\n",
       "      <td>1</td>\n",
       "      <td>1</td>\n",
       "      <td>(0, 1]</td>\n",
       "    </tr>\n",
       "  </tbody>\n",
       "</table>\n",
       "</div>"
      ],
      "text/plain": [
       "                                             headers  count  count2   range\n",
       "0  ['\"\"_brand_station@1', '\"statoil\"_brand_statio...      1       1  (0, 1]\n",
       "1  ['\"\"_compromis_model@3', '\"omelco_consensus\"_m...      1       1  (0, 1]\n",
       "2  ['\"+\"_quantifi@3', '>_index_captur@3', 'backre...      1       1  (0, 1]\n",
       "3                      ['\"@1', 'bullet@3', 'load@3']      1       1  (0, 1]\n",
       "4                 ['\"@1', 'cal@1', 'mm@1', 'oper@3']      1       1  (0, 1]"
      ]
     },
     "execution_count": 86,
     "metadata": {},
     "output_type": "execute_result"
    }
   ],
   "source": [
    "ch.head()"
   ]
  },
  {
   "cell_type": "code",
   "execution_count": 87,
   "metadata": {},
   "outputs": [
    {
     "data": {
      "text/html": [
       "<div>\n",
       "<style scoped>\n",
       "    .dataframe tbody tr th:only-of-type {\n",
       "        vertical-align: middle;\n",
       "    }\n",
       "\n",
       "    .dataframe tbody tr th {\n",
       "        vertical-align: top;\n",
       "    }\n",
       "\n",
       "    .dataframe thead th {\n",
       "        text-align: right;\n",
       "    }\n",
       "</style>\n",
       "<table border=\"1\" class=\"dataframe\">\n",
       "  <thead>\n",
       "    <tr style=\"text-align: right;\">\n",
       "      <th></th>\n",
       "      <th>table</th>\n",
       "      <th>headers</th>\n",
       "      <th>count</th>\n",
       "      <th>count2</th>\n",
       "      <th>range</th>\n",
       "    </tr>\n",
       "  </thead>\n",
       "  <tbody>\n",
       "    <tr>\n",
       "      <th>0</th>\n",
       "      <td>896639.1</td>\n",
       "      <td>['english_titl@3', 'mandarin_titl@3', 'note@3'...</td>\n",
       "      <td>38</td>\n",
       "      <td>38</td>\n",
       "      <td>(35, 45]</td>\n",
       "    </tr>\n",
       "    <tr>\n",
       "      <th>1</th>\n",
       "      <td>896639.2</td>\n",
       "      <td>['english_titl@3', 'mandarin_titl@3', 'note@3'...</td>\n",
       "      <td>38</td>\n",
       "      <td>38</td>\n",
       "      <td>(35, 45]</td>\n",
       "    </tr>\n",
       "    <tr>\n",
       "      <th>2</th>\n",
       "      <td>896639.3</td>\n",
       "      <td>['award@3', 'categori@3', 'nomin_work@3', 'ref...</td>\n",
       "      <td>619</td>\n",
       "      <td>619</td>\n",
       "      <td>(600, 700]</td>\n",
       "    </tr>\n",
       "    <tr>\n",
       "      <th>3</th>\n",
       "      <td>775711.1</td>\n",
       "      <td>['incom_parti@3', 'previou_parti@3']</td>\n",
       "      <td>103</td>\n",
       "      <td>103</td>\n",
       "      <td>(100, 200]</td>\n",
       "    </tr>\n",
       "    <tr>\n",
       "      <th>4</th>\n",
       "      <td>141713.1</td>\n",
       "      <td>['number_state_legislatur@1', 'parti@3']</td>\n",
       "      <td>1</td>\n",
       "      <td>1</td>\n",
       "      <td>(0, 1]</td>\n",
       "    </tr>\n",
       "  </tbody>\n",
       "</table>\n",
       "</div>"
      ],
      "text/plain": [
       "      table                                            headers  count  count2  \\\n",
       "0  896639.1  ['english_titl@3', 'mandarin_titl@3', 'note@3'...     38      38   \n",
       "1  896639.2  ['english_titl@3', 'mandarin_titl@3', 'note@3'...     38      38   \n",
       "2  896639.3  ['award@3', 'categori@3', 'nomin_work@3', 'ref...    619     619   \n",
       "3  775711.1               ['incom_parti@3', 'previou_parti@3']    103     103   \n",
       "4  141713.1           ['number_state_legislatur@1', 'parti@3']      1       1   \n",
       "\n",
       "        range  \n",
       "0    (35, 45]  \n",
       "1    (35, 45]  \n",
       "2  (600, 700]  \n",
       "3  (100, 200]  \n",
       "4      (0, 1]  "
      ]
     },
     "execution_count": 87,
     "metadata": {},
     "output_type": "execute_result"
    }
   ],
   "source": [
    "cols = ['headers']\n",
    "ch2=dfe.join(ch.set_index(cols),on=cols)\n",
    "ch2.head()"
   ]
  },
  {
   "cell_type": "code",
   "execution_count": 147,
   "metadata": {},
   "outputs": [],
   "source": [
    "x=ch2[\"count\"].tolist()"
   ]
  },
  {
   "cell_type": "code",
   "execution_count": 103,
   "metadata": {},
   "outputs": [
    {
     "data": {
      "text/plain": [
       "6240.238553377021"
      ]
     },
     "execution_count": 103,
     "metadata": {},
     "output_type": "execute_result"
    }
   ],
   "source": [
    "mu=sum(x) / float(len(x))\n",
    "mu"
   ]
  },
  {
   "cell_type": "code",
   "execution_count": 148,
   "metadata": {},
   "outputs": [
    {
     "data": {
      "text/plain": [
       "Text(0,0.5,'Num. Tables')"
      ]
     },
     "execution_count": 148,
     "metadata": {},
     "output_type": "execute_result"
    },
    {
     "data": {
      "image/png": "[encoded data removed]",
      "text/plain": [
       "<Figure size 720x288 with 1 Axes>"
      ]
     },
     "metadata": {},
     "output_type": "display_data"
    }
   ],
   "source": [
    "fig, ax = plt.subplots(figsize=(10, 4))\n",
    "bins=100\n",
    "sigma = 1000\n",
    "ax.set_xscale('log', basex=10)\n",
    "n, bins, patches = ax.hist(x, bins=10000,density=False, cumulative=True, label='Num. Tables')\n",
    "ax.set_xlabel('Groups by number of tables')\n",
    "ax.set_ylabel('Num. Tables')"
   ]
  },
  {
   "cell_type": "code",
   "execution_count": 46,
   "metadata": {},
   "outputs": [
    {
     "data": {
      "text/html": [
       "<div>\n",
       "<style scoped>\n",
       "    .dataframe tbody tr th:only-of-type {\n",
       "        vertical-align: middle;\n",
       "    }\n",
       "\n",
       "    .dataframe tbody tr th {\n",
       "        vertical-align: top;\n",
       "    }\n",
       "\n",
       "    .dataframe thead th {\n",
       "        text-align: right;\n",
       "    }\n",
       "</style>\n",
       "<table border=\"1\" class=\"dataframe\">\n",
       "  <thead>\n",
       "    <tr style=\"text-align: right;\">\n",
       "      <th></th>\n",
       "      <th>headers</th>\n",
       "      <th>count</th>\n",
       "    </tr>\n",
       "  </thead>\n",
       "  <tbody>\n",
       "    <tr>\n",
       "      <th>0</th>\n",
       "      <td>['\"\"_brand_station@1', '\"statoil\"_brand_statio...</td>\n",
       "      <td>1</td>\n",
       "    </tr>\n",
       "    <tr>\n",
       "      <th>1</th>\n",
       "      <td>['\"\"_compromis_model@3', '\"omelco_consensus\"_m...</td>\n",
       "      <td>1</td>\n",
       "    </tr>\n",
       "    <tr>\n",
       "      <th>2</th>\n",
       "      <td>['\"+\"_quantifi@3', '&gt;_index_captur@3', 'backre...</td>\n",
       "      <td>1</td>\n",
       "    </tr>\n",
       "    <tr>\n",
       "      <th>3</th>\n",
       "      <td>['\"@1', 'bullet@3', 'load@3']</td>\n",
       "      <td>1</td>\n",
       "    </tr>\n",
       "    <tr>\n",
       "      <th>4</th>\n",
       "      <td>['\"@1', 'cal@1', 'mm@1', 'oper@3']</td>\n",
       "      <td>1</td>\n",
       "    </tr>\n",
       "  </tbody>\n",
       "</table>\n",
       "</div>"
      ],
      "text/plain": [
       "                                             headers  count\n",
       "0  ['\"\"_brand_station@1', '\"statoil\"_brand_statio...      1\n",
       "1  ['\"\"_compromis_model@3', '\"omelco_consensus\"_m...      1\n",
       "2  ['\"+\"_quantifi@3', '>_index_captur@3', 'backre...      1\n",
       "3                      ['\"@1', 'bullet@3', 'load@3']      1\n",
       "4                 ['\"@1', 'cal@1', 'mm@1', 'oper@3']      1"
      ]
     },
     "execution_count": 46,
     "metadata": {},
     "output_type": "execute_result"
    }
   ],
   "source": [
    "ch3=ch.copy()\n",
    "ch3.head()"
   ]
  },
  {
   "cell_type": "code",
   "execution_count": 83,
   "metadata": {},
   "outputs": [
    {
     "data": {
      "text/html": [
       "<div>\n",
       "<style scoped>\n",
       "    .dataframe tbody tr th:only-of-type {\n",
       "        vertical-align: middle;\n",
       "    }\n",
       "\n",
       "    .dataframe tbody tr th {\n",
       "        vertical-align: top;\n",
       "    }\n",
       "\n",
       "    .dataframe thead th {\n",
       "        text-align: right;\n",
       "    }\n",
       "</style>\n",
       "<table border=\"1\" class=\"dataframe\">\n",
       "  <thead>\n",
       "    <tr style=\"text-align: right;\">\n",
       "      <th></th>\n",
       "      <th>table</th>\n",
       "      <th>headers</th>\n",
       "      <th>count</th>\n",
       "      <th>5</th>\n",
       "      <th>10</th>\n",
       "      <th>15</th>\n",
       "      <th>25</th>\n",
       "      <th>50</th>\n",
       "      <th>100</th>\n",
       "      <th>250</th>\n",
       "      <th>...</th>\n",
       "      <th>750</th>\n",
       "      <th>1000</th>\n",
       "      <th>2500</th>\n",
       "      <th>5000</th>\n",
       "      <th>7500</th>\n",
       "      <th>10000</th>\n",
       "      <th>25000</th>\n",
       "      <th>50000</th>\n",
       "      <th>100000</th>\n",
       "      <th>500000</th>\n",
       "    </tr>\n",
       "  </thead>\n",
       "  <tbody>\n",
       "    <tr>\n",
       "      <th>0</th>\n",
       "      <td>896639.1</td>\n",
       "      <td>['english_titl@3', 'mandarin_titl@3', 'note@3'...</td>\n",
       "      <td>38</td>\n",
       "      <td>0</td>\n",
       "      <td>0</td>\n",
       "      <td>0</td>\n",
       "      <td>0</td>\n",
       "      <td>1</td>\n",
       "      <td>1</td>\n",
       "      <td>1</td>\n",
       "      <td>...</td>\n",
       "      <td>1</td>\n",
       "      <td>1</td>\n",
       "      <td>1</td>\n",
       "      <td>1</td>\n",
       "      <td>1</td>\n",
       "      <td>1</td>\n",
       "      <td>1</td>\n",
       "      <td>1</td>\n",
       "      <td>1</td>\n",
       "      <td>1</td>\n",
       "    </tr>\n",
       "    <tr>\n",
       "      <th>1</th>\n",
       "      <td>896639.2</td>\n",
       "      <td>['english_titl@3', 'mandarin_titl@3', 'note@3'...</td>\n",
       "      <td>38</td>\n",
       "      <td>0</td>\n",
       "      <td>0</td>\n",
       "      <td>0</td>\n",
       "      <td>0</td>\n",
       "      <td>1</td>\n",
       "      <td>1</td>\n",
       "      <td>1</td>\n",
       "      <td>...</td>\n",
       "      <td>1</td>\n",
       "      <td>1</td>\n",
       "      <td>1</td>\n",
       "      <td>1</td>\n",
       "      <td>1</td>\n",
       "      <td>1</td>\n",
       "      <td>1</td>\n",
       "      <td>1</td>\n",
       "      <td>1</td>\n",
       "      <td>1</td>\n",
       "    </tr>\n",
       "    <tr>\n",
       "      <th>2</th>\n",
       "      <td>896639.3</td>\n",
       "      <td>['award@3', 'categori@3', 'nomin_work@3', 'ref...</td>\n",
       "      <td>619</td>\n",
       "      <td>0</td>\n",
       "      <td>0</td>\n",
       "      <td>0</td>\n",
       "      <td>0</td>\n",
       "      <td>0</td>\n",
       "      <td>0</td>\n",
       "      <td>0</td>\n",
       "      <td>...</td>\n",
       "      <td>1</td>\n",
       "      <td>1</td>\n",
       "      <td>1</td>\n",
       "      <td>1</td>\n",
       "      <td>1</td>\n",
       "      <td>1</td>\n",
       "      <td>1</td>\n",
       "      <td>1</td>\n",
       "      <td>1</td>\n",
       "      <td>1</td>\n",
       "    </tr>\n",
       "    <tr>\n",
       "      <th>3</th>\n",
       "      <td>775711.1</td>\n",
       "      <td>['incom_parti@3', 'previou_parti@3']</td>\n",
       "      <td>103</td>\n",
       "      <td>0</td>\n",
       "      <td>0</td>\n",
       "      <td>0</td>\n",
       "      <td>0</td>\n",
       "      <td>0</td>\n",
       "      <td>0</td>\n",
       "      <td>1</td>\n",
       "      <td>...</td>\n",
       "      <td>1</td>\n",
       "      <td>1</td>\n",
       "      <td>1</td>\n",
       "      <td>1</td>\n",
       "      <td>1</td>\n",
       "      <td>1</td>\n",
       "      <td>1</td>\n",
       "      <td>1</td>\n",
       "      <td>1</td>\n",
       "      <td>1</td>\n",
       "    </tr>\n",
       "    <tr>\n",
       "      <th>4</th>\n",
       "      <td>141713.1</td>\n",
       "      <td>['number_state_legislatur@1', 'parti@3']</td>\n",
       "      <td>1</td>\n",
       "      <td>1</td>\n",
       "      <td>1</td>\n",
       "      <td>1</td>\n",
       "      <td>1</td>\n",
       "      <td>1</td>\n",
       "      <td>1</td>\n",
       "      <td>1</td>\n",
       "      <td>...</td>\n",
       "      <td>1</td>\n",
       "      <td>1</td>\n",
       "      <td>1</td>\n",
       "      <td>1</td>\n",
       "      <td>1</td>\n",
       "      <td>1</td>\n",
       "      <td>1</td>\n",
       "      <td>1</td>\n",
       "      <td>1</td>\n",
       "      <td>1</td>\n",
       "    </tr>\n",
       "  </tbody>\n",
       "</table>\n",
       "<p>5 rows × 21 columns</p>\n",
       "</div>"
      ],
      "text/plain": [
       "      table                                            headers  count  5  10  \\\n",
       "0  896639.1  ['english_titl@3', 'mandarin_titl@3', 'note@3'...     38  0   0   \n",
       "1  896639.2  ['english_titl@3', 'mandarin_titl@3', 'note@3'...     38  0   0   \n",
       "2  896639.3  ['award@3', 'categori@3', 'nomin_work@3', 'ref...    619  0   0   \n",
       "3  775711.1               ['incom_parti@3', 'previou_parti@3']    103  0   0   \n",
       "4  141713.1           ['number_state_legislatur@1', 'parti@3']      1  1   1   \n",
       "\n",
       "   15  25  50  100  250   ...    750  1000  2500  5000  7500  10000  25000  \\\n",
       "0   0   0   1    1    1   ...      1     1     1     1     1      1      1   \n",
       "1   0   0   1    1    1   ...      1     1     1     1     1      1      1   \n",
       "2   0   0   0    0    0   ...      1     1     1     1     1      1      1   \n",
       "3   0   0   0    0    1   ...      1     1     1     1     1      1      1   \n",
       "4   1   1   1    1    1   ...      1     1     1     1     1      1      1   \n",
       "\n",
       "   50000  100000  500000  \n",
       "0      1       1       1  \n",
       "1      1       1       1  \n",
       "2      1       1       1  \n",
       "3      1       1       1  \n",
       "4      1       1       1  \n",
       "\n",
       "[5 rows x 21 columns]"
      ]
     },
     "execution_count": 83,
     "metadata": {},
     "output_type": "execute_result"
    }
   ],
   "source": [
    "cols = ['headers']\n",
    "ch3=dfe.join(ch3.set_index(cols),on=cols)\n",
    "ch3.head()"
   ]
  },
  {
   "cell_type": "code",
   "execution_count": 48,
   "metadata": {},
   "outputs": [],
   "source": [
    "ch3['5']=0\n",
    "ch3['10']=0\n",
    "ch3['15']=0\n",
    "ch3['25']=0\n",
    "ch3['50']=0\n",
    "ch3['100']=0\n",
    "ch3['250']=0\n",
    "ch3['500']=0\n",
    "ch3['750']=0\n",
    "ch3['1000']=0\n",
    "ch3['2500']=0\n",
    "ch3['5000']=0\n",
    "ch3['7500']=0\n",
    "ch3['10000']=0\n",
    "ch3['25000']=0\n",
    "ch3['50000']=0\n",
    "ch3['100000']=0\n",
    "ch3['500000']=0"
   ]
  },
  {
   "cell_type": "code",
   "execution_count": 49,
   "metadata": {},
   "outputs": [
    {
     "data": {
      "text/html": [
       "<div>\n",
       "<style scoped>\n",
       "    .dataframe tbody tr th:only-of-type {\n",
       "        vertical-align: middle;\n",
       "    }\n",
       "\n",
       "    .dataframe tbody tr th {\n",
       "        vertical-align: top;\n",
       "    }\n",
       "\n",
       "    .dataframe thead th {\n",
       "        text-align: right;\n",
       "    }\n",
       "</style>\n",
       "<table border=\"1\" class=\"dataframe\">\n",
       "  <thead>\n",
       "    <tr style=\"text-align: right;\">\n",
       "      <th></th>\n",
       "      <th>headers</th>\n",
       "      <th>count</th>\n",
       "      <th>5</th>\n",
       "      <th>10</th>\n",
       "      <th>15</th>\n",
       "      <th>25</th>\n",
       "      <th>50</th>\n",
       "      <th>100</th>\n",
       "      <th>250</th>\n",
       "      <th>500</th>\n",
       "      <th>750</th>\n",
       "      <th>1000</th>\n",
       "      <th>2500</th>\n",
       "      <th>5000</th>\n",
       "      <th>7500</th>\n",
       "      <th>10000</th>\n",
       "      <th>25000</th>\n",
       "      <th>50000</th>\n",
       "      <th>100000</th>\n",
       "      <th>500000</th>\n",
       "    </tr>\n",
       "  </thead>\n",
       "  <tbody>\n",
       "    <tr>\n",
       "      <th>0</th>\n",
       "      <td>['\"\"_brand_station@1', '\"statoil\"_brand_statio...</td>\n",
       "      <td>1</td>\n",
       "      <td>1</td>\n",
       "      <td>1</td>\n",
       "      <td>1</td>\n",
       "      <td>1</td>\n",
       "      <td>1</td>\n",
       "      <td>1</td>\n",
       "      <td>1</td>\n",
       "      <td>1</td>\n",
       "      <td>1</td>\n",
       "      <td>1</td>\n",
       "      <td>1</td>\n",
       "      <td>1</td>\n",
       "      <td>1</td>\n",
       "      <td>1</td>\n",
       "      <td>1</td>\n",
       "      <td>1</td>\n",
       "      <td>1</td>\n",
       "      <td>1</td>\n",
       "    </tr>\n",
       "    <tr>\n",
       "      <th>1</th>\n",
       "      <td>['\"\"_compromis_model@3', '\"omelco_consensus\"_m...</td>\n",
       "      <td>1</td>\n",
       "      <td>1</td>\n",
       "      <td>1</td>\n",
       "      <td>1</td>\n",
       "      <td>1</td>\n",
       "      <td>1</td>\n",
       "      <td>1</td>\n",
       "      <td>1</td>\n",
       "      <td>1</td>\n",
       "      <td>1</td>\n",
       "      <td>1</td>\n",
       "      <td>1</td>\n",
       "      <td>1</td>\n",
       "      <td>1</td>\n",
       "      <td>1</td>\n",
       "      <td>1</td>\n",
       "      <td>1</td>\n",
       "      <td>1</td>\n",
       "      <td>1</td>\n",
       "    </tr>\n",
       "    <tr>\n",
       "      <th>2</th>\n",
       "      <td>['\"+\"_quantifi@3', '&gt;_index_captur@3', 'backre...</td>\n",
       "      <td>1</td>\n",
       "      <td>1</td>\n",
       "      <td>1</td>\n",
       "      <td>1</td>\n",
       "      <td>1</td>\n",
       "      <td>1</td>\n",
       "      <td>1</td>\n",
       "      <td>1</td>\n",
       "      <td>1</td>\n",
       "      <td>1</td>\n",
       "      <td>1</td>\n",
       "      <td>1</td>\n",
       "      <td>1</td>\n",
       "      <td>1</td>\n",
       "      <td>1</td>\n",
       "      <td>1</td>\n",
       "      <td>1</td>\n",
       "      <td>1</td>\n",
       "      <td>1</td>\n",
       "    </tr>\n",
       "    <tr>\n",
       "      <th>3</th>\n",
       "      <td>['\"@1', 'bullet@3', 'load@3']</td>\n",
       "      <td>1</td>\n",
       "      <td>1</td>\n",
       "      <td>1</td>\n",
       "      <td>1</td>\n",
       "      <td>1</td>\n",
       "      <td>1</td>\n",
       "      <td>1</td>\n",
       "      <td>1</td>\n",
       "      <td>1</td>\n",
       "      <td>1</td>\n",
       "      <td>1</td>\n",
       "      <td>1</td>\n",
       "      <td>1</td>\n",
       "      <td>1</td>\n",
       "      <td>1</td>\n",
       "      <td>1</td>\n",
       "      <td>1</td>\n",
       "      <td>1</td>\n",
       "      <td>1</td>\n",
       "    </tr>\n",
       "    <tr>\n",
       "      <th>4</th>\n",
       "      <td>['\"@1', 'cal@1', 'mm@1', 'oper@3']</td>\n",
       "      <td>1</td>\n",
       "      <td>1</td>\n",
       "      <td>1</td>\n",
       "      <td>1</td>\n",
       "      <td>1</td>\n",
       "      <td>1</td>\n",
       "      <td>1</td>\n",
       "      <td>1</td>\n",
       "      <td>1</td>\n",
       "      <td>1</td>\n",
       "      <td>1</td>\n",
       "      <td>1</td>\n",
       "      <td>1</td>\n",
       "      <td>1</td>\n",
       "      <td>1</td>\n",
       "      <td>1</td>\n",
       "      <td>1</td>\n",
       "      <td>1</td>\n",
       "      <td>1</td>\n",
       "    </tr>\n",
       "  </tbody>\n",
       "</table>\n",
       "</div>"
      ],
      "text/plain": [
       "                                             headers  count  5  10  15  25  \\\n",
       "0  ['\"\"_brand_station@1', '\"statoil\"_brand_statio...      1  1   1   1   1   \n",
       "1  ['\"\"_compromis_model@3', '\"omelco_consensus\"_m...      1  1   1   1   1   \n",
       "2  ['\"+\"_quantifi@3', '>_index_captur@3', 'backre...      1  1   1   1   1   \n",
       "3                      ['\"@1', 'bullet@3', 'load@3']      1  1   1   1   1   \n",
       "4                 ['\"@1', 'cal@1', 'mm@1', 'oper@3']      1  1   1   1   1   \n",
       "\n",
       "   50  100  250  500  750  1000  2500  5000  7500  10000  25000  50000  \\\n",
       "0   1    1    1    1    1     1     1     1     1      1      1      1   \n",
       "1   1    1    1    1    1     1     1     1     1      1      1      1   \n",
       "2   1    1    1    1    1     1     1     1     1      1      1      1   \n",
       "3   1    1    1    1    1     1     1     1     1      1      1      1   \n",
       "4   1    1    1    1    1     1     1     1     1      1      1      1   \n",
       "\n",
       "   100000  500000  \n",
       "0       1       1  \n",
       "1       1       1  \n",
       "2       1       1  \n",
       "3       1       1  \n",
       "4       1       1  "
      ]
     },
     "execution_count": 49,
     "metadata": {},
     "output_type": "execute_result"
    }
   ],
   "source": [
    "ch3.loc[(ch3['count'] <=5) , ['5']] = 1\n",
    "ch3.loc[(ch3['count'] <=10) , ['10']]=1\n",
    "ch3.loc[(ch3['count'] <=15) , ['15']]=1\n",
    "ch3.loc[(ch3['count'] <=25) , ['25']]=1\n",
    "ch3.loc[(ch3['count'] <=50) , ['50']]=1\n",
    "ch3.loc[(ch3['count'] <=100) , ['100']]=1\n",
    "ch3.loc[(ch3['count'] <=250) , ['250']]=1\n",
    "ch3.loc[(ch3['count'] <=500) , ['500']]=1\n",
    "ch3.loc[(ch3['count'] <=750) , ['750']]=1\n",
    "ch3.loc[(ch3['count'] <=1000) , ['1000']]=1\n",
    "ch3.loc[(ch3['count'] <=2500) , ['2500']]=1\n",
    "ch3.loc[(ch3['count'] <=5000) , ['5000']]=1\n",
    "ch3.loc[(ch3['count'] <=7500) , ['7500']]=1\n",
    "ch3.loc[(ch3['count'] <=10000) , ['10000']]=1\n",
    "ch3.loc[(ch3['count'] <=25000) , ['25000']]=1\n",
    "ch3.loc[(ch3['count'] <=50000) , ['50000']]=1\n",
    "ch3.loc[(ch3['count'] <=100000) , ['100000']]=1\n",
    "ch3.loc[(ch3['count'] <=500000) , ['500000']]=1\n",
    "ch3.head()"
   ]
  },
  {
   "cell_type": "code",
   "execution_count": 84,
   "metadata": {},
   "outputs": [
    {
     "data": {
      "text/plain": [
       "<matplotlib.axes._subplots.AxesSubplot at 0x7f04dffd3b38>"
      ]
     },
     "execution_count": 84,
     "metadata": {},
     "output_type": "execute_result"
    },
    {
     "data": {
      "image/png": "[encoded data removed]",
      "text/plain": [
       "<Figure size 432x288 with 1 Axes>"
      ]
     },
     "metadata": {},
     "output_type": "display_data"
    }
   ],
   "source": [
    "ch3[['5','10', '15', '25','50','100','250','750','1000','2500','5000','7500','10000','25000','50000','100000','500000']].sum().plot()"
   ]
  },
  {
   "cell_type": "code",
   "execution_count": 85,
   "metadata": {},
   "outputs": [
    {
     "data": {
      "text/plain": [
       "5          762438\n",
       "10         921637\n",
       "15        1015059\n",
       "25        1143466\n",
       "50        1311060\n",
       "100       1476699\n",
       "250       1700874\n",
       "750       1982484\n",
       "1000      2033432\n",
       "2500      2277545\n",
       "5000      2472980\n",
       "7500      2544071\n",
       "10000     2587403\n",
       "25000     2735345\n",
       "50000     2868831\n",
       "100000    3041290\n",
       "500000    3041290\n",
       "dtype: int64"
      ]
     },
     "execution_count": 85,
     "metadata": {},
     "output_type": "execute_result"
    }
   ],
   "source": [
    "ch3[['5','10', '15', '25','50','100','250','750','1000','2500','5000','7500','10000','25000','50000','100000','500000']].sum()"
   ]
  },
  {
   "cell_type": "code",
   "execution_count": 43,
   "metadata": {},
   "outputs": [
    {
     "data": {
      "text/html": [
       "<div>\n",
       "<style scoped>\n",
       "    .dataframe tbody tr th:only-of-type {\n",
       "        vertical-align: middle;\n",
       "    }\n",
       "\n",
       "    .dataframe tbody tr th {\n",
       "        vertical-align: top;\n",
       "    }\n",
       "\n",
       "    .dataframe thead th {\n",
       "        text-align: right;\n",
       "    }\n",
       "</style>\n",
       "<table border=\"1\" class=\"dataframe\">\n",
       "  <thead>\n",
       "    <tr style=\"text-align: right;\">\n",
       "      <th></th>\n",
       "      <th>table</th>\n",
       "      <th>headers</th>\n",
       "      <th>count</th>\n",
       "      <th>5</th>\n",
       "      <th>10</th>\n",
       "      <th>15</th>\n",
       "      <th>25</th>\n",
       "      <th>50</th>\n",
       "      <th>100</th>\n",
       "      <th>250</th>\n",
       "      <th>...</th>\n",
       "      <th>750</th>\n",
       "      <th>1000</th>\n",
       "      <th>2500</th>\n",
       "      <th>5000</th>\n",
       "      <th>7500</th>\n",
       "      <th>10000</th>\n",
       "      <th>25000</th>\n",
       "      <th>50000</th>\n",
       "      <th>100000</th>\n",
       "      <th>500000</th>\n",
       "    </tr>\n",
       "  </thead>\n",
       "  <tbody>\n",
       "    <tr>\n",
       "      <th>0</th>\n",
       "      <td>896639.1</td>\n",
       "      <td>['english_titl@3', 'mandarin_titl@3', 'note@3'...</td>\n",
       "      <td>38</td>\n",
       "      <td>0</td>\n",
       "      <td>0</td>\n",
       "      <td>0</td>\n",
       "      <td>0</td>\n",
       "      <td>38</td>\n",
       "      <td>38</td>\n",
       "      <td>38</td>\n",
       "      <td>...</td>\n",
       "      <td>38</td>\n",
       "      <td>38</td>\n",
       "      <td>38</td>\n",
       "      <td>38</td>\n",
       "      <td>38</td>\n",
       "      <td>38</td>\n",
       "      <td>38</td>\n",
       "      <td>38</td>\n",
       "      <td>38</td>\n",
       "      <td>38</td>\n",
       "    </tr>\n",
       "    <tr>\n",
       "      <th>1</th>\n",
       "      <td>896639.2</td>\n",
       "      <td>['english_titl@3', 'mandarin_titl@3', 'note@3'...</td>\n",
       "      <td>38</td>\n",
       "      <td>0</td>\n",
       "      <td>0</td>\n",
       "      <td>0</td>\n",
       "      <td>0</td>\n",
       "      <td>38</td>\n",
       "      <td>38</td>\n",
       "      <td>38</td>\n",
       "      <td>...</td>\n",
       "      <td>38</td>\n",
       "      <td>38</td>\n",
       "      <td>38</td>\n",
       "      <td>38</td>\n",
       "      <td>38</td>\n",
       "      <td>38</td>\n",
       "      <td>38</td>\n",
       "      <td>38</td>\n",
       "      <td>38</td>\n",
       "      <td>38</td>\n",
       "    </tr>\n",
       "    <tr>\n",
       "      <th>2</th>\n",
       "      <td>896639.3</td>\n",
       "      <td>['award@3', 'categori@3', 'nomin_work@3', 'ref...</td>\n",
       "      <td>619</td>\n",
       "      <td>0</td>\n",
       "      <td>0</td>\n",
       "      <td>0</td>\n",
       "      <td>0</td>\n",
       "      <td>0</td>\n",
       "      <td>0</td>\n",
       "      <td>0</td>\n",
       "      <td>...</td>\n",
       "      <td>619</td>\n",
       "      <td>619</td>\n",
       "      <td>619</td>\n",
       "      <td>619</td>\n",
       "      <td>619</td>\n",
       "      <td>619</td>\n",
       "      <td>619</td>\n",
       "      <td>619</td>\n",
       "      <td>619</td>\n",
       "      <td>619</td>\n",
       "    </tr>\n",
       "    <tr>\n",
       "      <th>3</th>\n",
       "      <td>775711.1</td>\n",
       "      <td>['incom_parti@3', 'previou_parti@3']</td>\n",
       "      <td>103</td>\n",
       "      <td>0</td>\n",
       "      <td>0</td>\n",
       "      <td>0</td>\n",
       "      <td>0</td>\n",
       "      <td>0</td>\n",
       "      <td>0</td>\n",
       "      <td>103</td>\n",
       "      <td>...</td>\n",
       "      <td>103</td>\n",
       "      <td>103</td>\n",
       "      <td>103</td>\n",
       "      <td>103</td>\n",
       "      <td>103</td>\n",
       "      <td>103</td>\n",
       "      <td>103</td>\n",
       "      <td>103</td>\n",
       "      <td>103</td>\n",
       "      <td>103</td>\n",
       "    </tr>\n",
       "    <tr>\n",
       "      <th>4</th>\n",
       "      <td>141713.1</td>\n",
       "      <td>['number_state_legislatur@1', 'parti@3']</td>\n",
       "      <td>1</td>\n",
       "      <td>1</td>\n",
       "      <td>1</td>\n",
       "      <td>1</td>\n",
       "      <td>1</td>\n",
       "      <td>1</td>\n",
       "      <td>1</td>\n",
       "      <td>1</td>\n",
       "      <td>...</td>\n",
       "      <td>1</td>\n",
       "      <td>1</td>\n",
       "      <td>1</td>\n",
       "      <td>1</td>\n",
       "      <td>1</td>\n",
       "      <td>1</td>\n",
       "      <td>1</td>\n",
       "      <td>1</td>\n",
       "      <td>1</td>\n",
       "      <td>1</td>\n",
       "    </tr>\n",
       "  </tbody>\n",
       "</table>\n",
       "<p>5 rows × 21 columns</p>\n",
       "</div>"
      ],
      "text/plain": [
       "      table                                            headers  count  5  10  \\\n",
       "0  896639.1  ['english_titl@3', 'mandarin_titl@3', 'note@3'...     38  0   0   \n",
       "1  896639.2  ['english_titl@3', 'mandarin_titl@3', 'note@3'...     38  0   0   \n",
       "2  896639.3  ['award@3', 'categori@3', 'nomin_work@3', 'ref...    619  0   0   \n",
       "3  775711.1               ['incom_parti@3', 'previou_parti@3']    103  0   0   \n",
       "4  141713.1           ['number_state_legislatur@1', 'parti@3']      1  1   1   \n",
       "\n",
       "   15  25  50  100  250   ...    750  1000  2500  5000  7500  10000  25000  \\\n",
       "0   0   0  38   38   38   ...     38    38    38    38    38     38     38   \n",
       "1   0   0  38   38   38   ...     38    38    38    38    38     38     38   \n",
       "2   0   0   0    0    0   ...    619   619   619   619   619    619    619   \n",
       "3   0   0   0    0  103   ...    103   103   103   103   103    103    103   \n",
       "4   1   1   1    1    1   ...      1     1     1     1     1      1      1   \n",
       "\n",
       "   50000  100000  500000  \n",
       "0     38      38      38  \n",
       "1     38      38      38  \n",
       "2    619     619     619  \n",
       "3    103     103     103  \n",
       "4      1       1       1  \n",
       "\n",
       "[5 rows x 21 columns]"
      ]
     },
     "execution_count": 43,
     "metadata": {},
     "output_type": "execute_result"
    }
   ],
   "source": [
    "cols = ['headers']\n",
    "df_merge=dfe.join(ch.set_index(cols),on=cols)\n",
    "df_merge.head()"
   ]
  },
  {
   "cell_type": "code",
   "execution_count": 57,
   "metadata": {},
   "outputs": [
    {
     "data": {
      "text/html": [
       "<div>\n",
       "<style scoped>\n",
       "    .dataframe tbody tr th:only-of-type {\n",
       "        vertical-align: middle;\n",
       "    }\n",
       "\n",
       "    .dataframe tbody tr th {\n",
       "        vertical-align: top;\n",
       "    }\n",
       "\n",
       "    .dataframe thead th {\n",
       "        text-align: right;\n",
       "    }\n",
       "</style>\n",
       "<table border=\"1\" class=\"dataframe\">\n",
       "  <thead>\n",
       "    <tr style=\"text-align: right;\">\n",
       "      <th></th>\n",
       "      <th>headers</th>\n",
       "      <th>count</th>\n",
       "    </tr>\n",
       "  </thead>\n",
       "  <tbody>\n",
       "    <tr>\n",
       "      <th>0</th>\n",
       "      <td>['\"\"_brand_station@1', '\"statoil\"_brand_statio...</td>\n",
       "      <td>1</td>\n",
       "    </tr>\n",
       "    <tr>\n",
       "      <th>1</th>\n",
       "      <td>['\"\"_compromis_model@3', '\"omelco_consensus\"_m...</td>\n",
       "      <td>1</td>\n",
       "    </tr>\n",
       "    <tr>\n",
       "      <th>2</th>\n",
       "      <td>['\"+\"_quantifi@3', '&gt;_index_captur@3', 'backre...</td>\n",
       "      <td>1</td>\n",
       "    </tr>\n",
       "    <tr>\n",
       "      <th>3</th>\n",
       "      <td>['\"@1', 'bullet@3', 'load@3']</td>\n",
       "      <td>1</td>\n",
       "    </tr>\n",
       "    <tr>\n",
       "      <th>4</th>\n",
       "      <td>['\"@1', 'cal@1', 'mm@1', 'oper@3']</td>\n",
       "      <td>1</td>\n",
       "    </tr>\n",
       "  </tbody>\n",
       "</table>\n",
       "</div>"
      ],
      "text/plain": [
       "                                             headers  count\n",
       "0  ['\"\"_brand_station@1', '\"statoil\"_brand_statio...      1\n",
       "1  ['\"\"_compromis_model@3', '\"omelco_consensus\"_m...      1\n",
       "2  ['\"+\"_quantifi@3', '>_index_captur@3', 'backre...      1\n",
       "3                      ['\"@1', 'bullet@3', 'load@3']      1\n",
       "4                 ['\"@1', 'cal@1', 'mm@1', 'oper@3']      1"
      ]
     },
     "execution_count": 57,
     "metadata": {},
     "output_type": "execute_result"
    }
   ],
   "source": [
    "ch.head()"
   ]
  },
  {
   "cell_type": "code",
   "execution_count": 58,
   "metadata": {},
   "outputs": [
    {
     "data": {
      "text/html": [
       "<div>\n",
       "<style scoped>\n",
       "    .dataframe tbody tr th:only-of-type {\n",
       "        vertical-align: middle;\n",
       "    }\n",
       "\n",
       "    .dataframe tbody tr th {\n",
       "        vertical-align: top;\n",
       "    }\n",
       "\n",
       "    .dataframe thead th {\n",
       "        text-align: right;\n",
       "    }\n",
       "</style>\n",
       "<table border=\"1\" class=\"dataframe\">\n",
       "  <thead>\n",
       "    <tr style=\"text-align: right;\">\n",
       "      <th></th>\n",
       "      <th>headers</th>\n",
       "      <th>count</th>\n",
       "      <th>count2</th>\n",
       "    </tr>\n",
       "  </thead>\n",
       "  <tbody>\n",
       "    <tr>\n",
       "      <th>0</th>\n",
       "      <td>['\"\"_brand_station@1', '\"statoil\"_brand_statio...</td>\n",
       "      <td>1</td>\n",
       "      <td>1</td>\n",
       "    </tr>\n",
       "    <tr>\n",
       "      <th>1</th>\n",
       "      <td>['\"\"_compromis_model@3', '\"omelco_consensus\"_m...</td>\n",
       "      <td>1</td>\n",
       "      <td>1</td>\n",
       "    </tr>\n",
       "    <tr>\n",
       "      <th>2</th>\n",
       "      <td>['\"+\"_quantifi@3', '&gt;_index_captur@3', 'backre...</td>\n",
       "      <td>1</td>\n",
       "      <td>1</td>\n",
       "    </tr>\n",
       "    <tr>\n",
       "      <th>3</th>\n",
       "      <td>['\"@1', 'bullet@3', 'load@3']</td>\n",
       "      <td>1</td>\n",
       "      <td>1</td>\n",
       "    </tr>\n",
       "    <tr>\n",
       "      <th>4</th>\n",
       "      <td>['\"@1', 'cal@1', 'mm@1', 'oper@3']</td>\n",
       "      <td>1</td>\n",
       "      <td>1</td>\n",
       "    </tr>\n",
       "  </tbody>\n",
       "</table>\n",
       "</div>"
      ],
      "text/plain": [
       "                                             headers  count  count2\n",
       "0  ['\"\"_brand_station@1', '\"statoil\"_brand_statio...      1       1\n",
       "1  ['\"\"_compromis_model@3', '\"omelco_consensus\"_m...      1       1\n",
       "2  ['\"+\"_quantifi@3', '>_index_captur@3', 'backre...      1       1\n",
       "3                      ['\"@1', 'bullet@3', 'load@3']      1       1\n",
       "4                 ['\"@1', 'cal@1', 'mm@1', 'oper@3']      1       1"
      ]
     },
     "execution_count": 58,
     "metadata": {},
     "output_type": "execute_result"
    }
   ],
   "source": [
    "ch['count2'] = ch['count']\n",
    "ch.loc[(ch['count2'] >=1000) & (ch['count2'] <5000), ['count2']] = 2000\n",
    "ch.loc[(ch['count2'] >=5000) & (ch['count2'] <10000), ['count2']] = 5000\n",
    "ch.loc[(ch['count2'] >=10000), ['count2']] = 10000\n",
    "ch.head()"
   ]
  },
  {
   "cell_type": "code",
   "execution_count": 59,
   "metadata": {},
   "outputs": [
    {
     "data": {
      "text/html": [
       "<div>\n",
       "<style scoped>\n",
       "    .dataframe tbody tr th:only-of-type {\n",
       "        vertical-align: middle;\n",
       "    }\n",
       "\n",
       "    .dataframe tbody tr th {\n",
       "        vertical-align: top;\n",
       "    }\n",
       "\n",
       "    .dataframe thead th {\n",
       "        text-align: right;\n",
       "    }\n",
       "</style>\n",
       "<table border=\"1\" class=\"dataframe\">\n",
       "  <thead>\n",
       "    <tr style=\"text-align: right;\">\n",
       "      <th></th>\n",
       "      <th>headers</th>\n",
       "      <th>count</th>\n",
       "      <th>count2</th>\n",
       "    </tr>\n",
       "  </thead>\n",
       "  <tbody>\n",
       "    <tr>\n",
       "      <th>247442</th>\n",
       "      <td>['chart@3', 'peak_posit@1']</td>\n",
       "      <td>56691</td>\n",
       "      <td>10000</td>\n",
       "    </tr>\n",
       "    <tr>\n",
       "      <th>494783</th>\n",
       "      <td>['length@1', 'no@1', 'titl@3']</td>\n",
       "      <td>57097</td>\n",
       "      <td>10000</td>\n",
       "    </tr>\n",
       "    <tr>\n",
       "      <th>93459</th>\n",
       "      <td>['apr@3', 'aug@3', 'dec@3', 'feb@3', 'jan@3', ...</td>\n",
       "      <td>14305</td>\n",
       "      <td>10000</td>\n",
       "    </tr>\n",
       "    <tr>\n",
       "      <th>540816</th>\n",
       "      <td>['note@3', 'role@3', 'titl@3', 'year@1']</td>\n",
       "      <td>25869</td>\n",
       "      <td>10000</td>\n",
       "    </tr>\n",
       "    <tr>\n",
       "      <th>494770</th>\n",
       "      <td>['length@1', 'no@1', 'titl@3', 'writer@3']</td>\n",
       "      <td>24730</td>\n",
       "      <td>10000</td>\n",
       "    </tr>\n",
       "  </tbody>\n",
       "</table>\n",
       "</div>"
      ],
      "text/plain": [
       "                                                  headers  count  count2\n",
       "247442                        ['chart@3', 'peak_posit@1']  56691   10000\n",
       "494783                     ['length@1', 'no@1', 'titl@3']  57097   10000\n",
       "93459   ['apr@3', 'aug@3', 'dec@3', 'feb@3', 'jan@3', ...  14305   10000\n",
       "540816           ['note@3', 'role@3', 'titl@3', 'year@1']  25869   10000\n",
       "494770         ['length@1', 'no@1', 'titl@3', 'writer@3']  24730   10000"
      ]
     },
     "execution_count": 59,
     "metadata": {},
     "output_type": "execute_result"
    }
   ],
   "source": [
    "ch.sort_values(\"count2\", ascending=False).head()"
   ]
  },
  {
   "cell_type": "code",
   "execution_count": 60,
   "metadata": {},
   "outputs": [
    {
     "data": {
      "text/html": [
       "<div>\n",
       "<style scoped>\n",
       "    .dataframe tbody tr th:only-of-type {\n",
       "        vertical-align: middle;\n",
       "    }\n",
       "\n",
       "    .dataframe tbody tr th {\n",
       "        vertical-align: top;\n",
       "    }\n",
       "\n",
       "    .dataframe thead th {\n",
       "        text-align: right;\n",
       "    }\n",
       "</style>\n",
       "<table border=\"1\" class=\"dataframe\">\n",
       "  <thead>\n",
       "    <tr style=\"text-align: right;\">\n",
       "      <th></th>\n",
       "      <th>headers</th>\n",
       "      <th>count</th>\n",
       "      <th>count2</th>\n",
       "      <th>range</th>\n",
       "    </tr>\n",
       "  </thead>\n",
       "  <tbody>\n",
       "    <tr>\n",
       "      <th>247442</th>\n",
       "      <td>['chart@3', 'peak_posit@1']</td>\n",
       "      <td>56691</td>\n",
       "      <td>10000</td>\n",
       "      <td>(9000, 10000]</td>\n",
       "    </tr>\n",
       "    <tr>\n",
       "      <th>494783</th>\n",
       "      <td>['length@1', 'no@1', 'titl@3']</td>\n",
       "      <td>57097</td>\n",
       "      <td>10000</td>\n",
       "      <td>(9000, 10000]</td>\n",
       "    </tr>\n",
       "    <tr>\n",
       "      <th>93459</th>\n",
       "      <td>['apr@3', 'aug@3', 'dec@3', 'feb@3', 'jan@3', ...</td>\n",
       "      <td>14305</td>\n",
       "      <td>10000</td>\n",
       "      <td>(9000, 10000]</td>\n",
       "    </tr>\n",
       "    <tr>\n",
       "      <th>540816</th>\n",
       "      <td>['note@3', 'role@3', 'titl@3', 'year@1']</td>\n",
       "      <td>25869</td>\n",
       "      <td>10000</td>\n",
       "      <td>(9000, 10000]</td>\n",
       "    </tr>\n",
       "    <tr>\n",
       "      <th>494770</th>\n",
       "      <td>['length@1', 'no@1', 'titl@3', 'writer@3']</td>\n",
       "      <td>24730</td>\n",
       "      <td>10000</td>\n",
       "      <td>(9000, 10000]</td>\n",
       "    </tr>\n",
       "  </tbody>\n",
       "</table>\n",
       "</div>"
      ],
      "text/plain": [
       "                                                  headers  count  count2  \\\n",
       "247442                        ['chart@3', 'peak_posit@1']  56691   10000   \n",
       "494783                     ['length@1', 'no@1', 'titl@3']  57097   10000   \n",
       "93459   ['apr@3', 'aug@3', 'dec@3', 'feb@3', 'jan@3', ...  14305   10000   \n",
       "540816           ['note@3', 'role@3', 'titl@3', 'year@1']  25869   10000   \n",
       "494770         ['length@1', 'no@1', 'titl@3', 'writer@3']  24730   10000   \n",
       "\n",
       "                range  \n",
       "247442  (9000, 10000]  \n",
       "494783  (9000, 10000]  \n",
       "93459   (9000, 10000]  \n",
       "540816  (9000, 10000]  \n",
       "494770  (9000, 10000]  "
      ]
     },
     "execution_count": 60,
     "metadata": {},
     "output_type": "execute_result"
    }
   ],
   "source": [
    "lb=[]\n",
    "b=np.arange(0,5,1)\n",
    "lb.extend(b)\n",
    "b=np.arange(5,50,10)\n",
    "lb.extend(b)\n",
    "b=np.arange(50,100,25)\n",
    "lb.extend(b)\n",
    "b=np.arange(100,1000,100)\n",
    "lb.extend(b)\n",
    "b=np.arange(1000,5000,1000)\n",
    "lb.extend(b)\n",
    "b=np.arange(5000,10000,1000)\n",
    "lb.extend(b)\n",
    "b=np.arange(10000,40000,1000)\n",
    "lb.extend(b)\n",
    "ch['range'] = pd.cut(ch['count2'], lb)\n",
    "ch.sort_values(\"count2\", ascending=False).head()"
   ]
  },
  {
   "cell_type": "code",
   "execution_count": 61,
   "metadata": {},
   "outputs": [
    {
     "data": {
      "text/html": [
       "<div>\n",
       "<style scoped>\n",
       "    .dataframe tbody tr th:only-of-type {\n",
       "        vertical-align: middle;\n",
       "    }\n",
       "\n",
       "    .dataframe tbody tr th {\n",
       "        vertical-align: top;\n",
       "    }\n",
       "\n",
       "    .dataframe thead th {\n",
       "        text-align: right;\n",
       "    }\n",
       "</style>\n",
       "<table border=\"1\" class=\"dataframe\">\n",
       "  <thead>\n",
       "    <tr style=\"text-align: right;\">\n",
       "      <th></th>\n",
       "      <th>range</th>\n",
       "      <th>count</th>\n",
       "    </tr>\n",
       "  </thead>\n",
       "  <tbody>\n",
       "    <tr>\n",
       "      <th>0</th>\n",
       "      <td>(0, 1]</td>\n",
       "      <td>414593</td>\n",
       "    </tr>\n",
       "    <tr>\n",
       "      <th>1</th>\n",
       "      <td>(1, 2]</td>\n",
       "      <td>78420</td>\n",
       "    </tr>\n",
       "    <tr>\n",
       "      <th>2</th>\n",
       "      <td>(2, 3]</td>\n",
       "      <td>26674</td>\n",
       "    </tr>\n",
       "    <tr>\n",
       "      <th>3</th>\n",
       "      <td>(3, 4]</td>\n",
       "      <td>16177</td>\n",
       "    </tr>\n",
       "    <tr>\n",
       "      <th>4</th>\n",
       "      <td>(4, 5]</td>\n",
       "      <td>9255</td>\n",
       "    </tr>\n",
       "  </tbody>\n",
       "</table>\n",
       "</div>"
      ],
      "text/plain": [
       "    range   count\n",
       "0  (0, 1]  414593\n",
       "1  (1, 2]   78420\n",
       "2  (2, 3]   26674\n",
       "3  (3, 4]   16177\n",
       "4  (4, 5]    9255"
      ]
     },
     "execution_count": 61,
     "metadata": {},
     "output_type": "execute_result"
    }
   ],
   "source": [
    "chg=pd.DataFrame({'count' : ch.groupby(\"range\").size()}).reset_index()\n",
    "chg.head()"
   ]
  },
  {
   "cell_type": "code",
   "execution_count": 62,
   "metadata": {},
   "outputs": [
    {
     "data": {
      "text/plain": [
       "589854"
      ]
     },
     "execution_count": 62,
     "metadata": {},
     "output_type": "execute_result"
    }
   ],
   "source": [
    "chg[\"count\"].sum()"
   ]
  },
  {
   "cell_type": "code",
   "execution_count": 63,
   "metadata": {},
   "outputs": [
    {
     "data": {
      "text/html": [
       "<div>\n",
       "<style scoped>\n",
       "    .dataframe tbody tr th:only-of-type {\n",
       "        vertical-align: middle;\n",
       "    }\n",
       "\n",
       "    .dataframe tbody tr th {\n",
       "        vertical-align: top;\n",
       "    }\n",
       "\n",
       "    .dataframe thead th {\n",
       "        text-align: right;\n",
       "    }\n",
       "</style>\n",
       "<table border=\"1\" class=\"dataframe\">\n",
       "  <thead>\n",
       "    <tr style=\"text-align: right;\">\n",
       "      <th></th>\n",
       "      <th>range</th>\n",
       "      <th>count</th>\n",
       "    </tr>\n",
       "  </thead>\n",
       "  <tbody>\n",
       "    <tr>\n",
       "      <th>0</th>\n",
       "      <td>(0, 1]</td>\n",
       "      <td>414593</td>\n",
       "    </tr>\n",
       "    <tr>\n",
       "      <th>1</th>\n",
       "      <td>(1, 2]</td>\n",
       "      <td>78420</td>\n",
       "    </tr>\n",
       "    <tr>\n",
       "      <th>2</th>\n",
       "      <td>(2, 3]</td>\n",
       "      <td>26674</td>\n",
       "    </tr>\n",
       "    <tr>\n",
       "      <th>3</th>\n",
       "      <td>(3, 4]</td>\n",
       "      <td>16177</td>\n",
       "    </tr>\n",
       "    <tr>\n",
       "      <th>4</th>\n",
       "      <td>(4, 5]</td>\n",
       "      <td>9255</td>\n",
       "    </tr>\n",
       "  </tbody>\n",
       "</table>\n",
       "</div>"
      ],
      "text/plain": [
       "    range   count\n",
       "0  (0, 1]  414593\n",
       "1  (1, 2]   78420\n",
       "2  (2, 3]   26674\n",
       "3  (3, 4]   16177\n",
       "4  (4, 5]    9255"
      ]
     },
     "execution_count": 63,
     "metadata": {},
     "output_type": "execute_result"
    }
   ],
   "source": [
    "chg['range']=chg['range'].astype(str)\n",
    "chg=chg[chg['count']>0]\n",
    "chg.head()"
   ]
  },
  {
   "cell_type": "code",
   "execution_count": 64,
   "metadata": {},
   "outputs": [
    {
     "data": {
      "text/html": [
       "<div>\n",
       "<style scoped>\n",
       "    .dataframe tbody tr th:only-of-type {\n",
       "        vertical-align: middle;\n",
       "    }\n",
       "\n",
       "    .dataframe tbody tr th {\n",
       "        vertical-align: top;\n",
       "    }\n",
       "\n",
       "    .dataframe thead th {\n",
       "        text-align: right;\n",
       "    }\n",
       "</style>\n",
       "<table border=\"1\" class=\"dataframe\">\n",
       "  <thead>\n",
       "    <tr style=\"text-align: right;\">\n",
       "      <th></th>\n",
       "      <th>range</th>\n",
       "      <th>count</th>\n",
       "    </tr>\n",
       "  </thead>\n",
       "  <tbody>\n",
       "    <tr>\n",
       "      <th>0</th>\n",
       "      <td>(0, 1]</td>\n",
       "      <td>414593</td>\n",
       "    </tr>\n",
       "    <tr>\n",
       "      <th>1</th>\n",
       "      <td>(1, 2]</td>\n",
       "      <td>78420</td>\n",
       "    </tr>\n",
       "    <tr>\n",
       "      <th>2</th>\n",
       "      <td>(2, 3]</td>\n",
       "      <td>26674</td>\n",
       "    </tr>\n",
       "    <tr>\n",
       "      <th>3</th>\n",
       "      <td>(3, 4]</td>\n",
       "      <td>16177</td>\n",
       "    </tr>\n",
       "    <tr>\n",
       "      <th>4</th>\n",
       "      <td>(4, 5]</td>\n",
       "      <td>9255</td>\n",
       "    </tr>\n",
       "  </tbody>\n",
       "</table>\n",
       "</div>"
      ],
      "text/plain": [
       "    range   count\n",
       "0  (0, 1]  414593\n",
       "1  (1, 2]   78420\n",
       "2  (2, 3]   26674\n",
       "3  (3, 4]   16177\n",
       "4  (4, 5]    9255"
      ]
     },
     "execution_count": 64,
     "metadata": {},
     "output_type": "execute_result"
    }
   ],
   "source": [
    "chg.loc[(chg['range'] =='(900, 1000]'), ['range']] = '900-999'\n",
    "chg.loc[(chg['range'] =='(1000, 2000]'), ['range']] = '1000-4999'\n",
    "chg.loc[(chg['range'] =='(4000, 5000]'), ['range']] = '5000-9999'\n",
    "chg.loc[(chg['range'] =='(9000, 10000]'), ['range']] = '>=10000'\n",
    "chg.head()"
   ]
  },
  {
   "cell_type": "code",
   "execution_count": 65,
   "metadata": {},
   "outputs": [
    {
     "name": "stdout",
     "output_type": "stream",
     "text": [
      "len rects: 24\n",
      "len tags: 24\n"
     ]
    },
    {
     "data": {
      "image/png": "[encoded data removed]",
      "text/plain": [
       "<Figure size 864x360 with 1 Axes>"
      ]
     },
     "metadata": {},
     "output_type": "display_data"
    }
   ],
   "source": [
    "x1=chg[\"range\"]\n",
    "y1=chg[\"count\"]\n",
    "tags=chg[\"count\"].tolist()\n",
    "plt.figure(figsize=(12,5))\n",
    "ax=plt.bar(x1, y1)\n",
    "plt.xlabel(\"Num. Tables\")\n",
    "plt.ylabel(\"Clusters\")\n",
    "plt.fill_between(x1,y1)\n",
    "plt.xticks(rotation=90)\n",
    "\n",
    "rects = ax.patches\n",
    "print(\"len rects:\", len(rects))\n",
    "print(\"len tags:\", len(tags))\n",
    "\n",
    "# For each bar: Place a label\n",
    "cont=0\n",
    "for rect in rects:\n",
    "    y_value = rect.get_height()\n",
    "    x_value = rect.get_x() + rect.get_width() / 2\n",
    "    space = 5    \n",
    "    va = 'bottom'\n",
    "    if y_value < 0:\n",
    "        space *= -1\n",
    "        va = 'top'\n",
    "    label = \"{}\".format(tags[cont])\n",
    "    plt.annotate(\n",
    "        label,                      # Use `label` as label\n",
    "        (x_value, y_value),         # Place label at end of the bar\n",
    "        xytext=(0, space),          # Vertically shift label by `space`\n",
    "        textcoords=\"offset points\", # Interpret `xytext` as offset in points\n",
    "        ha='center',                # Horizontally center label\n",
    "        va=va)                      # Vertically align label differently for\n",
    "    cont+=1\n",
    "plt.show()"
   ]
  },
  {
   "cell_type": "code",
   "execution_count": null,
   "metadata": {},
   "outputs": [],
   "source": [
    "chg.head()"
   ]
  },
  {
   "cell_type": "code",
   "execution_count": 66,
   "metadata": {},
   "outputs": [
    {
     "data": {
      "image/png": "[encoded data removed]",
      "text/plain": [
       "<Figure size 720x288 with 1 Axes>"
      ]
     },
     "metadata": {},
     "output_type": "display_data"
    }
   ],
   "source": [
    "chg=chg[chg['count']<70000]\n",
    "x1=chg[\"range\"]\n",
    "y1=chg[\"count\"]\n",
    "tags=chg[\"count\"].tolist()\n",
    "plt.figure(figsize=(10,4))\n",
    "ax=plt.bar(x1, y1) \n",
    "plt.xlabel(\"Num. Tables\")\n",
    "plt.ylabel(\"Clusters\")\n",
    "plt.fill_between(x1,y1)\n",
    "plt.xticks(rotation=90)\n",
    "\n",
    "rects = ax.patches\n",
    "# For each bar: Place a label\n",
    "cont=0\n",
    "for rect in rects:\n",
    "    y_value = rect.get_height()\n",
    "    x_value = rect.get_x() + rect.get_width() / 2\n",
    "    space = 5    \n",
    "    va = 'bottom'\n",
    "    if y_value < 0:\n",
    "        space *= -1\n",
    "        va = 'top'\n",
    "    label = \"{}\".format(tags[cont])\n",
    "    plt.annotate(\n",
    "        label,                      # Use `label` as label\n",
    "        (x_value, y_value),         # Place label at end of the bar\n",
    "        xytext=(0, space),          # Vertically shift label by `space`\n",
    "        textcoords=\"offset points\", # Interpret `xytext` as offset in points\n",
    "        ha='center',                # Horizontally center label\n",
    "        va=va)                      # Vertically align label differently for\n",
    "    cont+=1\n",
    "plt.show()"
   ]
  },
  {
   "cell_type": "code",
   "execution_count": null,
   "metadata": {},
   "outputs": [],
   "source": []
  },
  {
   "cell_type": "code",
   "execution_count": 8,
   "metadata": {},
   "outputs": [
    {
     "data": {
      "text/html": [
       "<div>\n",
       "<style scoped>\n",
       "    .dataframe tbody tr th:only-of-type {\n",
       "        vertical-align: middle;\n",
       "    }\n",
       "\n",
       "    .dataframe tbody tr th {\n",
       "        vertical-align: top;\n",
       "    }\n",
       "\n",
       "    .dataframe thead th {\n",
       "        text-align: right;\n",
       "    }\n",
       "</style>\n",
       "<table border=\"1\" class=\"dataframe\">\n",
       "  <thead>\n",
       "    <tr style=\"text-align: right;\">\n",
       "      <th></th>\n",
       "      <th>table</th>\n",
       "      <th>headers</th>\n",
       "      <th>count</th>\n",
       "    </tr>\n",
       "  </thead>\n",
       "  <tbody>\n",
       "    <tr>\n",
       "      <th>0</th>\n",
       "      <td>896639.1</td>\n",
       "      <td>['english_titl@3', 'mandarin_titl@3', 'note@3'...</td>\n",
       "      <td>38</td>\n",
       "    </tr>\n",
       "    <tr>\n",
       "      <th>1</th>\n",
       "      <td>896639.2</td>\n",
       "      <td>['english_titl@3', 'mandarin_titl@3', 'note@3'...</td>\n",
       "      <td>38</td>\n",
       "    </tr>\n",
       "    <tr>\n",
       "      <th>2</th>\n",
       "      <td>896639.3</td>\n",
       "      <td>['award@3', 'categori@3', 'nomin_work@3', 'ref...</td>\n",
       "      <td>619</td>\n",
       "    </tr>\n",
       "    <tr>\n",
       "      <th>3</th>\n",
       "      <td>775711.1</td>\n",
       "      <td>['incom_parti@3', 'previou_parti@3']</td>\n",
       "      <td>103</td>\n",
       "    </tr>\n",
       "    <tr>\n",
       "      <th>4</th>\n",
       "      <td>141713.1</td>\n",
       "      <td>['number_state_legislatur@1', 'parti@3']</td>\n",
       "      <td>1</td>\n",
       "    </tr>\n",
       "  </tbody>\n",
       "</table>\n",
       "</div>"
      ],
      "text/plain": [
       "      table                                            headers  count\n",
       "0  896639.1  ['english_titl@3', 'mandarin_titl@3', 'note@3'...     38\n",
       "1  896639.2  ['english_titl@3', 'mandarin_titl@3', 'note@3'...     38\n",
       "2  896639.3  ['award@3', 'categori@3', 'nomin_work@3', 'ref...    619\n",
       "3  775711.1               ['incom_parti@3', 'previou_parti@3']    103\n",
       "4  141713.1           ['number_state_legislatur@1', 'parti@3']      1"
      ]
     },
     "execution_count": 8,
     "metadata": {},
     "output_type": "execute_result"
    }
   ],
   "source": [
    "cols = ['headers']\n",
    "df_merge=dfe.join(ch.set_index(cols),on=cols)\n",
    "df_merge.head()"
   ]
  },
  {
   "cell_type": "code",
   "execution_count": 67,
   "metadata": {},
   "outputs": [
    {
     "data": {
      "text/plain": [
       "table      163639\n",
       "headers    163639\n",
       "count      163639\n",
       "dtype: int64"
      ]
     },
     "execution_count": 67,
     "metadata": {},
     "output_type": "execute_result"
    }
   ],
   "source": [
    "df_merge[(df_merge[\"count\"]>50) & (df_merge[\"count\"]<100)].count()"
   ]
  },
  {
   "cell_type": "code",
   "execution_count": 18,
   "metadata": {},
   "outputs": [],
   "source": [
    "df_merge[(df_merge[\"count\"]>50) & (df_merge[\"count\"]<100)].to_csv(\"morethan50.csv\", sep=\"\\t\")"
   ]
  },
  {
   "cell_type": "code",
   "execution_count": 68,
   "metadata": {},
   "outputs": [
    {
     "data": {
      "text/html": [
       "<div>\n",
       "<style scoped>\n",
       "    .dataframe tbody tr th:only-of-type {\n",
       "        vertical-align: middle;\n",
       "    }\n",
       "\n",
       "    .dataframe tbody tr th {\n",
       "        vertical-align: top;\n",
       "    }\n",
       "\n",
       "    .dataframe thead th {\n",
       "        text-align: right;\n",
       "    }\n",
       "</style>\n",
       "<table border=\"1\" class=\"dataframe\">\n",
       "  <thead>\n",
       "    <tr style=\"text-align: right;\">\n",
       "      <th></th>\n",
       "      <th>count</th>\n",
       "      <th>num_tables</th>\n",
       "    </tr>\n",
       "  </thead>\n",
       "  <tbody>\n",
       "    <tr>\n",
       "      <th>0</th>\n",
       "      <td>1</td>\n",
       "      <td>414593</td>\n",
       "    </tr>\n",
       "    <tr>\n",
       "      <th>1</th>\n",
       "      <td>2</td>\n",
       "      <td>156840</td>\n",
       "    </tr>\n",
       "    <tr>\n",
       "      <th>2</th>\n",
       "      <td>3</td>\n",
       "      <td>80022</td>\n",
       "    </tr>\n",
       "    <tr>\n",
       "      <th>3</th>\n",
       "      <td>4</td>\n",
       "      <td>64708</td>\n",
       "    </tr>\n",
       "    <tr>\n",
       "      <th>4</th>\n",
       "      <td>5</td>\n",
       "      <td>46275</td>\n",
       "    </tr>\n",
       "  </tbody>\n",
       "</table>\n",
       "</div>"
      ],
      "text/plain": [
       "   count  num_tables\n",
       "0      1      414593\n",
       "1      2      156840\n",
       "2      3       80022\n",
       "3      4       64708\n",
       "4      5       46275"
      ]
     },
     "execution_count": 68,
     "metadata": {},
     "output_type": "execute_result"
    }
   ],
   "source": [
    "numTablesCount=pd.DataFrame({'num_tables' : df_merge.groupby(['count']).size()}).reset_index()\n",
    "numTablesCount.head()"
   ]
  },
  {
   "cell_type": "code",
   "execution_count": 69,
   "metadata": {},
   "outputs": [
    {
     "data": {
      "text/plain": [
       "3041290"
      ]
     },
     "execution_count": 69,
     "metadata": {},
     "output_type": "execute_result"
    }
   ],
   "source": [
    "numTablesCount[\"num_tables\"].sum()"
   ]
  },
  {
   "cell_type": "code",
   "execution_count": 70,
   "metadata": {},
   "outputs": [
    {
     "data": {
      "text/html": [
       "<div>\n",
       "<style scoped>\n",
       "    .dataframe tbody tr th:only-of-type {\n",
       "        vertical-align: middle;\n",
       "    }\n",
       "\n",
       "    .dataframe tbody tr th {\n",
       "        vertical-align: top;\n",
       "    }\n",
       "\n",
       "    .dataframe thead th {\n",
       "        text-align: right;\n",
       "    }\n",
       "</style>\n",
       "<table border=\"1\" class=\"dataframe\">\n",
       "  <thead>\n",
       "    <tr style=\"text-align: right;\">\n",
       "      <th></th>\n",
       "      <th>count</th>\n",
       "      <th>num_tables</th>\n",
       "      <th>percentage</th>\n",
       "    </tr>\n",
       "  </thead>\n",
       "  <tbody>\n",
       "    <tr>\n",
       "      <th>0</th>\n",
       "      <td>1</td>\n",
       "      <td>414593</td>\n",
       "      <td>13.632143</td>\n",
       "    </tr>\n",
       "    <tr>\n",
       "      <th>1</th>\n",
       "      <td>2</td>\n",
       "      <td>156840</td>\n",
       "      <td>5.157022</td>\n",
       "    </tr>\n",
       "    <tr>\n",
       "      <th>2</th>\n",
       "      <td>3</td>\n",
       "      <td>80022</td>\n",
       "      <td>2.631186</td>\n",
       "    </tr>\n",
       "    <tr>\n",
       "      <th>3</th>\n",
       "      <td>4</td>\n",
       "      <td>64708</td>\n",
       "      <td>2.127650</td>\n",
       "    </tr>\n",
       "    <tr>\n",
       "      <th>4</th>\n",
       "      <td>5</td>\n",
       "      <td>46275</td>\n",
       "      <td>1.521558</td>\n",
       "    </tr>\n",
       "  </tbody>\n",
       "</table>\n",
       "</div>"
      ],
      "text/plain": [
       "   count  num_tables  percentage\n",
       "0      1      414593   13.632143\n",
       "1      2      156840    5.157022\n",
       "2      3       80022    2.631186\n",
       "3      4       64708    2.127650\n",
       "4      5       46275    1.521558"
      ]
     },
     "execution_count": 70,
     "metadata": {},
     "output_type": "execute_result"
    }
   ],
   "source": [
    "numTablesCount[\"percentage\"]=(numTablesCount[\"num_tables\"]*100)/3041290\n",
    "numTablesCount.head()"
   ]
  },
  {
   "cell_type": "code",
   "execution_count": 71,
   "metadata": {},
   "outputs": [
    {
     "data": {
      "text/html": [
       "<div>\n",
       "<style scoped>\n",
       "    .dataframe tbody tr th:only-of-type {\n",
       "        vertical-align: middle;\n",
       "    }\n",
       "\n",
       "    .dataframe tbody tr th {\n",
       "        vertical-align: top;\n",
       "    }\n",
       "\n",
       "    .dataframe thead th {\n",
       "        text-align: right;\n",
       "    }\n",
       "</style>\n",
       "<table border=\"1\" class=\"dataframe\">\n",
       "  <thead>\n",
       "    <tr style=\"text-align: right;\">\n",
       "      <th></th>\n",
       "      <th>count</th>\n",
       "      <th>num_tables</th>\n",
       "      <th>percentage</th>\n",
       "    </tr>\n",
       "  </thead>\n",
       "  <tbody>\n",
       "    <tr>\n",
       "      <th>0</th>\n",
       "      <td>1</td>\n",
       "      <td>414593</td>\n",
       "      <td>13.632143</td>\n",
       "    </tr>\n",
       "    <tr>\n",
       "      <th>1</th>\n",
       "      <td>2</td>\n",
       "      <td>156840</td>\n",
       "      <td>5.157022</td>\n",
       "    </tr>\n",
       "    <tr>\n",
       "      <th>2</th>\n",
       "      <td>3</td>\n",
       "      <td>80022</td>\n",
       "      <td>2.631186</td>\n",
       "    </tr>\n",
       "    <tr>\n",
       "      <th>3</th>\n",
       "      <td>4</td>\n",
       "      <td>64708</td>\n",
       "      <td>2.127650</td>\n",
       "    </tr>\n",
       "    <tr>\n",
       "      <th>4</th>\n",
       "      <td>5</td>\n",
       "      <td>46275</td>\n",
       "      <td>1.521558</td>\n",
       "    </tr>\n",
       "  </tbody>\n",
       "</table>\n",
       "</div>"
      ],
      "text/plain": [
       "   count  num_tables  percentage\n",
       "0      1      414593   13.632143\n",
       "1      2      156840    5.157022\n",
       "2      3       80022    2.631186\n",
       "3      4       64708    2.127650\n",
       "4      5       46275    1.521558"
      ]
     },
     "execution_count": 71,
     "metadata": {},
     "output_type": "execute_result"
    }
   ],
   "source": [
    "ntc = numTablesCount\n",
    "ntc.head()"
   ]
  },
  {
   "cell_type": "code",
   "execution_count": 72,
   "metadata": {},
   "outputs": [
    {
     "data": {
      "text/html": [
       "<div>\n",
       "<style scoped>\n",
       "    .dataframe tbody tr th:only-of-type {\n",
       "        vertical-align: middle;\n",
       "    }\n",
       "\n",
       "    .dataframe tbody tr th {\n",
       "        vertical-align: top;\n",
       "    }\n",
       "\n",
       "    .dataframe thead th {\n",
       "        text-align: right;\n",
       "    }\n",
       "</style>\n",
       "<table border=\"1\" class=\"dataframe\">\n",
       "  <thead>\n",
       "    <tr style=\"text-align: right;\">\n",
       "      <th></th>\n",
       "      <th>count</th>\n",
       "      <th>num_tables</th>\n",
       "      <th>percentage</th>\n",
       "    </tr>\n",
       "  </thead>\n",
       "  <tbody>\n",
       "    <tr>\n",
       "      <th>0</th>\n",
       "      <td>1</td>\n",
       "      <td>414593</td>\n",
       "      <td>13.632143</td>\n",
       "    </tr>\n",
       "    <tr>\n",
       "      <th>1</th>\n",
       "      <td>2</td>\n",
       "      <td>156840</td>\n",
       "      <td>5.157022</td>\n",
       "    </tr>\n",
       "    <tr>\n",
       "      <th>2</th>\n",
       "      <td>3</td>\n",
       "      <td>80022</td>\n",
       "      <td>2.631186</td>\n",
       "    </tr>\n",
       "    <tr>\n",
       "      <th>3</th>\n",
       "      <td>4</td>\n",
       "      <td>64708</td>\n",
       "      <td>2.127650</td>\n",
       "    </tr>\n",
       "    <tr>\n",
       "      <th>4</th>\n",
       "      <td>5</td>\n",
       "      <td>46275</td>\n",
       "      <td>1.521558</td>\n",
       "    </tr>\n",
       "  </tbody>\n",
       "</table>\n",
       "</div>"
      ],
      "text/plain": [
       "   count  num_tables  percentage\n",
       "0      1      414593   13.632143\n",
       "1      2      156840    5.157022\n",
       "2      3       80022    2.631186\n",
       "3      4       64708    2.127650\n",
       "4      5       46275    1.521558"
      ]
     },
     "execution_count": 72,
     "metadata": {},
     "output_type": "execute_result"
    }
   ],
   "source": [
    "ntc.head()"
   ]
  },
  {
   "cell_type": "code",
   "execution_count": 73,
   "metadata": {},
   "outputs": [
    {
     "data": {
      "text/html": [
       "<div>\n",
       "<style scoped>\n",
       "    .dataframe tbody tr th:only-of-type {\n",
       "        vertical-align: middle;\n",
       "    }\n",
       "\n",
       "    .dataframe tbody tr th {\n",
       "        vertical-align: top;\n",
       "    }\n",
       "\n",
       "    .dataframe thead th {\n",
       "        text-align: right;\n",
       "    }\n",
       "</style>\n",
       "<table border=\"1\" class=\"dataframe\">\n",
       "  <thead>\n",
       "    <tr style=\"text-align: right;\">\n",
       "      <th></th>\n",
       "      <th>count</th>\n",
       "      <th>num_tables</th>\n",
       "      <th>percentage</th>\n",
       "      <th>log_nt</th>\n",
       "    </tr>\n",
       "  </thead>\n",
       "  <tbody>\n",
       "    <tr>\n",
       "      <th>0</th>\n",
       "      <td>1</td>\n",
       "      <td>414593</td>\n",
       "      <td>13.632143</td>\n",
       "      <td>0.000000</td>\n",
       "    </tr>\n",
       "    <tr>\n",
       "      <th>1</th>\n",
       "      <td>2</td>\n",
       "      <td>156840</td>\n",
       "      <td>5.157022</td>\n",
       "      <td>0.693147</td>\n",
       "    </tr>\n",
       "    <tr>\n",
       "      <th>2</th>\n",
       "      <td>3</td>\n",
       "      <td>80022</td>\n",
       "      <td>2.631186</td>\n",
       "      <td>1.098612</td>\n",
       "    </tr>\n",
       "    <tr>\n",
       "      <th>3</th>\n",
       "      <td>4</td>\n",
       "      <td>64708</td>\n",
       "      <td>2.127650</td>\n",
       "      <td>1.386294</td>\n",
       "    </tr>\n",
       "    <tr>\n",
       "      <th>4</th>\n",
       "      <td>5</td>\n",
       "      <td>46275</td>\n",
       "      <td>1.521558</td>\n",
       "      <td>1.609438</td>\n",
       "    </tr>\n",
       "  </tbody>\n",
       "</table>\n",
       "</div>"
      ],
      "text/plain": [
       "   count  num_tables  percentage    log_nt\n",
       "0      1      414593   13.632143  0.000000\n",
       "1      2      156840    5.157022  0.693147\n",
       "2      3       80022    2.631186  1.098612\n",
       "3      4       64708    2.127650  1.386294\n",
       "4      5       46275    1.521558  1.609438"
      ]
     },
     "execution_count": 73,
     "metadata": {},
     "output_type": "execute_result"
    }
   ],
   "source": [
    "ntc['log_nt'] = np.log(ntc[\"count\"])\n",
    "ntc.head()"
   ]
  },
  {
   "cell_type": "code",
   "execution_count": 80,
   "metadata": {},
   "outputs": [],
   "source": [
    "x1=ntc[\"count\"]\n",
    "y1=ntc[\"percentage\"]"
   ]
  },
  {
   "cell_type": "code",
   "execution_count": 81,
   "metadata": {},
   "outputs": [
    {
     "data": {
      "image/png": "[encoded data removed]",
      "text/plain": [
       "<Figure size 648x288 with 1 Axes>"
      ]
     },
     "metadata": {},
     "output_type": "display_data"
    }
   ],
   "source": [
    "plt.figure(figsize=(9,4))\n",
    "plt.plot(x1, y1) \n",
    "plt.xlabel(\"Num. Tables per header (log)\")\n",
    "plt.ylabel(\"Percentage Total Tables\")\n",
    "plt.xscale('log', basex=10)\n",
    "plt.fill_between(x1,y1)\n",
    "plt.show()\n",
    "#histc.set(xlabel='Num. Tables', ylabel='Num. Clusters', title='Tables per cluster')"
   ]
  },
  {
   "cell_type": "code",
   "execution_count": 114,
   "metadata": {},
   "outputs": [
    {
     "data": {
      "text/html": [
       "<div>\n",
       "<style scoped>\n",
       "    .dataframe tbody tr th:only-of-type {\n",
       "        vertical-align: middle;\n",
       "    }\n",
       "\n",
       "    .dataframe tbody tr th {\n",
       "        vertical-align: top;\n",
       "    }\n",
       "\n",
       "    .dataframe thead th {\n",
       "        text-align: right;\n",
       "    }\n",
       "</style>\n",
       "<table border=\"1\" class=\"dataframe\">\n",
       "  <thead>\n",
       "    <tr style=\"text-align: right;\">\n",
       "      <th></th>\n",
       "      <th>range</th>\n",
       "      <th>sum</th>\n",
       "    </tr>\n",
       "  </thead>\n",
       "  <tbody>\n",
       "    <tr>\n",
       "      <th>0</th>\n",
       "      <td>(0, 1]</td>\n",
       "      <td>414593</td>\n",
       "    </tr>\n",
       "    <tr>\n",
       "      <th>1</th>\n",
       "      <td>(1, 2]</td>\n",
       "      <td>156840</td>\n",
       "    </tr>\n",
       "    <tr>\n",
       "      <th>2</th>\n",
       "      <td>(2, 3]</td>\n",
       "      <td>80022</td>\n",
       "    </tr>\n",
       "    <tr>\n",
       "      <th>3</th>\n",
       "      <td>(3, 4]</td>\n",
       "      <td>64708</td>\n",
       "    </tr>\n",
       "    <tr>\n",
       "      <th>4</th>\n",
       "      <td>(4, 5]</td>\n",
       "      <td>46275</td>\n",
       "    </tr>\n",
       "  </tbody>\n",
       "</table>\n",
       "</div>"
      ],
      "text/plain": [
       "    range     sum\n",
       "0  (0, 1]  414593\n",
       "1  (1, 2]  156840\n",
       "2  (2, 3]   80022\n",
       "3  (3, 4]   64708\n",
       "4  (4, 5]   46275"
      ]
     },
     "execution_count": 114,
     "metadata": {},
     "output_type": "execute_result"
    }
   ],
   "source": [
    "lb=[]\n",
    "b=np.arange(0,5,1)\n",
    "lb.extend(b)\n",
    "b=np.arange(5,25,2)\n",
    "lb.extend(b)\n",
    "b=np.arange(26,50,10)\n",
    "lb.extend(b)\n",
    "b=np.arange(51,1000,100)\n",
    "lb.extend(b)\n",
    "b=np.arange(1000,40000,1000)\n",
    "lb.extend(b)\n",
    "b=np.arange(40000,500000,10000)\n",
    "lb.extend(b)\n",
    "ntc['range'] = pd.cut(ntc['count'], lb)\n",
    "\n",
    "#numTablesCount=pd.DataFrame({'num_tables' : df_merge.groupby(['count']).size()}).reset_index()"
   ]
  },
  {
   "cell_type": "code",
   "execution_count": 121,
   "metadata": {},
   "outputs": [
    {
     "data": {
      "text/html": [
       "<div>\n",
       "<style scoped>\n",
       "    .dataframe tbody tr th:only-of-type {\n",
       "        vertical-align: middle;\n",
       "    }\n",
       "\n",
       "    .dataframe tbody tr th {\n",
       "        vertical-align: top;\n",
       "    }\n",
       "\n",
       "    .dataframe thead th {\n",
       "        text-align: right;\n",
       "    }\n",
       "</style>\n",
       "<table border=\"1\" class=\"dataframe\">\n",
       "  <thead>\n",
       "    <tr style=\"text-align: right;\">\n",
       "      <th></th>\n",
       "      <th>count</th>\n",
       "      <th>num_tables</th>\n",
       "      <th>percentage</th>\n",
       "      <th>log_nt</th>\n",
       "      <th>range</th>\n",
       "    </tr>\n",
       "  </thead>\n",
       "  <tbody>\n",
       "    <tr>\n",
       "      <th>0</th>\n",
       "      <td>1</td>\n",
       "      <td>414593</td>\n",
       "      <td>13.632143</td>\n",
       "      <td>0.000000</td>\n",
       "      <td>(0, 1]</td>\n",
       "    </tr>\n",
       "    <tr>\n",
       "      <th>1</th>\n",
       "      <td>2</td>\n",
       "      <td>156840</td>\n",
       "      <td>5.157022</td>\n",
       "      <td>0.693147</td>\n",
       "      <td>(1, 2]</td>\n",
       "    </tr>\n",
       "    <tr>\n",
       "      <th>2</th>\n",
       "      <td>3</td>\n",
       "      <td>80022</td>\n",
       "      <td>2.631186</td>\n",
       "      <td>1.098612</td>\n",
       "      <td>(2, 3]</td>\n",
       "    </tr>\n",
       "    <tr>\n",
       "      <th>3</th>\n",
       "      <td>4</td>\n",
       "      <td>64708</td>\n",
       "      <td>2.127650</td>\n",
       "      <td>1.386294</td>\n",
       "      <td>(3, 4]</td>\n",
       "    </tr>\n",
       "    <tr>\n",
       "      <th>4</th>\n",
       "      <td>5</td>\n",
       "      <td>46275</td>\n",
       "      <td>1.521558</td>\n",
       "      <td>1.609438</td>\n",
       "      <td>(4, 5]</td>\n",
       "    </tr>\n",
       "  </tbody>\n",
       "</table>\n",
       "</div>"
      ],
      "text/plain": [
       "   count  num_tables  percentage    log_nt   range\n",
       "0      1      414593   13.632143  0.000000  (0, 1]\n",
       "1      2      156840    5.157022  0.693147  (1, 2]\n",
       "2      3       80022    2.631186  1.098612  (2, 3]\n",
       "3      4       64708    2.127650  1.386294  (3, 4]\n",
       "4      5       46275    1.521558  1.609438  (4, 5]"
      ]
     },
     "execution_count": 121,
     "metadata": {},
     "output_type": "execute_result"
    }
   ],
   "source": [
    "ntc.head()"
   ]
  },
  {
   "cell_type": "code",
   "execution_count": 124,
   "metadata": {},
   "outputs": [
    {
     "data": {
      "text/html": [
       "<div>\n",
       "<style scoped>\n",
       "    .dataframe tbody tr th:only-of-type {\n",
       "        vertical-align: middle;\n",
       "    }\n",
       "\n",
       "    .dataframe tbody tr th {\n",
       "        vertical-align: top;\n",
       "    }\n",
       "\n",
       "    .dataframe thead th {\n",
       "        text-align: right;\n",
       "    }\n",
       "</style>\n",
       "<table border=\"1\" class=\"dataframe\">\n",
       "  <thead>\n",
       "    <tr style=\"text-align: right;\">\n",
       "      <th></th>\n",
       "      <th>table</th>\n",
       "      <th>headers</th>\n",
       "      <th>count</th>\n",
       "    </tr>\n",
       "  </thead>\n",
       "  <tbody>\n",
       "    <tr>\n",
       "      <th>0</th>\n",
       "      <td>896639.1</td>\n",
       "      <td>['english_titl@3', 'mandarin_titl@3', 'note@3'...</td>\n",
       "      <td>38</td>\n",
       "    </tr>\n",
       "    <tr>\n",
       "      <th>1</th>\n",
       "      <td>896639.2</td>\n",
       "      <td>['english_titl@3', 'mandarin_titl@3', 'note@3'...</td>\n",
       "      <td>38</td>\n",
       "    </tr>\n",
       "    <tr>\n",
       "      <th>2</th>\n",
       "      <td>896639.3</td>\n",
       "      <td>['award@3', 'categori@3', 'nomin_work@3', 'ref...</td>\n",
       "      <td>619</td>\n",
       "    </tr>\n",
       "    <tr>\n",
       "      <th>3</th>\n",
       "      <td>775711.1</td>\n",
       "      <td>['incom_parti@3', 'previou_parti@3']</td>\n",
       "      <td>103</td>\n",
       "    </tr>\n",
       "    <tr>\n",
       "      <th>4</th>\n",
       "      <td>141713.1</td>\n",
       "      <td>['number_state_legislatur@1', 'parti@3']</td>\n",
       "      <td>1</td>\n",
       "    </tr>\n",
       "  </tbody>\n",
       "</table>\n",
       "</div>"
      ],
      "text/plain": [
       "      table                                            headers  count\n",
       "0  896639.1  ['english_titl@3', 'mandarin_titl@3', 'note@3'...     38\n",
       "1  896639.2  ['english_titl@3', 'mandarin_titl@3', 'note@3'...     38\n",
       "2  896639.3  ['award@3', 'categori@3', 'nomin_work@3', 'ref...    619\n",
       "3  775711.1               ['incom_parti@3', 'previou_parti@3']    103\n",
       "4  141713.1           ['number_state_legislatur@1', 'parti@3']      1"
      ]
     },
     "execution_count": 124,
     "metadata": {},
     "output_type": "execute_result"
    }
   ],
   "source": [
    "df_merge.head()"
   ]
  },
  {
   "cell_type": "code",
   "execution_count": 133,
   "metadata": {},
   "outputs": [
    {
     "data": {
      "text/html": [
       "<div>\n",
       "<style scoped>\n",
       "    .dataframe tbody tr th:only-of-type {\n",
       "        vertical-align: middle;\n",
       "    }\n",
       "\n",
       "    .dataframe tbody tr th {\n",
       "        vertical-align: top;\n",
       "    }\n",
       "\n",
       "    .dataframe thead th {\n",
       "        text-align: right;\n",
       "    }\n",
       "</style>\n",
       "<table border=\"1\" class=\"dataframe\">\n",
       "  <thead>\n",
       "    <tr style=\"text-align: right;\">\n",
       "      <th></th>\n",
       "      <th>table</th>\n",
       "      <th>headers</th>\n",
       "      <th>count</th>\n",
       "      <th>num_tables</th>\n",
       "      <th>percentage</th>\n",
       "      <th>log_nt</th>\n",
       "      <th>range</th>\n",
       "    </tr>\n",
       "  </thead>\n",
       "  <tbody>\n",
       "    <tr>\n",
       "      <th>0</th>\n",
       "      <td>896639.1</td>\n",
       "      <td>['english_titl@3', 'mandarin_titl@3', 'note@3'...</td>\n",
       "      <td>38</td>\n",
       "      <td>6270</td>\n",
       "      <td>0.206163</td>\n",
       "      <td>3.637586</td>\n",
       "      <td>(36, 46]</td>\n",
       "    </tr>\n",
       "    <tr>\n",
       "      <th>1</th>\n",
       "      <td>896639.2</td>\n",
       "      <td>['english_titl@3', 'mandarin_titl@3', 'note@3'...</td>\n",
       "      <td>38</td>\n",
       "      <td>6270</td>\n",
       "      <td>0.206163</td>\n",
       "      <td>3.637586</td>\n",
       "      <td>(36, 46]</td>\n",
       "    </tr>\n",
       "    <tr>\n",
       "      <th>2</th>\n",
       "      <td>896639.3</td>\n",
       "      <td>['award@3', 'categori@3', 'nomin_work@3', 'ref...</td>\n",
       "      <td>619</td>\n",
       "      <td>1238</td>\n",
       "      <td>0.040706</td>\n",
       "      <td>6.428105</td>\n",
       "      <td>(551, 651]</td>\n",
       "    </tr>\n",
       "    <tr>\n",
       "      <th>3</th>\n",
       "      <td>775711.1</td>\n",
       "      <td>['incom_parti@3', 'previou_parti@3']</td>\n",
       "      <td>103</td>\n",
       "      <td>2987</td>\n",
       "      <td>0.098215</td>\n",
       "      <td>4.634729</td>\n",
       "      <td>(51, 151]</td>\n",
       "    </tr>\n",
       "    <tr>\n",
       "      <th>4</th>\n",
       "      <td>141713.1</td>\n",
       "      <td>['number_state_legislatur@1', 'parti@3']</td>\n",
       "      <td>1</td>\n",
       "      <td>414593</td>\n",
       "      <td>13.632143</td>\n",
       "      <td>0.000000</td>\n",
       "      <td>(0, 1]</td>\n",
       "    </tr>\n",
       "  </tbody>\n",
       "</table>\n",
       "</div>"
      ],
      "text/plain": [
       "      table                                            headers  count  \\\n",
       "0  896639.1  ['english_titl@3', 'mandarin_titl@3', 'note@3'...     38   \n",
       "1  896639.2  ['english_titl@3', 'mandarin_titl@3', 'note@3'...     38   \n",
       "2  896639.3  ['award@3', 'categori@3', 'nomin_work@3', 'ref...    619   \n",
       "3  775711.1               ['incom_parti@3', 'previou_parti@3']    103   \n",
       "4  141713.1           ['number_state_legislatur@1', 'parti@3']      1   \n",
       "\n",
       "   num_tables  percentage    log_nt       range  \n",
       "0        6270    0.206163  3.637586    (36, 46]  \n",
       "1        6270    0.206163  3.637586    (36, 46]  \n",
       "2        1238    0.040706  6.428105  (551, 651]  \n",
       "3        2987    0.098215  4.634729   (51, 151]  \n",
       "4      414593   13.632143  0.000000      (0, 1]  "
      ]
     },
     "execution_count": 133,
     "metadata": {},
     "output_type": "execute_result"
    }
   ],
   "source": [
    "cols = ['count']\n",
    "df_merge3=df_merge.join(ntc.set_index(cols),on=cols)\n",
    "df_merge3.head()"
   ]
  },
  {
   "cell_type": "code",
   "execution_count": 126,
   "metadata": {},
   "outputs": [
    {
     "data": {
      "text/html": [
       "<div>\n",
       "<style scoped>\n",
       "    .dataframe tbody tr th:only-of-type {\n",
       "        vertical-align: middle;\n",
       "    }\n",
       "\n",
       "    .dataframe tbody tr th {\n",
       "        vertical-align: top;\n",
       "    }\n",
       "\n",
       "    .dataframe thead th {\n",
       "        text-align: right;\n",
       "    }\n",
       "</style>\n",
       "<table border=\"1\" class=\"dataframe\">\n",
       "  <thead>\n",
       "    <tr style=\"text-align: right;\">\n",
       "      <th></th>\n",
       "      <th>table</th>\n",
       "      <th>headers</th>\n",
       "      <th>count</th>\n",
       "      <th>num_tables</th>\n",
       "      <th>percentage</th>\n",
       "      <th>log_nt</th>\n",
       "      <th>range</th>\n",
       "    </tr>\n",
       "  </thead>\n",
       "  <tbody>\n",
       "    <tr>\n",
       "      <th>0</th>\n",
       "      <td>896639.1</td>\n",
       "      <td>['english_titl@3', 'mandarin_titl@3', 'note@3'...</td>\n",
       "      <td>38</td>\n",
       "      <td>6270</td>\n",
       "      <td>0.206163</td>\n",
       "      <td>3.637586</td>\n",
       "      <td>(36, 46]</td>\n",
       "    </tr>\n",
       "    <tr>\n",
       "      <th>1</th>\n",
       "      <td>896639.2</td>\n",
       "      <td>['english_titl@3', 'mandarin_titl@3', 'note@3'...</td>\n",
       "      <td>38</td>\n",
       "      <td>6270</td>\n",
       "      <td>0.206163</td>\n",
       "      <td>3.637586</td>\n",
       "      <td>(36, 46]</td>\n",
       "    </tr>\n",
       "    <tr>\n",
       "      <th>2</th>\n",
       "      <td>896639.3</td>\n",
       "      <td>['award@3', 'categori@3', 'nomin_work@3', 'ref...</td>\n",
       "      <td>619</td>\n",
       "      <td>1238</td>\n",
       "      <td>0.040706</td>\n",
       "      <td>6.428105</td>\n",
       "      <td>(551, 651]</td>\n",
       "    </tr>\n",
       "    <tr>\n",
       "      <th>3</th>\n",
       "      <td>775711.1</td>\n",
       "      <td>['incom_parti@3', 'previou_parti@3']</td>\n",
       "      <td>103</td>\n",
       "      <td>2987</td>\n",
       "      <td>0.098215</td>\n",
       "      <td>4.634729</td>\n",
       "      <td>(51, 151]</td>\n",
       "    </tr>\n",
       "    <tr>\n",
       "      <th>4</th>\n",
       "      <td>141713.1</td>\n",
       "      <td>['number_state_legislatur@1', 'parti@3']</td>\n",
       "      <td>1</td>\n",
       "      <td>414593</td>\n",
       "      <td>13.632143</td>\n",
       "      <td>0.000000</td>\n",
       "      <td>(0, 1]</td>\n",
       "    </tr>\n",
       "  </tbody>\n",
       "</table>\n",
       "</div>"
      ],
      "text/plain": [
       "      table                                            headers  count  \\\n",
       "0  896639.1  ['english_titl@3', 'mandarin_titl@3', 'note@3'...     38   \n",
       "1  896639.2  ['english_titl@3', 'mandarin_titl@3', 'note@3'...     38   \n",
       "2  896639.3  ['award@3', 'categori@3', 'nomin_work@3', 'ref...    619   \n",
       "3  775711.1               ['incom_parti@3', 'previou_parti@3']    103   \n",
       "4  141713.1           ['number_state_legislatur@1', 'parti@3']      1   \n",
       "\n",
       "   num_tables  percentage    log_nt       range  \n",
       "0        6270    0.206163  3.637586    (36, 46]  \n",
       "1        6270    0.206163  3.637586    (36, 46]  \n",
       "2        1238    0.040706  6.428105  (551, 651]  \n",
       "3        2987    0.098215  4.634729   (51, 151]  \n",
       "4      414593   13.632143  0.000000      (0, 1]  "
      ]
     },
     "execution_count": 126,
     "metadata": {},
     "output_type": "execute_result"
    }
   ],
   "source": [
    "df_merge3.head()"
   ]
  },
  {
   "cell_type": "code",
   "execution_count": 134,
   "metadata": {},
   "outputs": [],
   "source": [
    "df_merge3=df_merge3.sort_values(\"range\", ascending=True)"
   ]
  },
  {
   "cell_type": "code",
   "execution_count": 135,
   "metadata": {},
   "outputs": [
    {
     "data": {
      "text/html": [
       "<div>\n",
       "<style scoped>\n",
       "    .dataframe tbody tr th:only-of-type {\n",
       "        vertical-align: middle;\n",
       "    }\n",
       "\n",
       "    .dataframe tbody tr th {\n",
       "        vertical-align: top;\n",
       "    }\n",
       "\n",
       "    .dataframe thead th {\n",
       "        text-align: right;\n",
       "    }\n",
       "</style>\n",
       "<table border=\"1\" class=\"dataframe\">\n",
       "  <thead>\n",
       "    <tr style=\"text-align: right;\">\n",
       "      <th></th>\n",
       "      <th>table</th>\n",
       "      <th>headers</th>\n",
       "      <th>count</th>\n",
       "      <th>num_tables</th>\n",
       "      <th>percentage</th>\n",
       "      <th>log_nt</th>\n",
       "      <th>range</th>\n",
       "    </tr>\n",
       "  </thead>\n",
       "  <tbody>\n",
       "    <tr>\n",
       "      <th>1831864</th>\n",
       "      <td>1117991.1</td>\n",
       "      <td>['processor@3', 'stage@3']</td>\n",
       "      <td>1</td>\n",
       "      <td>414593</td>\n",
       "      <td>13.632143</td>\n",
       "      <td>0.0</td>\n",
       "      <td>(0, 1]</td>\n",
       "    </tr>\n",
       "    <tr>\n",
       "      <th>1883288</th>\n",
       "      <td>94613.16</td>\n",
       "      <td>['athlet@3', 'event@3', 'lap@1', 'point@1', 'r...</td>\n",
       "      <td>1</td>\n",
       "      <td>414593</td>\n",
       "      <td>13.632143</td>\n",
       "      <td>0.0</td>\n",
       "      <td>(0, 1]</td>\n",
       "    </tr>\n",
       "    <tr>\n",
       "      <th>1325577</th>\n",
       "      <td>26770.4</td>\n",
       "      <td>['apg@2', 'bpg@2', 'game_play@1', 'mpg@2', 'pl...</td>\n",
       "      <td>1</td>\n",
       "      <td>414593</td>\n",
       "      <td>13.632143</td>\n",
       "      <td>0.0</td>\n",
       "      <td>(0, 1]</td>\n",
       "    </tr>\n",
       "    <tr>\n",
       "      <th>1463145</th>\n",
       "      <td>794035.6</td>\n",
       "      <td>['divis@3', 'probabl_singl_game@3', 'requir_nu...</td>\n",
       "      <td>1</td>\n",
       "      <td>414593</td>\n",
       "      <td>13.632143</td>\n",
       "      <td>0.0</td>\n",
       "      <td>(0, 1]</td>\n",
       "    </tr>\n",
       "    <tr>\n",
       "      <th>1883262</th>\n",
       "      <td>165350.37</td>\n",
       "      <td>['england@4', 'māori@4', '–@4']</td>\n",
       "      <td>1</td>\n",
       "      <td>414593</td>\n",
       "      <td>13.632143</td>\n",
       "      <td>0.0</td>\n",
       "      <td>(0, 1]</td>\n",
       "    </tr>\n",
       "  </tbody>\n",
       "</table>\n",
       "</div>"
      ],
      "text/plain": [
       "             table                                            headers  count  \\\n",
       "1831864  1117991.1                         ['processor@3', 'stage@3']      1   \n",
       "1883288   94613.16  ['athlet@3', 'event@3', 'lap@1', 'point@1', 'r...      1   \n",
       "1325577    26770.4  ['apg@2', 'bpg@2', 'game_play@1', 'mpg@2', 'pl...      1   \n",
       "1463145   794035.6  ['divis@3', 'probabl_singl_game@3', 'requir_nu...      1   \n",
       "1883262  165350.37                    ['england@4', 'māori@4', '–@4']      1   \n",
       "\n",
       "         num_tables  percentage  log_nt   range  \n",
       "1831864      414593   13.632143     0.0  (0, 1]  \n",
       "1883288      414593   13.632143     0.0  (0, 1]  \n",
       "1325577      414593   13.632143     0.0  (0, 1]  \n",
       "1463145      414593   13.632143     0.0  (0, 1]  \n",
       "1883262      414593   13.632143     0.0  (0, 1]  "
      ]
     },
     "execution_count": 135,
     "metadata": {},
     "output_type": "execute_result"
    }
   ],
   "source": [
    "df_merge3.head()"
   ]
  },
  {
   "cell_type": "code",
   "execution_count": 136,
   "metadata": {},
   "outputs": [
    {
     "data": {
      "text/html": [
       "<div>\n",
       "<style scoped>\n",
       "    .dataframe tbody tr th:only-of-type {\n",
       "        vertical-align: middle;\n",
       "    }\n",
       "\n",
       "    .dataframe tbody tr th {\n",
       "        vertical-align: top;\n",
       "    }\n",
       "\n",
       "    .dataframe thead th {\n",
       "        text-align: right;\n",
       "    }\n",
       "</style>\n",
       "<table border=\"1\" class=\"dataframe\">\n",
       "  <thead>\n",
       "    <tr style=\"text-align: right;\">\n",
       "      <th></th>\n",
       "      <th>table</th>\n",
       "      <th>headers</th>\n",
       "      <th>count</th>\n",
       "      <th>num_tables</th>\n",
       "      <th>percentage</th>\n",
       "      <th>log_nt</th>\n",
       "      <th>range</th>\n",
       "    </tr>\n",
       "  </thead>\n",
       "  <tbody>\n",
       "    <tr>\n",
       "      <th>1831864</th>\n",
       "      <td>1117991.1</td>\n",
       "      <td>['processor@3', 'stage@3']</td>\n",
       "      <td>1</td>\n",
       "      <td>414593</td>\n",
       "      <td>13.632143</td>\n",
       "      <td>0.0</td>\n",
       "      <td>(0, 1]</td>\n",
       "    </tr>\n",
       "    <tr>\n",
       "      <th>1883288</th>\n",
       "      <td>94613.16</td>\n",
       "      <td>['athlet@3', 'event@3', 'lap@1', 'point@1', 'r...</td>\n",
       "      <td>1</td>\n",
       "      <td>414593</td>\n",
       "      <td>13.632143</td>\n",
       "      <td>0.0</td>\n",
       "      <td>(0, 1]</td>\n",
       "    </tr>\n",
       "    <tr>\n",
       "      <th>1325577</th>\n",
       "      <td>26770.4</td>\n",
       "      <td>['apg@2', 'bpg@2', 'game_play@1', 'mpg@2', 'pl...</td>\n",
       "      <td>1</td>\n",
       "      <td>414593</td>\n",
       "      <td>13.632143</td>\n",
       "      <td>0.0</td>\n",
       "      <td>(0, 1]</td>\n",
       "    </tr>\n",
       "    <tr>\n",
       "      <th>1463145</th>\n",
       "      <td>794035.6</td>\n",
       "      <td>['divis@3', 'probabl_singl_game@3', 'requir_nu...</td>\n",
       "      <td>1</td>\n",
       "      <td>414593</td>\n",
       "      <td>13.632143</td>\n",
       "      <td>0.0</td>\n",
       "      <td>(0, 1]</td>\n",
       "    </tr>\n",
       "    <tr>\n",
       "      <th>1883262</th>\n",
       "      <td>165350.37</td>\n",
       "      <td>['england@4', 'māori@4', '–@4']</td>\n",
       "      <td>1</td>\n",
       "      <td>414593</td>\n",
       "      <td>13.632143</td>\n",
       "      <td>0.0</td>\n",
       "      <td>(0, 1]</td>\n",
       "    </tr>\n",
       "  </tbody>\n",
       "</table>\n",
       "</div>"
      ],
      "text/plain": [
       "             table                                            headers  count  \\\n",
       "1831864  1117991.1                         ['processor@3', 'stage@3']      1   \n",
       "1883288   94613.16  ['athlet@3', 'event@3', 'lap@1', 'point@1', 'r...      1   \n",
       "1325577    26770.4  ['apg@2', 'bpg@2', 'game_play@1', 'mpg@2', 'pl...      1   \n",
       "1463145   794035.6  ['divis@3', 'probabl_singl_game@3', 'requir_nu...      1   \n",
       "1883262  165350.37                    ['england@4', 'māori@4', '–@4']      1   \n",
       "\n",
       "         num_tables  percentage  log_nt   range  \n",
       "1831864      414593   13.632143     0.0  (0, 1]  \n",
       "1883288      414593   13.632143     0.0  (0, 1]  \n",
       "1325577      414593   13.632143     0.0  (0, 1]  \n",
       "1463145      414593   13.632143     0.0  (0, 1]  \n",
       "1883262      414593   13.632143     0.0  (0, 1]  "
      ]
     },
     "execution_count": 136,
     "metadata": {},
     "output_type": "execute_result"
    }
   ],
   "source": [
    "df_merge3['range']=df_merge3['range'].astype(str)\n",
    "df_merge3.head()"
   ]
  },
  {
   "cell_type": "code",
   "execution_count": 150,
   "metadata": {},
   "outputs": [
    {
     "data": {
      "text/plain": [
       "Text(0,0.5,'Num. Tables')"
      ]
     },
     "execution_count": 150,
     "metadata": {},
     "output_type": "execute_result"
    },
    {
     "data": {
      "image/png": "[encoded data removed]",
      "text/plain": [
       "<Figure size 1080x432 with 1 Axes>"
      ]
     },
     "metadata": {},
     "output_type": "display_data"
    }
   ],
   "source": [
    "x=df_merge3['range'].tolist()\n",
    "fig, ax = plt.subplots(figsize=(15, 6))\n",
    "bins=100\n",
    "sigma = 1000\n",
    "plt.xticks(rotation='vertical')\n",
    "n, bins, patches = ax.hist(x, bins=100,density=False, cumulative=True, label='Num. Tables')\n",
    "ax.set_xlabel('Groups by number of tables')\n",
    "\n",
    "ax.set_ylabel('Num. Tables')"
   ]
  },
  {
   "cell_type": "code",
   "execution_count": 138,
   "metadata": {},
   "outputs": [
    {
     "data": {
      "text/html": [
       "<div>\n",
       "<style scoped>\n",
       "    .dataframe tbody tr th:only-of-type {\n",
       "        vertical-align: middle;\n",
       "    }\n",
       "\n",
       "    .dataframe tbody tr th {\n",
       "        vertical-align: top;\n",
       "    }\n",
       "\n",
       "    .dataframe thead th {\n",
       "        text-align: right;\n",
       "    }\n",
       "</style>\n",
       "<table border=\"1\" class=\"dataframe\">\n",
       "  <thead>\n",
       "    <tr style=\"text-align: right;\">\n",
       "      <th></th>\n",
       "      <th>range</th>\n",
       "      <th>sum</th>\n",
       "    </tr>\n",
       "  </thead>\n",
       "  <tbody>\n",
       "    <tr>\n",
       "      <th>0</th>\n",
       "      <td>(0, 1]</td>\n",
       "      <td>414593</td>\n",
       "    </tr>\n",
       "    <tr>\n",
       "      <th>1</th>\n",
       "      <td>(1, 2]</td>\n",
       "      <td>156840</td>\n",
       "    </tr>\n",
       "    <tr>\n",
       "      <th>2</th>\n",
       "      <td>(2, 3]</td>\n",
       "      <td>80022</td>\n",
       "    </tr>\n",
       "    <tr>\n",
       "      <th>3</th>\n",
       "      <td>(3, 4]</td>\n",
       "      <td>64708</td>\n",
       "    </tr>\n",
       "    <tr>\n",
       "      <th>4</th>\n",
       "      <td>(4, 5]</td>\n",
       "      <td>46275</td>\n",
       "    </tr>\n",
       "  </tbody>\n",
       "</table>\n",
       "</div>"
      ],
      "text/plain": [
       "    range     sum\n",
       "0  (0, 1]  414593\n",
       "1  (1, 2]  156840\n",
       "2  (2, 3]   80022\n",
       "3  (3, 4]   64708\n",
       "4  (4, 5]   46275"
      ]
     },
     "execution_count": 138,
     "metadata": {},
     "output_type": "execute_result"
    }
   ],
   "source": [
    "#ntc['range']=ntc['range'].astype(str)\n",
    "gntc=ntc.groupby(\"range\")['num_tables'].agg(['sum']).reset_index()\n",
    "gntc.head()\n",
    "gntc['range']=gntc['range'].astype(str)\n",
    "gntc.head()"
   ]
  },
  {
   "cell_type": "code",
   "execution_count": 116,
   "metadata": {},
   "outputs": [
    {
     "data": {
      "text/plain": [
       "3041290"
      ]
     },
     "execution_count": 116,
     "metadata": {},
     "output_type": "execute_result"
    }
   ],
   "source": [
    "gntc[\"sum\"].sum()"
   ]
  },
  {
   "cell_type": "code",
   "execution_count": 139,
   "metadata": {},
   "outputs": [
    {
     "data": {
      "text/html": [
       "<div>\n",
       "<style scoped>\n",
       "    .dataframe tbody tr th:only-of-type {\n",
       "        vertical-align: middle;\n",
       "    }\n",
       "\n",
       "    .dataframe tbody tr th {\n",
       "        vertical-align: top;\n",
       "    }\n",
       "\n",
       "    .dataframe thead th {\n",
       "        text-align: right;\n",
       "    }\n",
       "</style>\n",
       "<table border=\"1\" class=\"dataframe\">\n",
       "  <thead>\n",
       "    <tr style=\"text-align: right;\">\n",
       "      <th></th>\n",
       "      <th>range</th>\n",
       "      <th>sum</th>\n",
       "      <th>percentage</th>\n",
       "    </tr>\n",
       "  </thead>\n",
       "  <tbody>\n",
       "    <tr>\n",
       "      <th>0</th>\n",
       "      <td>(0, 1]</td>\n",
       "      <td>414593</td>\n",
       "      <td>13.632143</td>\n",
       "    </tr>\n",
       "    <tr>\n",
       "      <th>1</th>\n",
       "      <td>(1, 2]</td>\n",
       "      <td>156840</td>\n",
       "      <td>5.157022</td>\n",
       "    </tr>\n",
       "    <tr>\n",
       "      <th>2</th>\n",
       "      <td>(2, 3]</td>\n",
       "      <td>80022</td>\n",
       "      <td>2.631186</td>\n",
       "    </tr>\n",
       "    <tr>\n",
       "      <th>3</th>\n",
       "      <td>(3, 4]</td>\n",
       "      <td>64708</td>\n",
       "      <td>2.127650</td>\n",
       "    </tr>\n",
       "    <tr>\n",
       "      <th>4</th>\n",
       "      <td>(4, 5]</td>\n",
       "      <td>46275</td>\n",
       "      <td>1.521558</td>\n",
       "    </tr>\n",
       "  </tbody>\n",
       "</table>\n",
       "</div>"
      ],
      "text/plain": [
       "    range     sum  percentage\n",
       "0  (0, 1]  414593   13.632143\n",
       "1  (1, 2]  156840    5.157022\n",
       "2  (2, 3]   80022    2.631186\n",
       "3  (3, 4]   64708    2.127650\n",
       "4  (4, 5]   46275    1.521558"
      ]
     },
     "execution_count": 139,
     "metadata": {},
     "output_type": "execute_result"
    }
   ],
   "source": [
    "gntc[\"percentage\"]=(gntc[\"sum\"]*100)/3041290\n",
    "gntc.head()"
   ]
  },
  {
   "cell_type": "code",
   "execution_count": 118,
   "metadata": {},
   "outputs": [
    {
     "data": {
      "text/html": [
       "<div>\n",
       "<style scoped>\n",
       "    .dataframe tbody tr th:only-of-type {\n",
       "        vertical-align: middle;\n",
       "    }\n",
       "\n",
       "    .dataframe tbody tr th {\n",
       "        vertical-align: top;\n",
       "    }\n",
       "\n",
       "    .dataframe thead th {\n",
       "        text-align: right;\n",
       "    }\n",
       "</style>\n",
       "<table border=\"1\" class=\"dataframe\">\n",
       "  <thead>\n",
       "    <tr style=\"text-align: right;\">\n",
       "      <th></th>\n",
       "      <th>range</th>\n",
       "      <th>sum</th>\n",
       "      <th>percentage</th>\n",
       "    </tr>\n",
       "  </thead>\n",
       "  <tbody>\n",
       "    <tr>\n",
       "      <th>0</th>\n",
       "      <td>(0, 1]</td>\n",
       "      <td>414593</td>\n",
       "      <td>13.632143</td>\n",
       "    </tr>\n",
       "    <tr>\n",
       "      <th>1</th>\n",
       "      <td>(1, 2]</td>\n",
       "      <td>156840</td>\n",
       "      <td>5.157022</td>\n",
       "    </tr>\n",
       "    <tr>\n",
       "      <th>2</th>\n",
       "      <td>(2, 3]</td>\n",
       "      <td>80022</td>\n",
       "      <td>2.631186</td>\n",
       "    </tr>\n",
       "    <tr>\n",
       "      <th>3</th>\n",
       "      <td>(3, 4]</td>\n",
       "      <td>64708</td>\n",
       "      <td>2.127650</td>\n",
       "    </tr>\n",
       "    <tr>\n",
       "      <th>4</th>\n",
       "      <td>(4, 5]</td>\n",
       "      <td>46275</td>\n",
       "      <td>1.521558</td>\n",
       "    </tr>\n",
       "  </tbody>\n",
       "</table>\n",
       "</div>"
      ],
      "text/plain": [
       "    range     sum  percentage\n",
       "0  (0, 1]  414593   13.632143\n",
       "1  (1, 2]  156840    5.157022\n",
       "2  (2, 3]   80022    2.631186\n",
       "3  (3, 4]   64708    2.127650\n",
       "4  (4, 5]   46275    1.521558"
      ]
     },
     "execution_count": 118,
     "metadata": {},
     "output_type": "execute_result"
    }
   ],
   "source": [
    "gntc.head()"
   ]
  },
  {
   "cell_type": "code",
   "execution_count": 140,
   "metadata": {},
   "outputs": [],
   "source": [
    "xt=gntc[\"range\"].tolist()\n",
    "y=gntc[\"percentage\"].tolist()"
   ]
  },
  {
   "cell_type": "code",
   "execution_count": 143,
   "metadata": {},
   "outputs": [
    {
     "data": {
      "image/png": "[encoded data removed]",
      "text/plain": [
       "<Figure size 936x360 with 1 Axes>"
      ]
     },
     "metadata": {},
     "output_type": "display_data"
    }
   ],
   "source": [
    "ax=gntc[\"percentage\"].plot(figsize=(13,5), rot=90)\n",
    "plt.xticks(range(100), xt)\n",
    "plt.ylabel('Percentage of tables')\n",
    "plt.xlabel('Groups by number of tables')\n",
    "plt.fill_between(xt,y)\n",
    "plt.show()"
   ]
  },
  {
   "cell_type": "code",
   "execution_count": null,
   "metadata": {},
   "outputs": [],
   "source": [
    "ax"
   ]
  },
  {
   "cell_type": "code",
   "execution_count": null,
   "metadata": {},
   "outputs": [],
   "source": [
    "#x=gntc[\"count\"].loc[:,\"\"].tolist()\n",
    "#y=gntc[\"num_tables\"].loc[:,\"sum\"].tolist()\n",
    "gntc[\"num_tables\"].loc[:,\"sum\"].sum()"
   ]
  },
  {
   "cell_type": "code",
   "execution_count": null,
   "metadata": {},
   "outputs": [],
   "source": [
    "fig = plt.gcf()\n",
    "fig.set_size_inches(20, 7.5)\n",
    "plt.bar(x,y)\n",
    "plt.show()"
   ]
  },
  {
   "cell_type": "code",
   "execution_count": null,
   "metadata": {},
   "outputs": [],
   "source": [
    "ch[ch[\"count\"]==1].count()\n",
    "s1=ch[ch[\"count\"]>=100]\n",
    "s1[\"count\"].sum()"
   ]
  },
  {
   "cell_type": "code",
   "execution_count": null,
   "metadata": {},
   "outputs": [],
   "source": [
    "sch[\"count\"].sum()"
   ]
  },
  {
   "cell_type": "code",
   "execution_count": null,
   "metadata": {
    "scrolled": true
   },
   "outputs": [],
   "source": [
    "ch.sort_values(\"count\", ascending=False).head(10)"
   ]
  },
  {
   "cell_type": "code",
   "execution_count": null,
   "metadata": {},
   "outputs": [],
   "source": [
    "dfeval=pd.read_csv(\"headersEvalRelations.csv\", index_col=False, names=[\"table\", \"headers\", \"c1\", \"c2\", \"rel\", \"ratio\"], dtype={'table':np.str}, sep=\"\\t\")\n"
   ]
  },
  {
   "cell_type": "code",
   "execution_count": null,
   "metadata": {},
   "outputs": [],
   "source": [
    "dfeval.head()"
   ]
  },
  {
   "cell_type": "code",
   "execution_count": null,
   "metadata": {},
   "outputs": [],
   "source": [
    "c1=dfeval[dfeval[\"headers\"]==\"['no@1', 'writer@3', 'length@1', 'titl@3']\"]\n",
    "c1.head()"
   ]
  },
  {
   "cell_type": "code",
   "execution_count": null,
   "metadata": {},
   "outputs": [],
   "source": [
    "c1=c1.fillna(\"-\")"
   ]
  },
  {
   "cell_type": "code",
   "execution_count": null,
   "metadata": {},
   "outputs": [],
   "source": [
    "c1.head()"
   ]
  },
  {
   "cell_type": "code",
   "execution_count": null,
   "metadata": {},
   "outputs": [],
   "source": [
    "chrel=pd.DataFrame({'count' : c1.groupby(['headers', 'c1', 'c2']).size()}).reset_index()\n",
    "chrel.head()"
   ]
  },
  {
   "cell_type": "code",
   "execution_count": null,
   "metadata": {},
   "outputs": [],
   "source": [
    "dh=pd.DataFrame(dfe.groupby(['table','headers']))"
   ]
  },
  {
   "cell_type": "code",
   "execution_count": null,
   "metadata": {},
   "outputs": [],
   "source": [
    "dh.head()"
   ]
  },
  {
   "cell_type": "code",
   "execution_count": null,
   "metadata": {},
   "outputs": [],
   "source": [
    "df1=pd.DataFrame()\n",
    "df1[\"header\"]=df[\"header1\"].str.replace(\"[\",\"\").replace(\"]\",\"\")+df[\"header2\"].str.replace(\"[\",\"\").replace(\"]\",\"\")\n",
    "\n"
   ]
  },
  {
   "cell_type": "code",
   "execution_count": null,
   "metadata": {},
   "outputs": [],
   "source": [
    "df1.head()"
   ]
  },
  {
   "cell_type": "code",
   "execution_count": null,
   "metadata": {},
   "outputs": [],
   "source": [
    "dfc_group.sort_values(\"count\", ascending=False).head(100)"
   ]
  },
  {
   "cell_type": "code",
   "execution_count": null,
   "metadata": {},
   "outputs": [],
   "source": [
    "dfc_group[dfc_group[\"count\"]>100][\"count\"].hist(bins=50)"
   ]
  },
  {
   "cell_type": "code",
   "execution_count": null,
   "metadata": {},
   "outputs": [],
   "source": [
    "dfc_group[dfc_group[\"count\"]<=100][\"count\"].hist(bins=100)"
   ]
  },
  {
   "cell_type": "code",
   "execution_count": null,
   "metadata": {},
   "outputs": [],
   "source": [
    "dfc[dfc[\"tabla\"]==\"140019.1\"]"
   ]
  },
  {
   "cell_type": "code",
   "execution_count": null,
   "metadata": {},
   "outputs": [],
   "source": [
    "dfc[dfc[\"cluster\"]==15]"
   ]
  },
  {
   "cell_type": "code",
   "execution_count": null,
   "metadata": {},
   "outputs": [],
   "source": [
    "dfc_group=pd.DataFrame({'count' : dfc.groupby(['cluster']).size()}).reset_index()"
   ]
  },
  {
   "cell_type": "code",
   "execution_count": null,
   "metadata": {},
   "outputs": [],
   "source": [
    "dfc_group[dfc_group['count']>=100]['count'].hist(bins=100)"
   ]
  },
  {
   "cell_type": "code",
   "execution_count": null,
   "metadata": {},
   "outputs": [],
   "source": [
    "dfc_group[dfc_group['count']<100]['count'].hist(bins=100)"
   ]
  },
  {
   "cell_type": "code",
   "execution_count": null,
   "metadata": {},
   "outputs": [],
   "source": [
    "dfc[(dfc['header'].str.contains('parti@')) & (dfc['header'].str.contains('candid@'))]"
   ]
  },
  {
   "cell_type": "code",
   "execution_count": null,
   "metadata": {},
   "outputs": [],
   "source": [
    "dfc[dfc[\"cluster\"]==5477]"
   ]
  },
  {
   "cell_type": "code",
   "execution_count": null,
   "metadata": {},
   "outputs": [],
   "source": [
    "df=pd.read_csv(\"dict.csv\", sep=\"\\t\", names=[\"id\",\"header\", \"count\"])"
   ]
  },
  {
   "cell_type": "code",
   "execution_count": null,
   "metadata": {},
   "outputs": [],
   "source": [
    "df.head()"
   ]
  },
  {
   "cell_type": "code",
   "execution_count": null,
   "metadata": {},
   "outputs": [],
   "source": [
    "df[df[\"id\"]==5]"
   ]
  },
  {
   "cell_type": "code",
   "execution_count": null,
   "metadata": {},
   "outputs": [],
   "source": [
    "df.sort_values(\"count\", ascending=False).head(100)"
   ]
  },
  {
   "cell_type": "code",
   "execution_count": null,
   "metadata": {},
   "outputs": [],
   "source": [
    "df1=df[df[\"count\"]>1]"
   ]
  },
  {
   "cell_type": "code",
   "execution_count": null,
   "metadata": {},
   "outputs": [],
   "source": [
    "df1.to_csv(\"dict_filter.csv\", sep=\"\\t\", index=False, header=False)"
   ]
  },
  {
   "cell_type": "code",
   "execution_count": null,
   "metadata": {},
   "outputs": [],
   "source": [
    "df1.sort_values(\"id\", ascending=True).head()"
   ]
  },
  {
   "cell_type": "code",
   "execution_count": null,
   "metadata": {},
   "outputs": [],
   "source": [
    "df1[df1[\"header\"]==\"candid\"]"
   ]
  },
  {
   "cell_type": "code",
   "execution_count": null,
   "metadata": {},
   "outputs": [],
   "source": [
    "a=[235, 5, 38, 41, 14, 84, 98, 99, 250, 164, 122, 6, 79, 324, 35, 100, 85, 15, 64, 10, 184, 49, 183, 25, 95, 273, 298, 4]\n",
    "print(len(a))\n",
    "a=set(a)\n",
    "print(len(a))"
   ]
  },
  {
   "cell_type": "code",
   "execution_count": null,
   "metadata": {},
   "outputs": [],
   "source": [
    "df[df[\"id\"].isin(a)].to_csv(\"dictionary.csv\", index=False)"
   ]
  },
  {
   "cell_type": "code",
   "execution_count": null,
   "metadata": {},
   "outputs": [],
   "source": [
    "vect=pd.read_csv(\"vect_extend.csv\", sep=\"\\t\", names=[\"table\", \"headers\", \"num\"], dtype={\"table\":np.str_})"
   ]
  },
  {
   "cell_type": "code",
   "execution_count": null,
   "metadata": {},
   "outputs": [],
   "source": [
    "vect.sort_values(\"num\", ascending=False).head()"
   ]
  },
  {
   "cell_type": "code",
   "execution_count": null,
   "metadata": {},
   "outputs": [],
   "source": [
    "vect[vect[\"num\"]<=100].head()"
   ]
  },
  {
   "cell_type": "code",
   "execution_count": null,
   "metadata": {},
   "outputs": [],
   "source": [
    "vect.count()"
   ]
  },
  {
   "cell_type": "code",
   "execution_count": null,
   "metadata": {},
   "outputs": [],
   "source": [
    "vect.num.hist(bins=100)"
   ]
  },
  {
   "cell_type": "code",
   "execution_count": null,
   "metadata": {},
   "outputs": [],
   "source": [
    "vect.loc[3][\"headers\"]"
   ]
  },
  {
   "cell_type": "code",
   "execution_count": null,
   "metadata": {},
   "outputs": [],
   "source": [
    "df_grouph=pd.DataFrame({'count' : vect.groupby(['headers', 'num']).size()}).reset_index()"
   ]
  },
  {
   "cell_type": "code",
   "execution_count": null,
   "metadata": {},
   "outputs": [],
   "source": [
    "print(df_grouph.shape)\n",
    "df_grouph=df_grouph.sort_values(\"count\", ascending=False)\n",
    "fg=df_grouph[df_grouph[\"num\"]<=50]\n",
    "fg.shape"
   ]
  },
  {
   "cell_type": "code",
   "execution_count": null,
   "metadata": {},
   "outputs": [],
   "source": [
    "fg.head(100)\n",
    "fg.loc[2163][\"headers\"]"
   ]
  },
  {
   "cell_type": "code",
   "execution_count": null,
   "metadata": {},
   "outputs": [],
   "source": [
    "edges=pd.read_csv(\"edges.csv\", sep=\"\\t\", decimal=\".\", names=[\"source\", \"target\", \"weight\"])"
   ]
  },
  {
   "cell_type": "code",
   "execution_count": null,
   "metadata": {},
   "outputs": [],
   "source": [
    "edges.head()"
   ]
  },
  {
   "cell_type": "code",
   "execution_count": null,
   "metadata": {},
   "outputs": [],
   "source": [
    "#edges[(edges[\"source\"]==1 & edges[\"target\"]==549)]\n",
    "edges[[all([a, b]) for a, b in zip(edges.source == 1, edges.target ==27)]]"
   ]
  },
  {
   "cell_type": "code",
   "execution_count": null,
   "metadata": {},
   "outputs": [],
   "source": [
    "from sklearn.feature_extraction.text import CountVectorizer\n",
    "from sklearn.metrics.pairwise import cosine_similarity\n",
    "from scipy.spatial.distance import squareform\n",
    "from scipy.spatial.distance import pdist, jaccard\n",
    "exclude = ['table','num']\n",
    "cols=vect.columns.difference(exclude)\n",
    "dfv=df_grouph.iloc[:][cols]\n",
    "dfv.count()\n"
   ]
  },
  {
   "cell_type": "code",
   "execution_count": null,
   "metadata": {},
   "outputs": [],
   "source": [
    "dfv.head()"
   ]
  },
  {
   "cell_type": "code",
   "execution_count": null,
   "metadata": {},
   "outputs": [],
   "source": [
    "dft=pd.read_csv(\"testSimilitud.csv\", sep=\"\\t\", names=[\"table\", \"cluster\"] )\n",
    "dft.head()"
   ]
  },
  {
   "cell_type": "code",
   "execution_count": null,
   "metadata": {},
   "outputs": [],
   "source": [
    "dftg=pd.DataFrame({'count' : dft.groupby(['cluster']).size()}).reset_index()\n",
    "dftg.head()"
   ]
  },
  {
   "cell_type": "code",
   "execution_count": null,
   "metadata": {},
   "outputs": [],
   "source": [
    "from sklearn.feature_extraction.text import CountVectorizer\n",
    "from sklearn.metrics.pairwise import cosine_similarity\n",
    "from scipy.spatial.distance import squareform\n",
    "from scipy.spatial.distance import pdist, jaccard\n",
    "#Token_pattern changed because there is headers with one letter. \n",
    "dfvect=pd.read_csv(\"vect.csv\", sep=\"\\t\", names=[\"table\", \"header\"] , dtype={'table': np.str})\n"
   ]
  },
  {
   "cell_type": "code",
   "execution_count": null,
   "metadata": {},
   "outputs": [],
   "source": [
    "vectorizer = CountVectorizer(list(dfvect['header']), token_pattern='(?u)\\\\b\\\\w+\\\\b')\n",
    "vectorizer"
   ]
  },
  {
   "cell_type": "code",
   "execution_count": null,
   "metadata": {},
   "outputs": [],
   "source": [
    "dtm = vectorizer.fit_transform(dfvect['header'])\n",
    "vocab = vectorizer.get_feature_names()"
   ]
  },
  {
   "cell_type": "code",
   "execution_count": null,
   "metadata": {},
   "outputs": [],
   "source": [
    "len(vocab)"
   ]
  },
  {
   "cell_type": "code",
   "execution_count": null,
   "metadata": {},
   "outputs": [],
   "source": [
    "dtm= dtm.toarray()"
   ]
  },
  {
   "cell_type": "code",
   "execution_count": null,
   "metadata": {},
   "outputs": [],
   "source": [
    "dtm"
   ]
  },
  {
   "cell_type": "code",
   "execution_count": null,
   "metadata": {},
   "outputs": [],
   "source": [
    "from sklearn.metrics.pairwise import pairwise_distances\n",
    "#res = 1-pdist(dtm, 'jaccard')\n",
    "res = pairwise_distances(dtm, metric = \"jaccard\", n_jobs=4)"
   ]
  },
  {
   "cell_type": "code",
   "execution_count": null,
   "metadata": {},
   "outputs": [],
   "source": [
    "dfc1=dft[dft[\"cluster\"]==\"1\"]"
   ]
  },
  {
   "cell_type": "code",
   "execution_count": null,
   "metadata": {},
   "outputs": [],
   "source": [
    "dfc1.count()"
   ]
  },
  {
   "cell_type": "code",
   "execution_count": null,
   "metadata": {},
   "outputs": [],
   "source": [
    "dfc1.to_csv(\"cluster1.csv\", sep=\"\\t\", index=False)"
   ]
  },
  {
   "cell_type": "code",
   "execution_count": null,
   "metadata": {},
   "outputs": [],
   "source": [
    "cluster1=pd.read_csv(\"fileClusterPair.csv\", sep=\"\\t\", names=[\"table\", \"header\",\"cluster\"] , dtype={'table': np.str})\n",
    "cluster1.head()"
   ]
  },
  {
   "cell_type": "code",
   "execution_count": null,
   "metadata": {},
   "outputs": [],
   "source": [
    "cluster1_g=pd.DataFrame({'count' : cluster1.groupby(['cluster']).size()}).reset_index()"
   ]
  },
  {
   "cell_type": "code",
   "execution_count": null,
   "metadata": {},
   "outputs": [],
   "source": [
    "cluster1_g.sort_values(\"count\", ascending=False).head(100)"
   ]
  },
  {
   "cell_type": "code",
   "execution_count": null,
   "metadata": {},
   "outputs": [],
   "source": [
    "cluster1[cluster1[\"cluster\"]==2925].head(10000)"
   ]
  },
  {
   "cell_type": "code",
   "execution_count": null,
   "metadata": {},
   "outputs": [],
   "source": []
  },
  {
   "cell_type": "code",
   "execution_count": null,
   "metadata": {},
   "outputs": [],
   "source": []
  }
 ],
 "metadata": {
  "kernelspec": {
   "display_name": "Python 3",
   "language": "python",
   "name": "python3"
  },
  "language_info": {
   "codemirror_mode": {
    "name": "ipython",
    "version": 3
   },
   "file_extension": ".py",
   "mimetype": "text/x-python",
   "name": "python",
   "nbconvert_exporter": "python",
   "pygments_lexer": "ipython3",
   "version": "3.5.2"
  }
 },
 "nbformat": 4,
 "nbformat_minor": 2
}
