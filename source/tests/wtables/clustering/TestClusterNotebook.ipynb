{
 "cells": [
  {
   "cell_type": "code",
   "execution_count": 1,
   "metadata": {},
   "outputs": [],
   "source": [
    "import pandas as pd\n",
    "import numpy as np"
   ]
  },
  {
   "cell_type": "code",
   "execution_count": 2,
   "metadata": {},
   "outputs": [],
   "source": [
    "df_headers=pd.read_csv('/media/jhomara/Datos/MG-DCC/tesis/Desarrollo/datos/resultadosFinales/headersFile.csv', sep='\\t', names=['file', 'header'])"
   ]
  },
  {
   "cell_type": "code",
   "execution_count": 3,
   "metadata": {},
   "outputs": [
    {
     "data": {
      "text/html": [
       "<div>\n",
       "<style scoped>\n",
       "    .dataframe tbody tr th:only-of-type {\n",
       "        vertical-align: middle;\n",
       "    }\n",
       "\n",
       "    .dataframe tbody tr th {\n",
       "        vertical-align: top;\n",
       "    }\n",
       "\n",
       "    .dataframe thead th {\n",
       "        text-align: right;\n",
       "    }\n",
       "</style>\n",
       "<table border=\"1\" class=\"dataframe\">\n",
       "  <thead>\n",
       "    <tr style=\"text-align: right;\">\n",
       "      <th></th>\n",
       "      <th>file</th>\n",
       "      <th>header</th>\n",
       "    </tr>\n",
       "  </thead>\n",
       "  <tbody>\n",
       "    <tr>\n",
       "      <th>0</th>\n",
       "      <td>Ichibu Station (Nara).html.bz2</td>\n",
       "      <td>,ikoma line g19,service</td>\n",
       "    </tr>\n",
       "    <tr>\n",
       "      <th>1</th>\n",
       "      <td>Mag%C3%A1n %26 Rodr%C3%ADguez.html.bz2</td>\n",
       "      <td>album details,peak chart positions,spain,suave...</td>\n",
       "    </tr>\n",
       "    <tr>\n",
       "      <th>2</th>\n",
       "      <td>Cool Woods.html.bz2</td>\n",
       "      <td>rating,review scores,source</td>\n",
       "    </tr>\n",
       "    <tr>\n",
       "      <th>3</th>\n",
       "      <td>Mag%C3%A1n %26 Rodr%C3%ADguez.html.bz2</td>\n",
       "      <td>album details,suave ep,suave ep 2,suave ep 3,t...</td>\n",
       "    </tr>\n",
       "    <tr>\n",
       "      <th>4</th>\n",
       "      <td>Mag%C3%A1n %26 Rodr%C3%ADguez.html.bz2</td>\n",
       "      <td>chart positions,spain,title,year</td>\n",
       "    </tr>\n",
       "  </tbody>\n",
       "</table>\n",
       "</div>"
      ],
      "text/plain": [
       "                                     file  \\\n",
       "0          Ichibu Station (Nara).html.bz2   \n",
       "1  Mag%C3%A1n %26 Rodr%C3%ADguez.html.bz2   \n",
       "2                     Cool Woods.html.bz2   \n",
       "3  Mag%C3%A1n %26 Rodr%C3%ADguez.html.bz2   \n",
       "4  Mag%C3%A1n %26 Rodr%C3%ADguez.html.bz2   \n",
       "\n",
       "                                              header  \n",
       "0                            ,ikoma line g19,service  \n",
       "1  album details,peak chart positions,spain,suave...  \n",
       "2                        rating,review scores,source  \n",
       "3  album details,suave ep,suave ep 2,suave ep 3,t...  \n",
       "4                   chart positions,spain,title,year  "
      ]
     },
     "execution_count": 3,
     "metadata": {},
     "output_type": "execute_result"
    }
   ],
   "source": [
    "df_headers.head()"
   ]
  },
  {
   "cell_type": "code",
   "execution_count": 4,
   "metadata": {},
   "outputs": [
    {
     "data": {
      "text/html": [
       "<div>\n",
       "<style scoped>\n",
       "    .dataframe tbody tr th:only-of-type {\n",
       "        vertical-align: middle;\n",
       "    }\n",
       "\n",
       "    .dataframe tbody tr th {\n",
       "        vertical-align: top;\n",
       "    }\n",
       "\n",
       "    .dataframe thead th {\n",
       "        text-align: right;\n",
       "    }\n",
       "</style>\n",
       "<table border=\"1\" class=\"dataframe\">\n",
       "  <thead>\n",
       "    <tr style=\"text-align: right;\">\n",
       "      <th></th>\n",
       "      <th>header</th>\n",
       "    </tr>\n",
       "  </thead>\n",
       "  <tbody>\n",
       "    <tr>\n",
       "      <th>0</th>\n",
       "      <td>,ikoma line g19,service</td>\n",
       "    </tr>\n",
       "    <tr>\n",
       "      <th>1</th>\n",
       "      <td>album details,peak chart positions,spain,suave...</td>\n",
       "    </tr>\n",
       "    <tr>\n",
       "      <th>2</th>\n",
       "      <td>rating,review scores,source</td>\n",
       "    </tr>\n",
       "    <tr>\n",
       "      <th>3</th>\n",
       "      <td>album details,suave ep,suave ep 2,suave ep 3,t...</td>\n",
       "    </tr>\n",
       "    <tr>\n",
       "      <th>4</th>\n",
       "      <td>chart positions,spain,title,year</td>\n",
       "    </tr>\n",
       "  </tbody>\n",
       "</table>\n",
       "</div>"
      ],
      "text/plain": [
       "                                              header\n",
       "0                            ,ikoma line g19,service\n",
       "1  album details,peak chart positions,spain,suave...\n",
       "2                        rating,review scores,source\n",
       "3  album details,suave ep,suave ep 2,suave ep 3,t...\n",
       "4                   chart positions,spain,title,year"
      ]
     },
     "execution_count": 4,
     "metadata": {},
     "output_type": "execute_result"
    }
   ],
   "source": [
    "df_h=pd.DataFrame(df_headers.iloc[:]['header'], df_headers.index, columns=['header'])\n",
    "df_h.head()"
   ]
  },
  {
   "cell_type": "code",
   "execution_count": 5,
   "metadata": {},
   "outputs": [
    {
     "name": "stdout",
     "output_type": "stream",
     "text": [
      "[nltk_data] Downloading package wordnet to /home/jhomara/nltk_data...\n",
      "[nltk_data]   Package wordnet is already up-to-date!\n"
     ]
    },
    {
     "data": {
      "text/plain": [
       "True"
      ]
     },
     "execution_count": 5,
     "metadata": {},
     "output_type": "execute_result"
    }
   ],
   "source": [
    "import nltk\n",
    "nltk.download('wordnet')"
   ]
  },
  {
   "cell_type": "code",
   "execution_count": 6,
   "metadata": {},
   "outputs": [
    {
     "data": {
      "text/html": [
       "<div>\n",
       "<style scoped>\n",
       "    .dataframe tbody tr th:only-of-type {\n",
       "        vertical-align: middle;\n",
       "    }\n",
       "\n",
       "    .dataframe tbody tr th {\n",
       "        vertical-align: top;\n",
       "    }\n",
       "\n",
       "    .dataframe thead th {\n",
       "        text-align: right;\n",
       "    }\n",
       "</style>\n",
       "<table border=\"1\" class=\"dataframe\">\n",
       "  <thead>\n",
       "    <tr style=\"text-align: right;\">\n",
       "      <th></th>\n",
       "      <th>header</th>\n",
       "      <th>header_lemmatized</th>\n",
       "    </tr>\n",
       "  </thead>\n",
       "  <tbody>\n",
       "    <tr>\n",
       "      <th>0</th>\n",
       "      <td>,ikoma line g19,service</td>\n",
       "      <td>ikoma line g19,servic</td>\n",
       "    </tr>\n",
       "    <tr>\n",
       "      <th>1</th>\n",
       "      <td>album details,peak chart positions,spain,suave...</td>\n",
       "      <td>album detail,peak chart posit,spain,suav,titl,...</td>\n",
       "    </tr>\n",
       "    <tr>\n",
       "      <th>2</th>\n",
       "      <td>rating,review scores,source</td>\n",
       "      <td>rate,review scor,sourc</td>\n",
       "    </tr>\n",
       "    <tr>\n",
       "      <th>3</th>\n",
       "      <td>album details,suave ep,suave ep 2,suave ep 3,t...</td>\n",
       "      <td>album detail,suav ep,suav ep 2,suav ep 3,titl,...</td>\n",
       "    </tr>\n",
       "    <tr>\n",
       "      <th>4</th>\n",
       "      <td>chart positions,spain,title,year</td>\n",
       "      <td>chart posit,spain,titl,year</td>\n",
       "    </tr>\n",
       "  </tbody>\n",
       "</table>\n",
       "</div>"
      ],
      "text/plain": [
       "                                              header  \\\n",
       "0                            ,ikoma line g19,service   \n",
       "1  album details,peak chart positions,spain,suave...   \n",
       "2                        rating,review scores,source   \n",
       "3  album details,suave ep,suave ep 2,suave ep 3,t...   \n",
       "4                   chart positions,spain,title,year   \n",
       "\n",
       "                                   header_lemmatized  \n",
       "0                              ikoma line g19,servic  \n",
       "1  album detail,peak chart posit,spain,suav,titl,...  \n",
       "2                             rate,review scor,sourc  \n",
       "3  album detail,suav ep,suav ep 2,suav ep 3,titl,...  \n",
       "4                        chart posit,spain,titl,year  "
      ]
     },
     "execution_count": 6,
     "metadata": {},
     "output_type": "execute_result"
    }
   ],
   "source": [
    "from nltk.stem.snowball import SnowballStemmer\n",
    "stemmer = SnowballStemmer(\"english\")\n",
    "def stemm_text(text):\n",
    "    s=str(text).split(\",\")\n",
    "    sw=[]\n",
    "    for h in s:\n",
    "        if h==\"\":\n",
    "            continue\n",
    "        hs=h.split()\n",
    "        if len(hs)>1:\n",
    "            sw.append(\" \".join([stemmer.stem(str(x)) for x in hs if x!=\"\"]))\n",
    "        else:\n",
    "            sw.append(h)    \n",
    "    return \",\".join([stemmer.stem(str(x)) for x in sw if x!=\"\"])\n",
    "df_h['header_lemmatized'] = df_h[\"header\"].apply(lambda x: stemm_text(x))\n",
    "df_h.head()"
   ]
  },
  {
   "cell_type": "code",
   "execution_count": 7,
   "metadata": {},
   "outputs": [
    {
     "data": {
      "text/html": [
       "<div>\n",
       "<style scoped>\n",
       "    .dataframe tbody tr th:only-of-type {\n",
       "        vertical-align: middle;\n",
       "    }\n",
       "\n",
       "    .dataframe tbody tr th {\n",
       "        vertical-align: top;\n",
       "    }\n",
       "\n",
       "    .dataframe thead th {\n",
       "        text-align: right;\n",
       "    }\n",
       "</style>\n",
       "<table border=\"1\" class=\"dataframe\">\n",
       "  <thead>\n",
       "    <tr style=\"text-align: right;\">\n",
       "      <th></th>\n",
       "      <th>header_lemmatized</th>\n",
       "    </tr>\n",
       "  </thead>\n",
       "  <tbody>\n",
       "    <tr>\n",
       "      <th>0</th>\n",
       "      <td>ikoma line g19,servic</td>\n",
       "    </tr>\n",
       "    <tr>\n",
       "      <th>1</th>\n",
       "      <td>album detail,peak chart posit,spain,suav,titl,...</td>\n",
       "    </tr>\n",
       "    <tr>\n",
       "      <th>2</th>\n",
       "      <td>rate,review scor,sourc</td>\n",
       "    </tr>\n",
       "    <tr>\n",
       "      <th>3</th>\n",
       "      <td>album detail,suav ep,suav ep 2,suav ep 3,titl,...</td>\n",
       "    </tr>\n",
       "    <tr>\n",
       "      <th>4</th>\n",
       "      <td>chart posit,spain,titl,year</td>\n",
       "    </tr>\n",
       "  </tbody>\n",
       "</table>\n",
       "</div>"
      ],
      "text/plain": [
       "                                   header_lemmatized\n",
       "0                              ikoma line g19,servic\n",
       "1  album detail,peak chart posit,spain,suav,titl,...\n",
       "2                             rate,review scor,sourc\n",
       "3  album detail,suav ep,suav ep 2,suav ep 3,titl,...\n",
       "4                        chart posit,spain,titl,year"
      ]
     },
     "execution_count": 7,
     "metadata": {},
     "output_type": "execute_result"
    }
   ],
   "source": [
    "df_hl=pd.DataFrame(df_h.iloc[:]['header_lemmatized'], df_h.index, columns=['header_lemmatized'])\n",
    "df_hl.head()"
   ]
  },
  {
   "cell_type": "code",
   "execution_count": 8,
   "metadata": {},
   "outputs": [
    {
     "data": {
      "text/html": [
       "<div>\n",
       "<style scoped>\n",
       "    .dataframe tbody tr th:only-of-type {\n",
       "        vertical-align: middle;\n",
       "    }\n",
       "\n",
       "    .dataframe tbody tr th {\n",
       "        vertical-align: top;\n",
       "    }\n",
       "\n",
       "    .dataframe thead th {\n",
       "        text-align: right;\n",
       "    }\n",
       "</style>\n",
       "<table border=\"1\" class=\"dataframe\">\n",
       "  <thead>\n",
       "    <tr style=\"text-align: right;\">\n",
       "      <th></th>\n",
       "      <th>header_lemmatized</th>\n",
       "      <th>count</th>\n",
       "    </tr>\n",
       "  </thead>\n",
       "  <tbody>\n",
       "    <tr>\n",
       "      <th>926446</th>\n",
       "      <td>nan</td>\n",
       "      <td>88392</td>\n",
       "    </tr>\n",
       "    <tr>\n",
       "      <th>955002</th>\n",
       "      <td>rate,review scor,sourc</td>\n",
       "      <td>73944</td>\n",
       "    </tr>\n",
       "    <tr>\n",
       "      <th>901158</th>\n",
       "      <td>length,no,titl</td>\n",
       "      <td>63529</td>\n",
       "    </tr>\n",
       "    <tr>\n",
       "      <th>663226</th>\n",
       "      <td>candid,major,parti,swing,turnout,vote</td>\n",
       "      <td>57380</td>\n",
       "    </tr>\n",
       "    <tr>\n",
       "      <th>663624</th>\n",
       "      <td>candid,parti,vote</td>\n",
       "      <td>43614</td>\n",
       "    </tr>\n",
       "  </tbody>\n",
       "</table>\n",
       "</div>"
      ],
      "text/plain": [
       "                            header_lemmatized  count\n",
       "926446                                    nan  88392\n",
       "955002                 rate,review scor,sourc  73944\n",
       "901158                         length,no,titl  63529\n",
       "663226  candid,major,parti,swing,turnout,vote  57380\n",
       "663624                      candid,parti,vote  43614"
      ]
     },
     "execution_count": 8,
     "metadata": {},
     "output_type": "execute_result"
    }
   ],
   "source": [
    "df_hl=pd.DataFrame({'count' : df_hl.groupby(\"header_lemmatized\").size()}).reset_index()\n",
    "result = df_hl.sort_values(['count'], ascending=False)\n",
    "result.head()"
   ]
  },
  {
   "cell_type": "markdown",
   "metadata": {},
   "source": [
    "Total Tables:"
   ]
  },
  {
   "cell_type": "code",
   "execution_count": 9,
   "metadata": {},
   "outputs": [
    {
     "data": {
      "text/plain": [
       "3565134"
      ]
     },
     "execution_count": 9,
     "metadata": {},
     "output_type": "execute_result"
    }
   ],
   "source": [
    "df_hl=df_hl.dropna()\n",
    "sum(df_hl['count'])"
   ]
  },
  {
   "cell_type": "markdown",
   "metadata": {},
   "source": [
    "Total distinct headers"
   ]
  },
  {
   "cell_type": "code",
   "execution_count": 10,
   "metadata": {},
   "outputs": [
    {
     "name": "stdout",
     "output_type": "stream",
     "text": [
      "header_lemmatized    975850\n",
      "count                975850\n",
      "dtype: int64\n"
     ]
    },
    {
     "data": {
      "text/html": [
       "<div>\n",
       "<style scoped>\n",
       "    .dataframe tbody tr th:only-of-type {\n",
       "        vertical-align: middle;\n",
       "    }\n",
       "\n",
       "    .dataframe tbody tr th {\n",
       "        vertical-align: top;\n",
       "    }\n",
       "\n",
       "    .dataframe thead th {\n",
       "        text-align: right;\n",
       "    }\n",
       "</style>\n",
       "<table border=\"1\" class=\"dataframe\">\n",
       "  <thead>\n",
       "    <tr style=\"text-align: right;\">\n",
       "      <th></th>\n",
       "      <th>header_lemmatized</th>\n",
       "      <th>count</th>\n",
       "    </tr>\n",
       "  </thead>\n",
       "  <tbody>\n",
       "    <tr>\n",
       "      <th>0</th>\n",
       "      <td>0 0 0 0 0,0 0 0 1 1,0 0 1 0 2,0 1 0 0 4,1 0 0 ...</td>\n",
       "      <td>1</td>\n",
       "    </tr>\n",
       "    <tr>\n",
       "      <th>1</th>\n",
       "      <td>0 0 0 0 0,10 8 16 41 47,113 87 70 413 311,113 ...</td>\n",
       "      <td>1</td>\n",
       "    </tr>\n",
       "    <tr>\n",
       "      <th>2</th>\n",
       "      <td>0 0 0 0 13 5,kell,kilbeg</td>\n",
       "      <td>1</td>\n",
       "    </tr>\n",
       "    <tr>\n",
       "      <th>3</th>\n",
       "      <td>0 0 0 0 2 0 agg,debreceni vsc,szombathelyi haladá</td>\n",
       "      <td>1</td>\n",
       "    </tr>\n",
       "    <tr>\n",
       "      <th>4</th>\n",
       "      <td>0 0 0 0 2 1,doncarney,grangegeeth</td>\n",
       "      <td>1</td>\n",
       "    </tr>\n",
       "  </tbody>\n",
       "</table>\n",
       "</div>"
      ],
      "text/plain": [
       "                                   header_lemmatized  count\n",
       "0  0 0 0 0 0,0 0 0 1 1,0 0 1 0 2,0 1 0 0 4,1 0 0 ...      1\n",
       "1  0 0 0 0 0,10 8 16 41 47,113 87 70 413 311,113 ...      1\n",
       "2                           0 0 0 0 13 5,kell,kilbeg      1\n",
       "3  0 0 0 0 2 0 agg,debreceni vsc,szombathelyi haladá      1\n",
       "4                  0 0 0 0 2 1,doncarney,grangegeeth      1"
      ]
     },
     "execution_count": 10,
     "metadata": {},
     "output_type": "execute_result"
    }
   ],
   "source": [
    "print(df_hl.count())\n",
    "df_hl.head()"
   ]
  },
  {
   "cell_type": "markdown",
   "metadata": {},
   "source": [
    "Filter of tables with more than one header"
   ]
  },
  {
   "cell_type": "code",
   "execution_count": 11,
   "metadata": {},
   "outputs": [
    {
     "data": {
      "text/plain": [
       "header_lemmatized    940135\n",
       "count                940135\n",
       "correct_header       940135\n",
       "dtype: int64"
      ]
     },
     "execution_count": 11,
     "metadata": {},
     "output_type": "execute_result"
    }
   ],
   "source": [
    "df_hl.loc[:,'correct_header']=df_hl.header_lemmatized.apply(lambda x: len(x.split(\",\"))>1)\n",
    "df_filtered=df_hl[df_hl['correct_header']]\n",
    "df_filtered.count()"
   ]
  },
  {
   "cell_type": "code",
   "execution_count": 12,
   "metadata": {},
   "outputs": [
    {
     "data": {
      "text/html": [
       "<div>\n",
       "<style scoped>\n",
       "    .dataframe tbody tr th:only-of-type {\n",
       "        vertical-align: middle;\n",
       "    }\n",
       "\n",
       "    .dataframe tbody tr th {\n",
       "        vertical-align: top;\n",
       "    }\n",
       "\n",
       "    .dataframe thead th {\n",
       "        text-align: right;\n",
       "    }\n",
       "</style>\n",
       "<table border=\"1\" class=\"dataframe\">\n",
       "  <thead>\n",
       "    <tr style=\"text-align: right;\">\n",
       "      <th></th>\n",
       "      <th>header_lemmatized</th>\n",
       "      <th>count</th>\n",
       "      <th>correct_header</th>\n",
       "    </tr>\n",
       "  </thead>\n",
       "  <tbody>\n",
       "    <tr>\n",
       "      <th>955002</th>\n",
       "      <td>rate,review scor,sourc</td>\n",
       "      <td>73944</td>\n",
       "      <td>True</td>\n",
       "    </tr>\n",
       "    <tr>\n",
       "      <th>901158</th>\n",
       "      <td>length,no,titl</td>\n",
       "      <td>63529</td>\n",
       "      <td>True</td>\n",
       "    </tr>\n",
       "    <tr>\n",
       "      <th>663226</th>\n",
       "      <td>candid,major,parti,swing,turnout,vote</td>\n",
       "      <td>57380</td>\n",
       "      <td>True</td>\n",
       "    </tr>\n",
       "    <tr>\n",
       "      <th>663624</th>\n",
       "      <td>candid,parti,vote</td>\n",
       "      <td>43614</td>\n",
       "      <td>True</td>\n",
       "    </tr>\n",
       "    <tr>\n",
       "      <th>762712</th>\n",
       "      <td>countri,descript,ship</td>\n",
       "      <td>30479</td>\n",
       "      <td>True</td>\n",
       "    </tr>\n",
       "  </tbody>\n",
       "</table>\n",
       "</div>"
      ],
      "text/plain": [
       "                            header_lemmatized  count  correct_header\n",
       "955002                 rate,review scor,sourc  73944            True\n",
       "901158                         length,no,titl  63529            True\n",
       "663226  candid,major,parti,swing,turnout,vote  57380            True\n",
       "663624                      candid,parti,vote  43614            True\n",
       "762712                  countri,descript,ship  30479            True"
      ]
     },
     "execution_count": 12,
     "metadata": {},
     "output_type": "execute_result"
    }
   ],
   "source": [
    "df_filtered.sort_values(['count'], ascending=False).head()"
   ]
  },
  {
   "cell_type": "markdown",
   "metadata": {},
   "source": [
    "#### Distribution of number of headers. "
   ]
  },
  {
   "cell_type": "code",
   "execution_count": 13,
   "metadata": {},
   "outputs": [],
   "source": [
    "import matplotlib.pyplot as plt\n",
    "from scipy import special\n",
    "import matplotlib"
   ]
  },
  {
   "cell_type": "code",
   "execution_count": 14,
   "metadata": {
    "scrolled": true
   },
   "outputs": [
    {
     "name": "stdout",
     "output_type": "stream",
     "text": [
      "[1.55054610e+00 3.87636524e-01 1.72282900e-01 ... 2.83605104e-10\n",
      " 2.83597433e-10 2.83589762e-10]\n"
     ]
    },
    {
     "data": {
      "image/png": "[encoded data removed]",
      "text/plain": [
       "<Figure size 1116x540 with 1 Axes>"
      ]
     },
     "metadata": {},
     "output_type": "display_data"
    }
   ],
   "source": [
    "fig = matplotlib.pyplot.gcf()\n",
    "fig.set_size_inches(15.5, 7.5)\n",
    "plt.hist(df_filtered['count'], log=True,  bins=1000)\n",
    "a=2.\n",
    "x=np.arange(1,df_filtered['count'].max())\n",
    "y=x**(-a)/special.zetac(a)\n",
    "print(y)\n",
    "plt.plot(x,y/max(y), linewidth=2, color='r')\n",
    "plt.xticks(np.arange(min(x), max(x)+5000, 5000.0))\n",
    "plt.show()"
   ]
  },
  {
   "cell_type": "markdown",
   "metadata": {},
   "source": [
    "Filter headers with more than 100 tables."
   ]
  },
  {
   "cell_type": "code",
   "execution_count": 15,
   "metadata": {},
   "outputs": [
    {
     "name": "stdout",
     "output_type": "stream",
     "text": [
      "Mayor a 1:\n",
      "header_lemmatized    162434\n",
      "count                162434\n",
      "correct_header       162434\n",
      "dtype: int64\n",
      "Igual a 1:\n",
      "header_lemmatized    777701\n",
      "count                777701\n",
      "correct_header       777701\n",
      "dtype: int64\n"
     ]
    }
   ],
   "source": [
    "print(\"Mayor a 1:\")\n",
    "print(df_filtered[df_filtered['count']>1].count())\n",
    "print(\"Igual a 1:\")\n",
    "print(df_filtered[df_filtered['count']==1].count())\n"
   ]
  },
  {
   "cell_type": "code",
   "execution_count": 16,
   "metadata": {},
   "outputs": [
    {
     "data": {
      "text/plain": [
       "'0 0,0 1,0 11,0 2,0 6,1 1,1 3,2 3,2005,2006,2007,2008,2009,2010,2011,2012,2013,2014,7 11,sr,tournament,w l,win loss'"
      ]
     },
     "execution_count": 16,
     "metadata": {},
     "output_type": "execute_result"
    }
   ],
   "source": [
    "df_filtered.iloc[1089]['header_lemmatized']"
   ]
  },
  {
   "cell_type": "code",
   "execution_count": 17,
   "metadata": {},
   "outputs": [],
   "source": [
    "df_filtered[df_filtered['count']==1].to_csv(\"one_table.csv\", sep=\"\\t\")"
   ]
  },
  {
   "cell_type": "code",
   "execution_count": 25,
   "metadata": {},
   "outputs": [
    {
     "data": {
      "text/plain": [
       "header_lemmatized    2038\n",
       "count                2038\n",
       "correct_header       2038\n",
       "dtype: int64"
      ]
     },
     "execution_count": 25,
     "metadata": {},
     "output_type": "execute_result"
    }
   ],
   "source": [
    "df_f1=df_filtered[df_filtered['count']>100]\n",
    "df_f1.count()"
   ]
  },
  {
   "cell_type": "code",
   "execution_count": 26,
   "metadata": {},
   "outputs": [
    {
     "data": {
      "text/html": [
       "<div>\n",
       "<style scoped>\n",
       "    .dataframe tbody tr th:only-of-type {\n",
       "        vertical-align: middle;\n",
       "    }\n",
       "\n",
       "    .dataframe tbody tr th {\n",
       "        vertical-align: top;\n",
       "    }\n",
       "\n",
       "    .dataframe thead th {\n",
       "        text-align: right;\n",
       "    }\n",
       "</style>\n",
       "<table border=\"1\" class=\"dataframe\">\n",
       "  <thead>\n",
       "    <tr style=\"text-align: right;\">\n",
       "      <th></th>\n",
       "      <th>header_lemmatized</th>\n",
       "      <th>count</th>\n",
       "      <th>correct_header</th>\n",
       "    </tr>\n",
       "  </thead>\n",
       "  <tbody>\n",
       "    <tr>\n",
       "      <th>207151</th>\n",
       "      <td>1,2,total</td>\n",
       "      <td>101</td>\n",
       "      <td>True</td>\n",
       "    </tr>\n",
       "    <tr>\n",
       "      <th>689458</th>\n",
       "      <td>championship,date,no,oppon in the fin,outcom,s...</td>\n",
       "      <td>101</td>\n",
       "      <td>True</td>\n",
       "    </tr>\n",
       "    <tr>\n",
       "      <th>958344</th>\n",
       "      <td>result,stipul,time</td>\n",
       "      <td>101</td>\n",
       "      <td>True</td>\n",
       "    </tr>\n",
       "    <tr>\n",
       "      <th>482611</th>\n",
       "      <td>ak,al,ar,az,ca,co,ct,de,fl,ga,hi,ia,id,il,in,k...</td>\n",
       "      <td>101</td>\n",
       "      <td>True</td>\n",
       "    </tr>\n",
       "    <tr>\n",
       "      <th>702084</th>\n",
       "      <td>chart 2007 08,peakposit</td>\n",
       "      <td>101</td>\n",
       "      <td>True</td>\n",
       "    </tr>\n",
       "  </tbody>\n",
       "</table>\n",
       "</div>"
      ],
      "text/plain": [
       "                                        header_lemmatized  count  \\\n",
       "207151                                          1,2,total    101   \n",
       "689458  championship,date,no,oppon in the fin,outcom,s...    101   \n",
       "958344                                 result,stipul,time    101   \n",
       "482611  ak,al,ar,az,ca,co,ct,de,fl,ga,hi,ia,id,il,in,k...    101   \n",
       "702084                            chart 2007 08,peakposit    101   \n",
       "\n",
       "        correct_header  \n",
       "207151            True  \n",
       "689458            True  \n",
       "958344            True  \n",
       "482611            True  \n",
       "702084            True  "
      ]
     },
     "execution_count": 26,
     "metadata": {},
     "output_type": "execute_result"
    }
   ],
   "source": [
    "df_f1.sort_values(['count'], ascending=True).head()"
   ]
  },
  {
   "cell_type": "markdown",
   "metadata": {},
   "source": [
    "### Clustering of headers with more than 100 tables. "
   ]
  },
  {
   "cell_type": "markdown",
   "metadata": {},
   "source": [
    "The max distance (eps) for the DBscan clustering is 0,5."
   ]
  },
  {
   "cell_type": "code",
   "execution_count": 27,
   "metadata": {},
   "outputs": [
    {
     "data": {
      "text/plain": [
       "CountVectorizer(analyzer='word', binary=False, decode_error='strict',\n",
       "        dtype=<class 'numpy.int64'>, encoding='utf-8',\n",
       "        input=['0 9,1,10 19,20 29,30 39,40 49,50 59,60 69,70 79,80,a,b,by sex,femal,i,male,measur unit,of which in,popul by age group in 2002,specif,total', '0,1,app,goal,nation team,total,year', '0,1,app,goal,total,year', '0,2,app,goal,nation team,total,year', '0,2,app,goal,total,year', '0,3,app,goal,total...'titl,voic rol,year', 'titl,year', 'vote on ret,vote', 'winner,year', 'women s doubl,women s singl'],\n",
       "        lowercase=True, max_df=1.0, max_features=None, min_df=1,\n",
       "        ngram_range=(1, 1), preprocessor=None, stop_words=None,\n",
       "        strip_accents=None, token_pattern='(?u)\\\\b\\\\w+\\\\b', tokenizer=None,\n",
       "        vocabulary=None)"
      ]
     },
     "execution_count": 27,
     "metadata": {},
     "output_type": "execute_result"
    }
   ],
   "source": [
    "from sklearn.feature_extraction.text import CountVectorizer\n",
    "from sklearn.metrics.pairwise import cosine_similarity\n",
    "from scipy.spatial.distance import squareform\n",
    "from scipy.spatial.distance import pdist, jaccard\n",
    "#Token_pattern changed because there is headers with one letter. \n",
    "vectorizer = CountVectorizer(list(df_f1['header_lemmatized']), token_pattern='(?u)\\\\b\\\\w+\\\\b')\n",
    "vectorizer"
   ]
  },
  {
   "cell_type": "code",
   "execution_count": 28,
   "metadata": {},
   "outputs": [],
   "source": [
    "dtm = vectorizer.fit_transform(df_f1['header_lemmatized'])\n",
    "vocab = vectorizer.get_feature_names()"
   ]
  },
  {
   "cell_type": "code",
   "execution_count": 29,
   "metadata": {},
   "outputs": [
    {
     "data": {
      "text/plain": [
       "array(['0', '01', '02', ..., 'yellow', 'yes', 'zip'], dtype='<U35')"
      ]
     },
     "execution_count": 29,
     "metadata": {},
     "output_type": "execute_result"
    }
   ],
   "source": [
    "vocab = np.array(vocab)\n",
    "vocab"
   ]
  },
  {
   "cell_type": "code",
   "execution_count": 30,
   "metadata": {},
   "outputs": [],
   "source": [
    "dtm= dtm.toarray()"
   ]
  },
  {
   "cell_type": "code",
   "execution_count": 31,
   "metadata": {},
   "outputs": [
    {
     "data": {
      "text/plain": [
       "(2038, 1806)"
      ]
     },
     "execution_count": 31,
     "metadata": {},
     "output_type": "execute_result"
    }
   ],
   "source": [
    "dtm.shape"
   ]
  },
  {
   "cell_type": "code",
   "execution_count": 32,
   "metadata": {},
   "outputs": [
    {
     "data": {
      "text/plain": [
       "array([ -1,   0,   1,   2,   3,   4,   5,   6,   7,   8,   9,  10,  11,\n",
       "        12,  13,  14,  15,  16,  17,  18,  19,  20,  21,  22,  23,  24,\n",
       "        25,  26,  27,  28,  29,  30,  31,  32,  33,  34,  35,  36,  37,\n",
       "        38,  39,  40,  41,  42,  43,  44,  45,  46,  47,  48,  49,  50,\n",
       "        51,  52,  53,  54,  55,  56,  57,  58,  59,  60,  61,  62,  63,\n",
       "        64,  65,  66,  67,  68,  69,  70,  71,  72,  73,  74,  75,  76,\n",
       "        77,  78,  79,  80,  81,  82,  83,  84,  85,  86,  87,  88,  89,\n",
       "        90,  91,  92,  93,  94,  95,  96,  97,  98,  99, 100, 101, 102,\n",
       "       103, 104, 105, 106, 107, 108, 109, 110, 111, 112, 113, 114, 115,\n",
       "       116, 117, 118, 119, 120, 121, 122, 123, 124, 125, 126, 127, 128,\n",
       "       129, 130, 131, 132, 133, 134, 135, 136, 137, 138, 139, 140, 141])"
      ]
     },
     "execution_count": 32,
     "metadata": {},
     "output_type": "execute_result"
    }
   ],
   "source": [
    "from sklearn.cluster import DBSCAN\n",
    "from sklearn import metrics\n",
    "db = DBSCAN(eps=0.5, min_samples=2, metric=\"jaccard\", n_jobs=4).fit(dtm)\n",
    "labels = db.labels_\n",
    "n_clusters_ = len(set(labels)) - (1 if -1 in labels else 0)\n",
    "np.unique(labels)"
   ]
  },
  {
   "cell_type": "code",
   "execution_count": 46,
   "metadata": {},
   "outputs": [],
   "source": [
    "clusters={}\n",
    "csv=\"\"\n",
    "for i, label in enumerate(labels):\n",
    "    #if label!=-1:\n",
    "        if clusters.get(label)==None:\n",
    "            clusters[label]=1\n",
    "            csv=csv+str(label)+\"\\t\"+df_f1.iloc[i]['header_lemmatized']+\"\\n\"\n",
    "        else:\n",
    "            clusters[label]=clusters.get(label)+1\n",
    "            csv=csv+str(label)+\"\\t\"+df_f1.iloc[i]['header_lemmatized']+\"\\n\""
   ]
  },
  {
   "cell_type": "code",
   "execution_count": 48,
   "metadata": {},
   "outputs": [
    {
     "data": {
      "text/html": [
       "<div>\n",
       "<style scoped>\n",
       "    .dataframe tbody tr th:only-of-type {\n",
       "        vertical-align: middle;\n",
       "    }\n",
       "\n",
       "    .dataframe tbody tr th {\n",
       "        vertical-align: top;\n",
       "    }\n",
       "\n",
       "    .dataframe thead th {\n",
       "        text-align: right;\n",
       "    }\n",
       "</style>\n",
       "<table border=\"1\" class=\"dataframe\">\n",
       "  <thead>\n",
       "    <tr style=\"text-align: right;\">\n",
       "      <th></th>\n",
       "      <th>cluster</th>\n",
       "      <th>header_lemmatized</th>\n",
       "    </tr>\n",
       "  </thead>\n",
       "  <tbody>\n",
       "    <tr>\n",
       "      <th>0</th>\n",
       "      <td>-1</td>\n",
       "      <td>0 9,1,10 19,20 29,30 39,40 49,50 59,60 69,70 7...</td>\n",
       "    </tr>\n",
       "    <tr>\n",
       "      <th>1</th>\n",
       "      <td>0</td>\n",
       "      <td>0,1,app,goal,nation team,total,year</td>\n",
       "    </tr>\n",
       "    <tr>\n",
       "      <th>2</th>\n",
       "      <td>0</td>\n",
       "      <td>0,1,app,goal,total,year</td>\n",
       "    </tr>\n",
       "    <tr>\n",
       "      <th>3</th>\n",
       "      <td>0</td>\n",
       "      <td>0,2,app,goal,nation team,total,year</td>\n",
       "    </tr>\n",
       "    <tr>\n",
       "      <th>4</th>\n",
       "      <td>0</td>\n",
       "      <td>0,2,app,goal,total,year</td>\n",
       "    </tr>\n",
       "  </tbody>\n",
       "</table>\n",
       "</div>"
      ],
      "text/plain": [
       "   cluster                                  header_lemmatized\n",
       "0       -1  0 9,1,10 19,20 29,30 39,40 49,50 59,60 69,70 7...\n",
       "1        0                0,1,app,goal,nation team,total,year\n",
       "2        0                            0,1,app,goal,total,year\n",
       "3        0                0,2,app,goal,nation team,total,year\n",
       "4        0                            0,2,app,goal,total,year"
      ]
     },
     "execution_count": 48,
     "metadata": {},
     "output_type": "execute_result"
    }
   ],
   "source": [
    "# Generates a cluster file. \n",
    "csv_file = open(\"clusters1.csv\", \"w\")\n",
    "csv_file.write(csv)\n",
    "csv_file.close()\n",
    "\n",
    "df_cluster=pd.read_csv('clusters1.csv', sep='\\t', names=['cluster','header_lemmatized'])\n",
    "df_cluster.head()"
   ]
  },
  {
   "cell_type": "markdown",
   "metadata": {},
   "source": [
    "DBSCAN(n_jobs=4) doesn't work. The following code gets distance matrix first using a number of jobs. "
   ]
  },
  {
   "cell_type": "code",
   "execution_count": 49,
   "metadata": {},
   "outputs": [
    {
     "name": "stderr",
     "output_type": "stream",
     "text": [
      "/home/jhomara/.local/lib/python3.5/site-packages/sklearn/utils/validation.py:475: DataConversionWarning: Data with input dtype int64 was converted to bool by check_pairwise_arrays.\n",
      "  warnings.warn(msg, DataConversionWarning)\n"
     ]
    }
   ],
   "source": [
    "from sklearn.metrics.pairwise import pairwise_distances\n",
    "#res = 1-pdist(dtm, 'jaccard')\n",
    "res = pairwise_distances(dtm, metric = \"jaccard\", n_jobs=4)\n",
    "#squareform(res)"
   ]
  },
  {
   "cell_type": "code",
   "execution_count": 51,
   "metadata": {},
   "outputs": [],
   "source": [
    "distance = pd.DataFrame(res, index=np.arange(dtm.shape[0]), columns= np.arange(dtm.shape[0]))\n",
    "np.round(distance, 2)\n",
    "\n",
    "from numpy import isnan\n",
    "where_are_NaNs = isnan(distance)\n",
    "distance[where_are_NaNs] = 0.0"
   ]
  },
  {
   "cell_type": "code",
   "execution_count": 52,
   "metadata": {},
   "outputs": [
    {
     "name": "stdout",
     "output_type": "stream",
     "text": [
      "Num clusters: 143\n"
     ]
    }
   ],
   "source": [
    "db = DBSCAN(eps=0.5, min_samples=2, metric=\"precomputed\").fit(distance)\n",
    "labels = db.labels_\n",
    "n_clusters_ = len(set(labels)) - (1 if -1 in labels else 0)\n",
    "print(\"Num clusters:\",len(np.unique(labels)))\n",
    "clusters={}\n",
    "csv=\"\"\n",
    "for i, label in enumerate(labels):\n",
    "    #if label!=-1:\n",
    "        if clusters.get(label)==None:\n",
    "            clusters[label]=1\n",
    "            csv=csv+str(label)+\"\\t\"+df_f1.iloc[i]['header_lemmatized']+\"\\n\"\n",
    "        else:\n",
    "            clusters[label]=clusters.get(label)+1\n",
    "            csv=csv+str(label)+\"\\t\"+df_f1.iloc[i]['header_lemmatized']+\"\\n\"\n",
    "            \n",
    "csv_file = open(\"clusters2.csv\", \"w\")\n",
    "csv_file.write(csv)\n",
    "csv_file.close()\n",
    "\n",
    "df_cluster=pd.read_csv('clusters2.csv', sep='\\t', names=['cluster','header_lemmatized'])\n"
   ]
  },
  {
   "cell_type": "markdown",
   "metadata": {},
   "source": [
    "# Using HDBSCAN clustering"
   ]
  },
  {
   "cell_type": "code",
   "execution_count": 74,
   "metadata": {},
   "outputs": [
    {
     "data": {
      "text/plain": [
       "array([ -1,   0,   1,   2,   3,   4,   5,   6,   7,   8,   9,  10,  11,\n",
       "        12,  13,  14,  15,  16,  17,  18,  19,  20,  21,  22,  23,  24,\n",
       "        25,  26,  27,  28,  29,  30,  31,  32,  33,  34,  35,  36,  37,\n",
       "        38,  39,  40,  41,  42,  43,  44,  45,  46,  47,  48,  49,  50,\n",
       "        51,  52,  53,  54,  55,  56,  57,  58,  59,  60,  61,  62,  63,\n",
       "        64,  65,  66,  67,  68,  69,  70,  71,  72,  73,  74,  75,  76,\n",
       "        77,  78,  79,  80,  81,  82,  83,  84,  85,  86,  87,  88,  89,\n",
       "        90,  91,  92,  93,  94,  95,  96,  97,  98,  99, 100, 101, 102,\n",
       "       103, 104, 105, 106, 107, 108, 109, 110, 111, 112, 113, 114, 115,\n",
       "       116, 117, 118, 119, 120, 121, 122, 123, 124, 125, 126, 127, 128,\n",
       "       129, 130, 131, 132, 133, 134, 135, 136, 137, 138, 139, 140, 141,\n",
       "       142, 143, 144, 145, 146, 147, 148, 149, 150, 151, 152, 153, 154,\n",
       "       155, 156, 157, 158, 159, 160, 161, 162, 163, 164, 165, 166, 167,\n",
       "       168, 169, 170, 171, 172, 173, 174, 175, 176, 177, 178, 179, 180,\n",
       "       181, 182, 183, 184, 185, 186, 187, 188, 189, 190, 191, 192, 193,\n",
       "       194, 195, 196, 197, 198, 199, 200, 201, 202, 203, 204, 205, 206,\n",
       "       207, 208, 209, 210, 211, 212, 213, 214, 215, 216, 217, 218, 219,\n",
       "       220, 221, 222, 223, 224, 225, 226, 227, 228, 229, 230, 231, 232,\n",
       "       233, 234, 235, 236, 237, 238, 239, 240, 241, 242, 243, 244, 245,\n",
       "       246, 247, 248, 249, 250, 251, 252, 253, 254, 255, 256, 257, 258,\n",
       "       259, 260, 261, 262, 263, 264, 265, 266, 267])"
      ]
     },
     "execution_count": 74,
     "metadata": {},
     "output_type": "execute_result"
    }
   ],
   "source": [
    "import hdbscan\n",
    "clusterer = hdbscan.HDBSCAN(metric=\"precomputed\",  min_samples=2, min_cluster_size=2, gen_min_span_tree=True)\n",
    "clusterer.fit(distance)\n",
    "\n",
    "clusters={}\n",
    "csv=\"\"\n",
    "for i, label in enumerate(clusterer.labels_):\n",
    "    #if label!=-1:\n",
    "        if clusters.get(label)==None:\n",
    "            clusters[label]=1\n",
    "            csv=csv+str(label)+\"\\t\"+df_f1.iloc[i]['header_lemmatized']+\"\\n\"\n",
    "        else:\n",
    "            clusters[label]=clusters.get(label)+1\n",
    "            csv=csv+str(label)+\"\\t\"+df_f1.iloc[i]['header_lemmatized']+\"\\n\"\n",
    "            \n",
    "csv_file = open(\"clusters_hd.csv\", \"w\")\n",
    "csv_file.write(csv)\n",
    "csv_file.close()\n",
    "\n",
    "df_cluster_hd=pd.read_csv('clusters_hd.csv', sep='\\t', names=['cluster','header'])\n",
    "np.unique(clusterer.labels_)"
   ]
  },
  {
   "cell_type": "markdown",
   "metadata": {},
   "source": [
    "It was joined the frame that contains (DBSCAN) clusters with the main file that contains the name of file. "
   ]
  },
  {
   "cell_type": "code",
   "execution_count": 77,
   "metadata": {},
   "outputs": [],
   "source": [
    "df_filtered=df_filtered.rename(columns = {'header_lemmatized':'header'})\n",
    "cols = ['header']\n",
    "df_merge=df_filtered.join(df_cluster_hd.set_index(cols), on=cols)"
   ]
  },
  {
   "cell_type": "code",
   "execution_count": 78,
   "metadata": {},
   "outputs": [],
   "source": [
    "df_merg1=df_headers.join(df_merge.set_index(cols), on=cols)"
   ]
  },
  {
   "cell_type": "code",
   "execution_count": 79,
   "metadata": {},
   "outputs": [
    {
     "data": {
      "text/html": [
       "<div>\n",
       "<style scoped>\n",
       "    .dataframe tbody tr th:only-of-type {\n",
       "        vertical-align: middle;\n",
       "    }\n",
       "\n",
       "    .dataframe tbody tr th {\n",
       "        vertical-align: top;\n",
       "    }\n",
       "\n",
       "    .dataframe thead th {\n",
       "        text-align: right;\n",
       "    }\n",
       "</style>\n",
       "<table border=\"1\" class=\"dataframe\">\n",
       "  <thead>\n",
       "    <tr style=\"text-align: right;\">\n",
       "      <th></th>\n",
       "      <th>index</th>\n",
       "      <th>file</th>\n",
       "      <th>header</th>\n",
       "      <th>count</th>\n",
       "      <th>correct_header</th>\n",
       "      <th>cluster</th>\n",
       "    </tr>\n",
       "  </thead>\n",
       "  <tbody>\n",
       "    <tr>\n",
       "      <th>0</th>\n",
       "      <td>499</td>\n",
       "      <td>2012 USASA Region III National Cup.html.bz2</td>\n",
       "      <td>d,ga,gd,gf,l,pld,pts,team,w</td>\n",
       "      <td>12945.0</td>\n",
       "      <td>True</td>\n",
       "      <td>266.0</td>\n",
       "    </tr>\n",
       "    <tr>\n",
       "      <th>1</th>\n",
       "      <td>2102</td>\n",
       "      <td>2014 IWRF World Championship.html.bz2</td>\n",
       "      <td>d,ga,gd,gf,l,pld,pts,team,w</td>\n",
       "      <td>12945.0</td>\n",
       "      <td>True</td>\n",
       "      <td>266.0</td>\n",
       "    </tr>\n",
       "    <tr>\n",
       "      <th>2</th>\n",
       "      <td>2133</td>\n",
       "      <td>2014 IWRF World Championship.html.bz2</td>\n",
       "      <td>d,ga,gd,gf,l,pld,pts,team,w</td>\n",
       "      <td>12945.0</td>\n",
       "      <td>True</td>\n",
       "      <td>266.0</td>\n",
       "    </tr>\n",
       "    <tr>\n",
       "      <th>3</th>\n",
       "      <td>3254</td>\n",
       "      <td>2006%E2%80%9307 FC Dinamo Bucure%C8%99ti seaso...</td>\n",
       "      <td>d,ga,gd,gf,l,pld,pts,team,w</td>\n",
       "      <td>12945.0</td>\n",
       "      <td>True</td>\n",
       "      <td>266.0</td>\n",
       "    </tr>\n",
       "    <tr>\n",
       "      <th>4</th>\n",
       "      <td>4595</td>\n",
       "      <td>1996 Campeonato Brasileiro S%C3%A9rie B.html.bz2</td>\n",
       "      <td>d,ga,gd,gf,l,pld,pts,team,w</td>\n",
       "      <td>12945.0</td>\n",
       "      <td>True</td>\n",
       "      <td>266.0</td>\n",
       "    </tr>\n",
       "  </tbody>\n",
       "</table>\n",
       "</div>"
      ],
      "text/plain": [
       "   index                                               file  \\\n",
       "0    499        2012 USASA Region III National Cup.html.bz2   \n",
       "1   2102              2014 IWRF World Championship.html.bz2   \n",
       "2   2133              2014 IWRF World Championship.html.bz2   \n",
       "3   3254  2006%E2%80%9307 FC Dinamo Bucure%C8%99ti seaso...   \n",
       "4   4595   1996 Campeonato Brasileiro S%C3%A9rie B.html.bz2   \n",
       "\n",
       "                        header    count correct_header  cluster  \n",
       "0  d,ga,gd,gf,l,pld,pts,team,w  12945.0           True    266.0  \n",
       "1  d,ga,gd,gf,l,pld,pts,team,w  12945.0           True    266.0  \n",
       "2  d,ga,gd,gf,l,pld,pts,team,w  12945.0           True    266.0  \n",
       "3  d,ga,gd,gf,l,pld,pts,team,w  12945.0           True    266.0  \n",
       "4  d,ga,gd,gf,l,pld,pts,team,w  12945.0           True    266.0  "
      ]
     },
     "execution_count": 79,
     "metadata": {},
     "output_type": "execute_result"
    }
   ],
   "source": [
    "clusters_df=df_merg1[df_merg1['count']>100].sort_values(['count','header'], ascending=False).reset_index()\n",
    "clusters_df.head()"
   ]
  },
  {
   "cell_type": "markdown",
   "metadata": {},
   "source": [
    "### Number of tables by cluster:"
   ]
  },
  {
   "cell_type": "code",
   "execution_count": 80,
   "metadata": {},
   "outputs": [],
   "source": [
    "cluster_count=clusters_df.groupby(['cluster']).size().reset_index('cluster')"
   ]
  },
  {
   "cell_type": "code",
   "execution_count": 81,
   "metadata": {},
   "outputs": [
    {
     "data": {
      "text/plain": [
       "607.0"
      ]
     },
     "execution_count": 81,
     "metadata": {},
     "output_type": "execute_result"
    }
   ],
   "source": [
    "cluster_count.iloc[3][0]"
   ]
  },
  {
   "cell_type": "markdown",
   "metadata": {},
   "source": [
    "#### Creating a random list of tables by cluster."
   ]
  },
  {
   "cell_type": "code",
   "execution_count": 83,
   "metadata": {},
   "outputs": [
    {
     "data": {
      "text/html": [
       "<div>\n",
       "<style scoped>\n",
       "    .dataframe tbody tr th:only-of-type {\n",
       "        vertical-align: middle;\n",
       "    }\n",
       "\n",
       "    .dataframe tbody tr th {\n",
       "        vertical-align: top;\n",
       "    }\n",
       "\n",
       "    .dataframe thead th {\n",
       "        text-align: right;\n",
       "    }\n",
       "</style>\n",
       "<table border=\"1\" class=\"dataframe\">\n",
       "  <thead>\n",
       "    <tr style=\"text-align: right;\">\n",
       "      <th></th>\n",
       "      <th>level_0</th>\n",
       "      <th>index</th>\n",
       "      <th>file</th>\n",
       "      <th>header</th>\n",
       "      <th>count</th>\n",
       "      <th>correct_header</th>\n",
       "      <th>cluster</th>\n",
       "    </tr>\n",
       "  </thead>\n",
       "  <tbody>\n",
       "    <tr>\n",
       "      <th>307</th>\n",
       "      <td>96064</td>\n",
       "      <td>1693964</td>\n",
       "      <td>2013 Detroit Lions season.html.bz2</td>\n",
       "      <td>afc,east,nfc,north,south,west</td>\n",
       "      <td>639.0</td>\n",
       "      <td>True</td>\n",
       "      <td>0.0</td>\n",
       "    </tr>\n",
       "    <tr>\n",
       "      <th>24</th>\n",
       "      <td>95781</td>\n",
       "      <td>131704</td>\n",
       "      <td>2004 Green Bay Packers season.html.bz2</td>\n",
       "      <td>afc,east,nfc,north,south,west</td>\n",
       "      <td>639.0</td>\n",
       "      <td>True</td>\n",
       "      <td>0.0</td>\n",
       "    </tr>\n",
       "    <tr>\n",
       "      <th>477</th>\n",
       "      <td>96234</td>\n",
       "      <td>2676361</td>\n",
       "      <td>2003 New York Jets season.html.bz2</td>\n",
       "      <td>afc,east,nfc,north,south,west</td>\n",
       "      <td>639.0</td>\n",
       "      <td>True</td>\n",
       "      <td>0.0</td>\n",
       "    </tr>\n",
       "    <tr>\n",
       "      <th>518</th>\n",
       "      <td>96275</td>\n",
       "      <td>2872040</td>\n",
       "      <td>2012 Tampa Bay Buccaneers season.html.bz2</td>\n",
       "      <td>afc,east,nfc,north,south,west</td>\n",
       "      <td>639.0</td>\n",
       "      <td>True</td>\n",
       "      <td>0.0</td>\n",
       "    </tr>\n",
       "    <tr>\n",
       "      <th>384</th>\n",
       "      <td>96141</td>\n",
       "      <td>2166648</td>\n",
       "      <td>2011 Buffalo Bills season.html.bz2</td>\n",
       "      <td>afc,east,nfc,north,south,west</td>\n",
       "      <td>639.0</td>\n",
       "      <td>True</td>\n",
       "      <td>0.0</td>\n",
       "    </tr>\n",
       "  </tbody>\n",
       "</table>\n",
       "</div>"
      ],
      "text/plain": [
       "    level_0    index                                       file  \\\n",
       "307   96064  1693964         2013 Detroit Lions season.html.bz2   \n",
       "24    95781   131704     2004 Green Bay Packers season.html.bz2   \n",
       "477   96234  2676361         2003 New York Jets season.html.bz2   \n",
       "518   96275  2872040  2012 Tampa Bay Buccaneers season.html.bz2   \n",
       "384   96141  2166648         2011 Buffalo Bills season.html.bz2   \n",
       "\n",
       "                            header  count correct_header  cluster  \n",
       "307  afc,east,nfc,north,south,west  639.0           True      0.0  \n",
       "24   afc,east,nfc,north,south,west  639.0           True      0.0  \n",
       "477  afc,east,nfc,north,south,west  639.0           True      0.0  \n",
       "518  afc,east,nfc,north,south,west  639.0           True      0.0  \n",
       "384  afc,east,nfc,north,south,west  639.0           True      0.0  "
      ]
     },
     "execution_count": 83,
     "metadata": {},
     "output_type": "execute_result"
    }
   ],
   "source": [
    "import numpy as np\n",
    "df_test=pd.DataFrame(columns=['level_0','index','file','header','count','correct_header','cluster'])\n",
    "for ind in range(cluster_count.shape[0]): \n",
    "    if ind>0:\n",
    "        val=int(cluster_count.iloc[ind][0])\n",
    "        chosen_idx = np.random.choice(val, replace=True, size=20)\n",
    "        temp=clusters_df[clusters_df['cluster']==cluster_count.iloc[ind]['cluster']].reset_index()           \n",
    "        df_test=df_test.append(temp.iloc[chosen_idx])\n",
    "df_test.head()"
   ]
  },
  {
   "cell_type": "code",
   "execution_count": 85,
   "metadata": {},
   "outputs": [
    {
     "data": {
      "text/html": [
       "<div>\n",
       "<style scoped>\n",
       "    .dataframe tbody tr th:only-of-type {\n",
       "        vertical-align: middle;\n",
       "    }\n",
       "\n",
       "    .dataframe tbody tr th {\n",
       "        vertical-align: top;\n",
       "    }\n",
       "\n",
       "    .dataframe thead th {\n",
       "        text-align: right;\n",
       "    }\n",
       "</style>\n",
       "<table border=\"1\" class=\"dataframe\">\n",
       "  <thead>\n",
       "    <tr style=\"text-align: right;\">\n",
       "      <th></th>\n",
       "      <th>index</th>\n",
       "      <th>file</th>\n",
       "      <th>header</th>\n",
       "      <th>count</th>\n",
       "      <th>correct_header</th>\n",
       "      <th>cluster</th>\n",
       "    </tr>\n",
       "  </thead>\n",
       "  <tbody>\n",
       "    <tr>\n",
       "      <th>95757</th>\n",
       "      <td>2928</td>\n",
       "      <td>2003 Carolina Panthers season.html.bz2</td>\n",
       "      <td>afc,east,nfc,north,south,west</td>\n",
       "      <td>639.0</td>\n",
       "      <td>True</td>\n",
       "      <td>0.0</td>\n",
       "    </tr>\n",
       "    <tr>\n",
       "      <th>95758</th>\n",
       "      <td>11648</td>\n",
       "      <td>2016 Buffalo Bills season.html.bz2</td>\n",
       "      <td>afc,east,nfc,north,south,west</td>\n",
       "      <td>639.0</td>\n",
       "      <td>True</td>\n",
       "      <td>0.0</td>\n",
       "    </tr>\n",
       "    <tr>\n",
       "      <th>95759</th>\n",
       "      <td>21657</td>\n",
       "      <td>2007 Denver Broncos season.html.bz2</td>\n",
       "      <td>afc,east,nfc,north,south,west</td>\n",
       "      <td>639.0</td>\n",
       "      <td>True</td>\n",
       "      <td>0.0</td>\n",
       "    </tr>\n",
       "    <tr>\n",
       "      <th>95760</th>\n",
       "      <td>26239</td>\n",
       "      <td>2008 New Orleans Saints season.html.bz2</td>\n",
       "      <td>afc,east,nfc,north,south,west</td>\n",
       "      <td>639.0</td>\n",
       "      <td>True</td>\n",
       "      <td>0.0</td>\n",
       "    </tr>\n",
       "    <tr>\n",
       "      <th>95761</th>\n",
       "      <td>29950</td>\n",
       "      <td>2002 Houston Texans season.html.bz2</td>\n",
       "      <td>afc,east,nfc,north,south,west</td>\n",
       "      <td>639.0</td>\n",
       "      <td>True</td>\n",
       "      <td>0.0</td>\n",
       "    </tr>\n",
       "  </tbody>\n",
       "</table>\n",
       "</div>"
      ],
      "text/plain": [
       "       index                                     file  \\\n",
       "95757   2928   2003 Carolina Panthers season.html.bz2   \n",
       "95758  11648       2016 Buffalo Bills season.html.bz2   \n",
       "95759  21657      2007 Denver Broncos season.html.bz2   \n",
       "95760  26239  2008 New Orleans Saints season.html.bz2   \n",
       "95761  29950      2002 Houston Texans season.html.bz2   \n",
       "\n",
       "                              header  count correct_header  cluster  \n",
       "95757  afc,east,nfc,north,south,west  639.0           True      0.0  \n",
       "95758  afc,east,nfc,north,south,west  639.0           True      0.0  \n",
       "95759  afc,east,nfc,north,south,west  639.0           True      0.0  \n",
       "95760  afc,east,nfc,north,south,west  639.0           True      0.0  \n",
       "95761  afc,east,nfc,north,south,west  639.0           True      0.0  "
      ]
     },
     "execution_count": 85,
     "metadata": {},
     "output_type": "execute_result"
    }
   ],
   "source": [
    "clusters_df[clusters_df['header']=='afc,east,nfc,north,south,west'].head()"
   ]
  },
  {
   "cell_type": "code",
   "execution_count": 86,
   "metadata": {},
   "outputs": [],
   "source": [
    "df_test.to_csv('test_cluster1.csv', sep='\\t')"
   ]
  }
 ],
 "metadata": {
  "kernelspec": {
   "display_name": "Python 3",
   "language": "python",
   "name": "python3"
  },
  "language_info": {
   "codemirror_mode": {
    "name": "ipython",
    "version": 3
   },
   "file_extension": ".py",
   "mimetype": "text/x-python",
   "name": "python",
   "nbconvert_exporter": "python",
   "pygments_lexer": "ipython3",
   "version": "3.5.2"
  }
 },
 "nbformat": 4,
 "nbformat_minor": 2
}
